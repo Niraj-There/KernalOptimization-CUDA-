{
  "nbformat": 4,
  "nbformat_minor": 0,
  "metadata": {
    "colab": {
      "provenance": [],
      "gpuType": "T4"
    },
    "kernelspec": {
      "name": "python3",
      "display_name": "Python 3"
    },
    "language_info": {
      "name": "python"
    },
    "accelerator": "GPU"
  },
  "cells": [
    {
      "cell_type": "code",
      "execution_count": 1,
      "metadata": {
        "colab": {
          "base_uri": "https://localhost:8080/"
        },
        "id": "ozyDouHl855A",
        "outputId": "1d6fac85-d6a0-4ad8-d732-cdfd2eea1ad8"
      },
      "outputs": [
        {
          "output_type": "stream",
          "name": "stdout",
          "text": [
            "\n",
            "==============NVSMI LOG==============\n",
            "\n",
            "Timestamp                                 : Sat May 31 06:17:45 2025\n",
            "Driver Version                            : 550.54.15\n",
            "CUDA Version                              : 12.4\n",
            "\n",
            "Attached GPUs                             : 1\n",
            "GPU 00000000:00:04.0\n",
            "    Clocks\n",
            "        Graphics                          : 300 MHz\n",
            "        SM                                : 300 MHz\n",
            "        Memory                            : 405 MHz\n",
            "        Video                             : 540 MHz\n",
            "    Applications Clocks\n",
            "        Graphics                          : 585 MHz\n",
            "        Memory                            : 5001 MHz\n",
            "    Default Applications Clocks\n",
            "        Graphics                          : 585 MHz\n",
            "        Memory                            : 5001 MHz\n",
            "    Deferred Clocks\n",
            "        Memory                            : N/A\n",
            "    Max Clocks\n",
            "        Graphics                          : 1590 MHz\n",
            "        SM                                : 1590 MHz\n",
            "        Memory                            : 5001 MHz\n",
            "        Video                             : 1470 MHz\n",
            "    Max Customer Boost Clocks\n",
            "        Graphics                          : 1590 MHz\n",
            "    SM Clock Samples\n",
            "        Duration                          : Not Found\n",
            "        Number of Samples                 : Not Found\n",
            "        Max                               : Not Found\n",
            "        Min                               : Not Found\n",
            "        Avg                               : Not Found\n",
            "    Memory Clock Samples\n",
            "        Duration                          : Not Found\n",
            "        Number of Samples                 : Not Found\n",
            "        Max                               : Not Found\n",
            "        Min                               : Not Found\n",
            "        Avg                               : Not Found\n",
            "    Clock Policy\n",
            "        Auto Boost                        : N/A\n",
            "        Auto Boost Default                : N/A\n",
            "\n"
          ]
        }
      ],
      "source": [
        "!nvidia-smi -a -q -d CLOCK"
      ]
    },
    {
      "cell_type": "markdown",
      "source": [
        "**Occupancy**"
      ],
      "metadata": {
        "id": "mUznsAXnJnNc"
      }
    },
    {
      "cell_type": "code",
      "source": [
        "%%writefile one.cu\n",
        "\n",
        "#include \"cuda_runtime.h\"\n",
        "#include \"device_launch_parameters.h\"\n",
        "\n",
        "#include <stdio.h>\n",
        "#include <iostream>\n",
        "\n",
        "__global__ void add(int *results) {\n",
        "  int gid = blockIdx.x * blockDim.x + threadIdx.x;\n",
        "\n",
        "  int x1 = 1;\n",
        "  int x2 = 2;\n",
        "  int x3 = 3;\n",
        "  int x4 = 4;\n",
        "  int x5 = 5;\n",
        "  int x6 = 6;\n",
        "  int x7 = 7;\n",
        "  int x8 = 8;\n",
        "\n",
        "  results[gid] = x1 + x2 + x3 + x4 + x5 + x6 + x7 + x8;\n",
        "}\n",
        "\n",
        "int main(){\n",
        "  int *results;\n",
        "  int size = 1;\n",
        "  cudaMalloc(&results, size * sizeof(int));\n",
        "  add<<<1,1>>>(results);\n",
        "  cudaDeviceSynchronize();\n",
        "}"
      ],
      "metadata": {
        "colab": {
          "base_uri": "https://localhost:8080/"
        },
        "id": "E5j7Gg7v_IWT",
        "outputId": "c7aec86f-29c6-442b-934b-39a53068447f"
      },
      "execution_count": 14,
      "outputs": [
        {
          "output_type": "stream",
          "name": "stdout",
          "text": [
            "Overwriting one.cu\n"
          ]
        }
      ]
    },
    {
      "cell_type": "code",
      "source": [
        "!nvcc --ptxas-options=-v -o occupancy_test.out one.cu"
      ],
      "metadata": {
        "colab": {
          "base_uri": "https://localhost:8080/"
        },
        "id": "GfFzs6A0D9rb",
        "outputId": "30d0e838-39e8-47ae-98e2-7ef377652445"
      },
      "execution_count": 15,
      "outputs": [
        {
          "output_type": "stream",
          "name": "stdout",
          "text": [
            "ptxas info    : 0 bytes gmem\n",
            "ptxas info    : Compiling entry function '_Z3addPi' for 'sm_52'\n",
            "ptxas info    : Function properties for _Z3addPi\n",
            "    0 bytes stack frame, 0 bytes spill stores, 0 bytes spill loads\n",
            "ptxas info    : Used 4 registers, 328 bytes cmem[0]\n"
          ]
        }
      ]
    },
    {
      "cell_type": "code",
      "source": [
        "!ls"
      ],
      "metadata": {
        "colab": {
          "base_uri": "https://localhost:8080/"
        },
        "id": "GYpEKrd6ENTH",
        "outputId": "b0b6d279-7efd-44a1-8161-2e50d31eaf20"
      },
      "execution_count": 20,
      "outputs": [
        {
          "output_type": "stream",
          "name": "stdout",
          "text": [
            "occupancy_test.out  one.cu  sample_data\n"
          ]
        }
      ]
    },
    {
      "cell_type": "code",
      "source": [
        "!nvprof ./occupancy_test.out"
      ],
      "metadata": {
        "colab": {
          "base_uri": "https://localhost:8080/"
        },
        "id": "Mg9aCaKwLIgK",
        "outputId": "b4fc207a-efea-4651-b704-6db5993355fc"
      },
      "execution_count": 22,
      "outputs": [
        {
          "output_type": "stream",
          "name": "stdout",
          "text": [
            "==13636== NVPROF is profiling process 13636, command: ./occupancy_test.out\n",
            "==13636== Profiling application: ./occupancy_test.out\n",
            "==13636== Profiling result:\n",
            "No kernels were profiled.\n",
            "            Type  Time(%)      Time     Calls       Avg       Min       Max  Name\n",
            "      API calls:   64.86%  138.18ms         1  138.18ms  138.18ms  138.18ms  cudaMalloc\n",
            "                   34.57%  73.654ms         1  73.654ms  73.654ms  73.654ms  cudaLaunchKernel\n",
            "                    0.49%  1.0499ms         1  1.0499ms  1.0499ms  1.0499ms  cuDeviceGetPCIBusId\n",
            "                    0.06%  132.16us       114  1.1590us     108ns  51.924us  cuDeviceGetAttribute\n",
            "                    0.01%  11.484us         1  11.484us  11.484us  11.484us  cuDeviceGetName\n",
            "                    0.01%  11.435us         1  11.435us  11.435us  11.435us  cudaDeviceSynchronize\n",
            "                    0.00%  1.2660us         3     422ns     127ns     886ns  cuDeviceGetCount\n",
            "                    0.00%     920ns         2     460ns     151ns     769ns  cuDeviceGet\n",
            "                    0.00%     583ns         1     583ns     583ns     583ns  cuModuleGetLoadingMode\n",
            "                    0.00%     501ns         1     501ns     501ns     501ns  cuDeviceTotalMem\n",
            "                    0.00%     263ns         1     263ns     263ns     263ns  cuDeviceGetUuid\n"
          ]
        }
      ]
    },
    {
      "cell_type": "code",
      "source": [],
      "metadata": {
        "id": "XtA0FBJNLkCc"
      },
      "execution_count": null,
      "outputs": []
    }
  ]
}