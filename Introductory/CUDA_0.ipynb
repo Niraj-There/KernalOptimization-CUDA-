{
  "nbformat": 4,
  "nbformat_minor": 0,
  "metadata": {
    "colab": {
      "provenance": [],
      "gpuType": "T4"
    },
    "kernelspec": {
      "name": "python3",
      "display_name": "Python 3"
    },
    "language_info": {
      "name": "python"
    },
    "accelerator": "GPU"
  },
  "cells": [
    {
      "cell_type": "code",
      "execution_count": 1,
      "metadata": {
        "colab": {
          "base_uri": "https://localhost:8080/"
        },
        "id": "51RIlKbPjb5q",
        "outputId": "8fdd04f8-1c36-4a4a-fa52-ca3c6c2589d5"
      },
      "outputs": [
        {
          "output_type": "stream",
          "name": "stdout",
          "text": [
            "Thu May 29 05:40:22 2025       \n",
            "+-----------------------------------------------------------------------------------------+\n",
            "| NVIDIA-SMI 550.54.15              Driver Version: 550.54.15      CUDA Version: 12.4     |\n",
            "|-----------------------------------------+------------------------+----------------------+\n",
            "| GPU  Name                 Persistence-M | Bus-Id          Disp.A | Volatile Uncorr. ECC |\n",
            "| Fan  Temp   Perf          Pwr:Usage/Cap |           Memory-Usage | GPU-Util  Compute M. |\n",
            "|                                         |                        |               MIG M. |\n",
            "|=========================================+========================+======================|\n",
            "|   0  Tesla T4                       Off |   00000000:00:04.0 Off |                    0 |\n",
            "| N/A   36C    P8              9W /   70W |       0MiB /  15360MiB |      0%      Default |\n",
            "|                                         |                        |                  N/A |\n",
            "+-----------------------------------------+------------------------+----------------------+\n",
            "                                                                                         \n",
            "+-----------------------------------------------------------------------------------------+\n",
            "| Processes:                                                                              |\n",
            "|  GPU   GI   CI        PID   Type   Process name                              GPU Memory |\n",
            "|        ID   ID                                                               Usage      |\n",
            "|=========================================================================================|\n",
            "|  No running processes found                                                             |\n",
            "+-----------------------------------------------------------------------------------------+\n"
          ]
        }
      ],
      "source": [
        "!nvidia-smi"
      ]
    },
    {
      "cell_type": "code",
      "source": [
        "%%writefile one.cpp\n",
        "\n",
        "#include <stdio.h>\n",
        "#include <omp.h>\n",
        "\n",
        "int main(){\n",
        "  #pragma omp parallel\n",
        "  {\n",
        "    printf(\"Hello World!\\n\");\n",
        "  }\n",
        "  return 0;\n",
        "}"
      ],
      "metadata": {
        "colab": {
          "base_uri": "https://localhost:8080/"
        },
        "id": "ceLNlC1omiWO",
        "outputId": "3fedd1e0-054c-47f7-d903-0b30e8460194"
      },
      "execution_count": 9,
      "outputs": [
        {
          "output_type": "stream",
          "name": "stdout",
          "text": [
            "Overwriting one.cpp\n"
          ]
        }
      ]
    },
    {
      "cell_type": "code",
      "source": [
        "!gcc one.cpp -o one"
      ],
      "metadata": {
        "id": "E8Nh26FemoXV"
      },
      "execution_count": 11,
      "outputs": []
    },
    {
      "cell_type": "code",
      "source": [
        "!./one"
      ],
      "metadata": {
        "colab": {
          "base_uri": "https://localhost:8080/"
        },
        "id": "B1Jsf025mnvK",
        "outputId": "8127552c-d465-4c71-eb86-0573732c5b01"
      },
      "execution_count": 12,
      "outputs": [
        {
          "output_type": "stream",
          "name": "stdout",
          "text": [
            "Hello World!\n"
          ]
        }
      ]
    },
    {
      "cell_type": "code",
      "source": [
        "%%writefile two.cu\n",
        "\n",
        "#include \"/usr/local/cuda/include/cuda_runtime.h\"\n",
        "#include \"/usr/local/cuda/include/device_launch_parameters.h\"\n",
        "\n",
        "#include <stdio.h>\n",
        "\n",
        "__global__ void hello_cuda(){\n",
        "  printf(\"Aniruddha Shete\\n\");\n",
        "}\n",
        "\n",
        "int main(){\n",
        "  hello_cuda<<<1,10>>>(); //kernel launch parameters\n",
        "\n",
        "  //checking whether the kernel is being launched\n",
        "    cudaError_t cudaStatus = cudaGetLastError();\n",
        "    if (cudaStatus != cudaSuccess) {\n",
        "        fprintf(stderr, \"hello_cuda launch failed: %s\\n\", cudaGetErrorString(cudaStatus));\n",
        "        return 1; // Indicate an error\n",
        "    }\n",
        "  cudaDeviceSynchronize();\n",
        "\n",
        "  cudaDeviceReset();\n",
        "  return 0;\n",
        "}"
      ],
      "metadata": {
        "colab": {
          "base_uri": "https://localhost:8080/"
        },
        "id": "P92Ee2S7jgQ_",
        "outputId": "3665c9d3-21f3-4a84-c8ea-db98ff66847b"
      },
      "execution_count": 13,
      "outputs": [
        {
          "output_type": "stream",
          "name": "stdout",
          "text": [
            "Writing two.cu\n"
          ]
        }
      ]
    },
    {
      "cell_type": "markdown",
      "source": [
        "**arch** : CUDA compiler flag for specifying CUDA architecture <br/>\n",
        "**sm-75** : streaming multiprocessor architecture version 7.5"
      ],
      "metadata": {
        "id": "wegqBfQmkfT-"
      }
    },
    {
      "cell_type": "code",
      "source": [
        "!nvcc -arch=sm_75 two.cu -o two"
      ],
      "metadata": {
        "id": "3yzfD6jAkHuX"
      },
      "execution_count": 14,
      "outputs": []
    },
    {
      "cell_type": "code",
      "source": [
        "!./two"
      ],
      "metadata": {
        "colab": {
          "base_uri": "https://localhost:8080/"
        },
        "id": "lIk08jN0kcn0",
        "outputId": "329eabf1-4ffa-4bbe-dff3-a8218e2ae670"
      },
      "execution_count": 15,
      "outputs": [
        {
          "output_type": "stream",
          "name": "stdout",
          "text": [
            "Aniruddha Shete\n",
            "Aniruddha Shete\n",
            "Aniruddha Shete\n",
            "Aniruddha Shete\n",
            "Aniruddha Shete\n",
            "Aniruddha Shete\n",
            "Aniruddha Shete\n",
            "Aniruddha Shete\n",
            "Aniruddha Shete\n",
            "Aniruddha Shete\n"
          ]
        }
      ]
    }
  ]
}