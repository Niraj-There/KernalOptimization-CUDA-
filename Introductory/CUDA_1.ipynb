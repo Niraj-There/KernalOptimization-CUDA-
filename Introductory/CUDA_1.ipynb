{
  "nbformat": 4,
  "nbformat_minor": 0,
  "metadata": {
    "colab": {
      "provenance": [],
      "gpuType": "T4"
    },
    "kernelspec": {
      "name": "python3",
      "display_name": "Python 3"
    },
    "language_info": {
      "name": "python"
    },
    "accelerator": "GPU"
  },
  "cells": [
    {
      "cell_type": "markdown",
      "source": [
        "**Our GPU**"
      ],
      "metadata": {
        "id": "g1s3zHdwev6g"
      }
    },
    {
      "cell_type": "code",
      "source": [
        "!nvidia-smi"
      ],
      "metadata": {
        "colab": {
          "base_uri": "https://localhost:8080/"
        },
        "id": "C7kTboyjcp-V",
        "outputId": "72115b5d-c9e2-4a24-b56c-c0b8b6d6972a"
      },
      "execution_count": 1,
      "outputs": [
        {
          "output_type": "stream",
          "name": "stdout",
          "text": [
            "Tue May 27 19:26:50 2025       \n",
            "+-----------------------------------------------------------------------------------------+\n",
            "| NVIDIA-SMI 550.54.15              Driver Version: 550.54.15      CUDA Version: 12.4     |\n",
            "|-----------------------------------------+------------------------+----------------------+\n",
            "| GPU  Name                 Persistence-M | Bus-Id          Disp.A | Volatile Uncorr. ECC |\n",
            "| Fan  Temp   Perf          Pwr:Usage/Cap |           Memory-Usage | GPU-Util  Compute M. |\n",
            "|                                         |                        |               MIG M. |\n",
            "|=========================================+========================+======================|\n",
            "|   0  Tesla T4                       Off |   00000000:00:04.0 Off |                    0 |\n",
            "| N/A   36C    P8              9W /   70W |       0MiB /  15360MiB |      0%      Default |\n",
            "|                                         |                        |                  N/A |\n",
            "+-----------------------------------------+------------------------+----------------------+\n",
            "                                                                                         \n",
            "+-----------------------------------------------------------------------------------------+\n",
            "| Processes:                                                                              |\n",
            "|  GPU   GI   CI        PID   Type   Process name                              GPU Memory |\n",
            "|        ID   ID                                                               Usage      |\n",
            "|=========================================================================================|\n",
            "|  No running processes found                                                             |\n",
            "+-----------------------------------------------------------------------------------------+\n"
          ]
        }
      ]
    },
    {
      "cell_type": "code",
      "source": [
        "!nvcc --version"
      ],
      "metadata": {
        "colab": {
          "base_uri": "https://localhost:8080/"
        },
        "id": "NzTha5ZMF0CF",
        "outputId": "0872779b-4a6b-4438-aab8-8d0f1c90bbba"
      },
      "execution_count": 44,
      "outputs": [
        {
          "output_type": "stream",
          "name": "stdout",
          "text": [
            "nvcc: NVIDIA (R) Cuda compiler driver\n",
            "Copyright (c) 2005-2024 NVIDIA Corporation\n",
            "Built on Thu_Jun__6_02:18:23_PDT_2024\n",
            "Cuda compilation tools, release 12.5, V12.5.82\n",
            "Build cuda_12.5.r12.5/compiler.34385749_0\n"
          ]
        }
      ]
    },
    {
      "cell_type": "code",
      "execution_count": null,
      "metadata": {
        "colab": {
          "base_uri": "https://localhost:8080/"
        },
        "id": "nYV_WpOOnhsS",
        "outputId": "c102dd76-ce2d-4475-cdfc-759f852c1ed7"
      },
      "outputs": [
        {
          "output_type": "stream",
          "name": "stdout",
          "text": [
            "Overwriting omp.cpp\n"
          ]
        }
      ],
      "source": [
        "%%writefile omp.cpp\n",
        "\n",
        "#define MAX 10\n",
        "#include<stdio.h>\n",
        "#include<omp.h>\n",
        "\n",
        "int main(){\n",
        "  int count = 0;\n",
        "  #pragma omp parallel num_threads(MAX)\n",
        "  {\n",
        "    #pragma omp atomic update\n",
        "    count++;\n",
        "  }\n",
        "  printf(\"Number of threads: %d\\n\", count);\n",
        "}"
      ]
    },
    {
      "cell_type": "code",
      "source": [
        "!g++ -fopenmp omp.cpp -o omp\n",
        "!./omp"
      ],
      "metadata": {
        "colab": {
          "base_uri": "https://localhost:8080/"
        },
        "id": "_SVS-WjDoSP1",
        "outputId": "60211d43-9a06-4b58-d8e5-ee6d848c93d0"
      },
      "execution_count": null,
      "outputs": [
        {
          "output_type": "stream",
          "name": "stdout",
          "text": [
            "Number of threads: 10\n"
          ]
        }
      ]
    },
    {
      "cell_type": "code",
      "source": [
        "%%writefile ani.cpp\n",
        "\n",
        "#include<stdio.h>\n",
        "#include<omp.h>\n",
        "#include<stdlib.h>\n",
        "#define n 10\n",
        "\n",
        "int main(){\n",
        "  int maximum = 0;\n",
        "  int z[n];\n",
        "\n",
        "  for(int j=0; j<n; j++){\n",
        "    z[j] = rand();\n",
        "  }\n",
        "\n",
        "  printf(\"The elements of Array are: \\n\");\n",
        "\n",
        "  for(int j=0; j<n; j++){\n",
        "    printf(\"%d\\n\", z[j]);\n",
        "  }\n",
        "\n",
        "  #pragma omp parallel for\n",
        "  for(int j=0; j<n; j++){\n",
        "    if(z[j]>maximum){\n",
        "      maximum = z[j];\n",
        "    }\n",
        "  }\n",
        "\n",
        "  return 0;\n",
        "\n",
        "}"
      ],
      "metadata": {
        "colab": {
          "base_uri": "https://localhost:8080/"
        },
        "id": "oyLxfmD4z8H3",
        "outputId": "a3468d13-9a43-454a-cc8b-89e6ec72357e"
      },
      "execution_count": 49,
      "outputs": [
        {
          "output_type": "stream",
          "name": "stdout",
          "text": [
            "Overwriting ani.cpp\n"
          ]
        }
      ]
    },
    {
      "cell_type": "code",
      "source": [
        "!g++ -fopenmp ani.cpp -o ani\n",
        "!./ani"
      ],
      "metadata": {
        "colab": {
          "base_uri": "https://localhost:8080/"
        },
        "id": "11KgU-JM3AFZ",
        "outputId": "8fed37d6-30d2-4ab4-9709-874f0de5d26a"
      },
      "execution_count": 50,
      "outputs": [
        {
          "output_type": "stream",
          "name": "stdout",
          "text": [
            "The elements of Array are: \n",
            "1804289383\n",
            "846930886\n",
            "1681692777\n",
            "1714636915\n",
            "1957747793\n",
            "424238335\n",
            "719885386\n",
            "1649760492\n",
            "596516649\n",
            "1189641421\n"
          ]
        }
      ]
    },
    {
      "cell_type": "code",
      "source": [
        "!pip install git+https://github.com/andreinechaev/nvcc4jupyter.git"
      ],
      "metadata": {
        "colab": {
          "base_uri": "https://localhost:8080/"
        },
        "id": "B2fixypKoYoz",
        "outputId": "fa5bec41-be76-40a2-ed42-af79399f15e2"
      },
      "execution_count": null,
      "outputs": [
        {
          "output_type": "stream",
          "name": "stdout",
          "text": [
            "Collecting git+https://github.com/andreinechaev/nvcc4jupyter.git\n",
            "  Cloning https://github.com/andreinechaev/nvcc4jupyter.git to /tmp/pip-req-build-0lcx5wz7\n",
            "  Running command git clone --filter=blob:none --quiet https://github.com/andreinechaev/nvcc4jupyter.git /tmp/pip-req-build-0lcx5wz7\n",
            "  Resolved https://github.com/andreinechaev/nvcc4jupyter.git to commit 28f872a2f99a1b201bcd0db14fdbc5a496b9bfd7\n",
            "  Installing build dependencies ... \u001b[?25l\u001b[?25hdone\n",
            "  Getting requirements to build wheel ... \u001b[?25l\u001b[?25hdone\n",
            "  Preparing metadata (pyproject.toml) ... \u001b[?25l\u001b[?25hdone\n",
            "Building wheels for collected packages: nvcc4jupyter\n",
            "  Building wheel for nvcc4jupyter (pyproject.toml) ... \u001b[?25l\u001b[?25hdone\n",
            "  Created wheel for nvcc4jupyter: filename=nvcc4jupyter-1.2.1-py3-none-any.whl size=10742 sha256=fdb30b442a03a2b978d94f242f4f3839c3b517111d4c5bcc31496f40b5aacbba\n",
            "  Stored in directory: /tmp/pip-ephem-wheel-cache-k349xc7b/wheels/ef/1d/c6/f7e47f1aa1bc9d05c4120d94f90a79cf28603ef343b0dd43ff\n",
            "Successfully built nvcc4jupyter\n",
            "Installing collected packages: nvcc4jupyter\n",
            "Successfully installed nvcc4jupyter-1.2.1\n"
          ]
        }
      ]
    },
    {
      "cell_type": "code",
      "source": [
        "%load_ext nvcc4jupyter"
      ],
      "metadata": {
        "colab": {
          "base_uri": "https://localhost:8080/"
        },
        "id": "P7jYTUs3oirY",
        "outputId": "6e042987-3a3d-4fd1-96a6-d0d75f08e546"
      },
      "execution_count": null,
      "outputs": [
        {
          "output_type": "stream",
          "name": "stdout",
          "text": [
            "Detected platform \"Colab\". Running its setup...\n",
            "Source files will be saved in \"/tmp/tmp1d46952t\".\n"
          ]
        }
      ]
    },
    {
      "cell_type": "code",
      "source": [
        "%%cuda\n",
        "#include <iostream>\n",
        "\n",
        "__global__ void hello_cuda() {\n",
        "    printf(\"Hello from GPU thread %d!\\n\", threadIdx.x);\n",
        "}\n",
        "\n",
        "int main() {\n",
        "    std::cout << \"Hello from CPU!\\n\";\n",
        "    hello_cuda<<<1, 10>>>(); // Launch 1 block, 10 threads\n",
        "    cudaDeviceSynchronize(); // Wait for GPU to finish\n",
        "    return 0;\n",
        "}"
      ],
      "metadata": {
        "colab": {
          "base_uri": "https://localhost:8080/"
        },
        "id": "lhmNshbknYp4",
        "outputId": "c8086f4d-e09b-49ef-e686-12285bad8fea"
      },
      "execution_count": null,
      "outputs": [
        {
          "output_type": "stream",
          "name": "stdout",
          "text": [
            "Hello from CPU!\n",
            "\n"
          ]
        }
      ]
    },
    {
      "cell_type": "code",
      "source": [
        " %%writefile three.cpp\n",
        "\n",
        "#include<iostream>\n",
        "\n",
        "void some_func(void)\n",
        "{\n",
        "    int i;\n",
        "    int a[128];\n",
        "    int b[128];\n",
        "    int c[128];\n",
        "\n",
        "    for (i=0;i<128;i++)\n",
        "    {\n",
        "      b[i] = i+1;\n",
        "      c[i] = i * 2;\n",
        "      a[i] = b[i] * c[i];\n",
        "    }\n",
        "\n",
        "    std::cout << \"Contents of array a:\" << std::endl;\n",
        "    for (i=0; i<128; i++) {\n",
        "        std::cout << a[i] << \" \";\n",
        "    }\n",
        "    std::cout << std::endl;\n",
        "}\n",
        "\n",
        "int main() {\n",
        "  some_func();\n",
        "  return 0;\n",
        "}"
      ],
      "metadata": {
        "id": "1Qtm4yDSnwGI",
        "colab": {
          "base_uri": "https://localhost:8080/"
        },
        "outputId": "89751540-96bd-4cc0-859d-9a37af680a21"
      },
      "execution_count": null,
      "outputs": [
        {
          "output_type": "stream",
          "name": "stdout",
          "text": [
            "Overwriting three.cpp\n"
          ]
        }
      ]
    },
    {
      "cell_type": "code",
      "source": [
        "!g++ -fopenmp three.cpp -o three\n",
        "!./three"
      ],
      "metadata": {
        "colab": {
          "base_uri": "https://localhost:8080/"
        },
        "id": "s4Q1UYXnRaC4",
        "outputId": "7cc90350-383f-450a-dc73-a797f6e1c329"
      },
      "execution_count": null,
      "outputs": [
        {
          "output_type": "stream",
          "name": "stdout",
          "text": [
            "Contents of array a:\n",
            "0 4 12 24 40 60 84 112 144 180 220 264 312 364 420 480 544 612 684 760 840 924 1012 1104 1200 1300 1404 1512 1624 1740 1860 1984 2112 2244 2380 2520 2664 2812 2964 3120 3280 3444 3612 3784 3960 4140 4324 4512 4704 4900 5100 5304 5512 5724 5940 6160 6384 6612 6844 7080 7320 7564 7812 8064 8320 8580 8844 9112 9384 9660 9940 10224 10512 10804 11100 11400 11704 12012 12324 12640 12960 13284 13612 13944 14280 14620 14964 15312 15664 16020 16380 16744 17112 17484 17860 18240 18624 19012 19404 19800 20200 20604 21012 21424 21840 22260 22684 23112 23544 23980 24420 24864 25312 25764 26220 26680 27144 27612 28084 28560 29040 29524 30012 30504 31000 31500 32004 32512 \n"
          ]
        }
      ]
    },
    {
      "cell_type": "code",
      "source": [
        "%%writefile four.cpp\n",
        "\n",
        "#include <iostream>\n",
        "#include <omp.h>\n",
        "\n",
        "__global__\n",
        "void some_kernel_func (int * const a, int * const b, int * const c, int n)\n",
        "{\n",
        "  a[i] = b[i] * c[i];\n",
        "}\n",
        "\n",
        "int main() {\n",
        "  int n = 128;\n",
        "  int a[n];\n",
        "  int b[n];\n",
        "  int c[n];\n",
        "}"
      ],
      "metadata": {
        "colab": {
          "base_uri": "https://localhost:8080/"
        },
        "id": "iWFjYy1QRknQ",
        "outputId": "dc78d896-79dc-4088-be19-1506d10c90d0"
      },
      "execution_count": null,
      "outputs": [
        {
          "output_type": "stream",
          "name": "stdout",
          "text": [
            "Overwriting four.cpp\n"
          ]
        }
      ]
    },
    {
      "cell_type": "code",
      "source": [
        "!gcc -fopenmp four.cpp -o four\n",
        "!./four"
      ],
      "metadata": {
        "colab": {
          "base_uri": "https://localhost:8080/"
        },
        "id": "M7nRoC5bNhWg",
        "outputId": "87116460-f1ca-4851-a281-368fd9a6de87"
      },
      "execution_count": null,
      "outputs": [
        {
          "output_type": "stream",
          "name": "stdout",
          "text": [
            "\u001b[01m\u001b[Kcc1plus:\u001b[m\u001b[K \u001b[01;31m\u001b[Kfatal error: \u001b[m\u001b[Kfour.cpp: No such file or directory\n",
            "compilation terminated.\n",
            "/bin/bash: line 1: ./four: No such file or directory\n"
          ]
        }
      ]
    },
    {
      "cell_type": "code",
      "source": [
        "%%writefile five.cpp\n",
        "\n",
        "#include <stdio.h>\n",
        "#include <stdlib.h>\n",
        "#include <time.h>\n",
        "\n",
        "#include \"cuda_runtime.h\"\n",
        "#include \"device_launch_parameters.h\"\n",
        "\n",
        "// #include \"common.h\"\n",
        "\n",
        "#define SHARED_ARRAY_SIZE 128\n",
        "\n",
        "__global__ void smem_static_test(int * in, int * out, int size)\n",
        "{\n",
        "\tint tid = threadIdx.x;\n",
        "\tint gid = blockIdx.x * blockDim.x + threadIdx.x;\n",
        "\n",
        "\t__shared__ int smem[SHARED_ARRAY_SIZE];\n",
        "\n",
        "\tif (gid < size)\n",
        "\t{\n",
        "\t\tsmem[tid] = in[gid];\n",
        "\t\tout[gid] = smem[tid];\n",
        "\t}\n",
        "}\n",
        "\n",
        "__global__ void smem_dynamic_test(int * in, int * out, int size)\n",
        "{\n",
        "\tint tid = threadIdx.x;\n",
        "\tint gid = blockIdx.x * blockDim.x + threadIdx.x;\n",
        "\n",
        "\textern __shared__ int smem[];\n",
        "\n",
        "\tif (gid < size)\n",
        "\t{\n",
        "\t\tsmem[tid] = in[gid];\n",
        "\t\tout[gid] = smem[tid];\n",
        "\t}\n",
        "}\n"
      ],
      "metadata": {
        "id": "92iUyfsxNlpN",
        "colab": {
          "base_uri": "https://localhost:8080/"
        },
        "outputId": "32f2affb-84c8-4fb1-e7a4-5cfb2d0af0cc"
      },
      "execution_count": 12,
      "outputs": [
        {
          "output_type": "stream",
          "name": "stdout",
          "text": [
            "Overwriting five.cpp\n"
          ]
        }
      ]
    },
    {
      "cell_type": "code",
      "source": [
        "!nvcc five.cpp -o five"
      ],
      "metadata": {
        "colab": {
          "base_uri": "https://localhost:8080/"
        },
        "id": "K74dKwp7Tl-U",
        "outputId": "74c5579d-6327-487c-95d7-87a4c7deb65c"
      },
      "execution_count": 13,
      "outputs": [
        {
          "output_type": "stream",
          "name": "stdout",
          "text": [
            "/usr/bin/ld: /tmp/tmpxft_0000411a_00000000-5_five.o: warning: relocation against `blockDim' in read-only section `.text'\n",
            "/usr/bin/ld: /usr/lib/gcc/x86_64-linux-gnu/11/../../../x86_64-linux-gnu/Scrt1.o: in function `_start':\n",
            "(.text+0x1b): undefined reference to `main'\n",
            "/usr/bin/ld: /tmp/tmpxft_0000411a_00000000-5_five.o: in function `smem_static_test(int*, int*, int)':\n",
            "five.cpp:(.text+0x34): undefined reference to `threadIdx'\n",
            "/usr/bin/ld: five.cpp:(.text+0x40): undefined reference to `blockIdx'\n",
            "/usr/bin/ld: five.cpp:(.text+0x46): undefined reference to `blockDim'\n",
            "/usr/bin/ld: five.cpp:(.text+0x4f): undefined reference to `threadIdx'\n",
            "/usr/bin/ld: /tmp/tmpxft_0000411a_00000000-5_five.o: in function `smem_dynamic_test(int*, int*, int)':\n",
            "five.cpp:(.text+0xeb): undefined reference to `threadIdx'\n",
            "/usr/bin/ld: five.cpp:(.text+0xf4): undefined reference to `blockIdx'\n",
            "/usr/bin/ld: five.cpp:(.text+0xfa): undefined reference to `blockDim'\n",
            "/usr/bin/ld: five.cpp:(.text+0x103): undefined reference to `threadIdx'\n",
            "/usr/bin/ld: five.cpp:(.text+0x13b): undefined reference to `smem'\n",
            "/usr/bin/ld: five.cpp:(.text+0x166): undefined reference to `smem'\n",
            "/usr/bin/ld: warning: creating DT_TEXTREL in a PIE\n",
            "collect2: error: ld returned 1 exit status\n"
          ]
        }
      ]
    },
    {
      "cell_type": "code",
      "source": [
        "!./five"
      ],
      "metadata": {
        "colab": {
          "base_uri": "https://localhost:8080/"
        },
        "id": "z-CcxRkJTzER",
        "outputId": "6ca8348d-3777-48a0-bf4c-a1a59b18b811"
      },
      "execution_count": 14,
      "outputs": [
        {
          "output_type": "stream",
          "name": "stdout",
          "text": [
            "/bin/bash: line 1: ./five: No such file or directory\n"
          ]
        }
      ]
    },
    {
      "cell_type": "markdown",
      "source": [
        "**Usecase of Multiple Pointers**"
      ],
      "metadata": {
        "id": "HIv0foPiXHJw"
      }
    },
    {
      "cell_type": "code",
      "source": [
        "%%writefile six.cpp\n",
        "\n",
        "#include<stdio.h>\n",
        "\n",
        "int main(){\n",
        "  int value = 42;\n",
        "  int *ptr1 = &value;\n",
        "  int **ptr2 = &ptr1;\n",
        "  int ***ptr3 = &ptr2;\n",
        "\n",
        "  printf(\"Value of value: %d\\n\", ***ptr3);\n",
        "}"
      ],
      "metadata": {
        "colab": {
          "base_uri": "https://localhost:8080/"
        },
        "id": "W9-oBAw_VZ_E",
        "outputId": "a1c48e37-bc18-4809-e0cc-b3496e36240e"
      },
      "execution_count": 15,
      "outputs": [
        {
          "output_type": "stream",
          "name": "stdout",
          "text": [
            "Writing six.cpp\n"
          ]
        }
      ]
    },
    {
      "cell_type": "code",
      "source": [
        "!gcc six.cpp -o six"
      ],
      "metadata": {
        "id": "6f1Wz1WmV6GG"
      },
      "execution_count": 16,
      "outputs": []
    },
    {
      "cell_type": "code",
      "source": [
        "!./six"
      ],
      "metadata": {
        "colab": {
          "base_uri": "https://localhost:8080/"
        },
        "id": "6m9WaMeAV-7D",
        "outputId": "fa3fd811-9e0e-421b-fc02-beb63ace51aa"
      },
      "execution_count": 17,
      "outputs": [
        {
          "output_type": "stream",
          "name": "stdout",
          "text": [
            "Value of value: 42\n"
          ]
        }
      ]
    },
    {
      "cell_type": "markdown",
      "source": [
        "**Use of Void Pointers**"
      ],
      "metadata": {
        "id": "bpC2_HBmXNgN"
      }
    },
    {
      "cell_type": "code",
      "source": [
        "%%writefile seven.cpp\n",
        "\n",
        "#include <stdio.h>\n",
        "\n",
        "int main() {\n",
        "    int num = 10;\n",
        "    float fnum = 13.21;\n",
        "    void* ptr;\n",
        "\n",
        "    ptr = &num;\n",
        "    printf(\"Value of num: %d\\n\", *((int *)ptr));\n",
        "\n",
        "    ptr = &fnum;\n",
        "    printf(\"Value of fnum: %f\\n\", *((float *)ptr));\n",
        "\n",
        "    return 0;\n",
        "}"
      ],
      "metadata": {
        "colab": {
          "base_uri": "https://localhost:8080/"
        },
        "id": "Xvwc2Q54WL1n",
        "outputId": "24a25292-b973-4ce5-e209-42fa7e4df169"
      },
      "execution_count": 18,
      "outputs": [
        {
          "output_type": "stream",
          "name": "stdout",
          "text": [
            "Writing seven.cpp\n"
          ]
        }
      ]
    },
    {
      "cell_type": "code",
      "source": [
        "!gcc seven.cpp -o seven"
      ],
      "metadata": {
        "id": "Qn0gpJyjWv9L"
      },
      "execution_count": 19,
      "outputs": []
    },
    {
      "cell_type": "code",
      "source": [
        "!./seven"
      ],
      "metadata": {
        "colab": {
          "base_uri": "https://localhost:8080/"
        },
        "id": "9xsD976-W1xE",
        "outputId": "13bcbe08-63ef-40df-e126-24695c4d09df"
      },
      "execution_count": 20,
      "outputs": [
        {
          "output_type": "stream",
          "name": "stdout",
          "text": [
            "Value of num: 10\n",
            "Value of fnum: 13.210000\n"
          ]
        }
      ]
    },
    {
      "cell_type": "code",
      "source": [
        "%%writefile eight.cpp\n",
        "\n",
        "#include <stdio.h>\n",
        "#include <stdlib.h>\n",
        "\n",
        "int main(){\n",
        "  int* ptr = NULL;\n",
        "  printf(\"1. initial ptr value: %p\\n \", (void*)ptr);\n",
        "\n",
        "  if(ptr=NULL){\n",
        "    printf(\"2. ptr is NULL\\n\");\n",
        "  }\n",
        "\n",
        "  ptr = (int*)malloc(sizeof(int));\n",
        "  if(ptr == NULL){\n",
        "    printf(\"3. memory allocation falied\\n\");\n",
        "    return 1;\n",
        "  }\n",
        "}"
      ],
      "metadata": {
        "colab": {
          "base_uri": "https://localhost:8080/"
        },
        "id": "6O9zWOK8W4Qg",
        "outputId": "9eb4e183-2f96-40a4-f62c-5769cf8cc076"
      },
      "execution_count": 26,
      "outputs": [
        {
          "output_type": "stream",
          "name": "stdout",
          "text": [
            "Overwriting eight.cpp\n"
          ]
        }
      ]
    },
    {
      "cell_type": "code",
      "source": [
        "!gcc eight.cpp -o eight"
      ],
      "metadata": {
        "id": "0Y3nENhjZlzR"
      },
      "execution_count": 27,
      "outputs": []
    },
    {
      "cell_type": "code",
      "source": [
        "!./eight"
      ],
      "metadata": {
        "colab": {
          "base_uri": "https://localhost:8080/"
        },
        "id": "KJAwZ5yiZsCz",
        "outputId": "c28b134c-0c1c-4ef6-cb34-1ece3fdb79f4"
      },
      "execution_count": 28,
      "outputs": [
        {
          "output_type": "stream",
          "name": "stdout",
          "text": [
            "1. initial ptr value: (nil)\n",
            " "
          ]
        }
      ]
    },
    {
      "cell_type": "code",
      "source": [
        "%%writefile nine.cpp\n",
        "\n",
        "#include <stdio.h>\n",
        "\n",
        "int main(){\n",
        "  int arr[] = {13,21,34,52};\n",
        "  int* ptr = arr;\n",
        "\n",
        "  printf(\"1. postiion one: %d\\n\", *ptr);\n",
        "  for(int i=0; i<4; i++){\n",
        "    printf(\"%d\", *ptr);\n",
        "    printf(\"%p\\n\", ptr);\n",
        "    ptr++;\n",
        "  }\n",
        "}"
      ],
      "metadata": {
        "colab": {
          "base_uri": "https://localhost:8080/"
        },
        "id": "dq9VgdI2aoyf",
        "outputId": "498c55c4-fb77-4441-a665-9874c5e3f86f"
      },
      "execution_count": 39,
      "outputs": [
        {
          "output_type": "stream",
          "name": "stdout",
          "text": [
            "Overwriting nine.cpp\n"
          ]
        }
      ]
    },
    {
      "cell_type": "code",
      "source": [
        "!gcc nine.cpp -o nine"
      ],
      "metadata": {
        "id": "xM6Wdi86eYsZ"
      },
      "execution_count": 40,
      "outputs": []
    },
    {
      "cell_type": "code",
      "source": [
        "!./nine"
      ],
      "metadata": {
        "colab": {
          "base_uri": "https://localhost:8080/"
        },
        "id": "zHirqBVpedEA",
        "outputId": "d41a7a97-a37f-4e04-95ad-0e1afeef989c"
      },
      "execution_count": 42,
      "outputs": [
        {
          "output_type": "stream",
          "name": "stdout",
          "text": [
            "1. postiion one: 13\n",
            "130x7ffd29cfd440\n",
            "210x7ffd29cfd444\n",
            "340x7ffd29cfd448\n",
            "520x7ffd29cfd44c\n"
          ]
        }
      ]
    },
    {
      "cell_type": "code",
      "source": [
        "!nvidia --version"
      ],
      "metadata": {
        "colab": {
          "base_uri": "https://localhost:8080/"
        },
        "id": "Q2D7e3-jequK",
        "outputId": "1b61434d-bf9e-40b5-d436-859c537f914f"
      },
      "execution_count": 1,
      "outputs": [
        {
          "output_type": "stream",
          "name": "stdout",
          "text": [
            "/bin/bash: line 1: nvidia: command not found\n"
          ]
        }
      ]
    },
    {
      "cell_type": "code",
      "source": [],
      "metadata": {
        "id": "SY00VrytnEhe"
      },
      "execution_count": null,
      "outputs": []
    }
  ]
}