{
  "nbformat": 4,
  "nbformat_minor": 0,
  "metadata": {
    "colab": {
      "provenance": [],
      "gpuType": "T4"
    },
    "kernelspec": {
      "name": "python3",
      "display_name": "Python 3"
    },
    "language_info": {
      "name": "python"
    },
    "accelerator": "GPU"
  },
  "cells": [
    {
      "cell_type": "markdown",
      "source": [
        "**Unique Index Calculation for 2D Grid**"
      ],
      "metadata": {
        "id": "0hpichS9cpfr"
      }
    },
    {
      "cell_type": "code",
      "execution_count": 38,
      "metadata": {
        "colab": {
          "base_uri": "https://localhost:8080/"
        },
        "id": "DTnZB9bGpvdz",
        "outputId": "373bcf4d-350a-4b07-a8d5-34fd459f41e0"
      },
      "outputs": [
        {
          "output_type": "stream",
          "name": "stdout",
          "text": [
            "Overwriting one.cu\n"
          ]
        }
      ],
      "source": [
        "%%writefile one.cu\n",
        "\n",
        "#include \"cuda_runtime.h\"\n",
        "#include \"device_launch_parameters.h\"\n",
        "\n",
        "#include <stdio.h>\n",
        "#include <stdlib.h>\n",
        "\n",
        "__global__ void unique_gid_calc_2d(int *data){\n",
        "  //int tid = threadIdx.x;\n",
        "  //int offset = blockIdx.x * blockDim.x; // this one is for one dimensional\n",
        "\n",
        "  int row_offset = blockDim.x * gridDim.x + blockIdx.x;\n",
        "  int block_offset = blockDim.x * blockIdx.x;\n",
        "  int tid = threadIdx.x;\n",
        "\n",
        "  int gid =  row_offset + block_offset + tid;\n",
        "  printf(\"blockIdx.x : %d, blockIdx.y : %d, threadIdx.x : %d, gid: %d - data : %d \\n\", blockIdx.x, blockIdx.y, threadIdx.x, gid, data[gid]);\n",
        "}\n",
        "\n",
        "int main(){\n",
        "  int array_size = 16;\n",
        "  int array_byt_size = sizeof(int) * array_size;\n",
        "  int h_data[] = {13,21,34,51,23,31,19,12,32,91,43,44,54,45,15,29};\n",
        "\n",
        "  int * d_data;\n",
        "  cudaMalloc(&d_data, array_byt_size);\n",
        "  cudaMemcpy(d_data, h_data, array_byt_size, cudaMemcpyHostToDevice);\n",
        "\n",
        "  dim3 block(4);\n",
        "  dim3 grid(2,2);\n",
        "\n",
        "  unique_gid_calc_2d<<<grid, block>>>(d_data);\n",
        "  cudaDeviceSynchronize();\n",
        "\n",
        "  cudaDeviceReset();\n",
        "  return 0;\n",
        "}"
      ]
    },
    {
      "cell_type": "code",
      "source": [
        "!nvcc -arch=sm_75 one.cu -o one"
      ],
      "metadata": {
        "id": "2U_0_PvkQEUY"
      },
      "execution_count": 39,
      "outputs": []
    },
    {
      "cell_type": "code",
      "source": [
        "!./one"
      ],
      "metadata": {
        "colab": {
          "base_uri": "https://localhost:8080/"
        },
        "id": "mBWnXXtsQUwR",
        "outputId": "c348f285-7ece-416d-a109-af7033278af9"
      },
      "execution_count": 40,
      "outputs": [
        {
          "output_type": "stream",
          "name": "stdout",
          "text": [
            "blockIdx.x : 1, blockIdx.y : 0, threadIdx.x : 0, gid: 13 - data : 45 \n",
            "blockIdx.x : 1, blockIdx.y : 0, threadIdx.x : 1, gid: 14 - data : 15 \n",
            "blockIdx.x : 1, blockIdx.y : 0, threadIdx.x : 2, gid: 15 - data : 29 \n",
            "blockIdx.x : 1, blockIdx.y : 0, threadIdx.x : 3, gid: 16 - data : 0 \n",
            "blockIdx.x : 0, blockIdx.y : 1, threadIdx.x : 0, gid: 8 - data : 32 \n",
            "blockIdx.x : 0, blockIdx.y : 1, threadIdx.x : 1, gid: 9 - data : 91 \n",
            "blockIdx.x : 0, blockIdx.y : 1, threadIdx.x : 2, gid: 10 - data : 43 \n",
            "blockIdx.x : 0, blockIdx.y : 1, threadIdx.x : 3, gid: 11 - data : 44 \n",
            "blockIdx.x : 1, blockIdx.y : 1, threadIdx.x : 0, gid: 13 - data : 45 \n",
            "blockIdx.x : 1, blockIdx.y : 1, threadIdx.x : 1, gid: 14 - data : 15 \n",
            "blockIdx.x : 1, blockIdx.y : 1, threadIdx.x : 2, gid: 15 - data : 29 \n",
            "blockIdx.x : 1, blockIdx.y : 1, threadIdx.x : 3, gid: 16 - data : 0 \n",
            "blockIdx.x : 0, blockIdx.y : 0, threadIdx.x : 0, gid: 8 - data : 32 \n",
            "blockIdx.x : 0, blockIdx.y : 0, threadIdx.x : 1, gid: 9 - data : 91 \n",
            "blockIdx.x : 0, blockIdx.y : 0, threadIdx.x : 2, gid: 10 - data : 43 \n",
            "blockIdx.x : 0, blockIdx.y : 0, threadIdx.x : 3, gid: 11 - data : 44 \n"
          ]
        }
      ]
    },
    {
      "cell_type": "code",
      "source": [
        "%%writefile two.cu\n",
        "\n",
        "#include \"cuda_runtime.h\"\n",
        "#include \"device_launch_parameters.h\"\n",
        "\n",
        "#include <stdio.h>\n",
        "#include <stdlib.h>\n",
        "\n",
        "__global__ void unique_gid_calc_2d(int *data){\n",
        "  int row_offset = (blockDim.x * blockDim.y * gridDim.x) * blockIdx.y;\n",
        "  int block_offset = (blockDim.x * blockDim.y) * blockIdx.x;\n",
        "  int tid = threadIdx.y * blockDim.x + threadIdx.x;\n",
        "\n",
        "  int gid =  row_offset + block_offset + tid;\n",
        "  printf(\"blockIdx.x : %d, blockIdx.y : %d, threadIdx.x : %d, gid: %d - data : %d \\n\", blockIdx.x, blockIdx.y, threadIdx.x, gid, data[gid]);\n",
        "}\n",
        "\n",
        "int main(){\n",
        "  int array_size = 16;\n",
        "  int array_byt_size = sizeof(int) * array_size;\n",
        "  int h_data[] = {13,21,34,51,23,31,19,12,32,91,43,44,54,45,15,29};\n",
        "\n",
        "  int * d_data;\n",
        "  cudaMalloc(&d_data, array_byt_size);\n",
        "  cudaMemcpy(d_data, h_data, array_byt_size, cudaMemcpyHostToDevice);\n",
        "\n",
        "  dim3 block(2,2);\n",
        "  dim3 grid(2,2);\n",
        "\n",
        "  unique_gid_calc_2d<<<grid, block>>>(d_data);\n",
        "  cudaDeviceSynchronize();\n",
        "\n",
        "  cudaDeviceReset();\n",
        "  return 0;\n",
        "}"
      ],
      "metadata": {
        "colab": {
          "base_uri": "https://localhost:8080/"
        },
        "id": "ltjoZtx5RWyi",
        "outputId": "96392b72-21d0-40d1-f515-404c6314591d"
      },
      "execution_count": 41,
      "outputs": [
        {
          "output_type": "stream",
          "name": "stdout",
          "text": [
            "Overwriting two.cu\n"
          ]
        }
      ]
    },
    {
      "cell_type": "code",
      "source": [
        "!nvcc -arch=sm_75 two.cu -o two"
      ],
      "metadata": {
        "id": "SanGUPYHYksv"
      },
      "execution_count": 42,
      "outputs": []
    },
    {
      "cell_type": "code",
      "source": [
        "!./two"
      ],
      "metadata": {
        "colab": {
          "base_uri": "https://localhost:8080/"
        },
        "id": "MooZHvNgYtOs",
        "outputId": "10e947cf-bf37-401f-d45b-d8356d1687d7"
      },
      "execution_count": 43,
      "outputs": [
        {
          "output_type": "stream",
          "name": "stdout",
          "text": [
            "blockIdx.x : 1, blockIdx.y : 0, threadIdx.x : 0, gid: 4 - data : 23 \n",
            "blockIdx.x : 1, blockIdx.y : 0, threadIdx.x : 1, gid: 5 - data : 31 \n",
            "blockIdx.x : 1, blockIdx.y : 0, threadIdx.x : 0, gid: 6 - data : 19 \n",
            "blockIdx.x : 1, blockIdx.y : 0, threadIdx.x : 1, gid: 7 - data : 12 \n",
            "blockIdx.x : 0, blockIdx.y : 1, threadIdx.x : 0, gid: 8 - data : 32 \n",
            "blockIdx.x : 0, blockIdx.y : 1, threadIdx.x : 1, gid: 9 - data : 91 \n",
            "blockIdx.x : 0, blockIdx.y : 1, threadIdx.x : 0, gid: 10 - data : 43 \n",
            "blockIdx.x : 0, blockIdx.y : 1, threadIdx.x : 1, gid: 11 - data : 44 \n",
            "blockIdx.x : 1, blockIdx.y : 1, threadIdx.x : 0, gid: 12 - data : 54 \n",
            "blockIdx.x : 1, blockIdx.y : 1, threadIdx.x : 1, gid: 13 - data : 45 \n",
            "blockIdx.x : 1, blockIdx.y : 1, threadIdx.x : 0, gid: 14 - data : 15 \n",
            "blockIdx.x : 1, blockIdx.y : 1, threadIdx.x : 1, gid: 15 - data : 29 \n",
            "blockIdx.x : 0, blockIdx.y : 0, threadIdx.x : 0, gid: 0 - data : 13 \n",
            "blockIdx.x : 0, blockIdx.y : 0, threadIdx.x : 1, gid: 1 - data : 21 \n",
            "blockIdx.x : 0, blockIdx.y : 0, threadIdx.x : 0, gid: 2 - data : 34 \n",
            "blockIdx.x : 0, blockIdx.y : 0, threadIdx.x : 1, gid: 3 - data : 51 \n"
          ]
        }
      ]
    },
    {
      "cell_type": "code",
      "source": [
        "%%writefile three.cu\n",
        "\n",
        "#include \"cuda_runtime.h\"\n",
        "#include \"device_launch_parameters.h\"\n",
        "\n",
        "#include <stdio.h>\n",
        "#include <stdlib.h>\n",
        "\n",
        "__global__ void unique_gid_calc_2d(int *data){\n",
        "  // Correct 2D global ID calculation\n",
        "  int gid = blockIdx.y * gridDim.x * blockDim.x + blockIdx.x * blockDim.x + threadIdx.x;\n",
        "\n",
        "  printf(\"blockIdx.x : %d, blockIdx.y : %d, threadIdx.x : %d, gid: %d - data : %d \\n\",\n",
        "         blockIdx.x, blockIdx.y, threadIdx.x, gid, data[gid]);\n",
        "}\n",
        "\n",
        "int main(){\n",
        "  int array_size = 16;\n",
        "  int array_byt_size = sizeof(int) * array_size;\n",
        "  int h_data[] = {13,21,34,51,23,31,19,12,32,91,43,44,54,45,15,29};\n",
        "\n",
        "  int * d_data;\n",
        "  cudaMalloc(&d_data, array_byt_size);\n",
        "  cudaMemcpy(d_data, h_data, array_byt_size, cudaMemcpyHostToDevice);\n",
        "\n",
        "  dim3 block(4);  // 4 threads per block\n",
        "  dim3 grid(2,2); // 2x2 grid of blocks = 4 blocks total\n",
        "\n",
        "  unique_gid_calc_2d<<<grid, block>>>(d_data);\n",
        "  cudaDeviceSynchronize();\n",
        "\n",
        "  cudaFree(d_data);\n",
        "  cudaDeviceReset();\n",
        "  return 0;\n",
        "}"
      ],
      "metadata": {
        "colab": {
          "base_uri": "https://localhost:8080/"
        },
        "id": "EO1bsNOiYy25",
        "outputId": "e845588e-9d9f-412c-97a5-bbaba0cb7d71"
      },
      "execution_count": 44,
      "outputs": [
        {
          "output_type": "stream",
          "name": "stdout",
          "text": [
            "Writing three.cu\n"
          ]
        }
      ]
    },
    {
      "cell_type": "code",
      "source": [
        "!nvcc -arch=sm_75 three.cu -o three"
      ],
      "metadata": {
        "id": "fdeXMZJ-cefz"
      },
      "execution_count": 45,
      "outputs": []
    },
    {
      "cell_type": "code",
      "source": [
        "!./three"
      ],
      "metadata": {
        "colab": {
          "base_uri": "https://localhost:8080/"
        },
        "id": "mxf6KDKsckby",
        "outputId": "6b8b3845-6199-4a99-9b3c-88167a3cb8e0"
      },
      "execution_count": 46,
      "outputs": [
        {
          "output_type": "stream",
          "name": "stdout",
          "text": [
            "blockIdx.x : 1, blockIdx.y : 0, threadIdx.x : 0, gid: 4 - data : 23 \n",
            "blockIdx.x : 1, blockIdx.y : 0, threadIdx.x : 1, gid: 5 - data : 31 \n",
            "blockIdx.x : 1, blockIdx.y : 0, threadIdx.x : 2, gid: 6 - data : 19 \n",
            "blockIdx.x : 1, blockIdx.y : 0, threadIdx.x : 3, gid: 7 - data : 12 \n",
            "blockIdx.x : 0, blockIdx.y : 1, threadIdx.x : 0, gid: 8 - data : 32 \n",
            "blockIdx.x : 0, blockIdx.y : 1, threadIdx.x : 1, gid: 9 - data : 91 \n",
            "blockIdx.x : 0, blockIdx.y : 1, threadIdx.x : 2, gid: 10 - data : 43 \n",
            "blockIdx.x : 0, blockIdx.y : 1, threadIdx.x : 3, gid: 11 - data : 44 \n",
            "blockIdx.x : 1, blockIdx.y : 1, threadIdx.x : 0, gid: 12 - data : 54 \n",
            "blockIdx.x : 1, blockIdx.y : 1, threadIdx.x : 1, gid: 13 - data : 45 \n",
            "blockIdx.x : 1, blockIdx.y : 1, threadIdx.x : 2, gid: 14 - data : 15 \n",
            "blockIdx.x : 1, blockIdx.y : 1, threadIdx.x : 3, gid: 15 - data : 29 \n",
            "blockIdx.x : 0, blockIdx.y : 0, threadIdx.x : 0, gid: 0 - data : 13 \n",
            "blockIdx.x : 0, blockIdx.y : 0, threadIdx.x : 1, gid: 1 - data : 21 \n",
            "blockIdx.x : 0, blockIdx.y : 0, threadIdx.x : 2, gid: 2 - data : 34 \n",
            "blockIdx.x : 0, blockIdx.y : 0, threadIdx.x : 3, gid: 3 - data : 51 \n"
          ]
        }
      ]
    },
    {
      "cell_type": "code",
      "source": [],
      "metadata": {
        "id": "5wZm9610cmMc"
      },
      "execution_count": null,
      "outputs": []
    }
  ]
}