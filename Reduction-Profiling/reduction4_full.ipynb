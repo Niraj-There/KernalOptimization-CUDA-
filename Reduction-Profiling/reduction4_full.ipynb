{
  "nbformat": 4,
  "nbformat_minor": 0,
  "metadata": {
    "colab": {
      "provenance": [],
      "gpuType": "T4"
    },
    "kernelspec": {
      "name": "python3",
      "display_name": "Python 3"
    },
    "language_info": {
      "name": "python"
    },
    "accelerator": "GPU"
  },
  "cells": [
    {
      "cell_type": "code",
      "execution_count": 14,
      "metadata": {
        "colab": {
          "base_uri": "https://localhost:8080/"
        },
        "id": "kMPaIbZ2LnF3",
        "outputId": "d2aa75db-f63d-4fb6-fe3b-88e56c963f49"
      },
      "outputs": [
        {
          "output_type": "stream",
          "name": "stdout",
          "text": [
            "Writing four.cu\n"
          ]
        }
      ],
      "source": [
        "%%writefile four.cu\n",
        "#include <iostream>\n",
        "#include<cuda_runtime.h>\n",
        "#include <chrono>\n",
        "#include <numeric>\n",
        "\n",
        "// Adding this function to help with unrolling\n",
        "__device__ void warpReduce(volatile int* sdata, int tid){\n",
        "  // the aim is to save all the warps from useless work\n",
        "  sdata[tid] += sdata[tid + 32];\n",
        "  sdata[tid] += sdata[tid + 16];\n",
        "  sdata[tid] += sdata[tid + 8];\n",
        "  sdata[tid] += sdata[tid + 4];\n",
        "  sdata[tid] += sdata[tid + 2];\n",
        "  sdata[tid] += sdata[tid + 1];\n",
        "}\n",
        "\n",
        "// REDUCTION 4 – Unroll Last Warp\n",
        "__global__ void reduce4(int *g_in_data, int *g_out_data){\n",
        "    extern __shared__ int sdata[];  // stored in the shared memory\n",
        "\n",
        "    // Each thread loading one element from global onto shared memory\n",
        "    unsigned int tid = threadIdx.x;\n",
        "    unsigned int i = blockIdx.x*(blockDim.x*2) + threadIdx.x;\n",
        "    sdata[tid] = g_in_data[i] + g_in_data[i+blockDim.x];\n",
        "    __syncthreads();\n",
        "\n",
        "    // Reduction method -- occurs in shared memory\n",
        "    for(unsigned int s = blockDim.x/2; s > 32; s >>= 1){  // only changing the end limit\n",
        "        // check out the reverse loop above\n",
        "        if (tid < s){   // then, we check tid to do our computation\n",
        "            sdata[tid] += sdata[tid + s];\n",
        "        }\n",
        "        __syncthreads();\n",
        "    }\n",
        "\n",
        "    // Adding this to use warpReduce\n",
        "    if (tid < 32){\n",
        "      warpReduce(sdata, tid);\n",
        "    }\n",
        "\n",
        "    if (tid == 0){\n",
        "        g_out_data[blockIdx.x] = sdata[0];\n",
        "    }\n",
        "}\n",
        "\n",
        "// I hope to use this main file for all of the reduction files\n",
        "int main(){\n",
        "    int n = 1<<22; // Increase to about 4M elements\n",
        "    size_t bytes = n * sizeof(int);\n",
        "\n",
        "    // Host/CPU arrays\n",
        "    int *host_input_data = new int[n];\n",
        "    int *host_output_data = new int[(n + 255) / 256]; // to have sufficient size for output array\n",
        "\n",
        "    // Device/GPU arrays\n",
        "    int *dev_input_data, *dev_output_data;\n",
        "\n",
        "    // Init data\n",
        "    srand(42); // Fixed seed\n",
        "    for (int i = 0; i < n; i++){\n",
        "        host_input_data[i] = rand() % 100;\n",
        "    }\n",
        "\n",
        "    // Allocating memory on GPU for device arrays\n",
        "    cudaMalloc(&dev_input_data, bytes);\n",
        "    cudaMalloc(&dev_output_data, (n + 255) / 256 * sizeof(int));\n",
        "\n",
        "    // Copying our data onto the device (GPU)\n",
        "    cudaMemcpy(dev_input_data, host_input_data, bytes, cudaMemcpyHostToDevice);\n",
        "\n",
        "    int blockSize = 256; // number of threads per block\n",
        "\n",
        "    auto start = std::chrono::high_resolution_clock::now(); // start timer\n",
        "\n",
        "    // Launch Kernel and Synchronize threads\n",
        "    int num_blocks = (n + (2 * blockSize) - 1) / (2 * blockSize);   // Modifying this to account for the fact that 1 thread accesses 2 elements\n",
        "    cudaError_t err;\n",
        "    reduce4<<<num_blocks, blockSize, blockSize * sizeof(int)>>>(dev_input_data, dev_output_data);\n",
        "    err = cudaGetLastError();\n",
        "    if (err != cudaSuccess) {\n",
        "        std::cerr << \"CUDA error: \" << cudaGetErrorString(err) << std::endl;\n",
        "    }\n",
        "    cudaDeviceSynchronize();\n",
        "\n",
        "    auto stop = std::chrono::high_resolution_clock::now();\n",
        "    auto duration = std::chrono::duration_cast<std::chrono::microseconds>(stop - start).count() / 1000.0; // duration in milliseconds with three decimal points\n",
        "\n",
        "    // Copying data back to the host (CPU)\n",
        "    cudaMemcpy(host_output_data, dev_output_data, (n + 255) / 256 * sizeof(int), cudaMemcpyDeviceToHost);\n",
        "\n",
        "    // Final reduction on the host\n",
        "    int finalResult = host_output_data[0];\n",
        "    for (int i = 1; i < (n + 255) / 256; ++i) {\n",
        "        finalResult += host_output_data[i];\n",
        "    }\n",
        "\n",
        "    // CPU Summation for verification\n",
        "    int cpuResult = std::accumulate(host_input_data, host_input_data + n, 0);\n",
        "    if (cpuResult == finalResult) {\n",
        "        std::cout << \"\\033[32m\"; // Set text color to green\n",
        "        std::cout << \"Verification successful: GPU result matches CPU result.\\n\";\n",
        "        std::cout << \"GPU Result: \" << finalResult << \", CPU Result: \" << cpuResult << std::endl;\n",
        "    } else {\n",
        "        std::cout << \"\\033[31m\"; // Set text color to red\n",
        "        std::cout << \"Verification failed: GPU result (\" << finalResult << \") does not match CPU result (\" << cpuResult << \").\\n\";\n",
        "        std::cout << \"GPU Result: \" << finalResult << \", CPU Result: \" << cpuResult << std::endl;\n",
        "    }\n",
        "    std::cout << \"\\033[0m\"; // Reset text color to default\n",
        "\n",
        "    double bandwidth = (duration > 0) ? (bytes / duration / 1e6) : 0; // computed in GB/s, handling zero duration\n",
        "    std::cout << \"Reduced result: \" << finalResult << std::endl;\n",
        "    std::cout << \"Time elapsed: \" << duration << \" ms\" << std::endl;\n",
        "    std::cout << \"Effective bandwidth: \" << bandwidth << \" GB/s\" << std::endl;\n",
        "\n",
        "    // Freeing memory\n",
        "    cudaFree(dev_input_data);\n",
        "    cudaFree(dev_output_data);\n",
        "    delete[] host_input_data;\n",
        "    delete[] host_output_data;\n",
        "}"
      ]
    },
    {
      "cell_type": "code",
      "source": [
        "!nvcc -arch=sm_75 one.cu -o one"
      ],
      "metadata": {
        "id": "dLiyPHaehv3x"
      },
      "execution_count": 2,
      "outputs": []
    },
    {
      "cell_type": "code",
      "source": [
        "!./one"
      ],
      "metadata": {
        "colab": {
          "base_uri": "https://localhost:8080/"
        },
        "id": "H3SquRZDiGT2",
        "outputId": "25ca9f27-1924-4086-f97d-fd3d302bbe36"
      },
      "execution_count": 3,
      "outputs": [
        {
          "output_type": "stream",
          "name": "stdout",
          "text": [
            "\u001b[32mVerification successful: GPU result matches CPU result.\n",
            "GPU Result: 207451054, CPU Result: 207451054\n",
            "\u001b[0mReduced result: 207451054\n",
            "Time elapsed: 0.289 ms\n",
            "Effective bandwidth: 58.0527 GB/s\n"
          ]
        }
      ]
    },
    {
      "cell_type": "code",
      "source": [
        "!nvcc -arch=sm_75 two.cu -o two -O1 -lineinfo"
      ],
      "metadata": {
        "id": "YVlfg5LpiIPw"
      },
      "execution_count": 7,
      "outputs": []
    },
    {
      "cell_type": "code",
      "source": [
        "!./two"
      ],
      "metadata": {
        "colab": {
          "base_uri": "https://localhost:8080/"
        },
        "id": "klqgeIPnk2Mt",
        "outputId": "d2732a72-7dd0-4383-fa66-0777a6ad4f2b"
      },
      "execution_count": 8,
      "outputs": [
        {
          "output_type": "stream",
          "name": "stdout",
          "text": [
            "\u001b[32mVerification successful: GPU result matches CPU result.\n",
            "GPU Result: 207451054, CPU Result: 207451054\n",
            "\u001b[0mReduced result: 207451054\n",
            "Time elapsed: 0.26 ms\n",
            "Effective bandwidth: 64.5278 GB/s\n"
          ]
        }
      ]
    },
    {
      "cell_type": "code",
      "source": [
        "!nvcc -arch=sm_75 three.cu -o three -O2 -lineinfo"
      ],
      "metadata": {
        "id": "7v48E1uvk4Gx"
      },
      "execution_count": 12,
      "outputs": []
    },
    {
      "cell_type": "code",
      "source": [
        "!./three"
      ],
      "metadata": {
        "colab": {
          "base_uri": "https://localhost:8080/"
        },
        "id": "ey1B00wRlFmM",
        "outputId": "eac520cc-e4ae-41e2-f684-15f902280491"
      },
      "execution_count": 13,
      "outputs": [
        {
          "output_type": "stream",
          "name": "stdout",
          "text": [
            "\u001b[32mVerification successful: GPU result matches CPU result.\n",
            "GPU Result: 207451054, CPU Result: 207451054\n",
            "\u001b[0mReduced result: 207451054\n",
            "Time elapsed: 0.251 ms\n",
            "Effective bandwidth: 66.8415 GB/s\n"
          ]
        }
      ]
    },
    {
      "cell_type": "code",
      "source": [
        "!nvcc -arch=sm_75 four.cu -o four -O3 -lineinfo"
      ],
      "metadata": {
        "id": "1gPRhir6lH_6"
      },
      "execution_count": 17,
      "outputs": []
    },
    {
      "cell_type": "code",
      "source": [
        "!./four"
      ],
      "metadata": {
        "colab": {
          "base_uri": "https://localhost:8080/"
        },
        "id": "F-9cyA7ClPpd",
        "outputId": "fd57e97e-6084-42f2-c35b-7fe58ba21a5a"
      },
      "execution_count": 18,
      "outputs": [
        {
          "output_type": "stream",
          "name": "stdout",
          "text": [
            "\u001b[32mVerification successful: GPU result matches CPU result.\n",
            "GPU Result: 207451054, CPU Result: 207451054\n",
            "\u001b[0mReduced result: 207451054\n",
            "Time elapsed: 0.267 ms\n",
            "Effective bandwidth: 62.836 GB/s\n"
          ]
        }
      ]
    },
    {
      "cell_type": "code",
      "source": [
        "! set -x \\\n",
        "&& cd $(mktemp -d) \\\n",
        "&& wget https://developer.download.nvidia.com/compute/cuda/12.1.0/local_installers/cuda_12.1.0_530.30.02_linux.run \\\n",
        "&& sudo sh cuda_12.1.0_530.30.02_linux.run --silent --toolkit \\\n",
        "&& rm cuda_12.1.0_530.30.02_linux.run"
      ],
      "metadata": {
        "colab": {
          "base_uri": "https://localhost:8080/"
        },
        "id": "bgD5SQIIlRHP",
        "outputId": "677d1e04-ca0a-4111-93df-cd19e3026c7e"
      },
      "execution_count": 19,
      "outputs": [
        {
          "output_type": "stream",
          "name": "stdout",
          "text": [
            "++ mktemp -d\n",
            "+ cd /tmp/tmp.qNtcgCaA8h\n",
            "+ wget https://developer.download.nvidia.com/compute/cuda/12.1.0/local_installers/cuda_12.1.0_530.30.02_linux.run\n",
            "--2025-06-12 10:00:47--  https://developer.download.nvidia.com/compute/cuda/12.1.0/local_installers/cuda_12.1.0_530.30.02_linux.run\n",
            "Resolving developer.download.nvidia.com (developer.download.nvidia.com)... 23.213.43.207, 23.213.43.199\n",
            "Connecting to developer.download.nvidia.com (developer.download.nvidia.com)|23.213.43.207|:443... connected.\n",
            "HTTP request sent, awaiting response... 200 OK\n",
            "Length: 4245586997 (4.0G) [application/octet-stream]\n",
            "Saving to: ‘cuda_12.1.0_530.30.02_linux.run’\n",
            "\n",
            "cuda_12.1.0_530.30. 100%[===================>]   3.95G   152MB/s    in 25s     \n",
            "\n",
            "2025-06-12 10:01:13 (160 MB/s) - ‘cuda_12.1.0_530.30.02_linux.run’ saved [4245586997/4245586997]\n",
            "\n",
            "+ sudo sh cuda_12.1.0_530.30.02_linux.run --silent --toolkit\n",
            "+ rm cuda_12.1.0_530.30.02_linux.run\n"
          ]
        }
      ]
    },
    {
      "cell_type": "code",
      "source": [
        "import os\n",
        "os.environ['PATH'] = os.environ['PATH'] + ':/usr/local/cuda/bin/'"
      ],
      "metadata": {
        "id": "RzISZrtelbns"
      },
      "execution_count": 20,
      "outputs": []
    },
    {
      "cell_type": "code",
      "source": [
        "!ncu -o reduction_report_no ./one"
      ],
      "metadata": {
        "colab": {
          "base_uri": "https://localhost:8080/"
        },
        "id": "kJiOqPyjpjAz",
        "outputId": "2b5bbe69-8937-470c-aeb9-3fbdf9f5c22b"
      },
      "execution_count": 21,
      "outputs": [
        {
          "output_type": "stream",
          "name": "stdout",
          "text": [
            "==PROF== Connected to process 15242 (/content/one)\n",
            "==PROF== Profiling \"reduce4(int *, int *)\" - 0: 0%....50%....100% - 9 passes\n",
            "\u001b[32mVerification successful: GPU result matches CPU result.\n",
            "GPU Result: 207451054, CPU Result: 207451054\n",
            "\u001b[0mReduced result: 207451054\n",
            "Time elapsed: 519.042 ms\n",
            "Effective bandwidth: 0.0323234 GB/s\n",
            "==PROF== Disconnected from process 15242\n",
            "==PROF== Report: /content/reduction_report_no.ncu-rep\n"
          ]
        }
      ]
    },
    {
      "cell_type": "code",
      "source": [
        "!ncu -o reduction_report_o1 ./two"
      ],
      "metadata": {
        "colab": {
          "base_uri": "https://localhost:8080/"
        },
        "id": "r2ebMJ2DppHQ",
        "outputId": "a32bcdde-11bd-4a4d-ace0-9cba0dc18673"
      },
      "execution_count": 22,
      "outputs": [
        {
          "output_type": "stream",
          "name": "stdout",
          "text": [
            "==PROF== Connected to process 15430 (/content/two)\n",
            "==PROF== Profiling \"reduce4(int *, int *)\" - 0: 0%....50%....100% - 9 passes\n",
            "\u001b[32mVerification successful: GPU result matches CPU result.\n",
            "GPU Result: 207451054, CPU Result: 207451054\n",
            "\u001b[0mReduced result: 207451054\n",
            "Time elapsed: 306.407 ms\n",
            "Effective bandwidth: 0.0547547 GB/s\n",
            "==PROF== Disconnected from process 15430\n",
            "==PROF== Report: /content/reduction_report_o1.ncu-rep\n"
          ]
        }
      ]
    },
    {
      "cell_type": "code",
      "source": [
        "!ncu -o reduction_report_o2 ./three"
      ],
      "metadata": {
        "colab": {
          "base_uri": "https://localhost:8080/"
        },
        "id": "1GXV_3lcpvCM",
        "outputId": "d64f8b1a-d1cf-4356-ee5f-53739608bd78"
      },
      "execution_count": 23,
      "outputs": [
        {
          "output_type": "stream",
          "name": "stdout",
          "text": [
            "==PROF== Connected to process 15562 (/content/three)\n",
            "==PROF== Profiling \"reduce4(int *, int *)\" - 0: 0%....50%....100% - 9 passes\n",
            "\u001b[32mVerification successful: GPU result matches CPU result.\n",
            "GPU Result: 207451054, CPU Result: 207451054\n",
            "\u001b[0mReduced result: 207451054\n",
            "Time elapsed: 306.277 ms\n",
            "Effective bandwidth: 0.0547779 GB/s\n",
            "==PROF== Disconnected from process 15562\n",
            "==PROF== Report: /content/reduction_report_o2.ncu-rep\n"
          ]
        }
      ]
    },
    {
      "cell_type": "code",
      "source": [
        "!ncu -o reduction_report_o3 ./four"
      ],
      "metadata": {
        "colab": {
          "base_uri": "https://localhost:8080/"
        },
        "id": "PVYRVu8QpyY_",
        "outputId": "f165b8d1-d332-4a57-994d-b2ce0d38fec3"
      },
      "execution_count": 24,
      "outputs": [
        {
          "output_type": "stream",
          "name": "stdout",
          "text": [
            "==PROF== Connected to process 15688 (/content/four)\n",
            "==PROF== Profiling \"reduce4(int *, int *)\" - 0: 0%....50%....100% - 9 passes\n",
            "\u001b[32mVerification successful: GPU result matches CPU result.\n",
            "GPU Result: 207451054, CPU Result: 207451054\n",
            "\u001b[0mReduced result: 207451054\n",
            "Time elapsed: 311.224 ms\n",
            "Effective bandwidth: 0.0539072 GB/s\n",
            "==PROF== Disconnected from process 15688\n",
            "==PROF== Report: /content/reduction_report_o3.ncu-rep\n"
          ]
        }
      ]
    },
    {
      "cell_type": "code",
      "source": [
        "!nsys profile ./one"
      ],
      "metadata": {
        "colab": {
          "base_uri": "https://localhost:8080/"
        },
        "id": "OD7Ucflkp1mV",
        "outputId": "5abf6cf8-0677-441b-c4a9-35812bd96ef4"
      },
      "execution_count": 25,
      "outputs": [
        {
          "output_type": "stream",
          "name": "stdout",
          "text": [
            "\u001b[32mVerification successful: GPU result matches CPU result.\n",
            "GPU Result: 207451054, CPU Result: 207451054\n",
            "\u001b[0mReduced result: 207451054\n",
            "Time elapsed: 1.503 ms\n",
            "Effective bandwidth: 11.1625 GB/s\n",
            "Generating '/tmp/nsys-report-18d1.qdstrm'\n",
            "[1/1] [========================100%] report1.nsys-rep\n",
            "Generated:\n",
            "    /content/report1.nsys-rep\n"
          ]
        }
      ]
    },
    {
      "cell_type": "code",
      "source": [
        "!nsys stats report1.nsys-rep"
      ],
      "metadata": {
        "colab": {
          "base_uri": "https://localhost:8080/"
        },
        "id": "zRqw5c58p-74",
        "outputId": "6456e678-8b7c-4322-f31f-643b34b2af83"
      },
      "execution_count": 26,
      "outputs": [
        {
          "output_type": "stream",
          "name": "stdout",
          "text": [
            "Generating SQLite file report1.sqlite from report1.nsys-rep\n",
            "\rExporting 1650 events: [1%                                                     ]\rExporting 1650 events: [2%                                                     ]\rExporting 1650 events: [3%                                                     ]\rExporting 1650 events: [4%                                                     ]\rExporting 1650 events: [5%                                                     ]\rExporting 1650 events: [=6%                                                    ]\rExporting 1650 events: [=7%                                                    ]\rExporting 1650 events: [==8%                                                   ]\rExporting 1650 events: [==9%                                                   ]\rExporting 1650 events: [==10%                                                  ]\rExporting 1650 events: [===11%                                                 ]\rExporting 1650 events: [===12%                                                 ]\rExporting 1650 events: [====13%                                                ]\rExporting 1650 events: [====14%                                                ]\rExporting 1650 events: [=====15%                                               ]\rExporting 1650 events: [=====16%                                               ]\rExporting 1650 events: [======17%                                              ]\rExporting 1650 events: [======18%                                              ]\rExporting 1650 events: [=======19%                                             ]\rExporting 1650 events: [========20%                                            ]\rExporting 1650 events: [========21%                                            ]\rExporting 1650 events: [=========22%                                           ]\rExporting 1650 events: [=========23%                                           ]\rExporting 1650 events: [==========24%                                          ]\rExporting 1650 events: [==========25%                                          ]\rExporting 1650 events: [===========26%                                         ]\rExporting 1650 events: [===========27%                                         ]\rExporting 1650 events: [============28%                                        ]\rExporting 1650 events: [============29%                                        ]\rExporting 1650 events: [=============30%                                       ]\rExporting 1650 events: [==============31%                                      ]\rExporting 1650 events: [==============32%                                      ]\rExporting 1650 events: [===============33%                                     ]\rExporting 1650 events: [===============34%                                     ]\rExporting 1650 events: [================35%                                    ]\rExporting 1650 events: [================36%                                    ]\rExporting 1650 events: [=================37%                                   ]\rExporting 1650 events: [=================38%                                   ]\rExporting 1650 events: [==================39%                                  ]\rExporting 1650 events: [===================40%                                 ]\rExporting 1650 events: [===================41%                                 ]\rExporting 1650 events: [====================42%                                ]\rExporting 1650 events: [====================43%                                ]\rExporting 1650 events: [=====================44%                               ]\rExporting 1650 events: [=====================45%                               ]\rExporting 1650 events: [======================46%                              ]\rExporting 1650 events: [======================47%                              ]\rExporting 1650 events: [=======================48%                             ]\rExporting 1650 events: [=======================49%                             ]\rExporting 1650 events: [========================50%                            ]\rExporting 1650 events: [=========================51%                           ]\rExporting 1650 events: [=========================52%                           ]\rExporting 1650 events: [==========================53%                          ]\rExporting 1650 events: [==========================54%                          ]\rExporting 1650 events: [===========================55%                         ]\rExporting 1650 events: [===========================56%                         ]\rExporting 1650 events: [============================57%                        ]\rExporting 1650 events: [============================58%                        ]\rExporting 1650 events: [=============================59%                       ]\rExporting 1650 events: [==============================60%                      ]\rExporting 1650 events: [==============================61%                      ]\rExporting 1650 events: [===============================62%                     ]\rExporting 1650 events: [===============================63%                     ]\rExporting 1650 events: [================================64%                    ]\rExporting 1650 events: [================================65%                    ]\rExporting 1650 events: [=================================66%                   ]\rExporting 1650 events: [=================================67%                   ]\rExporting 1650 events: [==================================68%                  ]\rExporting 1650 events: [==================================69%                  ]\rExporting 1650 events: [===================================70%                 ]\rExporting 1650 events: [====================================71%                ]\rExporting 1650 events: [====================================72%                ]\rExporting 1650 events: [=====================================73%               ]\rExporting 1650 events: [=====================================74%               ]\rExporting 1650 events: [======================================75%              ]\rExporting 1650 events: [======================================76%              ]\rExporting 1650 events: [=======================================77%             ]\rExporting 1650 events: [=======================================78%             ]\rExporting 1650 events: [========================================79%            ]\rExporting 1650 events: [=========================================80%           ]\rExporting 1650 events: [=========================================81%           ]\rExporting 1650 events: [==========================================82%          ]\rExporting 1650 events: [==========================================83%          ]\rExporting 1650 events: [===========================================84%         ]\rExporting 1650 events: [===========================================85%         ]\rExporting 1650 events: [============================================86%        ]\rExporting 1650 events: [============================================87%        ]\rExporting 1650 events: [=============================================88%       ]\rExporting 1650 events: [=============================================89%       ]\rExporting 1650 events: [==============================================90%      ]\rExporting 1650 events: [===============================================91%     ]\rExporting 1650 events: [===============================================92%     ]\rExporting 1650 events: [================================================93%    ]\rExporting 1650 events: [================================================94%    ]\rExporting 1650 events: [=================================================95%   ]\rExporting 1650 events: [=================================================96%   ]\rExporting 1650 events: [==================================================97%  ]\rExporting 1650 events: [==================================================98%  ]\rExporting 1650 events: [===================================================99% ]\rExporting 1650 events: [===================================================100%]\n",
            "Processing [report1.sqlite] with [/usr/local/cuda-12.1/nsight-systems-2023.1.2/host-linux-x64/reports/nvtx_sum.py]... \n",
            "SKIPPED: report1.sqlite does not contain NV Tools Extension (NVTX) data.\n",
            "\n",
            "Processing [report1.sqlite] with [/usr/local/cuda-12.1/nsight-systems-2023.1.2/host-linux-x64/reports/osrt_sum.py]... \n",
            "\n",
            " ** OS Runtime Summary (osrt_sum):\n",
            "\n",
            " Time (%)  Total Time (ns)  Num Calls    Avg (ns)       Med (ns)     Min (ns)    Max (ns)     StdDev (ns)            Name         \n",
            " --------  ---------------  ---------  -------------  -------------  ---------  -----------  -------------  ----------------------\n",
            "     43.8      555,701,642          2  277,850,821.0  277,850,821.0  2,099,304  553,602,338  389,971,535.2  sem_wait              \n",
            "     42.1      534,373,948         14   38,169,567.7    2,851,975.5      2,444  333,351,323   89,351,036.7  poll                  \n",
            "     13.0      165,128,288        536      308,075.2       12,929.0        517  112,187,816    4,895,986.9  ioctl                 \n",
            "      0.7        9,468,495          2    4,734,247.5    4,734,247.5      2,234    9,466,261    6,692,077.7  pthread_cond_broadcast\n",
            "      0.2        2,536,742         31       81,830.4       13,459.0      9,658    1,798,562      319,200.4  mmap64                \n",
            "      0.0          431,733          7       61,676.1       61,364.0     48,422       87,458       13,447.0  sem_timedwait         \n",
            "      0.0          403,271         49        8,230.0        7,658.0      2,323       17,330        2,957.3  open64                \n",
            "      0.0          302,012         47        6,425.8        4,411.0      1,331       33,131        6,279.0  fopen                 \n",
            "      0.0          248,668          4       62,167.0       63,488.5     46,670       75,021       12,569.2  pthread_create        \n",
            "      0.0          196,256         16       12,266.0        9,038.5      2,217       56,589       13,473.1  mmap                  \n",
            "      0.0          110,991         12        9,249.3        7,617.0      1,369       24,303        6,028.8  write                 \n",
            "      0.0          104,006          1      104,006.0      104,006.0    104,006      104,006            0.0  pthread_cond_wait     \n",
            "      0.0           83,646         45        1,858.8           96.0         46       36,913        6,590.0  fgets                 \n",
            "      0.0           76,350         39        1,957.7        1,478.0        841        7,672        1,380.7  fclose                \n",
            "      0.0           59,781          6        9,963.5       10,065.5      8,002       11,900        1,856.7  munmap                \n",
            "      0.0           35,512          6        5,918.7        5,205.5      1,975       10,232        3,386.4  open                  \n",
            "      0.0           34,654         64          541.5          534.5        184        1,348          213.4  fcntl                 \n",
            "      0.0           28,470         17        1,674.7          107.0         54       10,529        3,257.5  fwrite                \n",
            "      0.0           24,692         16        1,543.3        1,432.5        481        3,334          824.1  read                  \n",
            "      0.0           19,985          2        9,992.5        9,992.5      7,042       12,943        4,172.6  socket                \n",
            "      0.0           17,352          3        5,784.0        5,671.0      3,432        8,249        2,410.5  pipe2                 \n",
            "      0.0            8,648          1        8,648.0        8,648.0      8,648        8,648            0.0  connect               \n",
            "      0.0            7,383          1        7,383.0        7,383.0      7,383        7,383            0.0  fopen64               \n",
            "      0.0            3,543          4          885.8          730.5        622        1,460          386.2  putc                  \n",
            "      0.0            2,711          8          338.9          335.0        264          416           45.6  dup                   \n",
            "      0.0            1,933         20           96.7           39.0         35          420          122.4  fflush                \n",
            "      0.0            1,424          1        1,424.0        1,424.0      1,424        1,424            0.0  bind                  \n",
            "      0.0              919          1          919.0          919.0        919          919            0.0  listen                \n",
            "\n",
            "Processing [report1.sqlite] with [/usr/local/cuda-12.1/nsight-systems-2023.1.2/host-linux-x64/reports/cuda_api_sum.py]... \n",
            "\n",
            " ** CUDA API Summary (cuda_api_sum):\n",
            "\n",
            " Time (%)  Total Time (ns)  Num Calls    Avg (ns)       Med (ns)     Min (ns)    Max (ns)     StdDev (ns)            Name         \n",
            " --------  ---------------  ---------  -------------  -------------  ---------  -----------  -------------  ----------------------\n",
            "     97.1      203,112,165          2  101,556,082.5  101,556,082.5     85,031  203,027,134  143,501,737.2  cudaMalloc            \n",
            "      1.8        3,749,654          2    1,874,827.0    1,874,827.0     80,462    3,669,192    2,537,615.3  cudaMemcpy            \n",
            "      0.6        1,351,793          1    1,351,793.0    1,351,793.0  1,351,793    1,351,793            0.0  cudaLaunchKernel      \n",
            "      0.4          880,880          2      440,440.0      440,440.0    150,163      730,717      410,513.7  cudaFree              \n",
            "      0.1          143,220          1      143,220.0      143,220.0    143,220      143,220            0.0  cudaDeviceSynchronize \n",
            "      0.0            1,913          1        1,913.0        1,913.0      1,913        1,913            0.0  cuModuleGetLoadingMode\n",
            "\n",
            "Processing [report1.sqlite] with [/usr/local/cuda-12.1/nsight-systems-2023.1.2/host-linux-x64/reports/cuda_gpu_kern_sum.py]... \n",
            "\n",
            " ** CUDA GPU Kernel Summary (cuda_gpu_kern_sum):\n",
            "\n",
            " Time (%)  Total Time (ns)  Instances  Avg (ns)   Med (ns)   Min (ns)  Max (ns)  StdDev (ns)          Name         \n",
            " --------  ---------------  ---------  ---------  ---------  --------  --------  -----------  ---------------------\n",
            "    100.0          144,925          1  144,925.0  144,925.0   144,925   144,925          0.0  reduce4(int *, int *)\n",
            "\n",
            "Processing [report1.sqlite] with [/usr/local/cuda-12.1/nsight-systems-2023.1.2/host-linux-x64/reports/cuda_gpu_mem_time_sum.py]... \n",
            "\n",
            " ** CUDA GPU MemOps Summary (by Time) (cuda_gpu_mem_time_sum):\n",
            "\n",
            " Time (%)  Total Time (ns)  Count   Avg (ns)     Med (ns)    Min (ns)   Max (ns)   StdDev (ns)      Operation     \n",
            " --------  ---------------  -----  -----------  -----------  ---------  ---------  -----------  ------------------\n",
            "     99.8        3,503,738      1  3,503,738.0  3,503,738.0  3,503,738  3,503,738          0.0  [CUDA memcpy HtoD]\n",
            "      0.2            7,424      1      7,424.0      7,424.0      7,424      7,424          0.0  [CUDA memcpy DtoH]\n",
            "\n",
            "Processing [report1.sqlite] with [/usr/local/cuda-12.1/nsight-systems-2023.1.2/host-linux-x64/reports/cuda_gpu_mem_size_sum.py]... \n",
            "\n",
            " ** CUDA GPU MemOps Summary (by Size) (cuda_gpu_mem_size_sum):\n",
            "\n",
            " Total (MB)  Count  Avg (MB)  Med (MB)  Min (MB)  Max (MB)  StdDev (MB)      Operation     \n",
            " ----------  -----  --------  --------  --------  --------  -----------  ------------------\n",
            "     16.777      1    16.777    16.777    16.777    16.777        0.000  [CUDA memcpy HtoD]\n",
            "      0.066      1     0.066     0.066     0.066     0.066        0.000  [CUDA memcpy DtoH]\n",
            "\n",
            "Processing [report1.sqlite] with [/usr/local/cuda-12.1/nsight-systems-2023.1.2/host-linux-x64/reports/openmp_sum.py]... \n",
            "SKIPPED: report1.sqlite does not contain OpenMP event data.\n",
            "\n",
            "Processing [report1.sqlite] with [/usr/local/cuda-12.1/nsight-systems-2023.1.2/host-linux-x64/reports/opengl_khr_range_sum.py]... \n",
            "SKIPPED: report1.sqlite does not contain KHR Extension (KHR_DEBUG) data.\n",
            "\n",
            "Processing [report1.sqlite] with [/usr/local/cuda-12.1/nsight-systems-2023.1.2/host-linux-x64/reports/opengl_khr_gpu_range_sum.py]... \n",
            "SKIPPED: report1.sqlite does not contain GPU KHR Extension (KHR_DEBUG) data.\n",
            "\n",
            "Processing [report1.sqlite] with [/usr/local/cuda-12.1/nsight-systems-2023.1.2/host-linux-x64/reports/vulkan_marker_sum.py]... \n",
            "SKIPPED: report1.sqlite does not contain Vulkan Debug Extension (Vulkan Debug Util) data.\n",
            "\n",
            "Processing [report1.sqlite] with [/usr/local/cuda-12.1/nsight-systems-2023.1.2/host-linux-x64/reports/vulkan_gpu_marker_sum.py]... \n",
            "SKIPPED: report1.sqlite does not contain GPU Vulkan Debug Extension (GPU Vulkan Debug markers) data.\n",
            "\n",
            "Processing [report1.sqlite] with [/usr/local/cuda-12.1/nsight-systems-2023.1.2/host-linux-x64/reports/dx11_pix_sum.py]... \n",
            "SKIPPED: report1.sqlite does not contain DX11 CPU debug markers.\n",
            "\n",
            "Processing [report1.sqlite] with [/usr/local/cuda-12.1/nsight-systems-2023.1.2/host-linux-x64/reports/dx12_gpu_marker_sum.py]... \n",
            "SKIPPED: report1.sqlite does not contain DX12 GPU debug markers.\n",
            "\n",
            "Processing [report1.sqlite] with [/usr/local/cuda-12.1/nsight-systems-2023.1.2/host-linux-x64/reports/dx12_pix_sum.py]... \n",
            "SKIPPED: report1.sqlite does not contain DX12 CPU debug markers.\n",
            "\n",
            "Processing [report1.sqlite] with [/usr/local/cuda-12.1/nsight-systems-2023.1.2/host-linux-x64/reports/wddm_queue_sum.py]... \n",
            "SKIPPED: report1.sqlite does not contain WDDM context data.\n",
            "\n",
            "Processing [report1.sqlite] with [/usr/local/cuda-12.1/nsight-systems-2023.1.2/host-linux-x64/reports/um_sum.py]... \n",
            "SKIPPED: report1.sqlite does not contain CUDA Unified Memory CPU page faults data.\n",
            "\n",
            "Processing [report1.sqlite] with [/usr/local/cuda-12.1/nsight-systems-2023.1.2/host-linux-x64/reports/um_total_sum.py]... \n",
            "SKIPPED: report1.sqlite does not contain CUDA Unified Memory CPU page faults data.\n",
            "\n",
            "Processing [report1.sqlite] with [/usr/local/cuda-12.1/nsight-systems-2023.1.2/host-linux-x64/reports/um_cpu_page_faults_sum.py]... \n",
            "SKIPPED: report1.sqlite does not contain CUDA Unified Memory CPU page faults data.\n",
            "\n",
            "Processing [report1.sqlite] with [/usr/local/cuda-12.1/nsight-systems-2023.1.2/host-linux-x64/reports/openacc_sum.py]... \n",
            "SKIPPED: report1.sqlite does not contain OpenACC event data.\n",
            "\n"
          ]
        }
      ]
    },
    {
      "cell_type": "code",
      "source": [
        "!nvprof ./one"
      ],
      "metadata": {
        "colab": {
          "base_uri": "https://localhost:8080/"
        },
        "id": "tDmY05hyqEeO",
        "outputId": "c803bc09-b8cd-44d2-a695-f06c1d52b7e9"
      },
      "execution_count": 27,
      "outputs": [
        {
          "output_type": "stream",
          "name": "stdout",
          "text": [
            "==16898== NVPROF is profiling process 16898, command: ./one\n",
            "\u001b[32mVerification successful: GPU result matches CPU result.\n",
            "GPU Result: 207451054, CPU Result: 207451054\n",
            "\u001b[0mReduced result: 207451054\n",
            "Time elapsed: 0.283 ms\n",
            "Effective bandwidth: 59.2834 GB/s\n",
            "==16898== Profiling application: ./one\n",
            "==16898== Profiling result:\n",
            "            Type  Time(%)      Time     Calls       Avg       Min       Max  Name\n",
            " GPU activities:   95.80%  3.4669ms         1  3.4669ms  3.4669ms  3.4669ms  [CUDA memcpy HtoD]\n",
            "                    4.00%  144.77us         1  144.77us  144.77us  144.77us  reduce4(int*, int*)\n",
            "                    0.20%  7.3920us         1  7.3920us  7.3920us  7.3920us  [CUDA memcpy DtoH]\n",
            "      API calls:   97.47%  194.50ms         2  97.248ms  76.351us  194.42ms  cudaMalloc\n",
            "                    1.86%  3.7016ms         2  1.8508ms  74.133us  3.6275ms  cudaMemcpy\n",
            "                    0.44%  871.24us         2  435.62us  137.39us  733.85us  cudaFree\n",
            "                    0.08%  164.22us       114  1.4400us     130ns  75.318us  cuDeviceGetAttribute\n",
            "                    0.07%  145.77us         1  145.77us  145.77us  145.77us  cudaDeviceSynchronize\n",
            "                    0.07%  131.76us         1  131.76us  131.76us  131.76us  cudaLaunchKernel\n",
            "                    0.01%  11.730us         1  11.730us  11.730us  11.730us  cuDeviceGetName\n",
            "                    0.00%  7.0680us         1  7.0680us  7.0680us  7.0680us  cuDeviceGetPCIBusId\n",
            "                    0.00%  2.1190us         3     706ns     225ns  1.4860us  cuDeviceGetCount\n",
            "                    0.00%  1.4740us         2     737ns     280ns  1.1940us  cuDeviceGet\n",
            "                    0.00%     657ns         1     657ns     657ns     657ns  cuModuleGetLoadingMode\n",
            "                    0.00%     517ns         1     517ns     517ns     517ns  cudaGetLastError\n",
            "                    0.00%     393ns         1     393ns     393ns     393ns  cuDeviceTotalMem\n",
            "                    0.00%     239ns         1     239ns     239ns     239ns  cuDeviceGetUuid\n"
          ]
        }
      ]
    },
    {
      "cell_type": "code",
      "source": [
        "!nvprof ./two"
      ],
      "metadata": {
        "colab": {
          "base_uri": "https://localhost:8080/"
        },
        "id": "OUfyoK8uqkFS",
        "outputId": "7d88c4c9-4557-4c22-9a66-25fffd0c68e7"
      },
      "execution_count": 28,
      "outputs": [
        {
          "output_type": "stream",
          "name": "stdout",
          "text": [
            "==16958== NVPROF is profiling process 16958, command: ./two\n",
            "\u001b[32mVerification successful: GPU result matches CPU result.\n",
            "GPU Result: 207451054, CPU Result: 207451054\n",
            "\u001b[0mReduced result: 207451054\n",
            "Time elapsed: 0.275 ms\n",
            "Effective bandwidth: 61.0081 GB/s\n",
            "==16958== Profiling application: ./two\n",
            "==16958== Profiling result:\n",
            "            Type  Time(%)      Time     Calls       Avg       Min       Max  Name\n",
            " GPU activities:   95.76%  3.4418ms         1  3.4418ms  3.4418ms  3.4418ms  [CUDA memcpy HtoD]\n",
            "                    4.03%  144.89us         1  144.89us  144.89us  144.89us  reduce4(int*, int*)\n",
            "                    0.21%  7.3920us         1  7.3920us  7.3920us  7.3920us  [CUDA memcpy DtoH]\n",
            "      API calls:   97.55%  198.24ms         2  99.119ms  85.607us  198.15ms  cudaMalloc\n",
            "                    1.81%  3.6849ms         2  1.8424ms  78.844us  3.6060ms  cudaMemcpy\n",
            "                    0.42%  854.63us         2  427.32us  131.55us  723.08us  cudaFree\n",
            "                    0.07%  146.61us         1  146.61us  146.61us  146.61us  cudaDeviceSynchronize\n",
            "                    0.07%  135.75us       114  1.1900us     142ns  53.457us  cuDeviceGetAttribute\n",
            "                    0.06%  122.09us         1  122.09us  122.09us  122.09us  cudaLaunchKernel\n",
            "                    0.01%  29.241us         1  29.241us  29.241us  29.241us  cuDeviceGetName\n",
            "                    0.00%  5.8870us         1  5.8870us  5.8870us  5.8870us  cuDeviceGetPCIBusId\n",
            "                    0.00%  2.0020us         3     667ns     173ns  1.5620us  cuDeviceGetCount\n",
            "                    0.00%     957ns         2     478ns     180ns     777ns  cuDeviceGet\n",
            "                    0.00%     586ns         1     586ns     586ns     586ns  cuModuleGetLoadingMode\n",
            "                    0.00%     553ns         1     553ns     553ns     553ns  cudaGetLastError\n",
            "                    0.00%     510ns         1     510ns     510ns     510ns  cuDeviceTotalMem\n",
            "                    0.00%     243ns         1     243ns     243ns     243ns  cuDeviceGetUuid\n"
          ]
        }
      ]
    },
    {
      "cell_type": "code",
      "source": [
        "!nvprof ./three"
      ],
      "metadata": {
        "colab": {
          "base_uri": "https://localhost:8080/"
        },
        "id": "f99_ZjAmqmEy",
        "outputId": "cf284f74-63d4-4058-9fda-f44ac432a8e1"
      },
      "execution_count": 29,
      "outputs": [
        {
          "output_type": "stream",
          "name": "stdout",
          "text": [
            "==16996== NVPROF is profiling process 16996, command: ./three\n",
            "\u001b[32mVerification successful: GPU result matches CPU result.\n",
            "GPU Result: 207451054, CPU Result: 207451054\n",
            "\u001b[0mReduced result: 207451054\n",
            "Time elapsed: 0.271 ms\n",
            "Effective bandwidth: 61.9085 GB/s\n",
            "==16996== Profiling application: ./three\n",
            "==16996== Profiling result:\n",
            "            Type  Time(%)      Time     Calls       Avg       Min       Max  Name\n",
            " GPU activities:   95.70%  3.3853ms         1  3.3853ms  3.3853ms  3.3853ms  [CUDA memcpy HtoD]\n",
            "                    4.09%  144.67us         1  144.67us  144.67us  144.67us  reduce4(int*, int*)\n",
            "                    0.21%  7.3600us         1  7.3600us  7.3600us  7.3600us  [CUDA memcpy DtoH]\n",
            "      API calls:   97.53%  195.04ms         2  97.520ms  73.811us  194.97ms  cudaMalloc\n",
            "                    1.83%  3.6539ms         2  1.8269ms  72.007us  3.5819ms  cudaMemcpy\n",
            "                    0.43%  859.07us         2  429.54us  134.99us  724.09us  cudaFree\n",
            "                    0.07%  144.85us         1  144.85us  144.85us  144.85us  cudaDeviceSynchronize\n",
            "                    0.07%  132.34us       114  1.1600us     137ns  53.108us  cuDeviceGetAttribute\n",
            "                    0.06%  119.67us         1  119.67us  119.67us  119.67us  cudaLaunchKernel\n",
            "                    0.01%  11.330us         1  11.330us  11.330us  11.330us  cuDeviceGetName\n",
            "                    0.00%  6.0790us         1  6.0790us  6.0790us  6.0790us  cuDeviceGetPCIBusId\n",
            "                    0.00%  1.6560us         3     552ns     161ns  1.2070us  cuDeviceGetCount\n",
            "                    0.00%     778ns         2     389ns     186ns     592ns  cuDeviceGet\n",
            "                    0.00%     662ns         1     662ns     662ns     662ns  cuModuleGetLoadingMode\n",
            "                    0.00%     607ns         1     607ns     607ns     607ns  cudaGetLastError\n",
            "                    0.00%     450ns         1     450ns     450ns     450ns  cuDeviceTotalMem\n",
            "                    0.00%     219ns         1     219ns     219ns     219ns  cuDeviceGetUuid\n"
          ]
        }
      ]
    },
    {
      "cell_type": "code",
      "source": [
        "!nvprof ./four"
      ],
      "metadata": {
        "colab": {
          "base_uri": "https://localhost:8080/"
        },
        "id": "yGWxNKDfqnVc",
        "outputId": "c463bb0c-9a6b-4756-c23a-1be39661975f"
      },
      "execution_count": 30,
      "outputs": [
        {
          "output_type": "stream",
          "name": "stdout",
          "text": [
            "==17040== NVPROF is profiling process 17040, command: ./four\n",
            "\u001b[32mVerification successful: GPU result matches CPU result.\n",
            "GPU Result: 207451054, CPU Result: 207451054\n",
            "\u001b[0mReduced result: 207451054\n",
            "Time elapsed: 0.282 ms\n",
            "Effective bandwidth: 59.4937 GB/s\n",
            "==17040== Profiling application: ./four\n",
            "==17040== Profiling result:\n",
            "            Type  Time(%)      Time     Calls       Avg       Min       Max  Name\n",
            " GPU activities:   95.80%  3.4735ms         1  3.4735ms  3.4735ms  3.4735ms  [CUDA memcpy HtoD]\n",
            "                    3.99%  144.83us         1  144.83us  144.83us  144.83us  reduce4(int*, int*)\n",
            "                    0.20%  7.3600us         1  7.3600us  7.3600us  7.3600us  [CUDA memcpy DtoH]\n",
            "      API calls:   97.67%  210.29ms         2  105.14ms  75.740us  210.21ms  cudaMalloc\n",
            "                    1.72%  3.7113ms         2  1.8556ms  72.996us  3.6383ms  cudaMemcpy\n",
            "                    0.40%  855.61us         2  427.80us  138.09us  717.52us  cudaFree\n",
            "                    0.08%  164.27us       114  1.4400us     136ns  85.740us  cuDeviceGetAttribute\n",
            "                    0.07%  146.14us         1  146.14us  146.14us  146.14us  cudaDeviceSynchronize\n",
            "                    0.06%  127.85us         1  127.85us  127.85us  127.85us  cudaLaunchKernel\n",
            "                    0.01%  11.479us         1  11.479us  11.479us  11.479us  cuDeviceGetName\n",
            "                    0.00%  5.2530us         1  5.2530us  5.2530us  5.2530us  cuDeviceGetPCIBusId\n",
            "                    0.00%  1.4800us         3     493ns     230ns     975ns  cuDeviceGetCount\n",
            "                    0.00%  1.0800us         2     540ns     178ns     902ns  cuDeviceGet\n",
            "                    0.00%     729ns         1     729ns     729ns     729ns  cuModuleGetLoadingMode\n",
            "                    0.00%     641ns         1     641ns     641ns     641ns  cudaGetLastError\n",
            "                    0.00%     500ns         1     500ns     500ns     500ns  cuDeviceTotalMem\n",
            "                    0.00%     258ns         1     258ns     258ns     258ns  cuDeviceGetUuid\n"
          ]
        }
      ]
    },
    {
      "cell_type": "code",
      "source": [],
      "metadata": {
        "id": "gdn04abmqoqo"
      },
      "execution_count": null,
      "outputs": []
    }
  ]
}