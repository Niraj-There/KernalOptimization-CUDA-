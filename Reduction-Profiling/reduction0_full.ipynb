{
  "nbformat": 4,
  "nbformat_minor": 0,
  "metadata": {
    "colab": {
      "provenance": [],
      "gpuType": "T4"
    },
    "kernelspec": {
      "name": "python3",
      "display_name": "Python 3"
    },
    "language_info": {
      "name": "python"
    },
    "accelerator": "GPU"
  },
  "cells": [
    {
      "cell_type": "code",
      "execution_count": null,
      "metadata": {
        "colab": {
          "base_uri": "https://localhost:8080/"
        },
        "id": "Zrwc0QinoZQV",
        "outputId": "d1571b91-5de7-43f4-8d11-88adbe7a1517"
      },
      "outputs": [
        {
          "output_type": "stream",
          "name": "stdout",
          "text": [
            "Writing one.cu\n"
          ]
        }
      ],
      "source": [
        "%%writefile one.cu\n",
        "\n",
        "#include <iostream>\n",
        "#include <cuda_runtime.h>\n",
        "#include <chrono>\n",
        "#include <numeric>\n",
        "\n",
        "// Reduction 0 - Interleaved Addressing with branch divergence\n",
        "__global__ void reduce0(int *g_in_data, int *g_out_data){\n",
        "    extern __shared__ int sdata[];  // stored in the shared memory\n",
        "\n",
        "    // Each thread loading one element from global onto shared memory\n",
        "    unsigned int tid = threadIdx.x;\n",
        "    unsigned int i = blockIdx.x * blockDim.x + threadIdx.x;\n",
        "    sdata[tid] = g_in_data[i];\n",
        "    __syncthreads();\n",
        "\n",
        "    // Reduction method -- occurs in shared memory\n",
        "    for(unsigned int s = 1; s < blockDim.x; s  *= 2){\n",
        "        if (tid % (2 * s) == 0) {\n",
        "            sdata[tid] += sdata[tid + s];\n",
        "        }\n",
        "        __syncthreads();\n",
        "    }\n",
        "    if (tid == 0){\n",
        "        g_out_data[blockIdx.x] = sdata[0];\n",
        "    }\n",
        "}\n",
        "\n",
        "// I hope to use this main file for all of the reduction files\n",
        "int main(){\n",
        "    int n = 1 << 22; // Increase to about 4M elements\n",
        "    size_t bytes = n * sizeof(int);\n",
        "\n",
        "    // Host/CPU arrays\n",
        "    int *host_input_data = new int[n];\n",
        "    int *host_output_data = new int[(n + 255) / 256]; // to have sufficient size for output array\n",
        "\n",
        "    // Device/GPU arrays\n",
        "    int *dev_input_data, *dev_output_data;\n",
        "\n",
        "    // Init data\n",
        "    srand(42); // Fixed seed\n",
        "    for (int i = 0; i < n; i++){\n",
        "        host_input_data[i] = rand() % 100;\n",
        "    }\n",
        "\n",
        "    // Allocating memory on GPU for device arrays\n",
        "    cudaMalloc(&dev_input_data, bytes);\n",
        "    cudaMalloc(&dev_output_data, (n + 255) / 256 * sizeof(int));\n",
        "\n",
        "    // Copying our data onto the device (GPU)\n",
        "    cudaMemcpy(dev_input_data, host_input_data, bytes, cudaMemcpyHostToDevice);\n",
        "\n",
        "    int blockSize = 256; // number of threads per block\n",
        "\n",
        "    auto start = std::chrono::high_resolution_clock::now(); // start timer\n",
        "\n",
        "    // Launch Kernel and Synchronize threads\n",
        "    int num_blocks = (n + blockSize - 1) / blockSize;\n",
        "    cudaError_t err;\n",
        "    reduce0<<<num_blocks, blockSize, blockSize * sizeof(int)>>>(dev_input_data, dev_output_data);\n",
        "    err = cudaGetLastError();\n",
        "    if (err != cudaSuccess) {\n",
        "        std::cerr << \"CUDA error: \" << cudaGetErrorString(err) << std::endl;\n",
        "    }\n",
        "    cudaDeviceSynchronize();\n",
        "\n",
        "    auto stop = std::chrono::high_resolution_clock::now();\n",
        "    auto duration = std::chrono::duration_cast<std::chrono::microseconds>(stop - start).count() / 1000.0; // duration in milliseconds with three decimal points\n",
        "\n",
        "    // Copying data back to the host (CPU)\n",
        "    cudaMemcpy(host_output_data, dev_output_data, (n + 255) / 256 * sizeof(int), cudaMemcpyDeviceToHost);\n",
        "\n",
        "    // Final reduction on the host\n",
        "    int finalResult = host_output_data[0];\n",
        "    for (int i = 1; i < (n + 255) / 256; ++i) {\n",
        "        finalResult += host_output_data[i];\n",
        "    }\n",
        "\n",
        "    // CPU Summation for verification\n",
        "    int cpuResult = std::accumulate(host_input_data, host_input_data + n, 0);\n",
        "    if (cpuResult == finalResult) {\n",
        "        std::cout << \"\\033[32m\"; // Set text color to green\n",
        "        std::cout << \"Verification successful: GPU result matches CPU result.\\n\";\n",
        "        std::cout << \"GPU Result: \" << finalResult << \", CPU Result: \" << cpuResult << std::endl;\n",
        "    } else {\n",
        "        std::cout << \"\\033[31m\"; // Set text color to red\n",
        "        std::cout << \"Verification failed: GPU result (\" << finalResult << \") does not match CPU result (\" << cpuResult << \").\\n\";\n",
        "        std::cout << \"GPU Result: \" << finalResult << \", CPU Result: \" << cpuResult << std::endl;\n",
        "    }\n",
        "    std::cout << \"\\033[0m\"; // Reset text color to default\n",
        "\n",
        "    double bandwidth = (duration > 0) ? (bytes / duration / 1e6) : 0; // computed in GB/s, handling zero duration\n",
        "    std::cout << \"Reduced result: \" << finalResult << std::endl;\n",
        "    std::cout << \"Time elapsed: \" << duration << \" ms\" << std::endl;\n",
        "    std::cout << \"Effective bandwidth: \" << bandwidth << \" GB/s\" << std::endl;\n",
        "\n",
        "    // Freeing memory\n",
        "    cudaFree(dev_input_data);\n",
        "    cudaFree(dev_output_data);\n",
        "    delete[] host_input_data;\n",
        "    delete[] host_output_data;\n",
        "}"
      ]
    },
    {
      "cell_type": "code",
      "source": [
        "!nvcc -arch=sm_75 one.cu -o one"
      ],
      "metadata": {
        "id": "LJHnJxC1oZyy"
      },
      "execution_count": null,
      "outputs": []
    },
    {
      "cell_type": "code",
      "source": [
        "!./one"
      ],
      "metadata": {
        "colab": {
          "base_uri": "https://localhost:8080/"
        },
        "id": "tsBbo18Foesm",
        "outputId": "f057595d-6b0e-46fd-bb47-04808d7c3051"
      },
      "execution_count": null,
      "outputs": [
        {
          "output_type": "stream",
          "name": "stdout",
          "text": [
            "\u001b[32mVerification successful: GPU result matches CPU result.\n",
            "GPU Result: 207451054, CPU Result: 207451054\n",
            "\u001b[0mReduced result: 207451054\n",
            "Time elapsed: 0.794 ms\n",
            "Effective bandwidth: 21.13 GB/s\n"
          ]
        }
      ]
    },
    {
      "cell_type": "code",
      "source": [
        "!nvcc -arch=sm_75 two.cu -o two -O1 -lineinfo"
      ],
      "metadata": {
        "id": "BYgJKSw-oigz"
      },
      "execution_count": null,
      "outputs": []
    },
    {
      "cell_type": "code",
      "source": [
        "!./two"
      ],
      "metadata": {
        "colab": {
          "base_uri": "https://localhost:8080/"
        },
        "id": "QB_SpVNMo7MI",
        "outputId": "0ad4fa21-dd76-4877-daf0-755474026dab"
      },
      "execution_count": null,
      "outputs": [
        {
          "output_type": "stream",
          "name": "stdout",
          "text": [
            "\u001b[32mVerification successful: GPU result matches CPU result.\n",
            "GPU Result: 207451054, CPU Result: 207451054\n",
            "\u001b[0mReduced result: 207451054\n",
            "Time elapsed: 0.741 ms\n",
            "Effective bandwidth: 22.6413 GB/s\n"
          ]
        }
      ]
    },
    {
      "cell_type": "code",
      "source": [
        "!nvcc -arch=sm_75 three.cu -o three -O2 -lineinfo"
      ],
      "metadata": {
        "id": "mFbZPQjLo-ZG"
      },
      "execution_count": null,
      "outputs": []
    },
    {
      "cell_type": "code",
      "source": [
        "!./three"
      ],
      "metadata": {
        "colab": {
          "base_uri": "https://localhost:8080/"
        },
        "id": "I4G6pg_OpOuk",
        "outputId": "a8343d79-609f-4920-b8da-08250e300191"
      },
      "execution_count": null,
      "outputs": [
        {
          "output_type": "stream",
          "name": "stdout",
          "text": [
            "\u001b[32mVerification successful: GPU result matches CPU result.\n",
            "GPU Result: 207451054, CPU Result: 207451054\n",
            "\u001b[0mReduced result: 207451054\n",
            "Time elapsed: 0.739 ms\n",
            "Effective bandwidth: 22.7026 GB/s\n"
          ]
        }
      ]
    },
    {
      "cell_type": "code",
      "source": [
        "!nvcc -arch=sm_75 four.cu -o four -O3 -lineinfo"
      ],
      "metadata": {
        "id": "05oWNwQbpRUU"
      },
      "execution_count": null,
      "outputs": []
    },
    {
      "cell_type": "code",
      "source": [
        "!./four"
      ],
      "metadata": {
        "colab": {
          "base_uri": "https://localhost:8080/"
        },
        "id": "0sF46JHbpy4o",
        "outputId": "0413e4a6-ba78-4c5d-f1a3-f3aa4b710b00"
      },
      "execution_count": null,
      "outputs": [
        {
          "output_type": "stream",
          "name": "stdout",
          "text": [
            "\u001b[32mVerification successful: GPU result matches CPU result.\n",
            "GPU Result: 207451054, CPU Result: 207451054\n",
            "\u001b[0mReduced result: 207451054\n",
            "Time elapsed: 0.735 ms\n",
            "Effective bandwidth: 22.8261 GB/s\n"
          ]
        }
      ]
    },
    {
      "cell_type": "code",
      "source": [
        "! set -x \\\n",
        "&& cd $(mktemp -d) \\\n",
        "&& wget https://developer.download.nvidia.com/compute/cuda/12.1.0/local_installers/cuda_12.1.0_530.30.02_linux.run \\\n",
        "&& sudo sh cuda_12.1.0_530.30.02_linux.run --silent --toolkit \\\n",
        "&& rm cuda_12.1.0_530.30.02_linux.run"
      ],
      "metadata": {
        "id": "y02H2NCgp1Wc",
        "colab": {
          "base_uri": "https://localhost:8080/"
        },
        "outputId": "31466158-7423-47bd-b6d1-7eef28b6a9cc"
      },
      "execution_count": 51,
      "outputs": [
        {
          "output_type": "stream",
          "name": "stdout",
          "text": [
            "++ mktemp -d\n",
            "+ cd /tmp/tmp.TqsbEfQVTp\n",
            "+ wget https://developer.download.nvidia.com/compute/cuda/12.1.0/local_installers/cuda_12.1.0_530.30.02_linux.run\n",
            "--2025-06-06 09:22:41--  https://developer.download.nvidia.com/compute/cuda/12.1.0/local_installers/cuda_12.1.0_530.30.02_linux.run\n",
            "Resolving developer.download.nvidia.com (developer.download.nvidia.com)... 23.59.88.195, 23.59.88.207\n",
            "Connecting to developer.download.nvidia.com (developer.download.nvidia.com)|23.59.88.195|:443... connected.\n",
            "HTTP request sent, awaiting response... 200 OK\n",
            "Length: 4245586997 (4.0G) [application/octet-stream]\n",
            "Saving to: ‘cuda_12.1.0_530.30.02_linux.run’\n",
            "\n",
            "cuda_12.1.0_530.30. 100%[===================>]   3.95G   233MB/s    in 19s     \n",
            "\n",
            "2025-06-06 09:23:00 (217 MB/s) - ‘cuda_12.1.0_530.30.02_linux.run’ saved [4245586997/4245586997]\n",
            "\n",
            "+ sudo sh cuda_12.1.0_530.30.02_linux.run --silent --toolkit\n",
            "+ rm cuda_12.1.0_530.30.02_linux.run\n"
          ]
        }
      ]
    },
    {
      "cell_type": "code",
      "source": [
        "import os\n",
        "os.environ['PATH'] = os.environ['PATH'] + ':/usr/local/cuda/bin/'"
      ],
      "metadata": {
        "id": "sit5rFzSCshP"
      },
      "execution_count": 52,
      "outputs": []
    },
    {
      "cell_type": "code",
      "source": [
        "!ncu --version"
      ],
      "metadata": {
        "colab": {
          "base_uri": "https://localhost:8080/"
        },
        "id": "I2HzhyNXepkW",
        "outputId": "6e12ba56-601d-4c46-c912-285862da417e"
      },
      "execution_count": null,
      "outputs": [
        {
          "output_type": "stream",
          "name": "stdout",
          "text": [
            "NVIDIA (R) Nsight Compute Command Line Profiler\n",
            "Copyright (c) 2018-2024 NVIDIA Corporation\n",
            "Version 2024.2.1.0 (build 34372528) (public-release)\n"
          ]
        }
      ]
    },
    {
      "cell_type": "code",
      "source": [
        "!ncu ./one -o reudction_report_no"
      ],
      "metadata": {
        "colab": {
          "base_uri": "https://localhost:8080/"
        },
        "id": "Yv1EEW3aerf4",
        "outputId": "3e391dff-94d3-4c5e-851a-b882f1e3ff94"
      },
      "execution_count": null,
      "outputs": [
        {
          "output_type": "stream",
          "name": "stdout",
          "text": [
            "==PROF== Connected to process 2762 (/content/one)\n",
            "==PROF== Profiling \"reduce0(int *, int *)\" - 0: 0%....50%....100% - 9 passes\n",
            "\u001b[32mVerification successful: GPU result matches CPU result.\n",
            "GPU Result: 207451054, CPU Result: 207451054\n",
            "\u001b[0mReduced result: 207451054\n",
            "Time elapsed: 484.236 ms\n",
            "Effective bandwidth: 0.0346468 GB/s\n",
            "==PROF== Disconnected from process 2762\n",
            "[2762] one@127.0.0.1\n",
            "  reduce0(int *, int *) (16384, 1, 1)x(256, 1, 1), Context 1, Stream 7, Device 0, CC 7.5\n",
            "    Section: GPU Speed Of Light Throughput\n",
            "    ----------------------- ----------- ------------\n",
            "    Metric Name             Metric Unit Metric Value\n",
            "    ----------------------- ----------- ------------\n",
            "    DRAM Frequency                  Ghz         4.99\n",
            "    SM Frequency                    Mhz       584.99\n",
            "    Elapsed Cycles                cycle      357,385\n",
            "    Memory Throughput                 %        50.06\n",
            "    DRAM Throughput                   %        11.97\n",
            "    Duration                         us       610.91\n",
            "    L1/TEX Cache Throughput           %        56.27\n",
            "    L2 Cache Throughput               %         3.25\n",
            "    SM Active Cycles              cycle   354,997.90\n",
            "    Compute (SM) Throughput           %        55.27\n",
            "    ----------------------- ----------- ------------\n",
            "\n",
            "    OPT   This kernel exhibits low compute throughput and memory bandwidth utilization relative to the peak performance \n",
            "          of this device. Achieved compute throughput and/or memory bandwidth below 60.0% of peak typically indicate    \n",
            "          latency issues. Look at Scheduler Statistics and Warp State Statistics for potential reasons.                 \n",
            "\n",
            "    Section: Launch Statistics\n",
            "    -------------------------------- --------------- ---------------\n",
            "    Metric Name                          Metric Unit    Metric Value\n",
            "    -------------------------------- --------------- ---------------\n",
            "    Block Size                                                   256\n",
            "    Function Cache Configuration                     CachePreferNone\n",
            "    Grid Size                                                 16,384\n",
            "    Registers Per Thread             register/thread              16\n",
            "    Shared Memory Configuration Size           Kbyte           32.77\n",
            "    Driver Shared Memory Per Block        byte/block               0\n",
            "    Dynamic Shared Memory Per Block      Kbyte/block            1.02\n",
            "    Static Shared Memory Per Block        byte/block               0\n",
            "    # SMs                                         SM              40\n",
            "    Threads                                   thread       4,194,304\n",
            "    Uses Green Context                                             0\n",
            "    Waves Per SM                                              102.40\n",
            "    -------------------------------- --------------- ---------------\n",
            "\n",
            "    Section: Occupancy\n",
            "    ------------------------------- ----------- ------------\n",
            "    Metric Name                     Metric Unit Metric Value\n",
            "    ------------------------------- ----------- ------------\n",
            "    Block Limit SM                        block           16\n",
            "    Block Limit Registers                 block           16\n",
            "    Block Limit Shared Mem                block           32\n",
            "    Block Limit Warps                     block            4\n",
            "    Theoretical Active Warps per SM        warp           32\n",
            "    Theoretical Occupancy                     %          100\n",
            "    Achieved Occupancy                        %        93.45\n",
            "    Achieved Active Warps Per SM           warp        29.90\n",
            "    ------------------------------- ----------- ------------\n",
            "\n",
            "    Section: GPU and Memory Workload Distribution\n",
            "    -------------------------- ----------- ------------\n",
            "    Metric Name                Metric Unit Metric Value\n",
            "    -------------------------- ----------- ------------\n",
            "    Average DRAM Active Cycles       cycle   365,223.50\n",
            "    Total DRAM Elapsed Cycles        cycle   24,403,968\n",
            "    Average L1 Active Cycles         cycle   354,997.90\n",
            "    Total L1 Elapsed Cycles          cycle   14,268,464\n",
            "    Average L2 Active Cycles         cycle   267,380.38\n",
            "    Total L2 Elapsed Cycles          cycle   16,713,760\n",
            "    Average SM Active Cycles         cycle   354,997.90\n",
            "    Total SM Elapsed Cycles          cycle   14,268,464\n",
            "    Average SMSP Active Cycles       cycle   354,781.69\n",
            "    Total SMSP Elapsed Cycles        cycle   57,073,856\n",
            "    -------------------------- ----------- ------------\n",
            "\n"
          ]
        }
      ]
    },
    {
      "cell_type": "code",
      "source": [
        "!ncu ./two -o reudction_report_o1"
      ],
      "metadata": {
        "colab": {
          "base_uri": "https://localhost:8080/"
        },
        "id": "-PrJNoIyezB4",
        "outputId": "6384af4a-e3e8-4d89-a657-67738c43d053"
      },
      "execution_count": null,
      "outputs": [
        {
          "output_type": "stream",
          "name": "stdout",
          "text": [
            "==PROF== Connected to process 2865 (/content/two)\n",
            "==PROF== Profiling \"reduce0(int *, int *)\" - 0: 0%....50%....100% - 9 passes\n",
            "\u001b[32mVerification successful: GPU result matches CPU result.\n",
            "GPU Result: 207451054, CPU Result: 207451054\n",
            "\u001b[0mReduced result: 207451054\n",
            "Time elapsed: 293.884 ms\n",
            "Effective bandwidth: 0.0570879 GB/s\n",
            "==PROF== Disconnected from process 2865\n",
            "[2865] two@127.0.0.1\n",
            "  reduce0(int *, int *) (16384, 1, 1)x(256, 1, 1), Context 1, Stream 7, Device 0, CC 7.5\n",
            "    Section: GPU Speed Of Light Throughput\n",
            "    ----------------------- ----------- ------------\n",
            "    Metric Name             Metric Unit Metric Value\n",
            "    ----------------------- ----------- ------------\n",
            "    DRAM Frequency                  Ghz         5.00\n",
            "    SM Frequency                    Mhz       585.02\n",
            "    Elapsed Cycles                cycle      356,707\n",
            "    Memory Throughput                 %        50.07\n",
            "    DRAM Throughput                   %        11.98\n",
            "    Duration                         us       609.73\n",
            "    L1/TEX Cache Throughput           %        56.27\n",
            "    L2 Cache Throughput               %         3.26\n",
            "    SM Active Cycles              cycle   355,282.03\n",
            "    Compute (SM) Throughput           %        55.27\n",
            "    ----------------------- ----------- ------------\n",
            "\n",
            "    OPT   This kernel exhibits low compute throughput and memory bandwidth utilization relative to the peak performance \n",
            "          of this device. Achieved compute throughput and/or memory bandwidth below 60.0% of peak typically indicate    \n",
            "          latency issues. Look at Scheduler Statistics and Warp State Statistics for potential reasons.                 \n",
            "\n",
            "    Section: Launch Statistics\n",
            "    -------------------------------- --------------- ---------------\n",
            "    Metric Name                          Metric Unit    Metric Value\n",
            "    -------------------------------- --------------- ---------------\n",
            "    Block Size                                                   256\n",
            "    Function Cache Configuration                     CachePreferNone\n",
            "    Grid Size                                                 16,384\n",
            "    Registers Per Thread             register/thread              16\n",
            "    Shared Memory Configuration Size           Kbyte           32.77\n",
            "    Driver Shared Memory Per Block        byte/block               0\n",
            "    Dynamic Shared Memory Per Block      Kbyte/block            1.02\n",
            "    Static Shared Memory Per Block        byte/block               0\n",
            "    # SMs                                         SM              40\n",
            "    Threads                                   thread       4,194,304\n",
            "    Uses Green Context                                             0\n",
            "    Waves Per SM                                              102.40\n",
            "    -------------------------------- --------------- ---------------\n",
            "\n",
            "    Section: Occupancy\n",
            "    ------------------------------- ----------- ------------\n",
            "    Metric Name                     Metric Unit Metric Value\n",
            "    ------------------------------- ----------- ------------\n",
            "    Block Limit SM                        block           16\n",
            "    Block Limit Registers                 block           16\n",
            "    Block Limit Shared Mem                block           32\n",
            "    Block Limit Warps                     block            4\n",
            "    Theoretical Active Warps per SM        warp           32\n",
            "    Theoretical Occupancy                     %          100\n",
            "    Achieved Occupancy                        %        93.19\n",
            "    Achieved Active Warps Per SM           warp        29.82\n",
            "    ------------------------------- ----------- ------------\n",
            "\n",
            "    Section: GPU and Memory Workload Distribution\n",
            "    -------------------------- ----------- ------------\n",
            "    Metric Name                Metric Unit Metric Value\n",
            "    -------------------------- ----------- ------------\n",
            "    Average DRAM Active Cycles       cycle      365,037\n",
            "    Total DRAM Elapsed Cycles        cycle   24,383,488\n",
            "    Average L1 Active Cycles         cycle   355,282.03\n",
            "    Total L1 Elapsed Cycles          cycle   14,267,224\n",
            "    Average L2 Active Cycles         cycle   267,449.97\n",
            "    Total L2 Elapsed Cycles          cycle   16,682,112\n",
            "    Average SM Active Cycles         cycle   355,282.03\n",
            "    Total SM Elapsed Cycles          cycle   14,267,224\n",
            "    Average SMSP Active Cycles       cycle   354,966.09\n",
            "    Total SMSP Elapsed Cycles        cycle   57,068,896\n",
            "    -------------------------- ----------- ------------\n",
            "\n"
          ]
        }
      ]
    },
    {
      "cell_type": "code",
      "source": [
        "!ncu ./three -o reduction_report_o2"
      ],
      "metadata": {
        "colab": {
          "base_uri": "https://localhost:8080/"
        },
        "id": "I8C0WG_Ye_-_",
        "outputId": "69da8e56-5da8-44d9-b6ef-bcc93a66f925"
      },
      "execution_count": null,
      "outputs": [
        {
          "output_type": "stream",
          "name": "stdout",
          "text": [
            "==PROF== Connected to process 3080 (/content/three)\n",
            "==PROF== Profiling \"reduce0(int *, int *)\" - 0: 0%....50%....100% - 9 passes\n",
            "\u001b[32mVerification successful: GPU result matches CPU result.\n",
            "GPU Result: 207451054, CPU Result: 207451054\n",
            "\u001b[0mReduced result: 207451054\n",
            "Time elapsed: 294.26 ms\n",
            "Effective bandwidth: 0.0570149 GB/s\n",
            "==PROF== Disconnected from process 3080\n",
            "[3080] three@127.0.0.1\n",
            "  reduce0(int *, int *) (16384, 1, 1)x(256, 1, 1), Context 1, Stream 7, Device 0, CC 7.5\n",
            "    Section: GPU Speed Of Light Throughput\n",
            "    ----------------------- ----------- ------------\n",
            "    Metric Name             Metric Unit Metric Value\n",
            "    ----------------------- ----------- ------------\n",
            "    DRAM Frequency                  Ghz         4.99\n",
            "    SM Frequency                    Mhz       584.96\n",
            "    Elapsed Cycles                cycle      357,272\n",
            "    Memory Throughput                 %        50.05\n",
            "    DRAM Throughput                   %        11.96\n",
            "    Duration                         us       610.75\n",
            "    L1/TEX Cache Throughput           %        56.25\n",
            "    L2 Cache Throughput               %         3.25\n",
            "    SM Active Cycles              cycle   355,205.28\n",
            "    Compute (SM) Throughput           %        55.25\n",
            "    ----------------------- ----------- ------------\n",
            "\n",
            "    OPT   This kernel exhibits low compute throughput and memory bandwidth utilization relative to the peak performance \n",
            "          of this device. Achieved compute throughput and/or memory bandwidth below 60.0% of peak typically indicate    \n",
            "          latency issues. Look at Scheduler Statistics and Warp State Statistics for potential reasons.                 \n",
            "\n",
            "    Section: Launch Statistics\n",
            "    -------------------------------- --------------- ---------------\n",
            "    Metric Name                          Metric Unit    Metric Value\n",
            "    -------------------------------- --------------- ---------------\n",
            "    Block Size                                                   256\n",
            "    Function Cache Configuration                     CachePreferNone\n",
            "    Grid Size                                                 16,384\n",
            "    Registers Per Thread             register/thread              16\n",
            "    Shared Memory Configuration Size           Kbyte           32.77\n",
            "    Driver Shared Memory Per Block        byte/block               0\n",
            "    Dynamic Shared Memory Per Block      Kbyte/block            1.02\n",
            "    Static Shared Memory Per Block        byte/block               0\n",
            "    # SMs                                         SM              40\n",
            "    Threads                                   thread       4,194,304\n",
            "    Uses Green Context                                             0\n",
            "    Waves Per SM                                              102.40\n",
            "    -------------------------------- --------------- ---------------\n",
            "\n",
            "    Section: Occupancy\n",
            "    ------------------------------- ----------- ------------\n",
            "    Metric Name                     Metric Unit Metric Value\n",
            "    ------------------------------- ----------- ------------\n",
            "    Block Limit SM                        block           16\n",
            "    Block Limit Registers                 block           16\n",
            "    Block Limit Shared Mem                block           32\n",
            "    Block Limit Warps                     block            4\n",
            "    Theoretical Active Warps per SM        warp           32\n",
            "    Theoretical Occupancy                     %          100\n",
            "    Achieved Occupancy                        %        93.34\n",
            "    Achieved Active Warps Per SM           warp        29.87\n",
            "    ------------------------------- ----------- ------------\n",
            "\n",
            "    Section: GPU and Memory Workload Distribution\n",
            "    -------------------------- ----------- ------------\n",
            "    Metric Name                Metric Unit Metric Value\n",
            "    -------------------------- ----------- ------------\n",
            "    Average DRAM Active Cycles       cycle      364,812\n",
            "    Total DRAM Elapsed Cycles        cycle   24,399,872\n",
            "    Average L1 Active Cycles         cycle   355,205.28\n",
            "    Total L1 Elapsed Cycles          cycle   14,272,312\n",
            "    Average L2 Active Cycles         cycle   267,826.34\n",
            "    Total L2 Elapsed Cycles          cycle   16,708,512\n",
            "    Average SM Active Cycles         cycle   355,205.28\n",
            "    Total SM Elapsed Cycles          cycle   14,272,312\n",
            "    Average SMSP Active Cycles       cycle   355,368.67\n",
            "    Total SMSP Elapsed Cycles        cycle   57,089,248\n",
            "    -------------------------- ----------- ------------\n",
            "\n"
          ]
        }
      ]
    },
    {
      "cell_type": "code",
      "source": [
        "!ncu ./four -o reduction_report_o3"
      ],
      "metadata": {
        "colab": {
          "base_uri": "https://localhost:8080/"
        },
        "id": "lWADx4KnfTrx",
        "outputId": "cc9d8aa8-0a35-41cc-c133-8295597ee9fc"
      },
      "execution_count": null,
      "outputs": [
        {
          "output_type": "stream",
          "name": "stdout",
          "text": [
            "==PROF== Connected to process 3189 (/content/four)\n",
            "==PROF== Profiling \"reduce0(int *, int *)\" - 0: 0%....50%....100% - 9 passes\n",
            "\u001b[32mVerification successful: GPU result matches CPU result.\n",
            "GPU Result: 207451054, CPU Result: 207451054\n",
            "\u001b[0mReduced result: 207451054\n",
            "Time elapsed: 297.294 ms\n",
            "Effective bandwidth: 0.0564331 GB/s\n",
            "==PROF== Disconnected from process 3189\n",
            "[3189] four@127.0.0.1\n",
            "  reduce0(int *, int *) (16384, 1, 1)x(256, 1, 1), Context 1, Stream 7, Device 0, CC 7.5\n",
            "    Section: GPU Speed Of Light Throughput\n",
            "    ----------------------- ----------- ------------\n",
            "    Metric Name             Metric Unit Metric Value\n",
            "    ----------------------- ----------- ------------\n",
            "    DRAM Frequency                  Ghz         4.99\n",
            "    SM Frequency                    Mhz       584.97\n",
            "    Elapsed Cycles                cycle      357,369\n",
            "    Memory Throughput                 %        50.05\n",
            "    DRAM Throughput                   %        11.99\n",
            "    Duration                         us       610.91\n",
            "    L1/TEX Cache Throughput           %        56.25\n",
            "    L2 Cache Throughput               %         3.25\n",
            "    SM Active Cycles              cycle   355,032.50\n",
            "    Compute (SM) Throughput           %        55.26\n",
            "    ----------------------- ----------- ------------\n",
            "\n",
            "    OPT   This kernel exhibits low compute throughput and memory bandwidth utilization relative to the peak performance \n",
            "          of this device. Achieved compute throughput and/or memory bandwidth below 60.0% of peak typically indicate    \n",
            "          latency issues. Look at Scheduler Statistics and Warp State Statistics for potential reasons.                 \n",
            "\n",
            "    Section: Launch Statistics\n",
            "    -------------------------------- --------------- ---------------\n",
            "    Metric Name                          Metric Unit    Metric Value\n",
            "    -------------------------------- --------------- ---------------\n",
            "    Block Size                                                   256\n",
            "    Function Cache Configuration                     CachePreferNone\n",
            "    Grid Size                                                 16,384\n",
            "    Registers Per Thread             register/thread              16\n",
            "    Shared Memory Configuration Size           Kbyte           32.77\n",
            "    Driver Shared Memory Per Block        byte/block               0\n",
            "    Dynamic Shared Memory Per Block      Kbyte/block            1.02\n",
            "    Static Shared Memory Per Block        byte/block               0\n",
            "    # SMs                                         SM              40\n",
            "    Threads                                   thread       4,194,304\n",
            "    Uses Green Context                                             0\n",
            "    Waves Per SM                                              102.40\n",
            "    -------------------------------- --------------- ---------------\n",
            "\n",
            "    Section: Occupancy\n",
            "    ------------------------------- ----------- ------------\n",
            "    Metric Name                     Metric Unit Metric Value\n",
            "    ------------------------------- ----------- ------------\n",
            "    Block Limit SM                        block           16\n",
            "    Block Limit Registers                 block           16\n",
            "    Block Limit Shared Mem                block           32\n",
            "    Block Limit Warps                     block            4\n",
            "    Theoretical Active Warps per SM        warp           32\n",
            "    Theoretical Occupancy                     %          100\n",
            "    Achieved Occupancy                        %        93.43\n",
            "    Achieved Active Warps Per SM           warp        29.90\n",
            "    ------------------------------- ----------- ------------\n",
            "\n",
            "    Section: GPU and Memory Workload Distribution\n",
            "    -------------------------- ----------- ------------\n",
            "    Metric Name                Metric Unit Metric Value\n",
            "    -------------------------- ----------- ------------\n",
            "    Average DRAM Active Cycles       cycle      365,347\n",
            "    Total DRAM Elapsed Cycles        cycle   24,371,200\n",
            "    Average L1 Active Cycles         cycle   355,032.50\n",
            "    Total L1 Elapsed Cycles          cycle   14,272,088\n",
            "    Average L2 Active Cycles         cycle   266,941.72\n",
            "    Total L2 Elapsed Cycles          cycle   16,713,056\n",
            "    Average SM Active Cycles         cycle   355,032.50\n",
            "    Total SM Elapsed Cycles          cycle   14,272,088\n",
            "    Average SMSP Active Cycles       cycle   354,942.66\n",
            "    Total SMSP Elapsed Cycles        cycle   57,088,352\n",
            "    -------------------------- ----------- ------------\n",
            "\n"
          ]
        }
      ]
    },
    {
      "cell_type": "code",
      "source": [
        "!ncu -o reduction_report ./one"
      ],
      "metadata": {
        "colab": {
          "base_uri": "https://localhost:8080/"
        },
        "id": "Zr4XrBmWfXto",
        "outputId": "352a4058-737d-4cf9-85dd-098e8d956f5e"
      },
      "execution_count": null,
      "outputs": [
        {
          "output_type": "stream",
          "name": "stdout",
          "text": [
            "==PROF== Connected to process 3434 (/content/one)\n",
            "==PROF== Profiling \"reduce0(int *, int *)\" - 0: 0%....50%....100% - 9 passes\n",
            "\u001b[32mVerification successful: GPU result matches CPU result.\n",
            "GPU Result: 207451054, CPU Result: 207451054\n",
            "\u001b[0mReduced result: 207451054\n",
            "Time elapsed: 302.683 ms\n",
            "Effective bandwidth: 0.0554283 GB/s\n",
            "==PROF== Disconnected from process 3434\n",
            "==PROF== Report: /content/reduction_report.ncu-rep\n"
          ]
        }
      ]
    },
    {
      "cell_type": "code",
      "source": [
        "!nvprof ./one"
      ],
      "metadata": {
        "colab": {
          "base_uri": "https://localhost:8080/"
        },
        "id": "UWTCjZdjgd82",
        "outputId": "33a4bd5f-f2d5-4652-e64d-634ed77f51bd"
      },
      "execution_count": null,
      "outputs": [
        {
          "output_type": "stream",
          "name": "stdout",
          "text": [
            "==4486== NVPROF is profiling process 4486, command: ./one\n",
            "\u001b[32mVerification successful: GPU result matches CPU result.\n",
            "GPU Result: 207451054, CPU Result: 207451054\n",
            "\u001b[0mReduced result: 207451054\n",
            "Time elapsed: 0.776 ms\n",
            "Effective bandwidth: 21.6201 GB/s\n",
            "==4486== Profiling application: ./one\n",
            "==4486== Profiling result:\n",
            "            Type  Time(%)      Time     Calls       Avg       Min       Max  Name\n",
            " GPU activities:   84.40%  3.4077ms         1  3.4077ms  3.4077ms  3.4077ms  [CUDA memcpy HtoD]\n",
            "                   15.41%  622.14us         1  622.14us  622.14us  622.14us  reduce0(int*, int*)\n",
            "                    0.19%  7.5520us         1  7.5520us  7.5520us  7.5520us  [CUDA memcpy DtoH]\n",
            "      API calls:   97.21%  191.67ms         2  95.833ms  74.527us  191.59ms  cudaMalloc\n",
            "                    1.87%  3.6885ms         2  1.8443ms  72.024us  3.6165ms  cudaMemcpy\n",
            "                    0.44%  868.63us         2  434.32us  142.14us  726.49us  cudaFree\n",
            "                    0.32%  622.68us         1  622.68us  622.68us  622.68us  cudaDeviceSynchronize\n",
            "                    0.08%  158.39us       114  1.3890us     103ns  80.410us  cuDeviceGetAttribute\n",
            "                    0.07%  147.14us         1  147.14us  147.14us  147.14us  cudaLaunchKernel\n",
            "                    0.01%  12.486us         1  12.486us  12.486us  12.486us  cuDeviceGetName\n",
            "                    0.00%  4.8910us         1  4.8910us  4.8910us  4.8910us  cuDeviceGetPCIBusId\n",
            "                    0.00%  1.4250us         3     475ns     141ns  1.0610us  cuDeviceGetCount\n",
            "                    0.00%  1.0350us         2     517ns     180ns     855ns  cuDeviceGet\n",
            "                    0.00%     717ns         1     717ns     717ns     717ns  cuModuleGetLoadingMode\n",
            "                    0.00%     524ns         1     524ns     524ns     524ns  cudaGetLastError\n",
            "                    0.00%     511ns         1     511ns     511ns     511ns  cuDeviceTotalMem\n",
            "                    0.00%     268ns         1     268ns     268ns     268ns  cuDeviceGetUuid\n"
          ]
        }
      ]
    },
    {
      "cell_type": "code",
      "source": [
        "!nvprof --print-gpu-trace ./one"
      ],
      "metadata": {
        "colab": {
          "base_uri": "https://localhost:8080/"
        },
        "id": "DwtbnYZXggBS",
        "outputId": "bcfeb098-5113-4e9f-b18b-4876d97b2720"
      },
      "execution_count": null,
      "outputs": [
        {
          "output_type": "stream",
          "name": "stdout",
          "text": [
            "==4603== NVPROF is profiling process 4603, command: ./one\n",
            "\u001b[32mVerification successful: GPU result matches CPU result.\n",
            "GPU Result: 207451054, CPU Result: 207451054\n",
            "\u001b[0mReduced result: 207451054\n",
            "Time elapsed: 0.769 ms\n",
            "Effective bandwidth: 21.8169 GB/s\n",
            "==4603== Profiling application: ./one\n",
            "==4603== Profiling result:\n",
            "   Start  Duration            Grid Size      Block Size     Regs*    SSMem*    DSMem*      Size  Throughput  SrcMemType  DstMemType           Device   Context    Stream  Name\n",
            "323.45ms  3.4735ms                    -               -         -         -         -  16.000MB  4.4984GB/s    Pageable      Device     Tesla T4 (0)         1         7  [CUDA memcpy HtoD]\n",
            "327.00ms  622.20us          (16384 1 1)       (256 1 1)        16        0B  1.0000KB         -           -           -           -     Tesla T4 (0)         1         7  reduce0(int*, int*) [128]\n",
            "327.63ms  7.4880us                    -               -         -         -         -  64.000KB  8.1511GB/s      Device    Pageable     Tesla T4 (0)         1         7  [CUDA memcpy DtoH]\n",
            "\n",
            "Regs: Number of registers used per CUDA thread. This number includes registers used internally by the CUDA driver and/or tools and can be more than what the compiler shows.\n",
            "SSMem: Static shared memory allocated per CUDA block.\n",
            "DSMem: Dynamic shared memory allocated per CUDA block.\n",
            "SrcMemType: The type of source memory accessed by memory operation/copy\n",
            "DstMemType: The type of destination memory accessed by memory operation/copy\n"
          ]
        }
      ]
    },
    {
      "cell_type": "code",
      "source": [
        "!nvprof ./two"
      ],
      "metadata": {
        "colab": {
          "base_uri": "https://localhost:8080/"
        },
        "id": "Clewl2oNgmMb",
        "outputId": "9f06f8f7-4fba-4e88-e4de-375305ff26f7"
      },
      "execution_count": null,
      "outputs": [
        {
          "output_type": "stream",
          "name": "stdout",
          "text": [
            "==4688== NVPROF is profiling process 4688, command: ./two\n",
            "\u001b[32mVerification successful: GPU result matches CPU result.\n",
            "GPU Result: 207451054, CPU Result: 207451054\n",
            "\u001b[0mReduced result: 207451054\n",
            "Time elapsed: 0.839 ms\n",
            "Effective bandwidth: 19.9967 GB/s\n",
            "==4688== Profiling application: ./two\n",
            "==4688== Profiling result:\n",
            "            Type  Time(%)      Time     Calls       Avg       Min       Max  Name\n",
            " GPU activities:   85.16%  3.6120ms         1  3.6120ms  3.6120ms  3.6120ms  [CUDA memcpy HtoD]\n",
            "                   14.67%  622.17us         1  622.17us  622.17us  622.17us  reduce0(int*, int*)\n",
            "                    0.18%  7.4550us         1  7.4550us  7.4550us  7.4550us  [CUDA memcpy DtoH]\n",
            "      API calls:   97.55%  231.22ms         2  115.61ms  97.432us  231.13ms  cudaMalloc\n",
            "                    1.65%  3.8997ms         2  1.9499ms  86.409us  3.8133ms  cudaMemcpy\n",
            "                    0.39%  913.80us         2  456.90us  179.43us  734.37us  cudaFree\n",
            "                    0.26%  619.02us         1  619.02us  619.02us  619.02us  cudaDeviceSynchronize\n",
            "                    0.08%  186.32us         1  186.32us  186.32us  186.32us  cudaLaunchKernel\n",
            "                    0.07%  171.14us       114  1.5010us     133ns  69.430us  cuDeviceGetAttribute\n",
            "                    0.01%  14.783us         1  14.783us  14.783us  14.783us  cuDeviceGetName\n",
            "                    0.00%  6.7740us         1  6.7740us  6.7740us  6.7740us  cuDeviceGetPCIBusId\n",
            "                    0.00%  1.9330us         3     644ns     154ns  1.4720us  cuDeviceGetCount\n",
            "                    0.00%  1.0390us         2     519ns     209ns     830ns  cuDeviceGet\n",
            "                    0.00%     940ns         1     940ns     940ns     940ns  cuDeviceTotalMem\n",
            "                    0.00%     935ns         1     935ns     935ns     935ns  cudaGetLastError\n",
            "                    0.00%     538ns         1     538ns     538ns     538ns  cuModuleGetLoadingMode\n",
            "                    0.00%     333ns         1     333ns     333ns     333ns  cuDeviceGetUuid\n"
          ]
        }
      ]
    },
    {
      "cell_type": "code",
      "source": [
        "!nvprof ./three"
      ],
      "metadata": {
        "colab": {
          "base_uri": "https://localhost:8080/"
        },
        "id": "kuir_iGOgqLx",
        "outputId": "48b0f348-beb5-4a24-8b37-f2592f350360"
      },
      "execution_count": null,
      "outputs": [
        {
          "output_type": "stream",
          "name": "stdout",
          "text": [
            "==4875== NVPROF is profiling process 4875, command: ./three\n",
            "\u001b[32mVerification successful: GPU result matches CPU result.\n",
            "GPU Result: 207451054, CPU Result: 207451054\n",
            "\u001b[0mReduced result: 207451054\n",
            "Time elapsed: 0.758 ms\n",
            "Effective bandwidth: 22.1335 GB/s\n",
            "==4875== Profiling application: ./three\n",
            "==4875== Profiling result:\n",
            "            Type  Time(%)      Time     Calls       Avg       Min       Max  Name\n",
            " GPU activities:   84.58%  3.4526ms         1  3.4526ms  3.4526ms  3.4526ms  [CUDA memcpy HtoD]\n",
            "                   15.24%  622.04us         1  622.04us  622.04us  622.04us  reduce0(int*, int*)\n",
            "                    0.19%  7.5840us         1  7.5840us  7.5840us  7.5840us  [CUDA memcpy DtoH]\n",
            "      API calls:   97.02%  176.56ms         2  88.282ms  85.281us  176.48ms  cudaMalloc\n",
            "                    2.03%  3.6996ms         2  1.8498ms  74.624us  3.6250ms  cudaMemcpy\n",
            "                    0.46%  832.41us         2  416.21us  117.89us  714.52us  cudaFree\n",
            "                    0.34%  624.86us         1  624.86us  624.86us  624.86us  cudaDeviceSynchronize\n",
            "                    0.07%  128.34us         1  128.34us  128.34us  128.34us  cudaLaunchKernel\n",
            "                    0.07%  126.84us       114  1.1120us     105ns  51.245us  cuDeviceGetAttribute\n",
            "                    0.01%  10.876us         1  10.876us  10.876us  10.876us  cuDeviceGetName\n",
            "                    0.00%  4.9820us         1  4.9820us  4.9820us  4.9820us  cuDeviceGetPCIBusId\n",
            "                    0.00%  1.2460us         3     415ns     119ns     887ns  cuDeviceGetCount\n",
            "                    0.00%     738ns         2     369ns     118ns     620ns  cuDeviceGet\n",
            "                    0.00%     492ns         1     492ns     492ns     492ns  cuDeviceTotalMem\n",
            "                    0.00%     482ns         1     482ns     482ns     482ns  cuModuleGetLoadingMode\n",
            "                    0.00%     424ns         1     424ns     424ns     424ns  cudaGetLastError\n",
            "                    0.00%     249ns         1     249ns     249ns     249ns  cuDeviceGetUuid\n"
          ]
        }
      ]
    },
    {
      "cell_type": "code",
      "source": [
        "!nvprof ./four"
      ],
      "metadata": {
        "colab": {
          "base_uri": "https://localhost:8080/"
        },
        "id": "2oRitSLWgsRy",
        "outputId": "e7b3c679-f956-42f8-8819-88b54f4a7102"
      },
      "execution_count": null,
      "outputs": [
        {
          "output_type": "stream",
          "name": "stdout",
          "text": [
            "==5023== NVPROF is profiling process 5023, command: ./four\n",
            "\u001b[32mVerification successful: GPU result matches CPU result.\n",
            "GPU Result: 207451054, CPU Result: 207451054\n",
            "\u001b[0mReduced result: 207451054\n",
            "Time elapsed: 0.755 ms\n",
            "Effective bandwidth: 22.2215 GB/s\n",
            "==5023== Profiling application: ./four\n",
            "==5023== Profiling result:\n",
            "            Type  Time(%)      Time     Calls       Avg       Min       Max  Name\n",
            " GPU activities:   84.40%  3.4081ms         1  3.4081ms  3.4081ms  3.4081ms  [CUDA memcpy HtoD]\n",
            "                   15.41%  622.24us         1  622.24us  622.24us  622.24us  reduce0(int*, int*)\n",
            "                    0.19%  7.4880us         1  7.4880us  7.4880us  7.4880us  [CUDA memcpy DtoH]\n",
            "      API calls:   97.23%  191.95ms         2  95.976ms  79.749us  191.87ms  cudaMalloc\n",
            "                    1.85%  3.6601ms         2  1.8301ms  70.586us  3.5895ms  cudaMemcpy\n",
            "                    0.45%  886.04us         2  443.02us  126.56us  759.49us  cudaFree\n",
            "                    0.32%  623.85us         1  623.85us  623.85us  623.85us  cudaDeviceSynchronize\n",
            "                    0.08%  157.59us       114  1.3820us     103ns  71.270us  cuDeviceGetAttribute\n",
            "                    0.06%  126.16us         1  126.16us  126.16us  126.16us  cudaLaunchKernel\n",
            "                    0.01%  12.300us         1  12.300us  12.300us  12.300us  cuDeviceGetName\n",
            "                    0.00%  4.9830us         1  4.9830us  4.9830us  4.9830us  cuDeviceGetPCIBusId\n",
            "                    0.00%  2.2530us         2  1.1260us     130ns  2.1230us  cuDeviceGet\n",
            "                    0.00%  1.3260us         3     442ns     110ns     969ns  cuDeviceGetCount\n",
            "                    0.00%     505ns         1     505ns     505ns     505ns  cuModuleGetLoadingMode\n",
            "                    0.00%     484ns         1     484ns     484ns     484ns  cuDeviceTotalMem\n",
            "                    0.00%     396ns         1     396ns     396ns     396ns  cudaGetLastError\n",
            "                    0.00%     275ns         1     275ns     275ns     275ns  cuDeviceGetUuid\n"
          ]
        }
      ]
    },
    {
      "cell_type": "code",
      "source": [
        "!nsys --version"
      ],
      "metadata": {
        "colab": {
          "base_uri": "https://localhost:8080/"
        },
        "id": "UmuRTz2_gt8e",
        "outputId": "11379312-2e26-40bc-e4d1-858c53fafc93"
      },
      "execution_count": 53,
      "outputs": [
        {
          "output_type": "stream",
          "name": "stdout",
          "text": [
            "NVIDIA Nsight Systems version 2023.1.2.43-32377213v0\n"
          ]
        }
      ]
    },
    {
      "cell_type": "code",
      "source": [
        "!nsys profile ./one"
      ],
      "metadata": {
        "id": "M6PzXc2GiHt6",
        "colab": {
          "base_uri": "https://localhost:8080/"
        },
        "outputId": "90d723a8-3cb1-4ccc-aeb4-79bac34f45e3"
      },
      "execution_count": 56,
      "outputs": [
        {
          "output_type": "stream",
          "name": "stdout",
          "text": [
            "\u001b[32mVerification successful: GPU result matches CPU result.\n",
            "GPU Result: 207451054, CPU Result: 207451054\n",
            "\u001b[0mReduced result: 207451054\n",
            "Time elapsed: 0.803 ms\n",
            "Effective bandwidth: 20.8932 GB/s\n",
            "Generating '/tmp/nsys-report-ead0.qdstrm'\n",
            "[1/1] [========================100%] report1.nsys-rep\n",
            "Generated:\n",
            "    /content/report1.nsys-rep\n"
          ]
        }
      ]
    },
    {
      "cell_type": "code",
      "source": [
        "!nsys stats report1.nsys-rep"
      ],
      "metadata": {
        "colab": {
          "base_uri": "https://localhost:8080/"
        },
        "id": "OXqbabRekgz3",
        "outputId": "d31806fc-b764-4b0e-8b44-b98908eded6b"
      },
      "execution_count": 58,
      "outputs": [
        {
          "output_type": "stream",
          "name": "stdout",
          "text": [
            "Generating SQLite file report1.sqlite from report1.nsys-rep\n",
            "\rExporting 1875 events: [1%                                                     ]\rExporting 1875 events: [2%                                                     ]\rExporting 1875 events: [3%                                                     ]\rExporting 1875 events: [4%                                                     ]\rExporting 1875 events: [5%                                                     ]\rExporting 1875 events: [=6%                                                    ]\rExporting 1875 events: [=7%                                                    ]\rExporting 1875 events: [==8%                                                   ]\rExporting 1875 events: [==9%                                                   ]\rExporting 1875 events: [==10%                                                  ]\rExporting 1875 events: [===11%                                                 ]\rExporting 1875 events: [===12%                                                 ]\rExporting 1875 events: [====13%                                                ]\rExporting 1875 events: [====14%                                                ]\rExporting 1875 events: [=====15%                                               ]\rExporting 1875 events: [=====16%                                               ]\rExporting 1875 events: [======17%                                              ]\rExporting 1875 events: [======18%                                              ]\rExporting 1875 events: [=======19%                                             ]\rExporting 1875 events: [========20%                                            ]\rExporting 1875 events: [========21%                                            ]\rExporting 1875 events: [=========22%                                           ]\rExporting 1875 events: [=========23%                                           ]\rExporting 1875 events: [==========24%                                          ]\rExporting 1875 events: [==========25%                                          ]\rExporting 1875 events: [===========26%                                         ]\rExporting 1875 events: [===========27%                                         ]\rExporting 1875 events: [============28%                                        ]\rExporting 1875 events: [============29%                                        ]\rExporting 1875 events: [=============30%                                       ]\rExporting 1875 events: [==============31%                                      ]\rExporting 1875 events: [==============32%                                      ]\rExporting 1875 events: [===============33%                                     ]\rExporting 1875 events: [===============34%                                     ]\rExporting 1875 events: [================35%                                    ]\rExporting 1875 events: [================36%                                    ]\rExporting 1875 events: [=================37%                                   ]\rExporting 1875 events: [=================38%                                   ]\rExporting 1875 events: [==================39%                                  ]\rExporting 1875 events: [===================40%                                 ]\rExporting 1875 events: [===================41%                                 ]\rExporting 1875 events: [====================42%                                ]\rExporting 1875 events: [====================43%                                ]\rExporting 1875 events: [=====================44%                               ]\rExporting 1875 events: [=====================45%                               ]\rExporting 1875 events: [======================46%                              ]\rExporting 1875 events: [======================47%                              ]\rExporting 1875 events: [=======================48%                             ]\rExporting 1875 events: [=======================49%                             ]\rExporting 1875 events: [========================50%                            ]\rExporting 1875 events: [=========================51%                           ]\rExporting 1875 events: [=========================52%                           ]\rExporting 1875 events: [==========================53%                          ]\rExporting 1875 events: [==========================54%                          ]\rExporting 1875 events: [===========================55%                         ]\rExporting 1875 events: [===========================56%                         ]\rExporting 1875 events: [============================57%                        ]\rExporting 1875 events: [============================58%                        ]\rExporting 1875 events: [=============================59%                       ]\rExporting 1875 events: [==============================60%                      ]\rExporting 1875 events: [==============================61%                      ]\rExporting 1875 events: [===============================62%                     ]\rExporting 1875 events: [===============================63%                     ]\rExporting 1875 events: [================================64%                    ]\rExporting 1875 events: [================================65%                    ]\rExporting 1875 events: [=================================66%                   ]\rExporting 1875 events: [=================================67%                   ]\rExporting 1875 events: [==================================68%                  ]\rExporting 1875 events: [==================================69%                  ]\rExporting 1875 events: [===================================70%                 ]\rExporting 1875 events: [====================================71%                ]\rExporting 1875 events: [====================================72%                ]\rExporting 1875 events: [=====================================73%               ]\rExporting 1875 events: [=====================================74%               ]\rExporting 1875 events: [======================================75%              ]\rExporting 1875 events: [======================================76%              ]\rExporting 1875 events: [=======================================77%             ]\rExporting 1875 events: [=======================================78%             ]\rExporting 1875 events: [========================================79%            ]\rExporting 1875 events: [=========================================80%           ]\rExporting 1875 events: [=========================================81%           ]\rExporting 1875 events: [==========================================82%          ]\rExporting 1875 events: [==========================================83%          ]\rExporting 1875 events: [===========================================84%         ]\rExporting 1875 events: [===========================================85%         ]\rExporting 1875 events: [============================================86%        ]\rExporting 1875 events: [============================================87%        ]\rExporting 1875 events: [=============================================88%       ]\rExporting 1875 events: [=============================================89%       ]\rExporting 1875 events: [==============================================90%      ]\rExporting 1875 events: [===============================================91%     ]\rExporting 1875 events: [===============================================92%     ]\rExporting 1875 events: [================================================93%    ]\rExporting 1875 events: [================================================94%    ]\rExporting 1875 events: [=================================================95%   ]\rExporting 1875 events: [=================================================96%   ]\rExporting 1875 events: [==================================================97%  ]\rExporting 1875 events: [==================================================98%  ]\rExporting 1875 events: [===================================================99% ]\rExporting 1875 events: [===================================================100%]\n",
            "Processing [report1.sqlite] with [/usr/local/cuda-12.1/nsight-systems-2023.1.2/host-linux-x64/reports/nvtx_sum.py]... \n",
            "SKIPPED: report1.sqlite does not contain NV Tools Extension (NVTX) data.\n",
            "\n",
            "Processing [report1.sqlite] with [/usr/local/cuda-12.1/nsight-systems-2023.1.2/host-linux-x64/reports/osrt_sum.py]... \n",
            "\n",
            " ** OS Runtime Summary (osrt_sum):\n",
            "\n",
            " Time (%)  Total Time (ns)  Num Calls    Avg (ns)       Med (ns)     Min (ns)    Max (ns)     StdDev (ns)            Name         \n",
            " --------  ---------------  ---------  -------------  -------------  ---------  -----------  -------------  ----------------------\n",
            "     44.1      544,058,652          2  272,029,326.0  272,029,326.0  1,859,245  542,199,407  382,078,192.7  sem_wait              \n",
            "     41.6      513,068,390         14   36,647,742.1    2,929,888.5      1,980  312,510,406   84,311,672.0  poll                  \n",
            "     13.4      165,846,799        536      309,415.7       12,599.5        565  109,589,848    4,785,075.4  ioctl                 \n",
            "      0.5        6,148,791          2    3,074,395.5    3,074,395.5      2,450    6,146,341    4,344,387.0  pthread_cond_broadcast\n",
            "      0.2        1,958,189         31       63,167.4       14,429.0     11,080    1,090,213      192,386.0  mmap64                \n",
            "      0.0          416,879         49        8,507.7        7,668.0      2,548       18,997        3,316.0  open64                \n",
            "      0.0          349,627          7       49,946.7       53,521.0     34,975       62,103        9,589.4  sem_timedwait         \n",
            "      0.0          303,040         16       18,940.0       10,728.0      2,466       87,808       22,694.5  mmap                  \n",
            "      0.0          275,882         47        5,869.8        4,002.0      1,182       27,446        5,641.9  fopen                 \n",
            "      0.0          244,890          4       61,222.5       55,783.0     49,294       84,030       15,554.7  pthread_create        \n",
            "      0.0          138,920          1      138,920.0      138,920.0    138,920      138,920            0.0  pthread_cond_wait     \n",
            "      0.0          113,780         17        6,692.9          157.0         63       98,190       23,655.2  fwrite                \n",
            "      0.0          105,305         12        8,775.4        7,714.5      1,337       19,679        4,749.2  write                 \n",
            "      0.0           88,891         49        1,814.1           86.0         45       36,744        6,209.0  fgets                 \n",
            "      0.0           87,454          4       21,863.5       19,298.5     18,298       30,559        5,816.4  putc                  \n",
            "      0.0           76,492          7       10,927.4        7,928.0      7,070       16,736        4,432.6  munmap                \n",
            "      0.0           75,285         39        1,930.4        1,535.0        818        6,522        1,235.4  fclose                \n",
            "      0.0           35,300         64          551.6          534.5        202        1,259          201.9  fcntl                 \n",
            "      0.0           34,580          6        5,763.3        4,782.5      1,637       11,230        3,459.4  open                  \n",
            "      0.0           28,229         16        1,764.3        1,636.0        550        4,131          945.6  read                  \n",
            "      0.0           20,429          2       10,214.5       10,214.5      7,316       13,113        4,099.1  socket                \n",
            "      0.0           18,060          3        6,020.0        5,157.0      4,893        8,010        1,728.4  pipe2                 \n",
            "      0.0            9,356          1        9,356.0        9,356.0      9,356        9,356            0.0  connect               \n",
            "      0.0            6,660          1        6,660.0        6,660.0      6,660        6,660            0.0  fopen64               \n",
            "      0.0            3,230          8          403.8          398.0        306          531           74.3  dup                   \n",
            "      0.0            2,325         20          116.3           55.0         41          799          172.5  fflush                \n",
            "      0.0            1,352          1        1,352.0        1,352.0      1,352        1,352            0.0  bind                  \n",
            "      0.0              961          1          961.0          961.0        961          961            0.0  listen                \n",
            "\n",
            "Processing [report1.sqlite] with [/usr/local/cuda-12.1/nsight-systems-2023.1.2/host-linux-x64/reports/cuda_api_sum.py]... \n",
            "\n",
            " ** CUDA API Summary (cuda_api_sum):\n",
            "\n",
            " Time (%)  Total Time (ns)  Num Calls    Avg (ns)       Med (ns)     Min (ns)   Max (ns)     StdDev (ns)            Name         \n",
            " --------  ---------------  ---------  -------------  -------------  --------  -----------  -------------  ----------------------\n",
            "     97.3      213,639,627          2  106,819,813.5  106,819,813.5    85,690  213,553,937  150,944,845.0  cudaMalloc            \n",
            "      1.9        4,200,835          2    2,100,417.5    2,100,417.5    88,686    4,112,149    2,845,018.0  cudaMemcpy            \n",
            "      0.4          966,175          2      483,087.5      483,087.5   184,322      781,853      422,518.2  cudaFree              \n",
            "      0.3          626,121          1      626,121.0      626,121.0   626,121      626,121            0.0  cudaDeviceSynchronize \n",
            "      0.1          169,203          1      169,203.0      169,203.0   169,203      169,203            0.0  cudaLaunchKernel      \n",
            "      0.0            2,075          1        2,075.0        2,075.0     2,075        2,075            0.0  cuModuleGetLoadingMode\n",
            "\n",
            "Processing [report1.sqlite] with [/usr/local/cuda-12.1/nsight-systems-2023.1.2/host-linux-x64/reports/cuda_gpu_kern_sum.py]... \n",
            "\n",
            " ** CUDA GPU Kernel Summary (cuda_gpu_kern_sum):\n",
            "\n",
            " Time (%)  Total Time (ns)  Instances  Avg (ns)   Med (ns)   Min (ns)  Max (ns)  StdDev (ns)          Name         \n",
            " --------  ---------------  ---------  ---------  ---------  --------  --------  -----------  ---------------------\n",
            "    100.0          621,980          1  621,980.0  621,980.0   621,980   621,980          0.0  reduce0(int *, int *)\n",
            "\n",
            "Processing [report1.sqlite] with [/usr/local/cuda-12.1/nsight-systems-2023.1.2/host-linux-x64/reports/cuda_gpu_mem_time_sum.py]... \n",
            "\n",
            " ** CUDA GPU MemOps Summary (by Time) (cuda_gpu_mem_time_sum):\n",
            "\n",
            " Time (%)  Total Time (ns)  Count   Avg (ns)     Med (ns)    Min (ns)   Max (ns)   StdDev (ns)      Operation     \n",
            " --------  ---------------  -----  -----------  -----------  ---------  ---------  -----------  ------------------\n",
            "     99.8        3,947,654      1  3,947,654.0  3,947,654.0  3,947,654  3,947,654          0.0  [CUDA memcpy HtoD]\n",
            "      0.2            7,519      1      7,519.0      7,519.0      7,519      7,519          0.0  [CUDA memcpy DtoH]\n",
            "\n",
            "Processing [report1.sqlite] with [/usr/local/cuda-12.1/nsight-systems-2023.1.2/host-linux-x64/reports/cuda_gpu_mem_size_sum.py]... \n",
            "\n",
            " ** CUDA GPU MemOps Summary (by Size) (cuda_gpu_mem_size_sum):\n",
            "\n",
            " Total (MB)  Count  Avg (MB)  Med (MB)  Min (MB)  Max (MB)  StdDev (MB)      Operation     \n",
            " ----------  -----  --------  --------  --------  --------  -----------  ------------------\n",
            "     16.777      1    16.777    16.777    16.777    16.777        0.000  [CUDA memcpy HtoD]\n",
            "      0.066      1     0.066     0.066     0.066     0.066        0.000  [CUDA memcpy DtoH]\n",
            "\n",
            "Processing [report1.sqlite] with [/usr/local/cuda-12.1/nsight-systems-2023.1.2/host-linux-x64/reports/openmp_sum.py]... \n",
            "SKIPPED: report1.sqlite does not contain OpenMP event data.\n",
            "\n",
            "Processing [report1.sqlite] with [/usr/local/cuda-12.1/nsight-systems-2023.1.2/host-linux-x64/reports/opengl_khr_range_sum.py]... \n",
            "SKIPPED: report1.sqlite does not contain KHR Extension (KHR_DEBUG) data.\n",
            "\n",
            "Processing [report1.sqlite] with [/usr/local/cuda-12.1/nsight-systems-2023.1.2/host-linux-x64/reports/opengl_khr_gpu_range_sum.py]... \n",
            "SKIPPED: report1.sqlite does not contain GPU KHR Extension (KHR_DEBUG) data.\n",
            "\n",
            "Processing [report1.sqlite] with [/usr/local/cuda-12.1/nsight-systems-2023.1.2/host-linux-x64/reports/vulkan_marker_sum.py]... \n",
            "SKIPPED: report1.sqlite does not contain Vulkan Debug Extension (Vulkan Debug Util) data.\n",
            "\n",
            "Processing [report1.sqlite] with [/usr/local/cuda-12.1/nsight-systems-2023.1.2/host-linux-x64/reports/vulkan_gpu_marker_sum.py]... \n",
            "SKIPPED: report1.sqlite does not contain GPU Vulkan Debug Extension (GPU Vulkan Debug markers) data.\n",
            "\n",
            "Processing [report1.sqlite] with [/usr/local/cuda-12.1/nsight-systems-2023.1.2/host-linux-x64/reports/dx11_pix_sum.py]... \n",
            "SKIPPED: report1.sqlite does not contain DX11 CPU debug markers.\n",
            "\n",
            "Processing [report1.sqlite] with [/usr/local/cuda-12.1/nsight-systems-2023.1.2/host-linux-x64/reports/dx12_gpu_marker_sum.py]... \n",
            "SKIPPED: report1.sqlite does not contain DX12 GPU debug markers.\n",
            "\n",
            "Processing [report1.sqlite] with [/usr/local/cuda-12.1/nsight-systems-2023.1.2/host-linux-x64/reports/dx12_pix_sum.py]... \n",
            "SKIPPED: report1.sqlite does not contain DX12 CPU debug markers.\n",
            "\n",
            "Processing [report1.sqlite] with [/usr/local/cuda-12.1/nsight-systems-2023.1.2/host-linux-x64/reports/wddm_queue_sum.py]... \n",
            "SKIPPED: report1.sqlite does not contain WDDM context data.\n",
            "\n",
            "Processing [report1.sqlite] with [/usr/local/cuda-12.1/nsight-systems-2023.1.2/host-linux-x64/reports/um_sum.py]... \n",
            "SKIPPED: report1.sqlite does not contain CUDA Unified Memory CPU page faults data.\n",
            "\n",
            "Processing [report1.sqlite] with [/usr/local/cuda-12.1/nsight-systems-2023.1.2/host-linux-x64/reports/um_total_sum.py]... \n",
            "SKIPPED: report1.sqlite does not contain CUDA Unified Memory CPU page faults data.\n",
            "\n",
            "Processing [report1.sqlite] with [/usr/local/cuda-12.1/nsight-systems-2023.1.2/host-linux-x64/reports/um_cpu_page_faults_sum.py]... \n",
            "SKIPPED: report1.sqlite does not contain CUDA Unified Memory CPU page faults data.\n",
            "\n",
            "Processing [report1.sqlite] with [/usr/local/cuda-12.1/nsight-systems-2023.1.2/host-linux-x64/reports/openacc_sum.py]... \n",
            "SKIPPED: report1.sqlite does not contain OpenACC event data.\n",
            "\n"
          ]
        }
      ]
    },
    {
      "cell_type": "code",
      "source": [],
      "metadata": {
        "id": "U-Cmx3CRlR0K"
      },
      "execution_count": null,
      "outputs": []
    }
  ]
}