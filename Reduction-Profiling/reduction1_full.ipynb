{
  "nbformat": 4,
  "nbformat_minor": 0,
  "metadata": {
    "colab": {
      "provenance": [],
      "gpuType": "T4"
    },
    "kernelspec": {
      "name": "python3",
      "display_name": "Python 3"
    },
    "language_info": {
      "name": "python"
    },
    "accelerator": "GPU"
  },
  "cells": [
    {
      "cell_type": "code",
      "execution_count": 17,
      "metadata": {
        "colab": {
          "base_uri": "https://localhost:8080/"
        },
        "id": "oFFmHjTGaUkn",
        "outputId": "bb849c67-9453-4f35-89d5-9acd8ad31f37"
      },
      "outputs": [
        {
          "output_type": "stream",
          "name": "stdout",
          "text": [
            "Writing four.cu\n"
          ]
        }
      ],
      "source": [
        "%%writefile four.cu\n",
        "\n",
        "#include \"cuda_runtime.h\"\n",
        "#include \"device_launch_parameters.h\"\n",
        "#include <iostream>\n",
        "#include <numeric>\n",
        "#include <chrono>\n",
        "\n",
        "// REDUCTION 1 – Interleaved Addressing without branch divergence\n",
        "__global__ void reduce1(int *g_in_data, int *g_out_data){\n",
        "    extern __shared__ int sdata[];  // stored in the shared memory\n",
        "\n",
        "    // Each thread loading one element from global onto shared memory\n",
        "    unsigned int tid = threadIdx.x;\n",
        "    unsigned int i = blockIdx.x * blockDim.x + threadIdx.x;\n",
        "    sdata[tid] = g_in_data[i];\n",
        "    __syncthreads();\n",
        "\n",
        "    // Reduction method -- occurs in shared memory\n",
        "    for(unsigned int s = 1; s < blockDim.x; s *= 2){\n",
        "        // note the stride as s *= 2 : this causes the interleaving addressing\n",
        "        int index = 2 * s * tid;    // now we don't need a diverging branch from the if condition\n",
        "        if (index + s < blockDim.x)\n",
        "        {\n",
        "            sdata[index] += sdata[index + s];   // s is used to denote the offset that will be combined\n",
        "        }\n",
        "        __syncthreads();\n",
        "    }\n",
        "    if (tid == 0){\n",
        "        g_out_data[blockIdx.x] = sdata[0];\n",
        "    }\n",
        "}\n",
        "\n",
        "// I hope to use this main file for all of the reduction files\n",
        "int main(){\n",
        "    int n = 1 << 22; // Increase to about 4M elements\n",
        "    size_t bytes = n * sizeof(int);\n",
        "\n",
        "    // Host/CPU arrays\n",
        "    int *host_input_data = new int[n];\n",
        "    int *host_output_data = new int[(n + 255) / 256]; // to have sufficient size for output array\n",
        "\n",
        "    // Device/GPU arrays\n",
        "    int *dev_input_data, *dev_output_data;\n",
        "\n",
        "    // Init data\n",
        "    srand(42); // Fixed seed\n",
        "    for (int i = 0; i < n; i++){\n",
        "        host_input_data[i] = rand() % 100;\n",
        "    }\n",
        "\n",
        "    // Allocating memory on GPU for device arrays\n",
        "    cudaMalloc(&dev_input_data, bytes);\n",
        "    cudaMalloc(&dev_output_data, (n + 255) / 256 * sizeof(int));\n",
        "\n",
        "    // Copying our data onto the device (GPU)\n",
        "    cudaMemcpy(dev_input_data, host_input_data, bytes, cudaMemcpyHostToDevice);\n",
        "\n",
        "    int blockSize = 256; // number of threads per block\n",
        "\n",
        "    auto start = std::chrono::high_resolution_clock::now(); // start timer\n",
        "\n",
        "    // Launch Kernel and Synchronize threads\n",
        "    int num_blocks = (n + blockSize - 1) / blockSize;\n",
        "    cudaError_t err;\n",
        "    reduce1<<<num_blocks, blockSize, blockSize * sizeof(int)>>>(dev_input_data, dev_output_data);\n",
        "    err = cudaGetLastError();\n",
        "    if (err != cudaSuccess) {\n",
        "        std::cerr << \"CUDA error: \" << cudaGetErrorString(err) << std::endl;\n",
        "    }\n",
        "    cudaDeviceSynchronize();\n",
        "\n",
        "    auto stop = std::chrono::high_resolution_clock::now();\n",
        "    auto duration = std::chrono::duration_cast<std::chrono::microseconds>(stop - start).count() / 1000.0; // duration in milliseconds with three decimal points\n",
        "\n",
        "    // Copying data back to the host (CPU)\n",
        "    cudaMemcpy(host_output_data, dev_output_data, (n + 255) / 256 * sizeof(int), cudaMemcpyDeviceToHost);\n",
        "\n",
        "    // Final reduction on the host\n",
        "    int finalResult = host_output_data[0];\n",
        "    for (int i = 1; i < (n + 255) / 256; ++i) {\n",
        "        finalResult += host_output_data[i];\n",
        "    }\n",
        "\n",
        "    // CPU Summation for verification\n",
        "    int cpuResult = std::accumulate(host_input_data, host_input_data + n, 0);\n",
        "    if (cpuResult == finalResult) {\n",
        "        std::cout << \"\\033[32m\"; // Set text color to green\n",
        "        std::cout << \"Verification successful: GPU result matches CPU result.\\n\";\n",
        "        std::cout << \"GPU Result: \" << finalResult << \", CPU Result: \" << cpuResult << std::endl;\n",
        "    } else {\n",
        "        std::cout << \"\\033[31m\"; // Set text color to red\n",
        "        std::cout << \"Verification failed: GPU result (\" << finalResult << \") does not match CPU result (\" << cpuResult << \").\\n\";\n",
        "        std::cout << \"GPU Result: \" << finalResult << \", CPU Result: \" << cpuResult << std::endl;\n",
        "    }\n",
        "    std::cout << \"\\033[0m\"; // Reset text color to default\n",
        "\n",
        "    double bandwidth = (duration > 0) ? (bytes / duration / 1e6) : 0; // computed in GB/s, handling zero duration\n",
        "    std::cout << \"Reduced result: \" << finalResult << std::endl;\n",
        "    std::cout << \"Time elapsed: \" << duration << \" ms\" << std::endl;\n",
        "    std::cout << \"Effective bandwidth: \" << bandwidth << \" GB/s\" << std::endl;\n",
        "\n",
        "    // Freeing memory\n",
        "    cudaFree(dev_input_data);\n",
        "    cudaFree(dev_output_data);\n",
        "    delete[] host_input_data;\n",
        "    delete[] host_output_data;\n",
        "}"
      ]
    },
    {
      "cell_type": "code",
      "source": [
        "!nvcc -arch=sm_75 one.cu -o one -lineinfo"
      ],
      "metadata": {
        "id": "XwnlxmSiaY_0"
      },
      "execution_count": 4,
      "outputs": []
    },
    {
      "cell_type": "code",
      "source": [
        "!./one"
      ],
      "metadata": {
        "colab": {
          "base_uri": "https://localhost:8080/"
        },
        "id": "RQtSj1Ycaimn",
        "outputId": "c410c4bf-76ad-40e5-9db6-e1c862a39c80"
      },
      "execution_count": 5,
      "outputs": [
        {
          "output_type": "stream",
          "name": "stdout",
          "text": [
            "\u001b[32mVerification successful: GPU result matches CPU result.\n",
            "GPU Result: 207451054, CPU Result: 207451054\n",
            "\u001b[0mReduced result: 207451054\n",
            "Time elapsed: 0.661 ms\n",
            "Effective bandwidth: 25.3816 GB/s\n"
          ]
        }
      ]
    },
    {
      "cell_type": "code",
      "source": [
        "!nvcc -arch=sm_75 two.cu -o two -O1 -lineinfo"
      ],
      "metadata": {
        "id": "UCo4-w7tn3sl"
      },
      "execution_count": 12,
      "outputs": []
    },
    {
      "cell_type": "code",
      "source": [
        "!./two"
      ],
      "metadata": {
        "colab": {
          "base_uri": "https://localhost:8080/"
        },
        "id": "_wEAtKF3n3RQ",
        "outputId": "3826e958-3c33-4cd0-908e-8b92902ede9c"
      },
      "execution_count": 13,
      "outputs": [
        {
          "output_type": "stream",
          "name": "stdout",
          "text": [
            "\u001b[32mVerification successful: GPU result matches CPU result.\n",
            "GPU Result: 207451054, CPU Result: 207451054\n",
            "\u001b[0mReduced result: 207451054\n",
            "Time elapsed: 0.641 ms\n",
            "Effective bandwidth: 26.1735 GB/s\n"
          ]
        }
      ]
    },
    {
      "cell_type": "code",
      "source": [
        "!nvcc -arch=sm_75 three.cu -o three -O2 -lineinfo"
      ],
      "metadata": {
        "id": "W7O0JIgxoPQv"
      },
      "execution_count": 15,
      "outputs": []
    },
    {
      "cell_type": "code",
      "source": [
        "!./three"
      ],
      "metadata": {
        "colab": {
          "base_uri": "https://localhost:8080/"
        },
        "id": "ypNMrPGZoPEQ",
        "outputId": "89a0d900-c7df-408b-9436-e2a677ddba71"
      },
      "execution_count": 16,
      "outputs": [
        {
          "output_type": "stream",
          "name": "stdout",
          "text": [
            "\u001b[32mVerification successful: GPU result matches CPU result.\n",
            "GPU Result: 207451054, CPU Result: 207451054\n",
            "\u001b[0mReduced result: 207451054\n",
            "Time elapsed: 0.633 ms\n",
            "Effective bandwidth: 26.5043 GB/s\n"
          ]
        }
      ]
    },
    {
      "cell_type": "code",
      "source": [
        "!nvcc -arch=sm_75 four.cu -o four -O3 -lineinfo"
      ],
      "metadata": {
        "id": "9450LXn5obmx"
      },
      "execution_count": 18,
      "outputs": []
    },
    {
      "cell_type": "code",
      "source": [
        "!./four"
      ],
      "metadata": {
        "colab": {
          "base_uri": "https://localhost:8080/"
        },
        "id": "o6W3_ZyBobaP",
        "outputId": "7a5e9e54-3c17-4ea9-ea98-74ed3034223f"
      },
      "execution_count": 19,
      "outputs": [
        {
          "output_type": "stream",
          "name": "stdout",
          "text": [
            "\u001b[32mVerification successful: GPU result matches CPU result.\n",
            "GPU Result: 207451054, CPU Result: 207451054\n",
            "\u001b[0mReduced result: 207451054\n",
            "Time elapsed: 0.643 ms\n",
            "Effective bandwidth: 26.0921 GB/s\n"
          ]
        }
      ]
    },
    {
      "cell_type": "code",
      "source": [
        "! set -x \\\n",
        "&& cd $(mktemp -d) \\\n",
        "&& wget https://developer.download.nvidia.com/compute/cuda/12.1.0/local_installers/cuda_12.1.0_530.30.02_linux.run \\\n",
        "&& sudo sh cuda_12.1.0_530.30.02_linux.run --silent --toolkit \\\n",
        "&& rm cuda_12.1.0_530.30.02_linux.run"
      ],
      "metadata": {
        "colab": {
          "base_uri": "https://localhost:8080/"
        },
        "id": "2i1D0nmDikxO",
        "outputId": "1cdb8d8a-9e21-43cb-f7d1-f7eb88a474bd"
      },
      "execution_count": 22,
      "outputs": [
        {
          "output_type": "stream",
          "name": "stdout",
          "text": [
            "++ mktemp -d\n",
            "+ cd /tmp/tmp.TAG5U5vmg3\n",
            "+ wget https://developer.download.nvidia.com/compute/cuda/12.1.0/local_installers/cuda_12.1.0_530.30.02_linux.run\n",
            "--2025-06-06 09:48:35--  https://developer.download.nvidia.com/compute/cuda/12.1.0/local_installers/cuda_12.1.0_530.30.02_linux.run\n",
            "Resolving developer.download.nvidia.com (developer.download.nvidia.com)... 2.16.106.152, 2.16.106.132\n",
            "Connecting to developer.download.nvidia.com (developer.download.nvidia.com)|2.16.106.152|:443... connected.\n",
            "HTTP request sent, awaiting response... 200 OK\n",
            "Length: 4245586997 (4.0G) [application/octet-stream]\n",
            "Saving to: ‘cuda_12.1.0_530.30.02_linux.run’\n",
            "\n",
            "cuda_12.1.0_530.30. 100%[===================>]   3.95G  91.9MB/s    in 25s     \n",
            "\n",
            "2025-06-06 09:49:01 (165 MB/s) - ‘cuda_12.1.0_530.30.02_linux.run’ saved [4245586997/4245586997]\n",
            "\n",
            "+ sudo sh cuda_12.1.0_530.30.02_linux.run --silent --toolkit\n",
            "+ rm cuda_12.1.0_530.30.02_linux.run\n"
          ]
        }
      ]
    },
    {
      "cell_type": "code",
      "source": [
        "import os\n",
        "os.environ['PATH'] = os.environ['PATH'] + ':/usr/local/cuda/bin/'"
      ],
      "metadata": {
        "id": "1C0U4inejDv2"
      },
      "execution_count": 23,
      "outputs": []
    },
    {
      "cell_type": "code",
      "source": [
        "!nsys --version"
      ],
      "metadata": {
        "colab": {
          "base_uri": "https://localhost:8080/"
        },
        "id": "RGUq9ulqqMzs",
        "outputId": "936e5e1c-4599-443a-991a-524c9d22dca6"
      },
      "execution_count": 24,
      "outputs": [
        {
          "output_type": "stream",
          "name": "stdout",
          "text": [
            "NVIDIA Nsight Systems version 2023.1.2.43-32377213v0\n"
          ]
        }
      ]
    },
    {
      "cell_type": "code",
      "source": [
        "!nsys profile ./one"
      ],
      "metadata": {
        "colab": {
          "base_uri": "https://localhost:8080/"
        },
        "id": "w5iAQGlQqTqL",
        "outputId": "b001152a-75a5-4670-8b57-e08013f6981b"
      },
      "execution_count": 25,
      "outputs": [
        {
          "output_type": "stream",
          "name": "stdout",
          "text": [
            "\u001b[32mVerification successful: GPU result matches CPU result.\n",
            "GPU Result: 207451054, CPU Result: 207451054\n",
            "\u001b[0mReduced result: 207451054\n",
            "Time elapsed: 1.782 ms\n",
            "Effective bandwidth: 9.41482 GB/s\n",
            "Generating '/tmp/nsys-report-2de9.qdstrm'\n",
            "[1/1] [========================100%] report1.nsys-rep\n",
            "Generated:\n",
            "    /content/report1.nsys-rep\n"
          ]
        }
      ]
    },
    {
      "cell_type": "code",
      "source": [
        "!nsys stats report1.nsys-rep"
      ],
      "metadata": {
        "colab": {
          "base_uri": "https://localhost:8080/"
        },
        "id": "kbkmJGH-raOw",
        "outputId": "9f1c6923-d2f9-4274-c5b7-8c73f73345d0"
      },
      "execution_count": 38,
      "outputs": [
        {
          "output_type": "stream",
          "name": "stdout",
          "text": [
            "Generating SQLite file report1.sqlite from report1.nsys-rep\n",
            "\rExporting 2235 events: [1%                                                     ]\rExporting 2235 events: [2%                                                     ]\rExporting 2235 events: [3%                                                     ]\rExporting 2235 events: [4%                                                     ]\rExporting 2235 events: [5%                                                     ]\rExporting 2235 events: [=6%                                                    ]\rExporting 2235 events: [=7%                                                    ]\rExporting 2235 events: [==8%                                                   ]\rExporting 2235 events: [==9%                                                   ]\rExporting 2235 events: [==10%                                                  ]\rExporting 2235 events: [===11%                                                 ]\rExporting 2235 events: [===12%                                                 ]\rExporting 2235 events: [====13%                                                ]\rExporting 2235 events: [====14%                                                ]\rExporting 2235 events: [=====15%                                               ]\rExporting 2235 events: [=====16%                                               ]\rExporting 2235 events: [======17%                                              ]\rExporting 2235 events: [======18%                                              ]\rExporting 2235 events: [=======19%                                             ]\rExporting 2235 events: [========20%                                            ]\rExporting 2235 events: [========21%                                            ]\rExporting 2235 events: [=========22%                                           ]\rExporting 2235 events: [=========23%                                           ]\rExporting 2235 events: [==========24%                                          ]\rExporting 2235 events: [==========25%                                          ]\rExporting 2235 events: [===========26%                                         ]\rExporting 2235 events: [===========27%                                         ]\rExporting 2235 events: [============28%                                        ]\rExporting 2235 events: [============29%                                        ]\rExporting 2235 events: [=============30%                                       ]\rExporting 2235 events: [==============31%                                      ]\rExporting 2235 events: [==============32%                                      ]\rExporting 2235 events: [===============33%                                     ]\rExporting 2235 events: [===============34%                                     ]\rExporting 2235 events: [================35%                                    ]\rExporting 2235 events: [================36%                                    ]\rExporting 2235 events: [=================37%                                   ]\rExporting 2235 events: [=================38%                                   ]\rExporting 2235 events: [==================39%                                  ]\rExporting 2235 events: [===================40%                                 ]\rExporting 2235 events: [===================41%                                 ]\rExporting 2235 events: [====================42%                                ]\rExporting 2235 events: [====================43%                                ]\rExporting 2235 events: [=====================44%                               ]\rExporting 2235 events: [=====================45%                               ]\rExporting 2235 events: [======================46%                              ]\rExporting 2235 events: [======================47%                              ]\rExporting 2235 events: [=======================48%                             ]\rExporting 2235 events: [=======================49%                             ]\rExporting 2235 events: [========================50%                            ]\rExporting 2235 events: [=========================51%                           ]\rExporting 2235 events: [=========================52%                           ]\rExporting 2235 events: [==========================53%                          ]\rExporting 2235 events: [==========================54%                          ]\rExporting 2235 events: [===========================55%                         ]\rExporting 2235 events: [===========================56%                         ]\rExporting 2235 events: [============================57%                        ]\rExporting 2235 events: [============================58%                        ]\rExporting 2235 events: [=============================59%                       ]\rExporting 2235 events: [==============================60%                      ]\rExporting 2235 events: [==============================61%                      ]\rExporting 2235 events: [===============================62%                     ]\rExporting 2235 events: [===============================63%                     ]\rExporting 2235 events: [================================64%                    ]\rExporting 2235 events: [================================65%                    ]\rExporting 2235 events: [=================================66%                   ]\rExporting 2235 events: [=================================67%                   ]\rExporting 2235 events: [==================================68%                  ]\rExporting 2235 events: [==================================69%                  ]\rExporting 2235 events: [===================================70%                 ]\rExporting 2235 events: [====================================71%                ]\rExporting 2235 events: [====================================72%                ]\rExporting 2235 events: [=====================================73%               ]\rExporting 2235 events: [=====================================74%               ]\rExporting 2235 events: [======================================75%              ]\rExporting 2235 events: [======================================76%              ]\rExporting 2235 events: [=======================================77%             ]\rExporting 2235 events: [=======================================78%             ]\rExporting 2235 events: [========================================79%            ]\rExporting 2235 events: [=========================================80%           ]\rExporting 2235 events: [=========================================81%           ]\rExporting 2235 events: [==========================================82%          ]\rExporting 2235 events: [==========================================83%          ]\rExporting 2235 events: [===========================================84%         ]\rExporting 2235 events: [===========================================85%         ]\rExporting 2235 events: [============================================86%        ]\rExporting 2235 events: [============================================87%        ]\rExporting 2235 events: [=============================================88%       ]\rExporting 2235 events: [=============================================89%       ]\rExporting 2235 events: [==============================================90%      ]\rExporting 2235 events: [===============================================91%     ]\rExporting 2235 events: [===============================================92%     ]\rExporting 2235 events: [================================================93%    ]\rExporting 2235 events: [================================================94%    ]\rExporting 2235 events: [=================================================95%   ]\rExporting 2235 events: [=================================================96%   ]\rExporting 2235 events: [==================================================97%  ]\rExporting 2235 events: [==================================================98%  ]\rExporting 2235 events: [===================================================99% ]\rExporting 2235 events: [===================================================100%]\n",
            "Processing [report1.sqlite] with [/usr/local/cuda-12.1/nsight-systems-2023.1.2/host-linux-x64/reports/nvtx_sum.py]... \n",
            "SKIPPED: report1.sqlite does not contain NV Tools Extension (NVTX) data.\n",
            "\n",
            "Processing [report1.sqlite] with [/usr/local/cuda-12.1/nsight-systems-2023.1.2/host-linux-x64/reports/osrt_sum.py]... \n",
            "\n",
            " ** OS Runtime Summary (osrt_sum):\n",
            "\n",
            " Time (%)  Total Time (ns)  Num Calls    Avg (ns)       Med (ns)      Min (ns)     Max (ns)    StdDev (ns)            Name         \n",
            " --------  ---------------  ---------  -------------  -------------  -----------  -----------  ------------  ----------------------\n",
            "     47.8      563,104,470          1  563,104,470.0  563,104,470.0  563,104,470  563,104,470           0.0  sem_wait              \n",
            "     44.0      518,147,306         14   37,010,521.9    4,355,015.0        2,037  316,758,308  84,794,272.0  poll                  \n",
            "      7.2       85,359,212        536      159,252.3       16,862.5          632   25,336,857   1,260,663.4  ioctl                 \n",
            "      0.6        6,658,168          2    3,329,084.0    3,329,084.0        2,242    6,655,926   4,704,865.1  pthread_cond_broadcast\n",
            "      0.2        2,759,831         31       89,026.8       17,835.0       13,758    1,666,869     294,287.9  mmap64                \n",
            "      0.1          643,438         12       53,619.8       17,881.0        1,151      419,480     116,073.2  write                 \n",
            "      0.0          466,750         49        9,525.5        9,325.0        1,983       25,561       3,972.8  open64                \n",
            "      0.0          287,628         47        6,119.7        3,824.0        1,249       48,942       7,727.4  fopen                 \n",
            "      0.0          250,030         16       15,626.9        8,202.0        2,758       85,316      20,068.5  mmap                  \n",
            "      0.0          239,108          4       59,777.0       58,872.0       46,899       74,465      11,356.8  pthread_create        \n",
            "      0.0          118,298         17        6,958.7          122.0           80       99,476      23,974.3  fwrite                \n",
            "      0.0           98,715          1       98,715.0       98,715.0       98,715       98,715           0.0  pthread_cond_wait     \n",
            "      0.0           96,769         39        2,481.3        1,542.0          893       13,752       2,944.9  fclose                \n",
            "      0.0           87,854         49        1,792.9           83.0           44       37,067       6,217.0  fgets                 \n",
            "      0.0           74,317          7       10,616.7        9,344.0        7,563       17,724       3,730.7  munmap                \n",
            "      0.0           69,360          1       69,360.0       69,360.0       69,360       69,360           0.0  sem_timedwait         \n",
            "      0.0           55,828          4       13,957.0       13,025.0       12,723       17,055       2,070.2  putc                  \n",
            "      0.0           38,849         64          607.0          690.5          187          967         207.7  fcntl                 \n",
            "      0.0           35,583          6        5,930.5        6,334.0        1,835        9,925       3,250.0  open                  \n",
            "      0.0           22,027         16        1,376.7        1,143.0          462        2,952         720.0  read                  \n",
            "      0.0           19,901          2        9,950.5        9,950.5        7,034       12,867       4,124.6  socket                \n",
            "      0.0           19,359          3        6,453.0        6,517.0        3,462        9,380       2,959.5  pipe2                 \n",
            "      0.0           11,678          1       11,678.0       11,678.0       11,678       11,678           0.0  connect               \n",
            "      0.0            6,629          1        6,629.0        6,629.0        6,629        6,629           0.0  fopen64               \n",
            "      0.0            3,718          8          464.8          468.5          317          616          96.2  dup                   \n",
            "      0.0            2,153         20          107.7           47.0           41          788         176.8  fflush                \n",
            "      0.0            1,356          1        1,356.0        1,356.0        1,356        1,356           0.0  bind                  \n",
            "      0.0              843          1          843.0          843.0          843          843           0.0  listen                \n",
            "\n",
            "Processing [report1.sqlite] with [/usr/local/cuda-12.1/nsight-systems-2023.1.2/host-linux-x64/reports/cuda_api_sum.py]... \n",
            "\n",
            " ** CUDA API Summary (cuda_api_sum):\n",
            "\n",
            " Time (%)  Total Time (ns)  Num Calls    Avg (ns)       Med (ns)     Min (ns)    Max (ns)     StdDev (ns)            Name         \n",
            " --------  ---------------  ---------  -------------  -------------  ---------  -----------  -------------  ----------------------\n",
            "     97.0      228,694,401          2  114,347,200.5  114,347,200.5    115,035  228,579,366  161,548,677.7  cudaMalloc            \n",
            "      1.8        4,330,016          2    2,165,008.0    2,165,008.0     86,357    4,243,659    2,939,656.4  cudaMemcpy            \n",
            "      0.5        1,252,846          1    1,252,846.0    1,252,846.0  1,252,846    1,252,846            0.0  cudaLaunchKernel      \n",
            "      0.4          998,155          2      499,077.5      499,077.5    218,810      779,345      396,358.1  cudaFree              \n",
            "      0.2          521,166          1      521,166.0      521,166.0    521,166      521,166            0.0  cudaDeviceSynchronize \n",
            "      0.0            1,428          1        1,428.0        1,428.0      1,428        1,428            0.0  cuModuleGetLoadingMode\n",
            "\n",
            "Processing [report1.sqlite] with [/usr/local/cuda-12.1/nsight-systems-2023.1.2/host-linux-x64/reports/cuda_gpu_kern_sum.py]... \n",
            "\n",
            " ** CUDA GPU Kernel Summary (cuda_gpu_kern_sum):\n",
            "\n",
            " Time (%)  Total Time (ns)  Instances  Avg (ns)   Med (ns)   Min (ns)  Max (ns)  StdDev (ns)          Name         \n",
            " --------  ---------------  ---------  ---------  ---------  --------  --------  -----------  ---------------------\n",
            "    100.0          522,099          1  522,099.0  522,099.0   522,099   522,099          0.0  reduce1(int *, int *)\n",
            "\n",
            "Processing [report1.sqlite] with [/usr/local/cuda-12.1/nsight-systems-2023.1.2/host-linux-x64/reports/cuda_gpu_mem_time_sum.py]... \n",
            "\n",
            " ** CUDA GPU MemOps Summary (by Time) (cuda_gpu_mem_time_sum):\n",
            "\n",
            " Time (%)  Total Time (ns)  Count   Avg (ns)     Med (ns)    Min (ns)   Max (ns)   StdDev (ns)      Operation     \n",
            " --------  ---------------  -----  -----------  -----------  ---------  ---------  -----------  ------------------\n",
            "     99.8        3,981,601      1  3,981,601.0  3,981,601.0  3,981,601  3,981,601          0.0  [CUDA memcpy HtoD]\n",
            "      0.2            7,615      1      7,615.0      7,615.0      7,615      7,615          0.0  [CUDA memcpy DtoH]\n",
            "\n",
            "Processing [report1.sqlite] with [/usr/local/cuda-12.1/nsight-systems-2023.1.2/host-linux-x64/reports/cuda_gpu_mem_size_sum.py]... \n",
            "\n",
            " ** CUDA GPU MemOps Summary (by Size) (cuda_gpu_mem_size_sum):\n",
            "\n",
            " Total (MB)  Count  Avg (MB)  Med (MB)  Min (MB)  Max (MB)  StdDev (MB)      Operation     \n",
            " ----------  -----  --------  --------  --------  --------  -----------  ------------------\n",
            "     16.777      1    16.777    16.777    16.777    16.777        0.000  [CUDA memcpy HtoD]\n",
            "      0.066      1     0.066     0.066     0.066     0.066        0.000  [CUDA memcpy DtoH]\n",
            "\n",
            "Processing [report1.sqlite] with [/usr/local/cuda-12.1/nsight-systems-2023.1.2/host-linux-x64/reports/openmp_sum.py]... \n",
            "SKIPPED: report1.sqlite does not contain OpenMP event data.\n",
            "\n",
            "Processing [report1.sqlite] with [/usr/local/cuda-12.1/nsight-systems-2023.1.2/host-linux-x64/reports/opengl_khr_range_sum.py]... \n",
            "SKIPPED: report1.sqlite does not contain KHR Extension (KHR_DEBUG) data.\n",
            "\n",
            "Processing [report1.sqlite] with [/usr/local/cuda-12.1/nsight-systems-2023.1.2/host-linux-x64/reports/opengl_khr_gpu_range_sum.py]... \n",
            "SKIPPED: report1.sqlite does not contain GPU KHR Extension (KHR_DEBUG) data.\n",
            "\n",
            "Processing [report1.sqlite] with [/usr/local/cuda-12.1/nsight-systems-2023.1.2/host-linux-x64/reports/vulkan_marker_sum.py]... \n",
            "SKIPPED: report1.sqlite does not contain Vulkan Debug Extension (Vulkan Debug Util) data.\n",
            "\n",
            "Processing [report1.sqlite] with [/usr/local/cuda-12.1/nsight-systems-2023.1.2/host-linux-x64/reports/vulkan_gpu_marker_sum.py]... \n",
            "SKIPPED: report1.sqlite does not contain GPU Vulkan Debug Extension (GPU Vulkan Debug markers) data.\n",
            "\n",
            "Processing [report1.sqlite] with [/usr/local/cuda-12.1/nsight-systems-2023.1.2/host-linux-x64/reports/dx11_pix_sum.py]... \n",
            "SKIPPED: report1.sqlite does not contain DX11 CPU debug markers.\n",
            "\n",
            "Processing [report1.sqlite] with [/usr/local/cuda-12.1/nsight-systems-2023.1.2/host-linux-x64/reports/dx12_gpu_marker_sum.py]... \n",
            "SKIPPED: report1.sqlite does not contain DX12 GPU debug markers.\n",
            "\n",
            "Processing [report1.sqlite] with [/usr/local/cuda-12.1/nsight-systems-2023.1.2/host-linux-x64/reports/dx12_pix_sum.py]... \n",
            "SKIPPED: report1.sqlite does not contain DX12 CPU debug markers.\n",
            "\n",
            "Processing [report1.sqlite] with [/usr/local/cuda-12.1/nsight-systems-2023.1.2/host-linux-x64/reports/wddm_queue_sum.py]... \n",
            "SKIPPED: report1.sqlite does not contain WDDM context data.\n",
            "\n",
            "Processing [report1.sqlite] with [/usr/local/cuda-12.1/nsight-systems-2023.1.2/host-linux-x64/reports/um_sum.py]... \n",
            "SKIPPED: report1.sqlite does not contain CUDA Unified Memory CPU page faults data.\n",
            "\n",
            "Processing [report1.sqlite] with [/usr/local/cuda-12.1/nsight-systems-2023.1.2/host-linux-x64/reports/um_total_sum.py]... \n",
            "SKIPPED: report1.sqlite does not contain CUDA Unified Memory CPU page faults data.\n",
            "\n",
            "Processing [report1.sqlite] with [/usr/local/cuda-12.1/nsight-systems-2023.1.2/host-linux-x64/reports/um_cpu_page_faults_sum.py]... \n",
            "SKIPPED: report1.sqlite does not contain CUDA Unified Memory CPU page faults data.\n",
            "\n",
            "Processing [report1.sqlite] with [/usr/local/cuda-12.1/nsight-systems-2023.1.2/host-linux-x64/reports/openacc_sum.py]... \n",
            "SKIPPED: report1.sqlite does not contain OpenACC event data.\n",
            "\n"
          ]
        }
      ]
    },
    {
      "cell_type": "code",
      "source": [
        "!ncu --version"
      ],
      "metadata": {
        "colab": {
          "base_uri": "https://localhost:8080/"
        },
        "id": "4bxxenahkbZm",
        "outputId": "55351fa4-13c2-46e7-8b39-7d50720958c9"
      },
      "execution_count": null,
      "outputs": [
        {
          "output_type": "stream",
          "name": "stdout",
          "text": [
            "NVIDIA (R) Nsight Compute Command Line Profiler\n",
            "Copyright (c) 2018-2024 NVIDIA Corporation\n",
            "Version 2024.2.1.0 (build 34372528) (public-release)\n"
          ]
        }
      ]
    },
    {
      "cell_type": "code",
      "source": [
        "!ncu -o reduction_report_no ./one"
      ],
      "metadata": {
        "colab": {
          "base_uri": "https://localhost:8080/"
        },
        "id": "RQ-ew4IkqhiK",
        "outputId": "d1f334bf-0917-4971-dda0-41f53c462fca"
      },
      "execution_count": 28,
      "outputs": [
        {
          "output_type": "stream",
          "name": "stdout",
          "text": [
            "==PROF== Connected to process 6522 (/content/one)\n",
            "==PROF== Profiling \"reduce1(int *, int *)\" - 0: 0%....50%....100% - 9 passes\n",
            "\u001b[32mVerification successful: GPU result matches CPU result.\n",
            "GPU Result: 207451054, CPU Result: 207451054\n",
            "\u001b[0mReduced result: 207451054\n",
            "Time elapsed: 406.358 ms\n",
            "Effective bandwidth: 0.0412868 GB/s\n",
            "==PROF== Disconnected from process 6522\n",
            "==PROF== Report: /content/reduction_report_no.ncu-rep\n"
          ]
        }
      ]
    },
    {
      "cell_type": "code",
      "source": [
        "!ncu -o reduction_report_o1 ./two"
      ],
      "metadata": {
        "colab": {
          "base_uri": "https://localhost:8080/"
        },
        "id": "VzpBc_q-qyVF",
        "outputId": "7aafa6b8-65b5-4371-8e63-cf2ce0df681d"
      },
      "execution_count": 29,
      "outputs": [
        {
          "output_type": "stream",
          "name": "stdout",
          "text": [
            "==PROF== Connected to process 6616 (/content/two)\n",
            "==PROF== Profiling \"reduce1(int *, int *)\" - 0: 0%....50%....100% - 9 passes\n",
            "\u001b[32mVerification successful: GPU result matches CPU result.\n",
            "GPU Result: 207451054, CPU Result: 207451054\n",
            "\u001b[0mReduced result: 207451054\n",
            "Time elapsed: 321.742 ms\n",
            "Effective bandwidth: 0.0521449 GB/s\n",
            "==PROF== Disconnected from process 6616\n",
            "==PROF== Report: /content/reduction_report_o1.ncu-rep\n"
          ]
        }
      ]
    },
    {
      "cell_type": "code",
      "source": [
        "!ncu -o reduction_report_o2 ./three"
      ],
      "metadata": {
        "colab": {
          "base_uri": "https://localhost:8080/"
        },
        "id": "6gm8ehI0q1GS",
        "outputId": "c02ee504-9bbb-412c-a8e8-a45690f58368"
      },
      "execution_count": 30,
      "outputs": [
        {
          "output_type": "stream",
          "name": "stdout",
          "text": [
            "==PROF== Connected to process 6716 (/content/three)\n",
            "==PROF== Profiling \"reduce1(int *, int *)\" - 0: 0%....50%....100% - 9 passes\n",
            "\u001b[32mVerification successful: GPU result matches CPU result.\n",
            "GPU Result: 207451054, CPU Result: 207451054\n",
            "\u001b[0mReduced result: 207451054\n",
            "Time elapsed: 319.959 ms\n",
            "Effective bandwidth: 0.0524355 GB/s\n",
            "==PROF== Disconnected from process 6716\n",
            "==PROF== Report: /content/reduction_report_o2.ncu-rep\n"
          ]
        }
      ]
    },
    {
      "cell_type": "code",
      "source": [
        "!ncu -o reduction_report_o3 ./four"
      ],
      "metadata": {
        "colab": {
          "base_uri": "https://localhost:8080/"
        },
        "id": "YWGLboccq4CI",
        "outputId": "5b598c60-9bfc-4375-f1a7-efeb48bf521f"
      },
      "execution_count": 31,
      "outputs": [
        {
          "output_type": "stream",
          "name": "stdout",
          "text": [
            "==PROF== Connected to process 6810 (/content/four)\n",
            "==PROF== Profiling \"reduce1(int *, int *)\" - 0: 0%....50%....100% - 9 passes\n",
            "\u001b[32mVerification successful: GPU result matches CPU result.\n",
            "GPU Result: 207451054, CPU Result: 207451054\n",
            "\u001b[0mReduced result: 207451054\n",
            "Time elapsed: 305.65 ms\n",
            "Effective bandwidth: 0.0548903 GB/s\n",
            "==PROF== Disconnected from process 6810\n",
            "==PROF== Report: /content/reduction_report_o3.ncu-rep\n"
          ]
        }
      ]
    },
    {
      "cell_type": "code",
      "source": [
        "!nvprof ./one"
      ],
      "metadata": {
        "colab": {
          "base_uri": "https://localhost:8080/"
        },
        "id": "YMMOKrX1q6xN",
        "outputId": "161ef836-c884-43c6-e6b7-db91a237c55a"
      },
      "execution_count": 32,
      "outputs": [
        {
          "output_type": "stream",
          "name": "stdout",
          "text": [
            "==6973== NVPROF is profiling process 6973, command: ./one\n",
            "\u001b[32mVerification successful: GPU result matches CPU result.\n",
            "GPU Result: 207451054, CPU Result: 207451054\n",
            "\u001b[0mReduced result: 207451054\n",
            "Time elapsed: 0.656 ms\n",
            "Effective bandwidth: 25.575 GB/s\n",
            "==6973== Profiling application: ./one\n",
            "==6973== Profiling result:\n",
            "            Type  Time(%)      Time     Calls       Avg       Min       Max  Name\n",
            " GPU activities:   87.16%  3.5945ms         1  3.5945ms  3.5945ms  3.5945ms  [CUDA memcpy HtoD]\n",
            "                   12.65%  521.78us         1  521.78us  521.78us  521.78us  reduce1(int*, int*)\n",
            "                    0.18%  7.5840us         1  7.5840us  7.5840us  7.5840us  [CUDA memcpy DtoH]\n",
            "      API calls:   95.06%  108.23ms         2  54.113ms  76.377us  108.15ms  cudaMalloc\n",
            "                    3.40%  3.8656ms         2  1.9328ms  102.56us  3.7630ms  cudaMemcpy\n",
            "                    0.77%  875.09us         2  437.55us  144.91us  730.18us  cudaFree\n",
            "                    0.46%  522.72us         1  522.72us  522.72us  522.72us  cudaDeviceSynchronize\n",
            "                    0.18%  206.11us       114  1.8070us     185ns  87.806us  cuDeviceGetAttribute\n",
            "                    0.11%  127.76us         1  127.76us  127.76us  127.76us  cudaLaunchKernel\n",
            "                    0.01%  15.098us         1  15.098us  15.098us  15.098us  cuDeviceGetName\n",
            "                    0.01%  8.9440us         1  8.9440us  8.9440us  8.9440us  cuDeviceGetPCIBusId\n",
            "                    0.00%  2.1790us         3     726ns     244ns  1.5920us  cuDeviceGetCount\n",
            "                    0.00%  1.0330us         2     516ns     226ns     807ns  cuDeviceGet\n",
            "                    0.00%     930ns         1     930ns     930ns     930ns  cuDeviceTotalMem\n",
            "                    0.00%     647ns         1     647ns     647ns     647ns  cudaGetLastError\n",
            "                    0.00%     567ns         1     567ns     567ns     567ns  cuModuleGetLoadingMode\n",
            "                    0.00%     357ns         1     357ns     357ns     357ns  cuDeviceGetUuid\n"
          ]
        }
      ]
    },
    {
      "cell_type": "code",
      "source": [
        "!nvprof --print-gpu-trace ./one"
      ],
      "metadata": {
        "colab": {
          "base_uri": "https://localhost:8080/"
        },
        "id": "h1AgCKZirDjQ",
        "outputId": "58c11c81-de1d-485b-fa9e-80706826983b"
      },
      "execution_count": 33,
      "outputs": [
        {
          "output_type": "stream",
          "name": "stdout",
          "text": [
            "==7050== NVPROF is profiling process 7050, command: ./one\n",
            "\u001b[32mVerification successful: GPU result matches CPU result.\n",
            "GPU Result: 207451054, CPU Result: 207451054\n",
            "\u001b[0mReduced result: 207451054\n",
            "Time elapsed: 0.759 ms\n",
            "Effective bandwidth: 22.1044 GB/s\n",
            "==7050== Profiling application: ./one\n",
            "==7050== Profiling result:\n",
            "   Start  Duration            Grid Size      Block Size     Regs*    SSMem*    DSMem*      Size  Throughput  SrcMemType  DstMemType           Device   Context    Stream  Name\n",
            "226.83ms  4.0439ms                    -               -         -         -         -  16.000MB  3.8638GB/s    Pageable      Device     Tesla T4 (0)         1         7  [CUDA memcpy HtoD]\n",
            "231.04ms  521.91us          (16384 1 1)       (256 1 1)        16        0B  1.0000KB         -           -           -           -     Tesla T4 (0)         1         7  reduce1(int*, int*) [128]\n",
            "231.60ms  7.5520us                    -               -         -         -         -  64.000KB  8.0820GB/s      Device    Pageable     Tesla T4 (0)         1         7  [CUDA memcpy DtoH]\n",
            "\n",
            "Regs: Number of registers used per CUDA thread. This number includes registers used internally by the CUDA driver and/or tools and can be more than what the compiler shows.\n",
            "SSMem: Static shared memory allocated per CUDA block.\n",
            "DSMem: Dynamic shared memory allocated per CUDA block.\n",
            "SrcMemType: The type of source memory accessed by memory operation/copy\n",
            "DstMemType: The type of destination memory accessed by memory operation/copy\n"
          ]
        }
      ]
    },
    {
      "cell_type": "code",
      "source": [
        "!nvprof ./two"
      ],
      "metadata": {
        "colab": {
          "base_uri": "https://localhost:8080/"
        },
        "id": "fShhjfYUrHDt",
        "outputId": "939789e1-47b4-4ce8-e8c0-f3ab0a7d661e"
      },
      "execution_count": 34,
      "outputs": [
        {
          "output_type": "stream",
          "name": "stdout",
          "text": [
            "==7089== NVPROF is profiling process 7089, command: ./two\n",
            "\u001b[32mVerification successful: GPU result matches CPU result.\n",
            "GPU Result: 207451054, CPU Result: 207451054\n",
            "\u001b[0mReduced result: 207451054\n",
            "Time elapsed: 0.676 ms\n",
            "Effective bandwidth: 24.8184 GB/s\n",
            "==7089== Profiling application: ./two\n",
            "==7089== Profiling result:\n",
            "            Type  Time(%)      Time     Calls       Avg       Min       Max  Name\n",
            " GPU activities:   87.20%  3.6093ms         1  3.6093ms  3.6093ms  3.6093ms  [CUDA memcpy HtoD]\n",
            "                   12.61%  522.07us         1  522.07us  522.07us  522.07us  reduce1(int*, int*)\n",
            "                    0.18%  7.5840us         1  7.5840us  7.5840us  7.5840us  [CUDA memcpy DtoH]\n",
            "      API calls:   94.98%  106.99ms         2  53.495ms  85.684us  106.90ms  cudaMalloc\n",
            "                    3.45%  3.8811ms         2  1.9406ms  91.547us  3.7896ms  cudaMemcpy\n",
            "                    0.81%  911.90us         2  455.95us  180.65us  731.25us  cudaFree\n",
            "                    0.46%  522.99us         1  522.99us  522.99us  522.99us  cudaDeviceSynchronize\n",
            "                    0.13%  146.86us         1  146.86us  146.86us  146.86us  cudaLaunchKernel\n",
            "                    0.13%  145.02us       114  1.2720us     134ns  58.565us  cuDeviceGetAttribute\n",
            "                    0.02%  27.813us         1  27.813us  27.813us  27.813us  cuDeviceGetPCIBusId\n",
            "                    0.01%  14.291us         1  14.291us  14.291us  14.291us  cuDeviceGetName\n",
            "                    0.00%  1.7400us         3     580ns     167ns  1.3700us  cuDeviceGetCount\n",
            "                    0.00%  1.3800us         2     690ns     179ns  1.2010us  cuDeviceGet\n",
            "                    0.00%     711ns         1     711ns     711ns     711ns  cudaGetLastError\n",
            "                    0.00%     492ns         1     492ns     492ns     492ns  cuDeviceTotalMem\n",
            "                    0.00%     363ns         1     363ns     363ns     363ns  cuModuleGetLoadingMode\n",
            "                    0.00%     228ns         1     228ns     228ns     228ns  cuDeviceGetUuid\n"
          ]
        }
      ]
    },
    {
      "cell_type": "code",
      "source": [
        "!nvprof --print-gpu-trace ./two"
      ],
      "metadata": {
        "colab": {
          "base_uri": "https://localhost:8080/"
        },
        "id": "noxcK9MHrI4F",
        "outputId": "c9228913-0c31-44c3-b67b-b3ff02390f35"
      },
      "execution_count": 35,
      "outputs": [
        {
          "output_type": "stream",
          "name": "stdout",
          "text": [
            "==7182== NVPROF is profiling process 7182, command: ./two\n",
            "\u001b[32mVerification successful: GPU result matches CPU result.\n",
            "GPU Result: 207451054, CPU Result: 207451054\n",
            "\u001b[0mReduced result: 207451054\n",
            "Time elapsed: 0.682 ms\n",
            "Effective bandwidth: 24.6 GB/s\n",
            "==7182== Profiling application: ./two\n",
            "==7182== Profiling result:\n",
            "   Start  Duration            Grid Size      Block Size     Regs*    SSMem*    DSMem*      Size  Throughput  SrcMemType  DstMemType           Device   Context    Stream  Name\n",
            "235.64ms  3.5499ms                    -               -         -         -         -  16.000MB  4.4015GB/s    Pageable      Device     Tesla T4 (0)         1         7  [CUDA memcpy HtoD]\n",
            "239.27ms  521.94us          (16384 1 1)       (256 1 1)        16        0B  1.0000KB         -           -           -           -     Tesla T4 (0)         1         7  reduce1(int*, int*) [128]\n",
            "239.82ms  7.5520us                    -               -         -         -         -  64.000KB  8.0820GB/s      Device    Pageable     Tesla T4 (0)         1         7  [CUDA memcpy DtoH]\n",
            "\n",
            "Regs: Number of registers used per CUDA thread. This number includes registers used internally by the CUDA driver and/or tools and can be more than what the compiler shows.\n",
            "SSMem: Static shared memory allocated per CUDA block.\n",
            "DSMem: Dynamic shared memory allocated per CUDA block.\n",
            "SrcMemType: The type of source memory accessed by memory operation/copy\n",
            "DstMemType: The type of destination memory accessed by memory operation/copy\n"
          ]
        }
      ]
    },
    {
      "cell_type": "code",
      "source": [
        "!nvprof ./three"
      ],
      "metadata": {
        "colab": {
          "base_uri": "https://localhost:8080/"
        },
        "id": "C_qJdKakrNlD",
        "outputId": "5d497a65-7915-4a72-c45c-ad95d638ff09"
      },
      "execution_count": 36,
      "outputs": [
        {
          "output_type": "stream",
          "name": "stdout",
          "text": [
            "==7231== NVPROF is profiling process 7231, command: ./three\n",
            "\u001b[32mVerification successful: GPU result matches CPU result.\n",
            "GPU Result: 207451054, CPU Result: 207451054\n",
            "\u001b[0mReduced result: 207451054\n",
            "Time elapsed: 0.673 ms\n",
            "Effective bandwidth: 24.929 GB/s\n",
            "==7231== Profiling application: ./three\n",
            "==7231== Profiling result:\n",
            "            Type  Time(%)      Time     Calls       Avg       Min       Max  Name\n",
            " GPU activities:   86.98%  3.5383ms         1  3.5383ms  3.5383ms  3.5383ms  [CUDA memcpy HtoD]\n",
            "                   12.83%  522.07us         1  522.07us  522.07us  522.07us  reduce1(int*, int*)\n",
            "                    0.19%  7.5520us         1  7.5520us  7.5520us  7.5520us  [CUDA memcpy DtoH]\n",
            "      API calls:   94.76%  100.81ms         2  50.406ms  86.626us  100.72ms  cudaMalloc\n",
            "                    3.61%  3.8368ms         2  1.9184ms  80.612us  3.7562ms  cudaMemcpy\n",
            "                    0.85%  899.64us         2  449.82us  172.26us  727.39us  cudaFree\n",
            "                    0.49%  523.81us         1  523.81us  523.81us  523.81us  cudaDeviceSynchronize\n",
            "                    0.14%  146.34us       114  1.2830us     130ns  60.556us  cuDeviceGetAttribute\n",
            "                    0.13%  143.31us         1  143.31us  143.31us  143.31us  cudaLaunchKernel\n",
            "                    0.01%  13.192us         1  13.192us  13.192us  13.192us  cuDeviceGetName\n",
            "                    0.01%  6.5560us         1  6.5560us  6.5560us  6.5560us  cuDeviceGetPCIBusId\n",
            "                    0.00%  2.1680us         3     722ns     197ns  1.6660us  cuDeviceGetCount\n",
            "                    0.00%     930ns         2     465ns     206ns     724ns  cuDeviceGet\n",
            "                    0.00%     737ns         1     737ns     737ns     737ns  cuModuleGetLoadingMode\n",
            "                    0.00%     671ns         1     671ns     671ns     671ns  cuDeviceTotalMem\n",
            "                    0.00%     601ns         1     601ns     601ns     601ns  cudaGetLastError\n",
            "                    0.00%     227ns         1     227ns     227ns     227ns  cuDeviceGetUuid\n"
          ]
        }
      ]
    },
    {
      "cell_type": "code",
      "source": [
        "!nvprof ./four"
      ],
      "metadata": {
        "colab": {
          "base_uri": "https://localhost:8080/"
        },
        "id": "cTSI4eBCrPr1",
        "outputId": "86bd676b-e6c8-4718-9a4c-d76f74574caf"
      },
      "execution_count": 37,
      "outputs": [
        {
          "output_type": "stream",
          "name": "stdout",
          "text": [
            "==7268== NVPROF is profiling process 7268, command: ./four\n",
            "\u001b[32mVerification successful: GPU result matches CPU result.\n",
            "GPU Result: 207451054, CPU Result: 207451054\n",
            "\u001b[0mReduced result: 207451054\n",
            "Time elapsed: 0.7 ms\n",
            "Effective bandwidth: 23.9675 GB/s\n",
            "==7268== Profiling application: ./four\n",
            "==7268== Profiling result:\n",
            "            Type  Time(%)      Time     Calls       Avg       Min       Max  Name\n",
            " GPU activities:   87.16%  3.5933ms         1  3.5933ms  3.5933ms  3.5933ms  [CUDA memcpy HtoD]\n",
            "                   12.66%  521.91us         1  521.91us  521.91us  521.91us  reduce1(int*, int*)\n",
            "                    0.18%  7.6160us         1  7.6160us  7.6160us  7.6160us  [CUDA memcpy DtoH]\n",
            "      API calls:   94.94%  105.85ms         2  52.924ms  133.89us  105.71ms  cudaMalloc\n",
            "                    3.46%  3.8547ms         2  1.9274ms  80.017us  3.7747ms  cudaMemcpy\n",
            "                    0.82%  909.25us         2  454.63us  171.44us  737.81us  cudaFree\n",
            "                    0.47%  522.12us         1  522.12us  522.12us  522.12us  cudaDeviceSynchronize\n",
            "                    0.15%  170.41us         1  170.41us  170.41us  170.41us  cudaLaunchKernel\n",
            "                    0.14%  154.28us       114  1.3530us     137ns  60.649us  cuDeviceGetAttribute\n",
            "                    0.02%  17.546us         1  17.546us  17.546us  17.546us  cuDeviceGetName\n",
            "                    0.01%  7.9730us         1  7.9730us  7.9730us  7.9730us  cuDeviceGetPCIBusId\n",
            "                    0.00%  2.5870us         2  1.2930us     301ns  2.2860us  cuDeviceGet\n",
            "                    0.00%  2.0820us         3     694ns     210ns  1.4450us  cuDeviceGetCount\n",
            "                    0.00%     905ns         1     905ns     905ns     905ns  cuDeviceTotalMem\n",
            "                    0.00%     769ns         1     769ns     769ns     769ns  cudaGetLastError\n",
            "                    0.00%     617ns         1     617ns     617ns     617ns  cuModuleGetLoadingMode\n",
            "                    0.00%     239ns         1     239ns     239ns     239ns  cuDeviceGetUuid\n"
          ]
        }
      ]
    },
    {
      "cell_type": "code",
      "source": [],
      "metadata": {
        "id": "o3kw0RKdrRMn"
      },
      "execution_count": null,
      "outputs": []
    }
  ]
}