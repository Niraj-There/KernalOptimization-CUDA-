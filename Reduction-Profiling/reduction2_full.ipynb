{
  "nbformat": 4,
  "nbformat_minor": 0,
  "metadata": {
    "colab": {
      "provenance": [],
      "gpuType": "T4"
    },
    "kernelspec": {
      "name": "python3",
      "display_name": "Python 3"
    },
    "language_info": {
      "name": "python"
    },
    "accelerator": "GPU"
  },
  "cells": [
    {
      "cell_type": "code",
      "source": [
        "%%writefile four.cu\n",
        "\n",
        "#include <iostream>\n",
        "#include<cuda_runtime.h>\n",
        "#include <chrono>\n",
        "#include <numeric>\n",
        "\n",
        "// REDUCTION 2 – Sequence Addressing\n",
        "__global__ void reduce2(int *g_in_data, int *g_out_data){\n",
        "    extern __shared__ int sdata[];  // stored in the shared memory\n",
        "\n",
        "    // Each thread loading one element from global onto shared memory\n",
        "    unsigned int tid = threadIdx.x;\n",
        "    unsigned int i = blockIdx.x * blockDim.x + threadIdx.x;\n",
        "    sdata[tid] = g_in_data[i];\n",
        "    __syncthreads();\n",
        "\n",
        "    // Reduction method -- occurs in shared memory\n",
        "    for(unsigned int s = blockDim.x/2; s > 0; s >>= 1){\n",
        "        // check out the reverse loop above\n",
        "        if (tid < s){   // then, we check threadID to do our computation\n",
        "            sdata[tid] += sdata[tid + s];\n",
        "        }\n",
        "        __syncthreads();\n",
        "    }\n",
        "    if (tid == 0){\n",
        "        g_out_data[blockIdx.x] = sdata[0];\n",
        "    }\n",
        "}\n",
        "\n",
        "// I hope to use this main file for all of the reduction files\n",
        "int main(){\n",
        "    int n = 1 << 22; // Increase to about 4M elements\n",
        "    size_t bytes = n * sizeof(int);\n",
        "\n",
        "    // Host/CPU arrays\n",
        "    int *host_input_data = new int[n];\n",
        "    int *host_output_data = new int[(n + 255) / 256]; // to have sufficient size for output array\n",
        "\n",
        "    // Device/GPU arrays\n",
        "    int *dev_input_data, *dev_output_data;\n",
        "\n",
        "    // Init data\n",
        "    srand(42); // Fixed seed\n",
        "    for (int i = 0; i < n; i++){\n",
        "        host_input_data[i] = rand() % 100;\n",
        "    }\n",
        "\n",
        "    // Allocating memory on GPU for device arrays\n",
        "    cudaMalloc(&dev_input_data, bytes);\n",
        "    cudaMalloc(&dev_output_data, (n + 255) / 256 * sizeof(int));\n",
        "\n",
        "    // Copying our data onto the device (GPU)\n",
        "    cudaMemcpy(dev_input_data, host_input_data, bytes, cudaMemcpyHostToDevice);\n",
        "\n",
        "    int blockSize = 256; // number of threads per block\n",
        "\n",
        "    auto start = std::chrono::high_resolution_clock::now(); // start timer\n",
        "\n",
        "    // Launch Kernel and Synchronize threads\n",
        "    int num_blocks = (n + blockSize - 1) / blockSize;\n",
        "    cudaError_t err;\n",
        "    reduce2<<<num_blocks, blockSize, blockSize * sizeof(int)>>>(dev_input_data, dev_output_data);\n",
        "    err = cudaGetLastError();\n",
        "    if (err != cudaSuccess) {\n",
        "        std::cerr << \"CUDA error: \" << cudaGetErrorString(err) << std::endl;\n",
        "    }\n",
        "    cudaDeviceSynchronize();\n",
        "\n",
        "    auto stop = std::chrono::high_resolution_clock::now();\n",
        "    auto duration = std::chrono::duration_cast<std::chrono::microseconds>(stop - start).count() / 1000.0; // duration in milliseconds with three decimal points\n",
        "\n",
        "    // Copying data back to the host (CPU)\n",
        "    cudaMemcpy(host_output_data, dev_output_data, (n + 255) / 256 * sizeof(int), cudaMemcpyDeviceToHost);\n",
        "\n",
        "    // Final reduction on the host\n",
        "    int finalResult = host_output_data[0];\n",
        "    for (int i = 1; i < (n + 255) / 256; ++i) {\n",
        "        finalResult += host_output_data[i];\n",
        "    }\n",
        "\n",
        "    // CPU Summation for verification\n",
        "    int cpuResult = std::accumulate(host_input_data, host_input_data + n, 0);\n",
        "    if (cpuResult == finalResult) {\n",
        "        std::cout << \"\\033[32m\"; // Set text color to green\n",
        "        std::cout << \"Verification successful: GPU result matches CPU result.\\n\";\n",
        "        std::cout << \"GPU Result: \" << finalResult << \", CPU Result: \" << cpuResult << std::endl;\n",
        "    } else {\n",
        "        std::cout << \"\\033[31m\"; // Set text color to red\n",
        "        std::cout << \"Verification failed: GPU result (\" << finalResult << \") does not match CPU result (\" << cpuResult << \").\\n\";\n",
        "        std::cout << \"GPU Result: \" << finalResult << \", CPU Result: \" << cpuResult << std::endl;\n",
        "    }\n",
        "    std::cout << \"\\033[0m\"; // Reset text color to default\n",
        "\n",
        "    double bandwidth = (duration > 0) ? (bytes / duration / 1e6) : 0; // computed in GB/s, handling zero duration\n",
        "    std::cout << \"Reduced result: \" << finalResult << std::endl;\n",
        "    std::cout << \"Time elapsed: \" << duration << \" ms\" << std::endl;\n",
        "    std::cout << \"Effective bandwidth: \" << bandwidth << \" GB/s\" << std::endl;\n",
        "\n",
        "    // Freeing memory\n",
        "    cudaFree(dev_input_data);\n",
        "    cudaFree(dev_output_data);\n",
        "    delete[] host_input_data;\n",
        "    delete[] host_output_data;\n",
        "}"
      ],
      "metadata": {
        "id": "sH2rt3hHgCj8",
        "colab": {
          "base_uri": "https://localhost:8080/"
        },
        "outputId": "fd69ac30-8a28-4f7e-8b24-66c58f9d3aec"
      },
      "execution_count": null,
      "outputs": [
        {
          "output_type": "stream",
          "name": "stdout",
          "text": [
            "Writing four.cu\n"
          ]
        }
      ]
    },
    {
      "cell_type": "code",
      "source": [
        "!nvcc -arch=sm_75 one.cu -o one"
      ],
      "metadata": {
        "id": "LD40gDQL0BgF"
      },
      "execution_count": null,
      "outputs": []
    },
    {
      "cell_type": "code",
      "source": [
        "!./one"
      ],
      "metadata": {
        "colab": {
          "base_uri": "https://localhost:8080/"
        },
        "id": "fLqCwCcQ0Wlb",
        "outputId": "0a1e465c-9079-4db2-f7a6-a87ccaaa9da1"
      },
      "execution_count": null,
      "outputs": [
        {
          "output_type": "stream",
          "name": "stdout",
          "text": [
            "\u001b[32mVerification successful: GPU result matches CPU result.\n",
            "GPU Result: 207451054, CPU Result: 207451054\n",
            "\u001b[0mReduced result: 207451054\n",
            "Time elapsed: 0.529 ms\n",
            "Effective bandwidth: 31.715 GB/s\n"
          ]
        }
      ]
    },
    {
      "cell_type": "code",
      "source": [
        "!nvcc -arch=sm_75 two.cu -o two -O1 -lineinfo"
      ],
      "metadata": {
        "id": "JyLO_3020bK4"
      },
      "execution_count": null,
      "outputs": []
    },
    {
      "cell_type": "code",
      "source": [
        "!./two"
      ],
      "metadata": {
        "colab": {
          "base_uri": "https://localhost:8080/"
        },
        "id": "CT23_1QC0fKA",
        "outputId": "00585a35-973b-4278-bc10-eebc0473859a"
      },
      "execution_count": null,
      "outputs": [
        {
          "output_type": "stream",
          "name": "stdout",
          "text": [
            "\u001b[32mVerification successful: GPU result matches CPU result.\n",
            "GPU Result: 207451054, CPU Result: 207451054\n",
            "\u001b[0mReduced result: 207451054\n",
            "Time elapsed: 0.521 ms\n",
            "Effective bandwidth: 32.202 GB/s\n"
          ]
        }
      ]
    },
    {
      "cell_type": "code",
      "source": [
        "!nvcc -arch=sm_75 three.cu -o three -O2 -lineinfo"
      ],
      "metadata": {
        "id": "Z2Jubyoa0pgD"
      },
      "execution_count": null,
      "outputs": []
    },
    {
      "cell_type": "code",
      "source": [
        "!./three"
      ],
      "metadata": {
        "colab": {
          "base_uri": "https://localhost:8080/"
        },
        "id": "NMiOBHWp0zGH",
        "outputId": "09660451-49d2-4aa8-da81-28a398e213e5"
      },
      "execution_count": null,
      "outputs": [
        {
          "output_type": "stream",
          "name": "stdout",
          "text": [
            "\u001b[32mVerification successful: GPU result matches CPU result.\n",
            "GPU Result: 207451054, CPU Result: 207451054\n",
            "\u001b[0mReduced result: 207451054\n",
            "Time elapsed: 0.513 ms\n",
            "Effective bandwidth: 32.7041 GB/s\n"
          ]
        }
      ]
    },
    {
      "cell_type": "code",
      "source": [
        "!nvcc -arch=sm_75 four.cu -o four -O3 -lineinfo"
      ],
      "metadata": {
        "id": "c15V7beM03ln"
      },
      "execution_count": null,
      "outputs": []
    },
    {
      "cell_type": "code",
      "source": [
        "!./four"
      ],
      "metadata": {
        "colab": {
          "base_uri": "https://localhost:8080/"
        },
        "id": "0X49zyhh1II5",
        "outputId": "8afa1b4b-35e3-46dc-ba62-f4fbc04088c7"
      },
      "execution_count": null,
      "outputs": [
        {
          "output_type": "stream",
          "name": "stdout",
          "text": [
            "\u001b[32mVerification successful: GPU result matches CPU result.\n",
            "GPU Result: 207451054, CPU Result: 207451054\n",
            "\u001b[0mReduced result: 207451054\n",
            "Time elapsed: 0.568 ms\n",
            "Effective bandwidth: 29.5374 GB/s\n"
          ]
        }
      ]
    },
    {
      "cell_type": "code",
      "source": [
        "! set -x \\\n",
        "&& cd $(mktemp -d) \\\n",
        "&& wget https://developer.download.nvidia.com/compute/cuda/12.1.0/local_installers/cuda_12.1.0_530.30.02_linux.run \\\n",
        "&& sudo sh cuda_12.1.0_530.30.02_linux.run --silent --toolkit \\\n",
        "&& rm cuda_12.1.0_530.30.02_linux.run"
      ],
      "metadata": {
        "colab": {
          "base_uri": "https://localhost:8080/"
        },
        "id": "MaGzbPiP1J5v",
        "outputId": "2c3142e0-decb-4143-97d0-c3f32cfd1d38"
      },
      "execution_count": null,
      "outputs": [
        {
          "output_type": "stream",
          "name": "stdout",
          "text": [
            "++ mktemp -d\n",
            "+ cd /tmp/tmp.vKkHq9sFRK\n",
            "+ wget https://developer.download.nvidia.com/compute/cuda/12.1.0/local_installers/cuda_12.1.0_530.30.02_linux.run\n",
            "--2025-06-06 06:07:37--  https://developer.download.nvidia.com/compute/cuda/12.1.0/local_installers/cuda_12.1.0_530.30.02_linux.run\n",
            "Resolving developer.download.nvidia.com (developer.download.nvidia.com)... 23.52.40.50, 23.52.40.64\n",
            "Connecting to developer.download.nvidia.com (developer.download.nvidia.com)|23.52.40.50|:443... connected.\n",
            "HTTP request sent, awaiting response... 200 OK\n",
            "Length: 4245586997 (4.0G) [application/octet-stream]\n",
            "Saving to: ‘cuda_12.1.0_530.30.02_linux.run’\n",
            "\n",
            "cuda_12.1.0_530.30. 100%[===================>]   3.95G   200MB/s    in 26s     \n",
            "\n",
            "2025-06-06 06:08:03 (158 MB/s) - ‘cuda_12.1.0_530.30.02_linux.run’ saved [4245586997/4245586997]\n",
            "\n",
            "+ sudo sh cuda_12.1.0_530.30.02_linux.run --silent --toolkit\n",
            "+ rm cuda_12.1.0_530.30.02_linux.run\n"
          ]
        }
      ]
    },
    {
      "cell_type": "code",
      "source": [
        "import os\n",
        "os.environ['PATH'] = os.environ['PATH'] + ':/usr/local/cuda/bin/'"
      ],
      "metadata": {
        "id": "G_bFTddh2hbt"
      },
      "execution_count": null,
      "outputs": []
    },
    {
      "cell_type": "code",
      "source": [
        "!ncu --version"
      ],
      "metadata": {
        "colab": {
          "base_uri": "https://localhost:8080/"
        },
        "id": "FI15beBi3ffT",
        "outputId": "4413ebc9-dfc5-429a-aa68-15290c4af0ad"
      },
      "execution_count": null,
      "outputs": [
        {
          "output_type": "stream",
          "name": "stdout",
          "text": [
            "NVIDIA (R) Nsight Compute Command Line Profiler\n",
            "Copyright (c) 2018-2024 NVIDIA Corporation\n",
            "Version 2024.2.1.0 (build 34372528) (public-release)\n"
          ]
        }
      ]
    },
    {
      "cell_type": "code",
      "source": [
        "!ncu -o reduction_report_no ./one"
      ],
      "metadata": {
        "colab": {
          "base_uri": "https://localhost:8080/"
        },
        "id": "kjKCbrPN3gu_",
        "outputId": "3aa2e9ad-179e-473c-ae0c-b1be66a5bc6a"
      },
      "execution_count": null,
      "outputs": [
        {
          "output_type": "stream",
          "name": "stdout",
          "text": [
            "==PROF== Connected to process 5942 (/content/one)\n",
            "==PROF== Profiling \"reduce2(int *, int *)\" - 0: 0%....50%....100% - 9 passes\n",
            "\u001b[32mVerification successful: GPU result matches CPU result.\n",
            "GPU Result: 207451054, CPU Result: 207451054\n",
            "\u001b[0mReduced result: 207451054\n",
            "Time elapsed: 300.084 ms\n",
            "Effective bandwidth: 0.0559084 GB/s\n",
            "==PROF== Disconnected from process 5942\n",
            "==PROF== Report: /content/reduction_report_no.ncu-rep\n"
          ]
        }
      ]
    },
    {
      "cell_type": "code",
      "source": [
        "!ncu -o reduction_report_o1 ./two"
      ],
      "metadata": {
        "colab": {
          "base_uri": "https://localhost:8080/"
        },
        "id": "SdPrCzb53pGT",
        "outputId": "6f11489b-4dd6-4804-8c09-e877232fcfc2"
      },
      "execution_count": null,
      "outputs": [
        {
          "output_type": "stream",
          "name": "stdout",
          "text": [
            "==PROF== Connected to process 6092 (/content/two)\n",
            "==PROF== Profiling \"reduce2(int *, int *)\" - 0: 0%....50%....100% - 9 passes\n",
            "\u001b[32mVerification successful: GPU result matches CPU result.\n",
            "GPU Result: 207451054, CPU Result: 207451054\n",
            "\u001b[0mReduced result: 207451054\n",
            "Time elapsed: 297.156 ms\n",
            "Effective bandwidth: 0.0564593 GB/s\n",
            "==PROF== Disconnected from process 6092\n",
            "==PROF== Report: /content/reduction_report_o1.ncu-rep\n"
          ]
        }
      ]
    },
    {
      "cell_type": "code",
      "source": [
        "!ncu -o reduction_report_o2 ./three"
      ],
      "metadata": {
        "colab": {
          "base_uri": "https://localhost:8080/"
        },
        "id": "E-cLh_8433j3",
        "outputId": "a89a6ffa-d98c-4afa-8295-54ce393e81ac"
      },
      "execution_count": null,
      "outputs": [
        {
          "output_type": "stream",
          "name": "stdout",
          "text": [
            "==PROF== Connected to process 6204 (/content/three)\n",
            "==PROF== Profiling \"reduce2(int *, int *)\" - 0: 0%....50%....100% - 9 passes\n",
            "\u001b[32mVerification successful: GPU result matches CPU result.\n",
            "GPU Result: 207451054, CPU Result: 207451054\n",
            "\u001b[0mReduced result: 207451054\n",
            "Time elapsed: 302.64 ms\n",
            "Effective bandwidth: 0.0554362 GB/s\n",
            "==PROF== Disconnected from process 6204\n",
            "==PROF== Report: /content/reduction_report_o2.ncu-rep\n"
          ]
        }
      ]
    },
    {
      "cell_type": "code",
      "source": [
        "!ncu -o reduction_report_o3 ./three"
      ],
      "metadata": {
        "colab": {
          "base_uri": "https://localhost:8080/"
        },
        "id": "3I3rCF9H37GX",
        "outputId": "b5c8138e-4731-4c37-dde5-1de2b0c20fc0"
      },
      "execution_count": null,
      "outputs": [
        {
          "output_type": "stream",
          "name": "stdout",
          "text": [
            "==PROF== Connected to process 6294 (/content/three)\n",
            "==PROF== Profiling \"reduce2(int *, int *)\" - 0: 0%....50%....100% - 9 passes\n",
            "\u001b[32mVerification successful: GPU result matches CPU result.\n",
            "GPU Result: 207451054, CPU Result: 207451054\n",
            "\u001b[0mReduced result: 207451054\n",
            "Time elapsed: 301.558 ms\n",
            "Effective bandwidth: 0.0556351 GB/s\n",
            "==PROF== Disconnected from process 6294\n",
            "==PROF== Report: /content/reduction_report_o3.ncu-rep\n"
          ]
        }
      ]
    },
    {
      "cell_type": "code",
      "source": [
        "!nvprof --version"
      ],
      "metadata": {
        "colab": {
          "base_uri": "https://localhost:8080/"
        },
        "id": "aaqMgWGM4P5L",
        "outputId": "94303197-93c4-4bb9-93c4-6c57ea96b91c"
      },
      "execution_count": null,
      "outputs": [
        {
          "output_type": "stream",
          "name": "stdout",
          "text": [
            "nvprof: NVIDIA (R) Cuda command line profiler\n",
            "Copyright (c) 2012 - 2023 NVIDIA Corporation\n",
            "Release version 12.1.55 (21)\n"
          ]
        }
      ]
    },
    {
      "cell_type": "code",
      "source": [
        "!nvprof ./one"
      ],
      "metadata": {
        "colab": {
          "base_uri": "https://localhost:8080/"
        },
        "id": "DPTay6JR4SQn",
        "outputId": "7e3ecb8f-db5f-4127-85ac-0493f0ae9cd2"
      },
      "execution_count": null,
      "outputs": [
        {
          "output_type": "stream",
          "name": "stdout",
          "text": [
            "==6900== NVPROF is profiling process 6900, command: ./one\n",
            "\u001b[32mVerification successful: GPU result matches CPU result.\n",
            "GPU Result: 207451054, CPU Result: 207451054\n",
            "\u001b[0mReduced result: 207451054\n",
            "Time elapsed: 1.729 ms\n",
            "Effective bandwidth: 9.70342 GB/s\n",
            "==6900== Profiling application: ./one\n",
            "==6900== Profiling result:\n",
            "            Type  Time(%)      Time     Calls       Avg       Min       Max  Name\n",
            " GPU activities:   89.44%  3.5865ms         1  3.5865ms  3.5865ms  3.5865ms  [CUDA memcpy HtoD]\n",
            "                   10.38%  416.06us         1  416.06us  416.06us  416.06us  reduce2(int*, int*)\n",
            "                    0.19%  7.5190us         1  7.5190us  7.5190us  7.5190us  [CUDA memcpy DtoH]\n",
            "      API calls:   96.74%  196.17ms         2  98.083ms  79.746us  196.09ms  cudaMalloc\n",
            "                    1.89%  3.8327ms         2  1.9164ms  76.542us  3.7562ms  cudaMemcpy\n",
            "                    0.64%  1.3061ms         1  1.3061ms  1.3061ms  1.3061ms  cudaLaunchKernel\n",
            "                    0.43%  863.83us         2  431.91us  137.56us  726.27us  cudaFree\n",
            "                    0.20%  415.64us         1  415.64us  415.64us  415.64us  cudaDeviceSynchronize\n",
            "                    0.08%  164.14us       114  1.4390us     130ns  72.274us  cuDeviceGetAttribute\n",
            "                    0.01%  11.582us         1  11.582us  11.582us  11.582us  cuDeviceGetName\n",
            "                    0.00%  8.4320us         1  8.4320us  8.4320us  8.4320us  cuDeviceGetPCIBusId\n",
            "                    0.00%  1.6170us         3     539ns     175ns  1.1770us  cuDeviceGetCount\n",
            "                    0.00%     996ns         1     996ns     996ns     996ns  cudaGetLastError\n",
            "                    0.00%     873ns         2     436ns     171ns     702ns  cuDeviceGet\n",
            "                    0.00%     496ns         1     496ns     496ns     496ns  cuDeviceTotalMem\n",
            "                    0.00%     461ns         1     461ns     461ns     461ns  cuModuleGetLoadingMode\n",
            "                    0.00%     198ns         1     198ns     198ns     198ns  cuDeviceGetUuid\n"
          ]
        }
      ]
    },
    {
      "cell_type": "code",
      "source": [
        "!nvprof --print-gpu-trace ./one"
      ],
      "metadata": {
        "colab": {
          "base_uri": "https://localhost:8080/"
        },
        "id": "5KclKgU-4gPq",
        "outputId": "1d97727d-f5cb-4319-b7a9-98e0b2858fa8"
      },
      "execution_count": null,
      "outputs": [
        {
          "output_type": "stream",
          "name": "stdout",
          "text": [
            "==7079== NVPROF is profiling process 7079, command: ./one\n",
            "\u001b[32mVerification successful: GPU result matches CPU result.\n",
            "GPU Result: 207451054, CPU Result: 207451054\n",
            "\u001b[0mReduced result: 207451054\n",
            "Time elapsed: 0.562 ms\n",
            "Effective bandwidth: 29.8527 GB/s\n",
            "==7079== Profiling application: ./one\n",
            "==7079== Profiling result:\n",
            "   Start  Duration            Grid Size      Block Size     Regs*    SSMem*    DSMem*      Size  Throughput  SrcMemType  DstMemType           Device   Context    Stream  Name\n",
            "333.89ms  3.5764ms                    -               -         -         -         -  16.000MB  4.3689GB/s    Pageable      Device     Tesla T4 (0)         1         7  [CUDA memcpy HtoD]\n",
            "337.54ms  416.28us          (16384 1 1)       (256 1 1)        16        0B  1.0000KB         -           -           -           -     Tesla T4 (0)         1         7  reduce2(int*, int*) [128]\n",
            "337.97ms  7.5520us                    -               -         -         -         -  64.000KB  8.0820GB/s      Device    Pageable     Tesla T4 (0)         1         7  [CUDA memcpy DtoH]\n",
            "\n",
            "Regs: Number of registers used per CUDA thread. This number includes registers used internally by the CUDA driver and/or tools and can be more than what the compiler shows.\n",
            "SSMem: Static shared memory allocated per CUDA block.\n",
            "DSMem: Dynamic shared memory allocated per CUDA block.\n",
            "SrcMemType: The type of source memory accessed by memory operation/copy\n",
            "DstMemType: The type of destination memory accessed by memory operation/copy\n"
          ]
        }
      ]
    },
    {
      "cell_type": "code",
      "source": [
        "!nvprof ./two"
      ],
      "metadata": {
        "colab": {
          "base_uri": "https://localhost:8080/"
        },
        "id": "3JzJvSXP4qCY",
        "outputId": "98716934-5e98-48ea-ee97-cb995253a1e5"
      },
      "execution_count": null,
      "outputs": [
        {
          "output_type": "stream",
          "name": "stdout",
          "text": [
            "==7138== NVPROF is profiling process 7138, command: ./two\n",
            "\u001b[32mVerification successful: GPU result matches CPU result.\n",
            "GPU Result: 207451054, CPU Result: 207451054\n",
            "\u001b[0mReduced result: 207451054\n",
            "Time elapsed: 0.566 ms\n",
            "Effective bandwidth: 29.6417 GB/s\n",
            "==7138== Profiling application: ./two\n",
            "==7138== Profiling result:\n",
            "            Type  Time(%)      Time     Calls       Avg       Min       Max  Name\n",
            " GPU activities:   89.15%  3.4828ms         1  3.4828ms  3.4828ms  3.4828ms  [CUDA memcpy HtoD]\n",
            "                   10.66%  416.25us         1  416.25us  416.25us  416.25us  reduce2(int*, int*)\n",
            "                    0.19%  7.5840us         1  7.5840us  7.5840us  7.5840us  [CUDA memcpy DtoH]\n",
            "      API calls:   97.37%  196.53ms         2  98.266ms  74.663us  196.46ms  cudaMalloc\n",
            "                    1.85%  3.7301ms         2  1.8650ms  83.383us  3.6467ms  cudaMemcpy\n",
            "                    0.42%  857.15us         2  428.58us  124.55us  732.61us  cudaFree\n",
            "                    0.21%  416.80us         1  416.80us  416.80us  416.80us  cudaDeviceSynchronize\n",
            "                    0.07%  143.21us         1  143.21us  143.21us  143.21us  cudaLaunchKernel\n",
            "                    0.06%  130.45us       114  1.1440us     137ns  51.242us  cuDeviceGetAttribute\n",
            "                    0.01%  12.613us         1  12.613us  12.613us  12.613us  cuDeviceGetName\n",
            "                    0.00%  6.9530us         1  6.9530us  6.9530us  6.9530us  cuDeviceGetPCIBusId\n",
            "                    0.00%  1.7350us         3     578ns     184ns  1.2740us  cuDeviceGetCount\n",
            "                    0.00%     909ns         2     454ns     236ns     673ns  cuDeviceGet\n",
            "                    0.00%     850ns         1     850ns     850ns     850ns  cudaGetLastError\n",
            "                    0.00%     705ns         1     705ns     705ns     705ns  cuModuleGetLoadingMode\n",
            "                    0.00%     490ns         1     490ns     490ns     490ns  cuDeviceTotalMem\n",
            "                    0.00%     240ns         1     240ns     240ns     240ns  cuDeviceGetUuid\n"
          ]
        }
      ]
    },
    {
      "cell_type": "code",
      "source": [
        "!nvprof --print-gpu-trace ./two"
      ],
      "metadata": {
        "colab": {
          "base_uri": "https://localhost:8080/"
        },
        "id": "tdg5yLqA4suU",
        "outputId": "5cad2b05-fac7-4fa1-a000-d2b22e35990b"
      },
      "execution_count": null,
      "outputs": [
        {
          "output_type": "stream",
          "name": "stdout",
          "text": [
            "==7457== NVPROF is profiling process 7457, command: ./two\n",
            "\u001b[32mVerification successful: GPU result matches CPU result.\n",
            "GPU Result: 207451054, CPU Result: 207451054\n",
            "\u001b[0mReduced result: 207451054\n",
            "Time elapsed: 0.55 ms\n",
            "Effective bandwidth: 30.504 GB/s\n",
            "==7457== Profiling application: ./two\n",
            "==7457== Profiling result:\n",
            "   Start  Duration            Grid Size      Block Size     Regs*    SSMem*    DSMem*      Size  Throughput  SrcMemType  DstMemType           Device   Context    Stream  Name\n",
            "327.37ms  3.4773ms                    -               -         -         -         -  16.000MB  4.4934GB/s    Pageable      Device     Tesla T4 (0)         1         7  [CUDA memcpy HtoD]\n",
            "330.90ms  416.28us          (16384 1 1)       (256 1 1)        16        0B  1.0000KB         -           -           -           -     Tesla T4 (0)         1         7  reduce2(int*, int*) [128]\n",
            "331.35ms  7.6480us                    -               -         -         -         -  64.000KB  7.9805GB/s      Device    Pageable     Tesla T4 (0)         1         7  [CUDA memcpy DtoH]\n",
            "\n",
            "Regs: Number of registers used per CUDA thread. This number includes registers used internally by the CUDA driver and/or tools and can be more than what the compiler shows.\n",
            "SSMem: Static shared memory allocated per CUDA block.\n",
            "DSMem: Dynamic shared memory allocated per CUDA block.\n",
            "SrcMemType: The type of source memory accessed by memory operation/copy\n",
            "DstMemType: The type of destination memory accessed by memory operation/copy\n"
          ]
        }
      ]
    },
    {
      "cell_type": "code",
      "source": [
        "!nvprof ./three"
      ],
      "metadata": {
        "colab": {
          "base_uri": "https://localhost:8080/"
        },
        "id": "xamD5yw64xJ8",
        "outputId": "97853548-998d-4d3c-f60c-4da0d651072a"
      },
      "execution_count": null,
      "outputs": [
        {
          "output_type": "stream",
          "name": "stdout",
          "text": [
            "==7488== NVPROF is profiling process 7488, command: ./three\n",
            "\u001b[32mVerification successful: GPU result matches CPU result.\n",
            "GPU Result: 207451054, CPU Result: 207451054\n",
            "\u001b[0mReduced result: 207451054\n",
            "Time elapsed: 0.584 ms\n",
            "Effective bandwidth: 28.7281 GB/s\n",
            "==7488== Profiling application: ./three\n",
            "==7488== Profiling result:\n",
            "            Type  Time(%)      Time     Calls       Avg       Min       Max  Name\n",
            " GPU activities:   89.39%  3.5683ms         1  3.5683ms  3.5683ms  3.5683ms  [CUDA memcpy HtoD]\n",
            "                   10.42%  416.09us         1  416.09us  416.09us  416.09us  reduce2(int*, int*)\n",
            "                    0.19%  7.5520us         1  7.5520us  7.5520us  7.5520us  [CUDA memcpy DtoH]\n",
            "      API calls:   97.41%  209.16ms         2  104.58ms  122.82us  209.04ms  cudaMalloc\n",
            "                    1.79%  3.8352ms         2  1.9176ms  93.196us  3.7420ms  cudaMemcpy\n",
            "                    0.46%  992.63us         2  496.31us  198.29us  794.33us  cudaFree\n",
            "                    0.19%  417.01us         1  417.01us  417.01us  417.01us  cudaDeviceSynchronize\n",
            "                    0.07%  159.99us         1  159.99us  159.99us  159.99us  cudaLaunchKernel\n",
            "                    0.06%  134.81us       114  1.1820us     132ns  54.909us  cuDeviceGetAttribute\n",
            "                    0.01%  13.470us         1  13.470us  13.470us  13.470us  cuDeviceGetName\n",
            "                    0.00%  6.2520us         1  6.2520us  6.2520us  6.2520us  cuDeviceGetPCIBusId\n",
            "                    0.00%  2.1780us         3     726ns     175ns  1.7350us  cuDeviceGetCount\n",
            "                    0.00%  1.1730us         2     586ns     174ns     999ns  cuDeviceGet\n",
            "                    0.00%     779ns         1     779ns     779ns     779ns  cudaGetLastError\n",
            "                    0.00%     562ns         1     562ns     562ns     562ns  cuModuleGetLoadingMode\n",
            "                    0.00%     471ns         1     471ns     471ns     471ns  cuDeviceTotalMem\n",
            "                    0.00%     223ns         1     223ns     223ns     223ns  cuDeviceGetUuid\n"
          ]
        }
      ]
    },
    {
      "cell_type": "code",
      "source": [
        "!nvprof --print-gpu-trace ./three"
      ],
      "metadata": {
        "colab": {
          "base_uri": "https://localhost:8080/"
        },
        "id": "M5lQBISz4zC_",
        "outputId": "bf78bb46-716a-409d-c363-7d0bc3990d20"
      },
      "execution_count": null,
      "outputs": [
        {
          "output_type": "stream",
          "name": "stdout",
          "text": [
            "==7349== NVPROF is profiling process 7349, command: ./three\n",
            "\u001b[32mVerification successful: GPU result matches CPU result.\n",
            "GPU Result: 207451054, CPU Result: 207451054\n",
            "\u001b[0mReduced result: 207451054\n",
            "Time elapsed: 0.559 ms\n",
            "Effective bandwidth: 30.0129 GB/s\n",
            "==7349== Profiling application: ./three\n",
            "==7349== Profiling result:\n",
            "   Start  Duration            Grid Size      Block Size     Regs*    SSMem*    DSMem*      Size  Throughput  SrcMemType  DstMemType           Device   Context    Stream  Name\n",
            "335.16ms  3.5946ms                    -               -         -         -         -  16.000MB  4.3468GB/s    Pageable      Device     Tesla T4 (0)         1         7  [CUDA memcpy HtoD]\n",
            "338.82ms  416.09us          (16384 1 1)       (256 1 1)        16        0B  1.0000KB         -           -           -           -     Tesla T4 (0)         1         7  reduce2(int*, int*) [128]\n",
            "339.26ms  7.5190us                    -               -         -         -         -  64.000KB  8.1175GB/s      Device    Pageable     Tesla T4 (0)         1         7  [CUDA memcpy DtoH]\n",
            "\n",
            "Regs: Number of registers used per CUDA thread. This number includes registers used internally by the CUDA driver and/or tools and can be more than what the compiler shows.\n",
            "SSMem: Static shared memory allocated per CUDA block.\n",
            "DSMem: Dynamic shared memory allocated per CUDA block.\n",
            "SrcMemType: The type of source memory accessed by memory operation/copy\n",
            "DstMemType: The type of destination memory accessed by memory operation/copy\n"
          ]
        }
      ]
    },
    {
      "cell_type": "code",
      "source": [
        "!nvprof ./four"
      ],
      "metadata": {
        "colab": {
          "base_uri": "https://localhost:8080/"
        },
        "id": "Q70-hGMq426A",
        "outputId": "6767f3a0-e869-4d37-d911-eae446dcfb92"
      },
      "execution_count": null,
      "outputs": [
        {
          "output_type": "stream",
          "name": "stdout",
          "text": [
            "==7578== NVPROF is profiling process 7578, command: ./four\n",
            "\u001b[32mVerification successful: GPU result matches CPU result.\n",
            "GPU Result: 207451054, CPU Result: 207451054\n",
            "\u001b[0mReduced result: 207451054\n",
            "Time elapsed: 0.565 ms\n",
            "Effective bandwidth: 29.6942 GB/s\n",
            "==7578== Profiling application: ./four\n",
            "==7578== Profiling result:\n",
            "            Type  Time(%)      Time     Calls       Avg       Min       Max  Name\n",
            " GPU activities:   89.14%  3.4796ms         1  3.4796ms  3.4796ms  3.4796ms  [CUDA memcpy HtoD]\n",
            "                   10.67%  416.38us         1  416.38us  416.38us  416.38us  reduce2(int*, int*)\n",
            "                    0.19%  7.5840us         1  7.5840us  7.5840us  7.5840us  [CUDA memcpy DtoH]\n",
            "      API calls:   97.49%  208.05ms         2  104.03ms  79.381us  207.98ms  cudaMalloc\n",
            "                    1.75%  3.7357ms         2  1.8679ms  77.613us  3.6581ms  cudaMemcpy\n",
            "                    0.41%  874.20us         2  437.10us  147.63us  726.57us  cudaFree\n",
            "                    0.20%  417.08us         1  417.08us  417.08us  417.08us  cudaDeviceSynchronize\n",
            "                    0.07%  156.10us       114  1.3690us     133ns  71.162us  cuDeviceGetAttribute\n",
            "                    0.07%  142.17us         1  142.17us  142.17us  142.17us  cudaLaunchKernel\n",
            "                    0.01%  14.932us         1  14.932us  14.932us  14.932us  cuDeviceGetName\n",
            "                    0.00%  7.3370us         1  7.3370us  7.3370us  7.3370us  cuDeviceGetPCIBusId\n",
            "                    0.00%  2.1270us         3     709ns     205ns  1.6620us  cuDeviceGetCount\n",
            "                    0.00%     789ns         2     394ns     218ns     571ns  cuDeviceGet\n",
            "                    0.00%     736ns         1     736ns     736ns     736ns  cuModuleGetLoadingMode\n",
            "                    0.00%     528ns         1     528ns     528ns     528ns  cuDeviceTotalMem\n",
            "                    0.00%     520ns         1     520ns     520ns     520ns  cudaGetLastError\n",
            "                    0.00%     223ns         1     223ns     223ns     223ns  cuDeviceGetUuid\n"
          ]
        }
      ]
    },
    {
      "cell_type": "code",
      "source": [
        "!nvprof --print-gpu-trace ./four"
      ],
      "metadata": {
        "colab": {
          "base_uri": "https://localhost:8080/"
        },
        "id": "CYxGtoTh5BrZ",
        "outputId": "f849cd42-cdae-4512-b449-b303742aee49"
      },
      "execution_count": null,
      "outputs": [
        {
          "output_type": "stream",
          "name": "stdout",
          "text": [
            "==7630== NVPROF is profiling process 7630, command: ./four\n",
            "\u001b[32mVerification successful: GPU result matches CPU result.\n",
            "GPU Result: 207451054, CPU Result: 207451054\n",
            "\u001b[0mReduced result: 207451054\n",
            "Time elapsed: 0.584 ms\n",
            "Effective bandwidth: 28.7281 GB/s\n",
            "==7630== Profiling application: ./four\n",
            "==7630== Profiling result:\n",
            "   Start  Duration            Grid Size      Block Size     Regs*    SSMem*    DSMem*      Size  Throughput  SrcMemType  DstMemType           Device   Context    Stream  Name\n",
            "373.85ms  4.2482ms                    -               -         -         -         -  16.000MB  3.6780GB/s    Pageable      Device     Tesla T4 (0)         1         7  [CUDA memcpy HtoD]\n",
            "378.19ms  416.03us          (16384 1 1)       (256 1 1)        16        0B  1.0000KB         -           -           -           -     Tesla T4 (0)         1         7  reduce2(int*, int*) [128]\n",
            "378.63ms  7.5190us                    -               -         -         -         -  64.000KB  8.1175GB/s      Device    Pageable     Tesla T4 (0)         1         7  [CUDA memcpy DtoH]\n",
            "\n",
            "Regs: Number of registers used per CUDA thread. This number includes registers used internally by the CUDA driver and/or tools and can be more than what the compiler shows.\n",
            "SSMem: Static shared memory allocated per CUDA block.\n",
            "DSMem: Dynamic shared memory allocated per CUDA block.\n",
            "SrcMemType: The type of source memory accessed by memory operation/copy\n",
            "DstMemType: The type of destination memory accessed by memory operation/copy\n"
          ]
        }
      ]
    },
    {
      "cell_type": "code",
      "source": [
        "!nsys --version"
      ],
      "metadata": {
        "colab": {
          "base_uri": "https://localhost:8080/"
        },
        "id": "ksDRZ3fn5EAd",
        "outputId": "70d72e41-d7f3-4063-8fc1-b2732c296c9e"
      },
      "execution_count": null,
      "outputs": [
        {
          "output_type": "stream",
          "name": "stdout",
          "text": [
            "NVIDIA Nsight Systems version 2023.1.2.43-32377213v0\n"
          ]
        }
      ]
    },
    {
      "cell_type": "code",
      "source": [
        "!nsys profile ./one"
      ],
      "metadata": {
        "colab": {
          "base_uri": "https://localhost:8080/"
        },
        "id": "TrJDv7c15ZmC",
        "outputId": "72e79090-c6b6-47ef-b03c-67e287cf47ee"
      },
      "execution_count": null,
      "outputs": [
        {
          "output_type": "stream",
          "name": "stdout",
          "text": [
            "\u001b[32mVerification successful: GPU result matches CPU result.\n",
            "GPU Result: 207451054, CPU Result: 207451054\n",
            "\u001b[0mReduced result: 207451054\n",
            "Time elapsed: 0.585 ms\n",
            "Effective bandwidth: 28.679 GB/s\n",
            "Generating '/tmp/nsys-report-b68b.qdstrm'\n",
            "[1/1] [========================100%] report2.nsys-rep\n",
            "Generated:\n",
            "    /content/report2.nsys-rep\n"
          ]
        }
      ]
    },
    {
      "cell_type": "code",
      "source": [
        "!ls"
      ],
      "metadata": {
        "colab": {
          "base_uri": "https://localhost:8080/"
        },
        "id": "WY-XXLCn5e74",
        "outputId": "bab8b2fb-3fc7-46c6-c2e3-f98700faa93e"
      },
      "execution_count": null,
      "outputs": [
        {
          "output_type": "stream",
          "name": "stdout",
          "text": [
            "four\t reduction_report.ncu-rep     report1.nsys-rep\ttwo\n",
            "four.cu  reduction_report_no.ncu-rep  report2.nsys-rep\ttwo.cu\n",
            "one\t reduction_report_o1.ncu-rep  sample_data\n",
            "one.cu\t reduction_report_o2.ncu-rep  three\n",
            "onw.cu\t reduction_report_o3.ncu-rep  three.cu\n"
          ]
        }
      ]
    },
    {
      "cell_type": "code",
      "source": [
        "from google.colab import files\n",
        "files.download('report2.nsys-rep')"
      ],
      "metadata": {
        "colab": {
          "base_uri": "https://localhost:8080/",
          "height": 17
        },
        "id": "wEE6a5796OP9",
        "outputId": "58f8f6d5-e002-4663-c9fd-986aeee8b371"
      },
      "execution_count": null,
      "outputs": [
        {
          "output_type": "display_data",
          "data": {
            "text/plain": [
              "<IPython.core.display.Javascript object>"
            ],
            "application/javascript": [
              "\n",
              "    async function download(id, filename, size) {\n",
              "      if (!google.colab.kernel.accessAllowed) {\n",
              "        return;\n",
              "      }\n",
              "      const div = document.createElement('div');\n",
              "      const label = document.createElement('label');\n",
              "      label.textContent = `Downloading \"${filename}\": `;\n",
              "      div.appendChild(label);\n",
              "      const progress = document.createElement('progress');\n",
              "      progress.max = size;\n",
              "      div.appendChild(progress);\n",
              "      document.body.appendChild(div);\n",
              "\n",
              "      const buffers = [];\n",
              "      let downloaded = 0;\n",
              "\n",
              "      const channel = await google.colab.kernel.comms.open(id);\n",
              "      // Send a message to notify the kernel that we're ready.\n",
              "      channel.send({})\n",
              "\n",
              "      for await (const message of channel.messages) {\n",
              "        // Send a message to notify the kernel that we're ready.\n",
              "        channel.send({})\n",
              "        if (message.buffers) {\n",
              "          for (const buffer of message.buffers) {\n",
              "            buffers.push(buffer);\n",
              "            downloaded += buffer.byteLength;\n",
              "            progress.value = downloaded;\n",
              "          }\n",
              "        }\n",
              "      }\n",
              "      const blob = new Blob(buffers, {type: 'application/binary'});\n",
              "      const a = document.createElement('a');\n",
              "      a.href = window.URL.createObjectURL(blob);\n",
              "      a.download = filename;\n",
              "      div.appendChild(a);\n",
              "      a.click();\n",
              "      div.remove();\n",
              "    }\n",
              "  "
            ]
          },
          "metadata": {}
        },
        {
          "output_type": "display_data",
          "data": {
            "text/plain": [
              "<IPython.core.display.Javascript object>"
            ],
            "application/javascript": [
              "download(\"download_5a5910fe-76aa-40ed-813a-06a026c07ed1\", \"report2.nsys-rep\", 251896)"
            ]
          },
          "metadata": {}
        }
      ]
    },
    {
      "cell_type": "code",
      "source": [
        "!nsys stats --help"
      ],
      "metadata": {
        "colab": {
          "base_uri": "https://localhost:8080/"
        },
        "id": "71Z1x6aS8FM4",
        "outputId": "27a6ba28-66d5-461d-b83d-146e2a7a793f"
      },
      "execution_count": null,
      "outputs": [
        {
          "output_type": "stream",
          "name": "stdout",
          "text": [
            "\n",
            "usage: nsys stats [<args>] <input-file>\n",
            "\n",
            "<input-file> : Read data from a .nsys-rep or exported .sqlite file.\n",
            "\n",
            "\t-f, --format <name[:args...][,name[:args...]...]>\n",
            "\n",
            "           Specify the output format. The special name \".\" indicates the\n",
            "           default format for the given output.\n",
            "\n",
            "           The default format for console is:    column\n",
            "           The default format for files is:      csv\n",
            "           The default format for processes is:  csv\n",
            "\n",
            "           Available formats (and file extensions):\n",
            "\n",
            "             column     Human readable columns (.txt)\n",
            "             table      Human readable table (.txt)\n",
            "             csv        Comma Separated Values (.csv)\n",
            "             tsv        Tab Separated Values (.tsv)\n",
            "             json       JavaScript Object Notation (.json)\n",
            "             hdoc       HTML5 document with <table> (.html)\n",
            "             htable     Raw HTML <table> (.html)\n",
            "\n",
            "           This option may be used multiple times. Multiple formats may also\n",
            "           be specified using a comma-separated list.\n",
            "\n",
            "\t--force-export [true|false]\n",
            "\n",
            "           Force a re-export of the SQLite file from the specified .nsys-rep file,\n",
            "           even if an SQLite file already exists.\n",
            "\n",
            "\t--force-overwrite [true|false]\n",
            "\n",
            "           Overwrite any existing output file(s).\n",
            "\n",
            "\t-h, --help=[<tag>]\n",
            "\n",
            "\t   Print the command's help menu. The switch can take one optional\n",
            "\t   argument that will be used as a tag. If a tag is provided, only options\n",
            "\t   relevant to the tag will be printed.\n",
            "\t   The available help menu tags for this command are:\n",
            "\n",
            "\t   export, format, help, output, report, reports, sql, sqlite, stats, time, and units.\n",
            "\n",
            "\t--help-formats [<format_name>|ALL]\n",
            "\n",
            "           With no argument, list a summary of the available output formats.\n",
            "           If a format name is given, a more detailed explanation of the\n",
            "           the format is displayed. If 'ALL' is given, a more detailed\n",
            "           explanation of all available formats is displayed.\n",
            "\n",
            "\t--help-reports [<report_name>|ALL]\n",
            "\n",
            "           With no argument, list a summary of the available summary and\n",
            "           trace reports. If a report name is given, a more detailed\n",
            "           explanation of the report is displayed. If 'ALL' is given, a\n",
            "           more detailed explanation of all available reports is displayed.\n",
            "\n",
            "\t-o, --output <output>\n",
            "\n",
            "           Specify the output mechanism. There are three output mechanisms:\n",
            "           print to console, output to file, or output to command. If no\n",
            "           outputs are designated, the default is to print rules to the\n",
            "           console.\n",
            "\n",
            "           This option may be used multiple times. Multiple outputs may also\n",
            "           be specified using a comma-separated list.\n",
            "\n",
            "           If the given output name is \"-\", the output will be displayed\n",
            "           on the console. If the output name starts with \"@\", the output\n",
            "           designates a command to run. The nsys command will be executed and\n",
            "           the analysis output will be piped into the command. Any other output\n",
            "           is assumed to be the base path and name for a file.\n",
            "\n",
            "           If a file basename is given, the filename used will be:\n",
            "\n",
            "              <basename>_<analysis&args>.<output_format>\n",
            "\n",
            "           The default base (including path) is the name of the SQLite file\n",
            "           (as derived from the input file or --sqlite option), minus the\n",
            "           extension. The output \".\" can be used to indicate the analysis\n",
            "           should be output to a file, and the default basename should be\n",
            "           used. To write one or more analysis outputs to files using the\n",
            "           default basename, use the option: \"--output .\".\n",
            "\n",
            "           If the output starts with \"@\", the nsys command output is piped to\n",
            "           the given command. The command is run, and the output\n",
            "           is piped to the command's stdin (standard-input). The command's\n",
            "           stdout and stderr remain attached to the console, so any output\n",
            "           will be displayed directly to the console.\n",
            "\n",
            "           Be aware there are some limitations in how the command string is\n",
            "           parsed. No shell expansions (including *, ?, [], and ~) are\n",
            "           supported. The command cannot be piped to another command, nor\n",
            "           redirected to a file using shell syntax. The command and command\n",
            "           arguments are split on whitespace, and no quotes (within the command\n",
            "           syntax) are supported. For commands that require complex command\n",
            "           line syntax, it is suggested that the command be put into a shell\n",
            "           script file, and the script designated as the output command.\n",
            "\n",
            "\t-q, --quiet\n",
            "\n",
            "           Only display errors.\n",
            "\n",
            "\t-r, --report <name[:args...][,name[:args...]...]>\n",
            "\n",
            "           Specify the report(s) to generate, including any arguments. This\n",
            "           option may be used multiple times. Multiple reports may also be\n",
            "           specified using a comma-separated list.\n",
            "\n",
            "           If no reports are given, the following will be used as the\n",
            "           default report set:\n",
            "             nvtx_sum\n",
            "             osrt_sum\n",
            "             cuda_api_sum\n",
            "             cuda_gpu_kern_sum\n",
            "             cuda_gpu_mem_time_sum\n",
            "             cuda_gpu_mem_size_sum\n",
            "             openmp_sum\n",
            "             opengl_khr_range_sum\n",
            "             opengl_khr_gpu_range_sum\n",
            "             vulkan_marker_sum\n",
            "             vulkan_gpu_marker_sum\n",
            "             dx11_pix_sum\n",
            "             dx12_gpu_marker_sum\n",
            "             dx12_pix_sum\n",
            "             wddm_queue_sum\n",
            "             um_sum\n",
            "             um_total_sum\n",
            "             um_cpu_page_faults_sum\n",
            "             openacc_sum\n",
            "\n",
            "           See --help-reports for a list of built-in reports, along with more\n",
            "           information on each report.\n",
            "\n",
            "\t--report-dir <path>\n",
            "\n",
            "           Add one or more directories to the path used to find report scripts.\n",
            "           This is usually only needed if you have one or more directories with\n",
            "           personal scripts. This option may be used multiple times. Each use\n",
            "           adds additional directories to the end of the path.\n",
            "\n",
            "           A search path can also be defined using the environment variable\n",
            "           \"NSYS_STATS_REPORT_PATH\". Directories added this way will\n",
            "           be added after the application flags.\n",
            "\n",
            "           The last two entries in the path will always be the current working\n",
            "           directory, followed by the directory containing the packaged nsys\n",
            "           reports.\n",
            "\n",
            "\t--sqlite <file.sqlite>\n",
            "\n",
            "           Specify the SQLite export filename. If this file exists, it will\n",
            "           be used. If this file doesn't exist (or if --force-export was given)\n",
            "           this file will be created from the specified .nsys-rep file before\n",
            "           processing. This option cannot be used if the specified input\n",
            "           file is also an SQLite file.\n",
            "\n",
            "\t--timeunit <time unit>\n",
            "\n",
            "           Set basic unit of time. The default is nanoseconds.\n",
            "           Longest prefix matching is done on the following units:\n",
            "\n",
            "              nsec nanoseconds usec microseconds msec milliseconds seconds\n",
            "\n",
            "           Prefix matching means that, in addition to the full unit names,\n",
            "           prefixes can be used to specify a time unit. For example, \"sec\" can\n",
            "           be used to specify \"seconds\", \"us\" for \"usec\" (microseconds), or\n",
            "           \"milli\" for \"milliseconds\". This is similar to passing a\n",
            "           \":time=<unit>\" argument to every formatter, although the formatter\n",
            "           uses more strict naming conventions. See \"nsys stats --help-formats\n",
            "           column\" for more detailed information on unit conversion.\n",
            "\n",
            "\n",
            "  The \"nsys stats\" command generates a series of summary or trace reports.\n",
            "  These reports can be output to the console, or to individual files. Reports\n",
            "  can be presented in a variety of different output formats from human-readable\n",
            "  columns of text, to formats more appropriate for data exchange, such as CSV.\n",
            "\n",
            "  Reports are generated from an SQLite export of a .nsys-rep file. If a .nsys-rep file\n",
            "  is specified, nsys will look for an accompanying SQLite file and use it. If\n",
            "  no SQLite file exists, one will be exported and created.\n",
            "\n",
            "  Individual reports are generated by calling out to scripts that read data\n",
            "  from the SQLite file and return their report data in CSV format. Nsys ingests\n",
            "  this data and formats it as requested, then displays the data to the console\n",
            "  or writes it to a file. Adding new reports is as simple as writing a script\n",
            "  that can read the SQLite file and generate the required CSV output. See the\n",
            "  shipped scripts as an example. Both reports and formatters may take arguments\n",
            "  to tweak their processing.\n",
            "\n",
            "  Reports are processed using a three-tuple that consists of 1) the report name\n",
            "  (and any arguments), 2) the presentation format (and any arguments), and\n",
            "  3) the output (filename, console, or external process). The first report\n",
            "  specified uses the first format specified, and is presented via the first\n",
            "  output specified. The second report uses the second format for the second\n",
            "  output, and so forth. If more reports are specified than formats or outputs,\n",
            "  the format and/or output list is expanded to match the number of provided\n",
            "  reports by repeating the last specified element of the list (or the default,\n",
            "  if nothing was specified).\n",
            "\n",
            "  EXAMPLES\n",
            "\n",
            "  This command will output the default reports to the console using the default\n",
            "  (\"column\") format:\n",
            "\n",
            "    $ nsys stats report1.nsys-rep\n",
            "\n",
            "\n",
            "  This command will output the \"cuda_gpu_trace\" report to the console in column\n",
            "  format:\n",
            "\n",
            "    $ nsys stats --report cuda_gpu_trace report1.nsys-rep\n",
            "\n",
            "\n",
            "  This command will generate three reports. The \"cuda_gpu_trace\" report will be\n",
            "  output to the file \"report1_cuda_gpu_trace.csv\" in CSV format. The other two\n",
            "  reports, \"cuda_gpu_kern_sum\" and \"cuda_api_sum\", will be output to the\n",
            "  console as columns of data. Although three reports were given, only two\n",
            "  formats and outputs are given. To reconcile this, both the list of formats\n",
            "  and outputs is expanded to match the list of reports by repeating the last\n",
            "  element:\n",
            "\n",
            "    $ nsys stats --report cuda_gpu_trace --report cuda_gpu_kern_sum --report \\\n",
            "            cuda_api_sum --format csv,column --output .,- report1.nsys-rep\n",
            "\n",
            "\n",
            "  This command generates one report, outputting the report to the \"grep\"\n",
            "  command. The grep command is used to filter out everything but the header,\n",
            "  formatting, and the \"cudaFree\" data, and displays the results to the console:\n",
            "\n",
            "    $ nsys stats --report cuda_api_sum --format table \\\n",
            "            --output @\"grep -E (-|Name|cudaFree)\" test.sqlite\n",
            "\n"
          ]
        }
      ]
    },
    {
      "cell_type": "code",
      "source": [
        "!nsys stats report2.nsys-rep"
      ],
      "metadata": {
        "colab": {
          "base_uri": "https://localhost:8080/"
        },
        "id": "OQ-25zph8H1m",
        "outputId": "53af0bed-cbe5-48b2-95dd-2f088128b0c4"
      },
      "execution_count": null,
      "outputs": [
        {
          "output_type": "stream",
          "name": "stdout",
          "text": [
            "Generating SQLite file report2.sqlite from report2.nsys-rep\n",
            "\rExporting 1845 events: [1%                                                     ]\rExporting 1845 events: [2%                                                     ]\rExporting 1845 events: [3%                                                     ]\rExporting 1845 events: [4%                                                     ]\rExporting 1845 events: [5%                                                     ]\rExporting 1845 events: [=6%                                                    ]\rExporting 1845 events: [=7%                                                    ]\rExporting 1845 events: [==8%                                                   ]\rExporting 1845 events: [==9%                                                   ]\rExporting 1845 events: [==10%                                                  ]\rExporting 1845 events: [===11%                                                 ]\rExporting 1845 events: [===12%                                                 ]\rExporting 1845 events: [====13%                                                ]\rExporting 1845 events: [====14%                                                ]\rExporting 1845 events: [=====15%                                               ]\rExporting 1845 events: [=====16%                                               ]\rExporting 1845 events: [======17%                                              ]\rExporting 1845 events: [======18%                                              ]\rExporting 1845 events: [=======19%                                             ]\rExporting 1845 events: [========20%                                            ]\rExporting 1845 events: [========21%                                            ]\rExporting 1845 events: [=========22%                                           ]\rExporting 1845 events: [=========23%                                           ]\rExporting 1845 events: [==========24%                                          ]\rExporting 1845 events: [==========25%                                          ]\rExporting 1845 events: [===========26%                                         ]\rExporting 1845 events: [===========27%                                         ]\rExporting 1845 events: [============28%                                        ]\rExporting 1845 events: [============29%                                        ]\rExporting 1845 events: [=============30%                                       ]\rExporting 1845 events: [==============31%                                      ]\rExporting 1845 events: [==============32%                                      ]\rExporting 1845 events: [===============33%                                     ]\rExporting 1845 events: [===============34%                                     ]\rExporting 1845 events: [================35%                                    ]\rExporting 1845 events: [================36%                                    ]\rExporting 1845 events: [=================37%                                   ]\rExporting 1845 events: [=================38%                                   ]\rExporting 1845 events: [==================39%                                  ]\rExporting 1845 events: [===================40%                                 ]\rExporting 1845 events: [===================41%                                 ]\rExporting 1845 events: [====================42%                                ]\rExporting 1845 events: [====================43%                                ]\rExporting 1845 events: [=====================44%                               ]\rExporting 1845 events: [=====================45%                               ]\rExporting 1845 events: [======================46%                              ]\rExporting 1845 events: [======================47%                              ]\rExporting 1845 events: [=======================48%                             ]\rExporting 1845 events: [=======================49%                             ]\rExporting 1845 events: [========================50%                            ]\rExporting 1845 events: [=========================51%                           ]\rExporting 1845 events: [=========================52%                           ]\rExporting 1845 events: [==========================53%                          ]\rExporting 1845 events: [==========================54%                          ]\rExporting 1845 events: [===========================55%                         ]\rExporting 1845 events: [===========================56%                         ]\rExporting 1845 events: [============================57%                        ]\rExporting 1845 events: [============================58%                        ]\rExporting 1845 events: [=============================59%                       ]\rExporting 1845 events: [==============================60%                      ]\rExporting 1845 events: [==============================61%                      ]\rExporting 1845 events: [===============================62%                     ]\rExporting 1845 events: [===============================63%                     ]\rExporting 1845 events: [================================64%                    ]\rExporting 1845 events: [================================65%                    ]\rExporting 1845 events: [=================================66%                   ]\rExporting 1845 events: [=================================67%                   ]\rExporting 1845 events: [==================================68%                  ]\rExporting 1845 events: [==================================69%                  ]\rExporting 1845 events: [===================================70%                 ]\rExporting 1845 events: [====================================71%                ]\rExporting 1845 events: [====================================72%                ]\rExporting 1845 events: [=====================================73%               ]\rExporting 1845 events: [=====================================74%               ]\rExporting 1845 events: [======================================75%              ]\rExporting 1845 events: [======================================76%              ]\rExporting 1845 events: [=======================================77%             ]\rExporting 1845 events: [=======================================78%             ]\rExporting 1845 events: [========================================79%            ]\rExporting 1845 events: [=========================================80%           ]\rExporting 1845 events: [=========================================81%           ]\rExporting 1845 events: [==========================================82%          ]\rExporting 1845 events: [==========================================83%          ]\rExporting 1845 events: [===========================================84%         ]\rExporting 1845 events: [===========================================85%         ]\rExporting 1845 events: [============================================86%        ]\rExporting 1845 events: [============================================87%        ]\rExporting 1845 events: [=============================================88%       ]\rExporting 1845 events: [=============================================89%       ]\rExporting 1845 events: [==============================================90%      ]\rExporting 1845 events: [===============================================91%     ]\rExporting 1845 events: [===============================================92%     ]\rExporting 1845 events: [================================================93%    ]\rExporting 1845 events: [================================================94%    ]\rExporting 1845 events: [=================================================95%   ]\rExporting 1845 events: [=================================================96%   ]\rExporting 1845 events: [==================================================97%  ]\rExporting 1845 events: [==================================================98%  ]\rExporting 1845 events: [===================================================99% ]\rExporting 1845 events: [===================================================100%]\n",
            "Processing [report2.sqlite] with [/usr/local/cuda-12.1/nsight-systems-2023.1.2/host-linux-x64/reports/nvtx_sum.py]... \n",
            "SKIPPED: report2.sqlite does not contain NV Tools Extension (NVTX) data.\n",
            "\n",
            "Processing [report2.sqlite] with [/usr/local/cuda-12.1/nsight-systems-2023.1.2/host-linux-x64/reports/osrt_sum.py]... \n",
            "\n",
            " ** OS Runtime Summary (osrt_sum):\n",
            "\n",
            " Time (%)  Total Time (ns)  Num Calls    Avg (ns)       Med (ns)     Min (ns)    Max (ns)     StdDev (ns)            Name         \n",
            " --------  ---------------  ---------  -------------  -------------  ---------  -----------  -------------  ----------------------\n",
            "     43.6      564,201,229          2  282,100,614.5  282,100,614.5  2,093,067  562,108,162  395,990,471.2  sem_wait              \n",
            "     42.5      549,433,372         14   39,245,240.9    2,688,071.0      2,364  348,409,258   93,209,299.2  poll                  \n",
            "     13.0      168,356,420        536      314,097.8       13,468.0        576  115,365,191    5,019,676.2  ioctl                 \n",
            "      0.6        7,268,926          2    3,634,463.0    3,634,463.0      2,425    7,266,501    5,136,477.4  pthread_cond_broadcast\n",
            "      0.2        2,200,873         31       70,995.9       14,893.0     11,387    1,390,992      245,918.1  mmap64                \n",
            "      0.0          426,389          7       60,912.7       60,880.0     47,526       72,040        7,598.1  sem_timedwait         \n",
            "      0.0          425,425         49        8,682.1        7,679.0      2,543       24,609        3,749.4  open64                \n",
            "      0.0          304,796         47        6,485.0        4,389.0      1,764       38,115        6,690.3  fopen                 \n",
            "      0.0          242,230          4       60,557.5       59,822.0     48,326       74,260       11,016.4  pthread_create        \n",
            "      0.0          201,786         16       12,611.6        8,978.0      2,385       59,022       13,701.6  mmap                  \n",
            "      0.0          105,006          1      105,006.0      105,006.0    105,006      105,006            0.0  pthread_cond_wait     \n",
            "      0.0           92,825         12        7,735.4        6,544.0      1,383       14,349        3,682.6  write                 \n",
            "      0.0           81,443         39        2,088.3        1,668.0        964        7,652        1,451.6  fclose                \n",
            "      0.0           74,586         35        2,131.0           56.0         49       40,692        7,721.5  fgets                 \n",
            "      0.0           63,759          7        9,108.4        8,676.0      5,909       12,823        2,634.4  munmap                \n",
            "      0.0           34,963         64          546.3          562.0        191        1,001          177.4  fcntl                 \n",
            "      0.0           33,435          6        5,572.5        4,966.0      1,991        8,618        2,532.1  open                  \n",
            "      0.0           31,190         17        1,834.7          105.0         51       11,941        3,680.1  fwrite                \n",
            "      0.0           28,966         16        1,810.4        1,579.5        602        3,913          994.9  read                  \n",
            "      0.0           21,246          3        7,082.0        7,792.0      3,658        9,796        3,130.0  pipe2                 \n",
            "      0.0           19,893          2        9,946.5        9,946.5      6,974       12,919        4,203.7  socket                \n",
            "      0.0           10,254          1       10,254.0       10,254.0     10,254       10,254            0.0  connect               \n",
            "      0.0            7,817          1        7,817.0        7,817.0      7,817        7,817            0.0  fopen64               \n",
            "      0.0            4,686          4        1,171.5          730.0        633        2,593          949.1  putc                  \n",
            "      0.0            3,434          8          429.3          392.5        332          674          117.3  dup                   \n",
            "      0.0            1,672         20           83.6           40.0         35          545          123.6  fflush                \n",
            "      0.0            1,482          1        1,482.0        1,482.0      1,482        1,482            0.0  bind                  \n",
            "      0.0            1,127          1        1,127.0        1,127.0      1,127        1,127            0.0  listen                \n",
            "\n",
            "Processing [report2.sqlite] with [/usr/local/cuda-12.1/nsight-systems-2023.1.2/host-linux-x64/reports/cuda_api_sum.py]... \n",
            "\n",
            " ** CUDA API Summary (cuda_api_sum):\n",
            "\n",
            " Time (%)  Total Time (ns)  Num Calls    Avg (ns)       Med (ns)     Min (ns)   Max (ns)     StdDev (ns)            Name         \n",
            " --------  ---------------  ---------  -------------  -------------  --------  -----------  -------------  ----------------------\n",
            "     97.5      206,621,676          2  103,310,838.0  103,310,838.0    92,046  206,529,630  145,973,415.5  cudaMalloc            \n",
            "      1.8        3,721,842          2    1,860,921.0    1,860,921.0    74,923    3,646,919    2,525,782.6  cudaMemcpy            \n",
            "      0.4          907,554          2      453,777.0      453,777.0   162,058      745,496      412,553.0  cudaFree              \n",
            "      0.2          416,942          1      416,942.0      416,942.0   416,942      416,942            0.0  cudaDeviceSynchronize \n",
            "      0.1          162,452          1      162,452.0      162,452.0   162,452      162,452            0.0  cudaLaunchKernel      \n",
            "      0.0            1,833          1        1,833.0        1,833.0     1,833        1,833            0.0  cuModuleGetLoadingMode\n",
            "\n",
            "Processing [report2.sqlite] with [/usr/local/cuda-12.1/nsight-systems-2023.1.2/host-linux-x64/reports/cuda_gpu_kern_sum.py]... \n",
            "\n",
            " ** CUDA GPU Kernel Summary (cuda_gpu_kern_sum):\n",
            "\n",
            " Time (%)  Total Time (ns)  Instances  Avg (ns)   Med (ns)   Min (ns)  Max (ns)  StdDev (ns)          Name         \n",
            " --------  ---------------  ---------  ---------  ---------  --------  --------  -----------  ---------------------\n",
            "    100.0          416,120          1  416,120.0  416,120.0   416,120   416,120          0.0  reduce2(int *, int *)\n",
            "\n",
            "Processing [report2.sqlite] with [/usr/local/cuda-12.1/nsight-systems-2023.1.2/host-linux-x64/reports/cuda_gpu_mem_time_sum.py]... \n",
            "\n",
            " ** CUDA GPU MemOps Summary (by Time) (cuda_gpu_mem_time_sum):\n",
            "\n",
            " Time (%)  Total Time (ns)  Count   Avg (ns)     Med (ns)    Min (ns)   Max (ns)   StdDev (ns)      Operation     \n",
            " --------  ---------------  -----  -----------  -----------  ---------  ---------  -----------  ------------------\n",
            "     99.8        3,470,180      1  3,470,180.0  3,470,180.0  3,470,180  3,470,180          0.0  [CUDA memcpy HtoD]\n",
            "      0.2            7,584      1      7,584.0      7,584.0      7,584      7,584          0.0  [CUDA memcpy DtoH]\n",
            "\n",
            "Processing [report2.sqlite] with [/usr/local/cuda-12.1/nsight-systems-2023.1.2/host-linux-x64/reports/cuda_gpu_mem_size_sum.py]... \n",
            "\n",
            " ** CUDA GPU MemOps Summary (by Size) (cuda_gpu_mem_size_sum):\n",
            "\n",
            " Total (MB)  Count  Avg (MB)  Med (MB)  Min (MB)  Max (MB)  StdDev (MB)      Operation     \n",
            " ----------  -----  --------  --------  --------  --------  -----------  ------------------\n",
            "     16.777      1    16.777    16.777    16.777    16.777        0.000  [CUDA memcpy HtoD]\n",
            "      0.066      1     0.066     0.066     0.066     0.066        0.000  [CUDA memcpy DtoH]\n",
            "\n",
            "Processing [report2.sqlite] with [/usr/local/cuda-12.1/nsight-systems-2023.1.2/host-linux-x64/reports/openmp_sum.py]... \n",
            "SKIPPED: report2.sqlite does not contain OpenMP event data.\n",
            "\n",
            "Processing [report2.sqlite] with [/usr/local/cuda-12.1/nsight-systems-2023.1.2/host-linux-x64/reports/opengl_khr_range_sum.py]... \n",
            "SKIPPED: report2.sqlite does not contain KHR Extension (KHR_DEBUG) data.\n",
            "\n",
            "Processing [report2.sqlite] with [/usr/local/cuda-12.1/nsight-systems-2023.1.2/host-linux-x64/reports/opengl_khr_gpu_range_sum.py]... \n",
            "SKIPPED: report2.sqlite does not contain GPU KHR Extension (KHR_DEBUG) data.\n",
            "\n",
            "Processing [report2.sqlite] with [/usr/local/cuda-12.1/nsight-systems-2023.1.2/host-linux-x64/reports/vulkan_marker_sum.py]... \n",
            "SKIPPED: report2.sqlite does not contain Vulkan Debug Extension (Vulkan Debug Util) data.\n",
            "\n",
            "Processing [report2.sqlite] with [/usr/local/cuda-12.1/nsight-systems-2023.1.2/host-linux-x64/reports/vulkan_gpu_marker_sum.py]... \n",
            "SKIPPED: report2.sqlite does not contain GPU Vulkan Debug Extension (GPU Vulkan Debug markers) data.\n",
            "\n",
            "Processing [report2.sqlite] with [/usr/local/cuda-12.1/nsight-systems-2023.1.2/host-linux-x64/reports/dx11_pix_sum.py]... \n",
            "SKIPPED: report2.sqlite does not contain DX11 CPU debug markers.\n",
            "\n",
            "Processing [report2.sqlite] with [/usr/local/cuda-12.1/nsight-systems-2023.1.2/host-linux-x64/reports/dx12_gpu_marker_sum.py]... \n",
            "SKIPPED: report2.sqlite does not contain DX12 GPU debug markers.\n",
            "\n",
            "Processing [report2.sqlite] with [/usr/local/cuda-12.1/nsight-systems-2023.1.2/host-linux-x64/reports/dx12_pix_sum.py]... \n",
            "SKIPPED: report2.sqlite does not contain DX12 CPU debug markers.\n",
            "\n",
            "Processing [report2.sqlite] with [/usr/local/cuda-12.1/nsight-systems-2023.1.2/host-linux-x64/reports/wddm_queue_sum.py]... \n",
            "SKIPPED: report2.sqlite does not contain WDDM context data.\n",
            "\n",
            "Processing [report2.sqlite] with [/usr/local/cuda-12.1/nsight-systems-2023.1.2/host-linux-x64/reports/um_sum.py]... \n",
            "SKIPPED: report2.sqlite does not contain CUDA Unified Memory CPU page faults data.\n",
            "\n",
            "Processing [report2.sqlite] with [/usr/local/cuda-12.1/nsight-systems-2023.1.2/host-linux-x64/reports/um_total_sum.py]... \n",
            "SKIPPED: report2.sqlite does not contain CUDA Unified Memory CPU page faults data.\n",
            "\n",
            "Processing [report2.sqlite] with [/usr/local/cuda-12.1/nsight-systems-2023.1.2/host-linux-x64/reports/um_cpu_page_faults_sum.py]... \n",
            "SKIPPED: report2.sqlite does not contain CUDA Unified Memory CPU page faults data.\n",
            "\n",
            "Processing [report2.sqlite] with [/usr/local/cuda-12.1/nsight-systems-2023.1.2/host-linux-x64/reports/openacc_sum.py]... \n",
            "SKIPPED: report2.sqlite does not contain OpenACC event data.\n",
            "\n"
          ]
        }
      ]
    },
    {
      "cell_type": "code",
      "source": [],
      "metadata": {
        "id": "XeT5_7Bf8TKW"
      },
      "execution_count": null,
      "outputs": []
    }
  ]
}