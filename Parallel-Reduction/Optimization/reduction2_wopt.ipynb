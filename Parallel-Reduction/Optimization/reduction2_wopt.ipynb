{
  "nbformat": 4,
  "nbformat_minor": 0,
  "metadata": {
    "colab": {
      "provenance": [],
      "gpuType": "T4"
    },
    "kernelspec": {
      "name": "python3",
      "display_name": "Python 3"
    },
    "language_info": {
      "name": "python"
    },
    "accelerator": "GPU"
  },
  "cells": [
    {
      "cell_type": "code",
      "source": [
        "%%writefile four.cu\n",
        "\n",
        "#include <iostream>\n",
        "#include<cuda_runtime.h>\n",
        "#include <chrono>\n",
        "#include <numeric>\n",
        "\n",
        "// REDUCTION 2 – Sequence Addressing\n",
        "__global__ void reduce2(int *g_in_data, int *g_out_data){\n",
        "    extern __shared__ int sdata[];  // stored in the shared memory\n",
        "\n",
        "    // Each thread loading one element from global onto shared memory\n",
        "    unsigned int tid = threadIdx.x;\n",
        "    unsigned int i = blockIdx.x * blockDim.x + threadIdx.x;\n",
        "    sdata[tid] = g_in_data[i];\n",
        "    __syncthreads();\n",
        "\n",
        "    // Reduction method -- occurs in shared memory\n",
        "    for(unsigned int s = blockDim.x/2; s > 0; s >>= 1){\n",
        "        // check out the reverse loop above\n",
        "        if (tid < s){   // then, we check threadID to do our computation\n",
        "            sdata[tid] += sdata[tid + s];\n",
        "        }\n",
        "        __syncthreads();\n",
        "    }\n",
        "    if (tid == 0){\n",
        "        g_out_data[blockIdx.x] = sdata[0];\n",
        "    }\n",
        "}\n",
        "\n",
        "// I hope to use this main file for all of the reduction files\n",
        "int main(){\n",
        "    int n = 1 << 22; // Increase to about 4M elements\n",
        "    size_t bytes = n * sizeof(int);\n",
        "\n",
        "    // Host/CPU arrays\n",
        "    int *host_input_data = new int[n];\n",
        "    int *host_output_data = new int[(n + 255) / 256]; // to have sufficient size for output array\n",
        "\n",
        "    // Device/GPU arrays\n",
        "    int *dev_input_data, *dev_output_data;\n",
        "\n",
        "    // Init data\n",
        "    srand(42); // Fixed seed\n",
        "    for (int i = 0; i < n; i++){\n",
        "        host_input_data[i] = rand() % 100;\n",
        "    }\n",
        "\n",
        "    // Allocating memory on GPU for device arrays\n",
        "    cudaMalloc(&dev_input_data, bytes);\n",
        "    cudaMalloc(&dev_output_data, (n + 255) / 256 * sizeof(int));\n",
        "\n",
        "    // Copying our data onto the device (GPU)\n",
        "    cudaMemcpy(dev_input_data, host_input_data, bytes, cudaMemcpyHostToDevice);\n",
        "\n",
        "    int blockSize = 256; // number of threads per block\n",
        "\n",
        "    auto start = std::chrono::high_resolution_clock::now(); // start timer\n",
        "\n",
        "    // Launch Kernel and Synchronize threads\n",
        "    int num_blocks = (n + blockSize - 1) / blockSize;\n",
        "    cudaError_t err;\n",
        "    reduce2<<<num_blocks, blockSize, blockSize * sizeof(int)>>>(dev_input_data, dev_output_data);\n",
        "    err = cudaGetLastError();\n",
        "    if (err != cudaSuccess) {\n",
        "        std::cerr << \"CUDA error: \" << cudaGetErrorString(err) << std::endl;\n",
        "    }\n",
        "    cudaDeviceSynchronize();\n",
        "\n",
        "    auto stop = std::chrono::high_resolution_clock::now();\n",
        "    auto duration = std::chrono::duration_cast<std::chrono::microseconds>(stop - start).count() / 1000.0; // duration in milliseconds with three decimal points\n",
        "\n",
        "    // Copying data back to the host (CPU)\n",
        "    cudaMemcpy(host_output_data, dev_output_data, (n + 255) / 256 * sizeof(int), cudaMemcpyDeviceToHost);\n",
        "\n",
        "    // Final reduction on the host\n",
        "    int finalResult = host_output_data[0];\n",
        "    for (int i = 1; i < (n + 255) / 256; ++i) {\n",
        "        finalResult += host_output_data[i];\n",
        "    }\n",
        "\n",
        "    // CPU Summation for verification\n",
        "    int cpuResult = std::accumulate(host_input_data, host_input_data + n, 0);\n",
        "    if (cpuResult == finalResult) {\n",
        "        std::cout << \"\\033[32m\"; // Set text color to green\n",
        "        std::cout << \"Verification successful: GPU result matches CPU result.\\n\";\n",
        "        std::cout << \"GPU Result: \" << finalResult << \", CPU Result: \" << cpuResult << std::endl;\n",
        "    } else {\n",
        "        std::cout << \"\\033[31m\"; // Set text color to red\n",
        "        std::cout << \"Verification failed: GPU result (\" << finalResult << \") does not match CPU result (\" << cpuResult << \").\\n\";\n",
        "        std::cout << \"GPU Result: \" << finalResult << \", CPU Result: \" << cpuResult << std::endl;\n",
        "    }\n",
        "    std::cout << \"\\033[0m\"; // Reset text color to default\n",
        "\n",
        "    double bandwidth = (duration > 0) ? (bytes / duration / 1e6) : 0; // computed in GB/s, handling zero duration\n",
        "    std::cout << \"Reduced result: \" << finalResult << std::endl;\n",
        "    std::cout << \"Time elapsed: \" << duration << \" ms\" << std::endl;\n",
        "    std::cout << \"Effective bandwidth: \" << bandwidth << \" GB/s\" << std::endl;\n",
        "\n",
        "    // Freeing memory\n",
        "    cudaFree(dev_input_data);\n",
        "    cudaFree(dev_output_data);\n",
        "    delete[] host_input_data;\n",
        "    delete[] host_output_data;\n",
        "}"
      ],
      "metadata": {
        "id": "sH2rt3hHgCj8",
        "colab": {
          "base_uri": "https://localhost:8080/"
        },
        "outputId": "fd69ac30-8a28-4f7e-8b24-66c58f9d3aec"
      },
      "execution_count": 21,
      "outputs": [
        {
          "output_type": "stream",
          "name": "stdout",
          "text": [
            "Writing four.cu\n"
          ]
        }
      ]
    },
    {
      "cell_type": "code",
      "source": [
        "!nvcc -arch=sm_75 one.cu -o one"
      ],
      "metadata": {
        "id": "LD40gDQL0BgF"
      },
      "execution_count": 4,
      "outputs": []
    },
    {
      "cell_type": "code",
      "source": [
        "!./one"
      ],
      "metadata": {
        "colab": {
          "base_uri": "https://localhost:8080/"
        },
        "id": "fLqCwCcQ0Wlb",
        "outputId": "0a1e465c-9079-4db2-f7a6-a87ccaaa9da1"
      },
      "execution_count": 5,
      "outputs": [
        {
          "output_type": "stream",
          "name": "stdout",
          "text": [
            "\u001b[32mVerification successful: GPU result matches CPU result.\n",
            "GPU Result: 207451054, CPU Result: 207451054\n",
            "\u001b[0mReduced result: 207451054\n",
            "Time elapsed: 0.529 ms\n",
            "Effective bandwidth: 31.715 GB/s\n"
          ]
        }
      ]
    },
    {
      "cell_type": "code",
      "source": [
        "!nvcc -arch=sm_75 two.cu -o two -O1 -lineinfo"
      ],
      "metadata": {
        "id": "JyLO_3020bK4"
      },
      "execution_count": 19,
      "outputs": []
    },
    {
      "cell_type": "code",
      "source": [
        "!./two"
      ],
      "metadata": {
        "colab": {
          "base_uri": "https://localhost:8080/"
        },
        "id": "CT23_1QC0fKA",
        "outputId": "00585a35-973b-4278-bc10-eebc0473859a"
      },
      "execution_count": 20,
      "outputs": [
        {
          "output_type": "stream",
          "name": "stdout",
          "text": [
            "\u001b[32mVerification successful: GPU result matches CPU result.\n",
            "GPU Result: 207451054, CPU Result: 207451054\n",
            "\u001b[0mReduced result: 207451054\n",
            "Time elapsed: 0.521 ms\n",
            "Effective bandwidth: 32.202 GB/s\n"
          ]
        }
      ]
    },
    {
      "cell_type": "code",
      "source": [
        "!nvcc -arch=sm_75 three.cu -o three -O2 -lineinfo"
      ],
      "metadata": {
        "id": "Z2Jubyoa0pgD"
      },
      "execution_count": 12,
      "outputs": []
    },
    {
      "cell_type": "code",
      "source": [
        "!./three"
      ],
      "metadata": {
        "colab": {
          "base_uri": "https://localhost:8080/"
        },
        "id": "NMiOBHWp0zGH",
        "outputId": "09660451-49d2-4aa8-da81-28a398e213e5"
      },
      "execution_count": 13,
      "outputs": [
        {
          "output_type": "stream",
          "name": "stdout",
          "text": [
            "\u001b[32mVerification successful: GPU result matches CPU result.\n",
            "GPU Result: 207451054, CPU Result: 207451054\n",
            "\u001b[0mReduced result: 207451054\n",
            "Time elapsed: 0.513 ms\n",
            "Effective bandwidth: 32.7041 GB/s\n"
          ]
        }
      ]
    },
    {
      "cell_type": "code",
      "source": [
        "!nvcc -arch=sm_75 four.cu -o four -O3 -lineinfo"
      ],
      "metadata": {
        "id": "c15V7beM03ln"
      },
      "execution_count": 24,
      "outputs": []
    },
    {
      "cell_type": "code",
      "source": [
        "!./four"
      ],
      "metadata": {
        "colab": {
          "base_uri": "https://localhost:8080/"
        },
        "id": "0X49zyhh1II5",
        "outputId": "8afa1b4b-35e3-46dc-ba62-f4fbc04088c7"
      },
      "execution_count": 25,
      "outputs": [
        {
          "output_type": "stream",
          "name": "stdout",
          "text": [
            "\u001b[32mVerification successful: GPU result matches CPU result.\n",
            "GPU Result: 207451054, CPU Result: 207451054\n",
            "\u001b[0mReduced result: 207451054\n",
            "Time elapsed: 0.568 ms\n",
            "Effective bandwidth: 29.5374 GB/s\n"
          ]
        }
      ]
    },
    {
      "cell_type": "code",
      "source": [
        "! set -x \\\n",
        "&& cd $(mktemp -d) \\\n",
        "&& wget https://developer.download.nvidia.com/compute/cuda/12.1.0/local_installers/cuda_12.1.0_530.30.02_linux.run \\\n",
        "&& sudo sh cuda_12.1.0_530.30.02_linux.run --silent --toolkit \\\n",
        "&& rm cuda_12.1.0_530.30.02_linux.run"
      ],
      "metadata": {
        "colab": {
          "base_uri": "https://localhost:8080/"
        },
        "id": "MaGzbPiP1J5v",
        "outputId": "2c3142e0-decb-4143-97d0-c3f32cfd1d38"
      },
      "execution_count": 26,
      "outputs": [
        {
          "output_type": "stream",
          "name": "stdout",
          "text": [
            "++ mktemp -d\n",
            "+ cd /tmp/tmp.vKkHq9sFRK\n",
            "+ wget https://developer.download.nvidia.com/compute/cuda/12.1.0/local_installers/cuda_12.1.0_530.30.02_linux.run\n",
            "--2025-06-06 06:07:37--  https://developer.download.nvidia.com/compute/cuda/12.1.0/local_installers/cuda_12.1.0_530.30.02_linux.run\n",
            "Resolving developer.download.nvidia.com (developer.download.nvidia.com)... 23.52.40.50, 23.52.40.64\n",
            "Connecting to developer.download.nvidia.com (developer.download.nvidia.com)|23.52.40.50|:443... connected.\n",
            "HTTP request sent, awaiting response... 200 OK\n",
            "Length: 4245586997 (4.0G) [application/octet-stream]\n",
            "Saving to: ‘cuda_12.1.0_530.30.02_linux.run’\n",
            "\n",
            "cuda_12.1.0_530.30. 100%[===================>]   3.95G   200MB/s    in 26s     \n",
            "\n",
            "2025-06-06 06:08:03 (158 MB/s) - ‘cuda_12.1.0_530.30.02_linux.run’ saved [4245586997/4245586997]\n",
            "\n",
            "+ sudo sh cuda_12.1.0_530.30.02_linux.run --silent --toolkit\n",
            "+ rm cuda_12.1.0_530.30.02_linux.run\n"
          ]
        }
      ]
    },
    {
      "cell_type": "code",
      "source": [
        "import os\n",
        "os.environ['PATH'] = os.environ['PATH'] + ':/usr/local/cuda/bin/'"
      ],
      "metadata": {
        "id": "G_bFTddh2hbt"
      },
      "execution_count": 27,
      "outputs": []
    },
    {
      "cell_type": "code",
      "source": [
        "!ncu --version"
      ],
      "metadata": {
        "colab": {
          "base_uri": "https://localhost:8080/"
        },
        "id": "FI15beBi3ffT",
        "outputId": "4413ebc9-dfc5-429a-aa68-15290c4af0ad"
      },
      "execution_count": 28,
      "outputs": [
        {
          "output_type": "stream",
          "name": "stdout",
          "text": [
            "NVIDIA (R) Nsight Compute Command Line Profiler\n",
            "Copyright (c) 2018-2024 NVIDIA Corporation\n",
            "Version 2024.2.1.0 (build 34372528) (public-release)\n"
          ]
        }
      ]
    },
    {
      "cell_type": "code",
      "source": [
        "!ncu -o reduction_report_no ./one"
      ],
      "metadata": {
        "colab": {
          "base_uri": "https://localhost:8080/"
        },
        "id": "kjKCbrPN3gu_",
        "outputId": "3aa2e9ad-179e-473c-ae0c-b1be66a5bc6a"
      },
      "execution_count": 30,
      "outputs": [
        {
          "output_type": "stream",
          "name": "stdout",
          "text": [
            "==PROF== Connected to process 5942 (/content/one)\n",
            "==PROF== Profiling \"reduce2(int *, int *)\" - 0: 0%....50%....100% - 9 passes\n",
            "\u001b[32mVerification successful: GPU result matches CPU result.\n",
            "GPU Result: 207451054, CPU Result: 207451054\n",
            "\u001b[0mReduced result: 207451054\n",
            "Time elapsed: 300.084 ms\n",
            "Effective bandwidth: 0.0559084 GB/s\n",
            "==PROF== Disconnected from process 5942\n",
            "==PROF== Report: /content/reduction_report_no.ncu-rep\n"
          ]
        }
      ]
    },
    {
      "cell_type": "code",
      "source": [
        "!ncu -o reduction_report_o1 ./two"
      ],
      "metadata": {
        "colab": {
          "base_uri": "https://localhost:8080/"
        },
        "id": "SdPrCzb53pGT",
        "outputId": "6f11489b-4dd6-4804-8c09-e877232fcfc2"
      },
      "execution_count": 31,
      "outputs": [
        {
          "output_type": "stream",
          "name": "stdout",
          "text": [
            "==PROF== Connected to process 6092 (/content/two)\n",
            "==PROF== Profiling \"reduce2(int *, int *)\" - 0: 0%....50%....100% - 9 passes\n",
            "\u001b[32mVerification successful: GPU result matches CPU result.\n",
            "GPU Result: 207451054, CPU Result: 207451054\n",
            "\u001b[0mReduced result: 207451054\n",
            "Time elapsed: 297.156 ms\n",
            "Effective bandwidth: 0.0564593 GB/s\n",
            "==PROF== Disconnected from process 6092\n",
            "==PROF== Report: /content/reduction_report_o1.ncu-rep\n"
          ]
        }
      ]
    },
    {
      "cell_type": "code",
      "source": [
        "!ncu -o reduction_report_o2 ./three"
      ],
      "metadata": {
        "colab": {
          "base_uri": "https://localhost:8080/"
        },
        "id": "E-cLh_8433j3",
        "outputId": "a89a6ffa-d98c-4afa-8295-54ce393e81ac"
      },
      "execution_count": 32,
      "outputs": [
        {
          "output_type": "stream",
          "name": "stdout",
          "text": [
            "==PROF== Connected to process 6204 (/content/three)\n",
            "==PROF== Profiling \"reduce2(int *, int *)\" - 0: 0%....50%....100% - 9 passes\n",
            "\u001b[32mVerification successful: GPU result matches CPU result.\n",
            "GPU Result: 207451054, CPU Result: 207451054\n",
            "\u001b[0mReduced result: 207451054\n",
            "Time elapsed: 302.64 ms\n",
            "Effective bandwidth: 0.0554362 GB/s\n",
            "==PROF== Disconnected from process 6204\n",
            "==PROF== Report: /content/reduction_report_o2.ncu-rep\n"
          ]
        }
      ]
    },
    {
      "cell_type": "code",
      "source": [
        "!ncu -o reduction_report_o3 ./three"
      ],
      "metadata": {
        "colab": {
          "base_uri": "https://localhost:8080/"
        },
        "id": "3I3rCF9H37GX",
        "outputId": "b5c8138e-4731-4c37-dde5-1de2b0c20fc0"
      },
      "execution_count": 33,
      "outputs": [
        {
          "output_type": "stream",
          "name": "stdout",
          "text": [
            "==PROF== Connected to process 6294 (/content/three)\n",
            "==PROF== Profiling \"reduce2(int *, int *)\" - 0: 0%....50%....100% - 9 passes\n",
            "\u001b[32mVerification successful: GPU result matches CPU result.\n",
            "GPU Result: 207451054, CPU Result: 207451054\n",
            "\u001b[0mReduced result: 207451054\n",
            "Time elapsed: 301.558 ms\n",
            "Effective bandwidth: 0.0556351 GB/s\n",
            "==PROF== Disconnected from process 6294\n",
            "==PROF== Report: /content/reduction_report_o3.ncu-rep\n"
          ]
        }
      ]
    },
    {
      "cell_type": "code",
      "source": [
        "!nvprof --version"
      ],
      "metadata": {
        "colab": {
          "base_uri": "https://localhost:8080/"
        },
        "id": "aaqMgWGM4P5L",
        "outputId": "94303197-93c4-4bb9-93c4-6c57ea96b91c"
      },
      "execution_count": 34,
      "outputs": [
        {
          "output_type": "stream",
          "name": "stdout",
          "text": [
            "nvprof: NVIDIA (R) Cuda command line profiler\n",
            "Copyright (c) 2012 - 2023 NVIDIA Corporation\n",
            "Release version 12.1.55 (21)\n"
          ]
        }
      ]
    },
    {
      "cell_type": "code",
      "source": [
        "!nvprof ./one"
      ],
      "metadata": {
        "colab": {
          "base_uri": "https://localhost:8080/"
        },
        "id": "DPTay6JR4SQn",
        "outputId": "7e3ecb8f-db5f-4127-85ac-0493f0ae9cd2"
      },
      "execution_count": 35,
      "outputs": [
        {
          "output_type": "stream",
          "name": "stdout",
          "text": [
            "==6900== NVPROF is profiling process 6900, command: ./one\n",
            "\u001b[32mVerification successful: GPU result matches CPU result.\n",
            "GPU Result: 207451054, CPU Result: 207451054\n",
            "\u001b[0mReduced result: 207451054\n",
            "Time elapsed: 1.729 ms\n",
            "Effective bandwidth: 9.70342 GB/s\n",
            "==6900== Profiling application: ./one\n",
            "==6900== Profiling result:\n",
            "            Type  Time(%)      Time     Calls       Avg       Min       Max  Name\n",
            " GPU activities:   89.44%  3.5865ms         1  3.5865ms  3.5865ms  3.5865ms  [CUDA memcpy HtoD]\n",
            "                   10.38%  416.06us         1  416.06us  416.06us  416.06us  reduce2(int*, int*)\n",
            "                    0.19%  7.5190us         1  7.5190us  7.5190us  7.5190us  [CUDA memcpy DtoH]\n",
            "      API calls:   96.74%  196.17ms         2  98.083ms  79.746us  196.09ms  cudaMalloc\n",
            "                    1.89%  3.8327ms         2  1.9164ms  76.542us  3.7562ms  cudaMemcpy\n",
            "                    0.64%  1.3061ms         1  1.3061ms  1.3061ms  1.3061ms  cudaLaunchKernel\n",
            "                    0.43%  863.83us         2  431.91us  137.56us  726.27us  cudaFree\n",
            "                    0.20%  415.64us         1  415.64us  415.64us  415.64us  cudaDeviceSynchronize\n",
            "                    0.08%  164.14us       114  1.4390us     130ns  72.274us  cuDeviceGetAttribute\n",
            "                    0.01%  11.582us         1  11.582us  11.582us  11.582us  cuDeviceGetName\n",
            "                    0.00%  8.4320us         1  8.4320us  8.4320us  8.4320us  cuDeviceGetPCIBusId\n",
            "                    0.00%  1.6170us         3     539ns     175ns  1.1770us  cuDeviceGetCount\n",
            "                    0.00%     996ns         1     996ns     996ns     996ns  cudaGetLastError\n",
            "                    0.00%     873ns         2     436ns     171ns     702ns  cuDeviceGet\n",
            "                    0.00%     496ns         1     496ns     496ns     496ns  cuDeviceTotalMem\n",
            "                    0.00%     461ns         1     461ns     461ns     461ns  cuModuleGetLoadingMode\n",
            "                    0.00%     198ns         1     198ns     198ns     198ns  cuDeviceGetUuid\n"
          ]
        }
      ]
    },
    {
      "cell_type": "code",
      "source": [
        "!nvprof --print-gpu-trace ./one"
      ],
      "metadata": {
        "colab": {
          "base_uri": "https://localhost:8080/"
        },
        "id": "5KclKgU-4gPq",
        "outputId": "1d97727d-f5cb-4319-b7a9-98e0b2858fa8"
      },
      "execution_count": 36,
      "outputs": [
        {
          "output_type": "stream",
          "name": "stdout",
          "text": [
            "==7079== NVPROF is profiling process 7079, command: ./one\n",
            "\u001b[32mVerification successful: GPU result matches CPU result.\n",
            "GPU Result: 207451054, CPU Result: 207451054\n",
            "\u001b[0mReduced result: 207451054\n",
            "Time elapsed: 0.562 ms\n",
            "Effective bandwidth: 29.8527 GB/s\n",
            "==7079== Profiling application: ./one\n",
            "==7079== Profiling result:\n",
            "   Start  Duration            Grid Size      Block Size     Regs*    SSMem*    DSMem*      Size  Throughput  SrcMemType  DstMemType           Device   Context    Stream  Name\n",
            "333.89ms  3.5764ms                    -               -         -         -         -  16.000MB  4.3689GB/s    Pageable      Device     Tesla T4 (0)         1         7  [CUDA memcpy HtoD]\n",
            "337.54ms  416.28us          (16384 1 1)       (256 1 1)        16        0B  1.0000KB         -           -           -           -     Tesla T4 (0)         1         7  reduce2(int*, int*) [128]\n",
            "337.97ms  7.5520us                    -               -         -         -         -  64.000KB  8.0820GB/s      Device    Pageable     Tesla T4 (0)         1         7  [CUDA memcpy DtoH]\n",
            "\n",
            "Regs: Number of registers used per CUDA thread. This number includes registers used internally by the CUDA driver and/or tools and can be more than what the compiler shows.\n",
            "SSMem: Static shared memory allocated per CUDA block.\n",
            "DSMem: Dynamic shared memory allocated per CUDA block.\n",
            "SrcMemType: The type of source memory accessed by memory operation/copy\n",
            "DstMemType: The type of destination memory accessed by memory operation/copy\n"
          ]
        }
      ]
    },
    {
      "cell_type": "code",
      "source": [
        "!nvprof ./two"
      ],
      "metadata": {
        "colab": {
          "base_uri": "https://localhost:8080/"
        },
        "id": "3JzJvSXP4qCY",
        "outputId": "98716934-5e98-48ea-ee97-cb995253a1e5"
      },
      "execution_count": 37,
      "outputs": [
        {
          "output_type": "stream",
          "name": "stdout",
          "text": [
            "==7138== NVPROF is profiling process 7138, command: ./two\n",
            "\u001b[32mVerification successful: GPU result matches CPU result.\n",
            "GPU Result: 207451054, CPU Result: 207451054\n",
            "\u001b[0mReduced result: 207451054\n",
            "Time elapsed: 0.566 ms\n",
            "Effective bandwidth: 29.6417 GB/s\n",
            "==7138== Profiling application: ./two\n",
            "==7138== Profiling result:\n",
            "            Type  Time(%)      Time     Calls       Avg       Min       Max  Name\n",
            " GPU activities:   89.15%  3.4828ms         1  3.4828ms  3.4828ms  3.4828ms  [CUDA memcpy HtoD]\n",
            "                   10.66%  416.25us         1  416.25us  416.25us  416.25us  reduce2(int*, int*)\n",
            "                    0.19%  7.5840us         1  7.5840us  7.5840us  7.5840us  [CUDA memcpy DtoH]\n",
            "      API calls:   97.37%  196.53ms         2  98.266ms  74.663us  196.46ms  cudaMalloc\n",
            "                    1.85%  3.7301ms         2  1.8650ms  83.383us  3.6467ms  cudaMemcpy\n",
            "                    0.42%  857.15us         2  428.58us  124.55us  732.61us  cudaFree\n",
            "                    0.21%  416.80us         1  416.80us  416.80us  416.80us  cudaDeviceSynchronize\n",
            "                    0.07%  143.21us         1  143.21us  143.21us  143.21us  cudaLaunchKernel\n",
            "                    0.06%  130.45us       114  1.1440us     137ns  51.242us  cuDeviceGetAttribute\n",
            "                    0.01%  12.613us         1  12.613us  12.613us  12.613us  cuDeviceGetName\n",
            "                    0.00%  6.9530us         1  6.9530us  6.9530us  6.9530us  cuDeviceGetPCIBusId\n",
            "                    0.00%  1.7350us         3     578ns     184ns  1.2740us  cuDeviceGetCount\n",
            "                    0.00%     909ns         2     454ns     236ns     673ns  cuDeviceGet\n",
            "                    0.00%     850ns         1     850ns     850ns     850ns  cudaGetLastError\n",
            "                    0.00%     705ns         1     705ns     705ns     705ns  cuModuleGetLoadingMode\n",
            "                    0.00%     490ns         1     490ns     490ns     490ns  cuDeviceTotalMem\n",
            "                    0.00%     240ns         1     240ns     240ns     240ns  cuDeviceGetUuid\n"
          ]
        }
      ]
    },
    {
      "cell_type": "code",
      "source": [
        "!nvprof --print-gpu-trace ./two"
      ],
      "metadata": {
        "colab": {
          "base_uri": "https://localhost:8080/"
        },
        "id": "tdg5yLqA4suU",
        "outputId": "5cad2b05-fac7-4fa1-a000-d2b22e35990b"
      },
      "execution_count": 42,
      "outputs": [
        {
          "output_type": "stream",
          "name": "stdout",
          "text": [
            "==7457== NVPROF is profiling process 7457, command: ./two\n",
            "\u001b[32mVerification successful: GPU result matches CPU result.\n",
            "GPU Result: 207451054, CPU Result: 207451054\n",
            "\u001b[0mReduced result: 207451054\n",
            "Time elapsed: 0.55 ms\n",
            "Effective bandwidth: 30.504 GB/s\n",
            "==7457== Profiling application: ./two\n",
            "==7457== Profiling result:\n",
            "   Start  Duration            Grid Size      Block Size     Regs*    SSMem*    DSMem*      Size  Throughput  SrcMemType  DstMemType           Device   Context    Stream  Name\n",
            "327.37ms  3.4773ms                    -               -         -         -         -  16.000MB  4.4934GB/s    Pageable      Device     Tesla T4 (0)         1         7  [CUDA memcpy HtoD]\n",
            "330.90ms  416.28us          (16384 1 1)       (256 1 1)        16        0B  1.0000KB         -           -           -           -     Tesla T4 (0)         1         7  reduce2(int*, int*) [128]\n",
            "331.35ms  7.6480us                    -               -         -         -         -  64.000KB  7.9805GB/s      Device    Pageable     Tesla T4 (0)         1         7  [CUDA memcpy DtoH]\n",
            "\n",
            "Regs: Number of registers used per CUDA thread. This number includes registers used internally by the CUDA driver and/or tools and can be more than what the compiler shows.\n",
            "SSMem: Static shared memory allocated per CUDA block.\n",
            "DSMem: Dynamic shared memory allocated per CUDA block.\n",
            "SrcMemType: The type of source memory accessed by memory operation/copy\n",
            "DstMemType: The type of destination memory accessed by memory operation/copy\n"
          ]
        }
      ]
    },
    {
      "cell_type": "code",
      "source": [
        "!nvprof ./three"
      ],
      "metadata": {
        "colab": {
          "base_uri": "https://localhost:8080/"
        },
        "id": "xamD5yw64xJ8",
        "outputId": "97853548-998d-4d3c-f60c-4da0d651072a"
      },
      "execution_count": 43,
      "outputs": [
        {
          "output_type": "stream",
          "name": "stdout",
          "text": [
            "==7488== NVPROF is profiling process 7488, command: ./three\n",
            "\u001b[32mVerification successful: GPU result matches CPU result.\n",
            "GPU Result: 207451054, CPU Result: 207451054\n",
            "\u001b[0mReduced result: 207451054\n",
            "Time elapsed: 0.584 ms\n",
            "Effective bandwidth: 28.7281 GB/s\n",
            "==7488== Profiling application: ./three\n",
            "==7488== Profiling result:\n",
            "            Type  Time(%)      Time     Calls       Avg       Min       Max  Name\n",
            " GPU activities:   89.39%  3.5683ms         1  3.5683ms  3.5683ms  3.5683ms  [CUDA memcpy HtoD]\n",
            "                   10.42%  416.09us         1  416.09us  416.09us  416.09us  reduce2(int*, int*)\n",
            "                    0.19%  7.5520us         1  7.5520us  7.5520us  7.5520us  [CUDA memcpy DtoH]\n",
            "      API calls:   97.41%  209.16ms         2  104.58ms  122.82us  209.04ms  cudaMalloc\n",
            "                    1.79%  3.8352ms         2  1.9176ms  93.196us  3.7420ms  cudaMemcpy\n",
            "                    0.46%  992.63us         2  496.31us  198.29us  794.33us  cudaFree\n",
            "                    0.19%  417.01us         1  417.01us  417.01us  417.01us  cudaDeviceSynchronize\n",
            "                    0.07%  159.99us         1  159.99us  159.99us  159.99us  cudaLaunchKernel\n",
            "                    0.06%  134.81us       114  1.1820us     132ns  54.909us  cuDeviceGetAttribute\n",
            "                    0.01%  13.470us         1  13.470us  13.470us  13.470us  cuDeviceGetName\n",
            "                    0.00%  6.2520us         1  6.2520us  6.2520us  6.2520us  cuDeviceGetPCIBusId\n",
            "                    0.00%  2.1780us         3     726ns     175ns  1.7350us  cuDeviceGetCount\n",
            "                    0.00%  1.1730us         2     586ns     174ns     999ns  cuDeviceGet\n",
            "                    0.00%     779ns         1     779ns     779ns     779ns  cudaGetLastError\n",
            "                    0.00%     562ns         1     562ns     562ns     562ns  cuModuleGetLoadingMode\n",
            "                    0.00%     471ns         1     471ns     471ns     471ns  cuDeviceTotalMem\n",
            "                    0.00%     223ns         1     223ns     223ns     223ns  cuDeviceGetUuid\n"
          ]
        }
      ]
    },
    {
      "cell_type": "code",
      "source": [
        "!nvprof --print-gpu-trace ./three"
      ],
      "metadata": {
        "colab": {
          "base_uri": "https://localhost:8080/"
        },
        "id": "M5lQBISz4zC_",
        "outputId": "bf78bb46-716a-409d-c363-7d0bc3990d20"
      },
      "execution_count": 40,
      "outputs": [
        {
          "output_type": "stream",
          "name": "stdout",
          "text": [
            "==7349== NVPROF is profiling process 7349, command: ./three\n",
            "\u001b[32mVerification successful: GPU result matches CPU result.\n",
            "GPU Result: 207451054, CPU Result: 207451054\n",
            "\u001b[0mReduced result: 207451054\n",
            "Time elapsed: 0.559 ms\n",
            "Effective bandwidth: 30.0129 GB/s\n",
            "==7349== Profiling application: ./three\n",
            "==7349== Profiling result:\n",
            "   Start  Duration            Grid Size      Block Size     Regs*    SSMem*    DSMem*      Size  Throughput  SrcMemType  DstMemType           Device   Context    Stream  Name\n",
            "335.16ms  3.5946ms                    -               -         -         -         -  16.000MB  4.3468GB/s    Pageable      Device     Tesla T4 (0)         1         7  [CUDA memcpy HtoD]\n",
            "338.82ms  416.09us          (16384 1 1)       (256 1 1)        16        0B  1.0000KB         -           -           -           -     Tesla T4 (0)         1         7  reduce2(int*, int*) [128]\n",
            "339.26ms  7.5190us                    -               -         -         -         -  64.000KB  8.1175GB/s      Device    Pageable     Tesla T4 (0)         1         7  [CUDA memcpy DtoH]\n",
            "\n",
            "Regs: Number of registers used per CUDA thread. This number includes registers used internally by the CUDA driver and/or tools and can be more than what the compiler shows.\n",
            "SSMem: Static shared memory allocated per CUDA block.\n",
            "DSMem: Dynamic shared memory allocated per CUDA block.\n",
            "SrcMemType: The type of source memory accessed by memory operation/copy\n",
            "DstMemType: The type of destination memory accessed by memory operation/copy\n"
          ]
        }
      ]
    },
    {
      "cell_type": "code",
      "source": [
        "!nvprof ./four"
      ],
      "metadata": {
        "colab": {
          "base_uri": "https://localhost:8080/"
        },
        "id": "Q70-hGMq426A",
        "outputId": "6767f3a0-e869-4d37-d911-eae446dcfb92"
      },
      "execution_count": 44,
      "outputs": [
        {
          "output_type": "stream",
          "name": "stdout",
          "text": [
            "==7578== NVPROF is profiling process 7578, command: ./four\n",
            "\u001b[32mVerification successful: GPU result matches CPU result.\n",
            "GPU Result: 207451054, CPU Result: 207451054\n",
            "\u001b[0mReduced result: 207451054\n",
            "Time elapsed: 0.565 ms\n",
            "Effective bandwidth: 29.6942 GB/s\n",
            "==7578== Profiling application: ./four\n",
            "==7578== Profiling result:\n",
            "            Type  Time(%)      Time     Calls       Avg       Min       Max  Name\n",
            " GPU activities:   89.14%  3.4796ms         1  3.4796ms  3.4796ms  3.4796ms  [CUDA memcpy HtoD]\n",
            "                   10.67%  416.38us         1  416.38us  416.38us  416.38us  reduce2(int*, int*)\n",
            "                    0.19%  7.5840us         1  7.5840us  7.5840us  7.5840us  [CUDA memcpy DtoH]\n",
            "      API calls:   97.49%  208.05ms         2  104.03ms  79.381us  207.98ms  cudaMalloc\n",
            "                    1.75%  3.7357ms         2  1.8679ms  77.613us  3.6581ms  cudaMemcpy\n",
            "                    0.41%  874.20us         2  437.10us  147.63us  726.57us  cudaFree\n",
            "                    0.20%  417.08us         1  417.08us  417.08us  417.08us  cudaDeviceSynchronize\n",
            "                    0.07%  156.10us       114  1.3690us     133ns  71.162us  cuDeviceGetAttribute\n",
            "                    0.07%  142.17us         1  142.17us  142.17us  142.17us  cudaLaunchKernel\n",
            "                    0.01%  14.932us         1  14.932us  14.932us  14.932us  cuDeviceGetName\n",
            "                    0.00%  7.3370us         1  7.3370us  7.3370us  7.3370us  cuDeviceGetPCIBusId\n",
            "                    0.00%  2.1270us         3     709ns     205ns  1.6620us  cuDeviceGetCount\n",
            "                    0.00%     789ns         2     394ns     218ns     571ns  cuDeviceGet\n",
            "                    0.00%     736ns         1     736ns     736ns     736ns  cuModuleGetLoadingMode\n",
            "                    0.00%     528ns         1     528ns     528ns     528ns  cuDeviceTotalMem\n",
            "                    0.00%     520ns         1     520ns     520ns     520ns  cudaGetLastError\n",
            "                    0.00%     223ns         1     223ns     223ns     223ns  cuDeviceGetUuid\n"
          ]
        }
      ]
    },
    {
      "cell_type": "code",
      "source": [
        "!nvprof --print-gpu-trace ./four"
      ],
      "metadata": {
        "colab": {
          "base_uri": "https://localhost:8080/"
        },
        "id": "CYxGtoTh5BrZ",
        "outputId": "f849cd42-cdae-4512-b449-b303742aee49"
      },
      "execution_count": 45,
      "outputs": [
        {
          "output_type": "stream",
          "name": "stdout",
          "text": [
            "==7630== NVPROF is profiling process 7630, command: ./four\n",
            "\u001b[32mVerification successful: GPU result matches CPU result.\n",
            "GPU Result: 207451054, CPU Result: 207451054\n",
            "\u001b[0mReduced result: 207451054\n",
            "Time elapsed: 0.584 ms\n",
            "Effective bandwidth: 28.7281 GB/s\n",
            "==7630== Profiling application: ./four\n",
            "==7630== Profiling result:\n",
            "   Start  Duration            Grid Size      Block Size     Regs*    SSMem*    DSMem*      Size  Throughput  SrcMemType  DstMemType           Device   Context    Stream  Name\n",
            "373.85ms  4.2482ms                    -               -         -         -         -  16.000MB  3.6780GB/s    Pageable      Device     Tesla T4 (0)         1         7  [CUDA memcpy HtoD]\n",
            "378.19ms  416.03us          (16384 1 1)       (256 1 1)        16        0B  1.0000KB         -           -           -           -     Tesla T4 (0)         1         7  reduce2(int*, int*) [128]\n",
            "378.63ms  7.5190us                    -               -         -         -         -  64.000KB  8.1175GB/s      Device    Pageable     Tesla T4 (0)         1         7  [CUDA memcpy DtoH]\n",
            "\n",
            "Regs: Number of registers used per CUDA thread. This number includes registers used internally by the CUDA driver and/or tools and can be more than what the compiler shows.\n",
            "SSMem: Static shared memory allocated per CUDA block.\n",
            "DSMem: Dynamic shared memory allocated per CUDA block.\n",
            "SrcMemType: The type of source memory accessed by memory operation/copy\n",
            "DstMemType: The type of destination memory accessed by memory operation/copy\n"
          ]
        }
      ]
    },
    {
      "cell_type": "code",
      "source": [],
      "metadata": {
        "id": "ksDRZ3fn5EAd"
      },
      "execution_count": null,
      "outputs": []
    }
  ]
}