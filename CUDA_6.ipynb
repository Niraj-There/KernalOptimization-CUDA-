{
  "nbformat": 4,
  "nbformat_minor": 0,
  "metadata": {
    "colab": {
      "provenance": [],
      "gpuType": "T4"
    },
    "kernelspec": {
      "name": "python3",
      "display_name": "Python 3"
    },
    "language_info": {
      "name": "python"
    },
    "accelerator": "GPU"
  },
  "cells": [
    {
      "cell_type": "markdown",
      "source": [
        "**System Information**"
      ],
      "metadata": {
        "id": "MqvLfEW6kMkN"
      }
    },
    {
      "cell_type": "code",
      "source": [
        "!nvidia-smi"
      ],
      "metadata": {
        "colab": {
          "base_uri": "https://localhost:8080/"
        },
        "id": "_AEq5fu8id0Y",
        "outputId": "e6f3597f-d246-4dc4-f2a8-88acc05c3d77"
      },
      "execution_count": 1,
      "outputs": [
        {
          "output_type": "stream",
          "name": "stdout",
          "text": [
            "Tue Jun  3 06:45:52 2025       \n",
            "+-----------------------------------------------------------------------------------------+\n",
            "| NVIDIA-SMI 550.54.15              Driver Version: 550.54.15      CUDA Version: 12.4     |\n",
            "|-----------------------------------------+------------------------+----------------------+\n",
            "| GPU  Name                 Persistence-M | Bus-Id          Disp.A | Volatile Uncorr. ECC |\n",
            "| Fan  Temp   Perf          Pwr:Usage/Cap |           Memory-Usage | GPU-Util  Compute M. |\n",
            "|                                         |                        |               MIG M. |\n",
            "|=========================================+========================+======================|\n",
            "|   0  Tesla T4                       Off |   00000000:00:04.0 Off |                    0 |\n",
            "| N/A   34C    P8              9W /   70W |       0MiB /  15360MiB |      0%      Default |\n",
            "|                                         |                        |                  N/A |\n",
            "+-----------------------------------------+------------------------+----------------------+\n",
            "                                                                                         \n",
            "+-----------------------------------------------------------------------------------------+\n",
            "| Processes:                                                                              |\n",
            "|  GPU   GI   CI        PID   Type   Process name                              GPU Memory |\n",
            "|        ID   ID                                                               Usage      |\n",
            "|=========================================================================================|\n",
            "|  No running processes found                                                             |\n",
            "+-----------------------------------------------------------------------------------------+\n"
          ]
        }
      ]
    },
    {
      "cell_type": "code",
      "execution_count": 2,
      "metadata": {
        "colab": {
          "base_uri": "https://localhost:8080/"
        },
        "id": "fGvWQTqCWXPX",
        "outputId": "2cddc073-aee3-49a5-f5f0-36e72738738c"
      },
      "outputs": [
        {
          "output_type": "stream",
          "name": "stdout",
          "text": [
            "\n",
            "==============NVSMI LOG==============\n",
            "\n",
            "Timestamp                                 : Tue Jun  3 06:53:33 2025\n",
            "Driver Version                            : 550.54.15\n",
            "CUDA Version                              : 12.4\n",
            "\n",
            "Attached GPUs                             : 1\n",
            "GPU 00000000:00:04.0\n",
            "    Product Name                          : Tesla T4\n",
            "    Product Brand                         : NVIDIA\n",
            "    Product Architecture                  : Turing\n",
            "    Display Mode                          : Enabled\n",
            "    Display Active                        : Disabled\n",
            "    Persistence Mode                      : Disabled\n",
            "    Addressing Mode                       : None\n",
            "    MIG Mode\n",
            "        Current                           : N/A\n",
            "        Pending                           : N/A\n",
            "    Accounting Mode                       : Disabled\n",
            "    Accounting Mode Buffer Size           : 4000\n",
            "    Driver Model\n",
            "        Current                           : N/A\n",
            "        Pending                           : N/A\n",
            "    Serial Number                         : 1564620003212\n",
            "    GPU UUID                              : GPU-05a55f2a-1d64-aff3-953e-fb2b0e3ac25a\n",
            "    Minor Number                          : 0\n",
            "    VBIOS Version                         : 90.04.A7.00.01\n",
            "    MultiGPU Board                        : No\n",
            "    Board ID                              : 0x4\n",
            "    Board Part Number                     : 900-2G183-6300-T00\n",
            "    GPU Part Number                       : 1EB8-895-A1\n",
            "    FRU Part Number                       : N/A\n",
            "    Module ID                             : 1\n",
            "    Inforom Version\n",
            "        Image Version                     : G183.0200.00.02\n",
            "        OEM Object                        : 1.1\n",
            "        ECC Object                        : 5.0\n",
            "        Power Management Object           : N/A\n",
            "    Inforom BBX Object Flush\n",
            "        Latest Timestamp                  : N/A\n",
            "        Latest Duration                   : N/A\n",
            "    GPU Operation Mode\n",
            "        Current                           : N/A\n",
            "        Pending                           : N/A\n",
            "    GPU C2C Mode                          : N/A\n",
            "    GPU Virtualization Mode\n",
            "        Virtualization Mode               : Pass-Through\n",
            "        Host VGPU Mode                    : N/A\n",
            "        vGPU Heterogeneous Mode           : N/A\n",
            "    GPU Reset Status\n",
            "        Reset Required                    : No\n",
            "        Drain and Reset Recommended       : N/A\n",
            "    GSP Firmware Version                  : N/A\n",
            "    IBMNPU\n",
            "        Relaxed Ordering Mode             : N/A\n",
            "    PCI\n",
            "        Bus                               : 0x00\n",
            "        Device                            : 0x04\n",
            "        Domain                            : 0x0000\n",
            "        Base Classcode                    : 0x3\n",
            "        Sub Classcode                     : 0x2\n",
            "        Device Id                         : 0x1EB810DE\n",
            "        Bus Id                            : 00000000:00:04.0\n",
            "        Sub System Id                     : 0x12A210DE\n",
            "        GPU Link Info\n",
            "            PCIe Generation\n",
            "                Max                       : 3\n",
            "                Current                   : 1\n",
            "                Device Current            : 1\n",
            "                Device Max                : 3\n",
            "                Host Max                  : N/A\n",
            "            Link Width\n",
            "                Max                       : 16x\n",
            "                Current                   : 16x\n",
            "        Bridge Chip\n",
            "            Type                          : N/A\n",
            "            Firmware                      : N/A\n",
            "        Replays Since Reset               : 0\n",
            "        Replay Number Rollovers           : 0\n",
            "        Tx Throughput                     : 0 KB/s\n",
            "        Rx Throughput                     : 0 KB/s\n",
            "        Atomic Caps Inbound               : N/A\n",
            "        Atomic Caps Outbound              : N/A\n",
            "    Fan Speed                             : N/A\n",
            "    Performance State                     : P8\n",
            "    Clocks Event Reasons\n",
            "        Idle                              : Active\n",
            "        Applications Clocks Setting       : Not Active\n",
            "        SW Power Cap                      : Not Active\n",
            "        HW Slowdown                       : Not Active\n",
            "            HW Thermal Slowdown           : Not Active\n",
            "            HW Power Brake Slowdown       : Not Active\n",
            "        Sync Boost                        : Not Active\n",
            "        SW Thermal Slowdown               : Not Active\n",
            "        Display Clock Setting             : Not Active\n",
            "    Sparse Operation Mode                 : N/A\n",
            "    FB Memory Usage\n",
            "        Total                             : 15360 MiB\n",
            "        Reserved                          : 264 MiB\n",
            "        Used                              : 0 MiB\n",
            "        Free                              : 15095 MiB\n",
            "    BAR1 Memory Usage\n",
            "        Total                             : 256 MiB\n",
            "        Used                              : 2 MiB\n",
            "        Free                              : 254 MiB\n",
            "    Conf Compute Protected Memory Usage\n",
            "        Total                             : 0 MiB\n",
            "        Used                              : 0 MiB\n",
            "        Free                              : 0 MiB\n",
            "    Compute Mode                          : Default\n",
            "    Utilization\n",
            "        Gpu                               : 0 %\n",
            "        Memory                            : 0 %\n",
            "        Encoder                           : 0 %\n",
            "        Decoder                           : 0 %\n",
            "        JPEG                              : 0 %\n",
            "        OFA                               : 0 %\n",
            "    Encoder Stats\n",
            "        Active Sessions                   : 0\n",
            "        Average FPS                       : 0\n",
            "        Average Latency                   : 0\n",
            "    FBC Stats\n",
            "        Active Sessions                   : 0\n",
            "        Average FPS                       : 0\n",
            "        Average Latency                   : 0\n",
            "    ECC Mode\n",
            "        Current                           : Enabled\n",
            "        Pending                           : Enabled\n",
            "    ECC Errors\n",
            "        Volatile\n",
            "            SRAM Correctable              : 0\n",
            "            SRAM Uncorrectable            : 0\n",
            "            DRAM Correctable              : 0\n",
            "            DRAM Uncorrectable            : 0\n",
            "        Aggregate\n",
            "            SRAM Correctable              : 0\n",
            "            SRAM Uncorrectable            : 0\n",
            "            DRAM Correctable              : 0\n",
            "            DRAM Uncorrectable            : 0\n",
            "    Retired Pages\n",
            "        Single Bit ECC                    : 0\n",
            "        Double Bit ECC                    : 0\n",
            "        Pending Page Blacklist            : No\n",
            "    Remapped Rows                         : N/A\n",
            "    Temperature\n",
            "        GPU Current Temp                  : 34 C\n",
            "        GPU T.Limit Temp                  : N/A\n",
            "        GPU Shutdown Temp                 : 96 C\n",
            "        GPU Slowdown Temp                 : 93 C\n",
            "        GPU Max Operating Temp            : 85 C\n",
            "        GPU Target Temperature            : N/A\n",
            "        Memory Current Temp               : N/A\n",
            "        Memory Max Operating Temp         : N/A\n",
            "    GPU Power Readings\n",
            "        Power Draw                        : 9.44 W\n",
            "        Current Power Limit               : 70.00 W\n",
            "        Requested Power Limit             : 70.00 W\n",
            "        Default Power Limit               : 70.00 W\n",
            "        Min Power Limit                   : 60.00 W\n",
            "        Max Power Limit                   : 70.00 W\n",
            "    GPU Memory Power Readings \n",
            "        Power Draw                        : N/A\n",
            "    Module Power Readings\n",
            "        Power Draw                        : N/A\n",
            "        Current Power Limit               : N/A\n",
            "        Requested Power Limit             : N/A\n",
            "        Default Power Limit               : N/A\n",
            "        Min Power Limit                   : N/A\n",
            "        Max Power Limit                   : N/A\n",
            "    Clocks\n",
            "        Graphics                          : 300 MHz\n",
            "        SM                                : 300 MHz\n",
            "        Memory                            : 405 MHz\n",
            "        Video                             : 540 MHz\n",
            "    Applications Clocks\n",
            "        Graphics                          : 585 MHz\n",
            "        Memory                            : 5001 MHz\n",
            "    Default Applications Clocks\n",
            "        Graphics                          : 585 MHz\n",
            "        Memory                            : 5001 MHz\n",
            "    Deferred Clocks\n",
            "        Memory                            : N/A\n",
            "    Max Clocks\n",
            "        Graphics                          : 1590 MHz\n",
            "        SM                                : 1590 MHz\n",
            "        Memory                            : 5001 MHz\n",
            "        Video                             : 1470 MHz\n",
            "    Max Customer Boost Clocks\n",
            "        Graphics                          : 1590 MHz\n",
            "    Clock Policy\n",
            "        Auto Boost                        : N/A\n",
            "        Auto Boost Default                : N/A\n",
            "    Voltage\n",
            "        Graphics                          : N/A\n",
            "    Fabric\n",
            "        State                             : N/A\n",
            "        Status                            : N/A\n",
            "        CliqueId                          : N/A\n",
            "        ClusterUUID                       : N/A\n",
            "        Health\n",
            "            Bandwidth                     : N/A\n",
            "    Processes                             : None\n",
            "\n"
          ]
        }
      ],
      "source": [
        "!nvidia-smi -q"
      ]
    },
    {
      "cell_type": "code",
      "source": [
        "# gpu topology\n",
        "!nvidia-smi topo -m"
      ],
      "metadata": {
        "colab": {
          "base_uri": "https://localhost:8080/"
        },
        "id": "T6ieomUwkRaC",
        "outputId": "8040a0d4-4653-4f50-ee32-c6df382ae360"
      },
      "execution_count": 4,
      "outputs": [
        {
          "output_type": "stream",
          "name": "stdout",
          "text": [
            "\t\u001b[4mGPU0\tCPU Affinity\tNUMA Affinity\tGPU NUMA ID\u001b[0m\n",
            "GPU0\t X \t0-1\t0\t\tN/A\n",
            "\n",
            "Legend:\n",
            "\n",
            "  X    = Self\n",
            "  SYS  = Connection traversing PCIe as well as the SMP interconnect between NUMA nodes (e.g., QPI/UPI)\n",
            "  NODE = Connection traversing PCIe as well as the interconnect between PCIe Host Bridges within a NUMA node\n",
            "  PHB  = Connection traversing PCIe as well as a PCIe Host Bridge (typically the CPU)\n",
            "  PXB  = Connection traversing multiple PCIe bridges (without traversing the PCIe Host Bridge)\n",
            "  PIX  = Connection traversing at most a single PCIe bridge\n",
            "  NV#  = Connection traversing a bonded set of # NVLinks\n"
          ]
        }
      ]
    },
    {
      "cell_type": "code",
      "source": [
        "%cd /usr/local"
      ],
      "metadata": {
        "colab": {
          "base_uri": "https://localhost:8080/"
        },
        "id": "OYmI8y4ski6_",
        "outputId": "d538c094-0375-40d6-e79c-d029db7673cf"
      },
      "execution_count": 7,
      "outputs": [
        {
          "output_type": "stream",
          "name": "stdout",
          "text": [
            "/usr/local\n"
          ]
        }
      ]
    },
    {
      "cell_type": "code",
      "source": [
        "!ls"
      ],
      "metadata": {
        "colab": {
          "base_uri": "https://localhost:8080/"
        },
        "id": "A8DE6x_1k79a",
        "outputId": "8d677aba-d107-4c9d-a8bd-620c82680c8e"
      },
      "execution_count": 8,
      "outputs": [
        {
          "output_type": "stream",
          "name": "stdout",
          "text": [
            "bin    cuda\tcuda-12.5\t  etc\t include  libexec     man  sbin   src\n",
            "colab  cuda-12\tdist_metrics.pxd  games  lib\t  LICENSE.md  opt  share\n"
          ]
        }
      ]
    },
    {
      "cell_type": "code",
      "source": [
        "%cd cuda-12.5"
      ],
      "metadata": {
        "colab": {
          "base_uri": "https://localhost:8080/"
        },
        "id": "D-OesaGKk_5r",
        "outputId": "eacca36e-e1ba-4bd0-86da-9cc2ccc3c032"
      },
      "execution_count": 51,
      "outputs": [
        {
          "output_type": "stream",
          "name": "stdout",
          "text": [
            "/usr/local/cuda-12.5\n"
          ]
        }
      ]
    },
    {
      "cell_type": "markdown",
      "source": [
        "**Architecture Type**"
      ],
      "metadata": {
        "id": "wTXmmCNsnhaS"
      }
    },
    {
      "cell_type": "code",
      "source": [
        "%%writefile arch_query.cu\n",
        "#include <cuda_runtime.h>\n",
        "#include <stdio.h>\n",
        "\n",
        "int main() {\n",
        "    int deviceCount;\n",
        "    cudaGetDeviceCount(&deviceCount);\n",
        "\n",
        "    for (int device = 0; device < deviceCount; device++) {\n",
        "        cudaDeviceProp prop;\n",
        "        cudaGetDeviceProperties(&prop, device);\n",
        "\n",
        "        printf(\"=== Device %d: %s ===\\n\", device, prop.name);\n",
        "        printf(\"Compute Capability: %d.%d\\n\", prop.major, prop.minor);\n",
        "        printf(\"Total Global Memory: %.2f GB\\n\", prop.totalGlobalMem / (1024.0*1024.0*1024.0));\n",
        "        printf(\"Shared Memory per Block: %zu bytes\\n\", prop.sharedMemPerBlock);\n",
        "        printf(\"Registers per Block: %d\\n\", prop.regsPerBlock);\n",
        "        printf(\"Warp Size: %d\\n\", prop.warpSize);\n",
        "        printf(\"Max Threads per Block: %d\\n\", prop.maxThreadsPerBlock);\n",
        "        printf(\"Max Threads Dim: (%d, %d, %d)\\n\",\n",
        "               prop.maxThreadsDim[0], prop.maxThreadsDim[1], prop.maxThreadsDim[2]);\n",
        "        printf(\"Max Grid Size: (%d, %d, %d)\\n\",\n",
        "               prop.maxGridSize[0], prop.maxGridSize[1], prop.maxGridSize[2]);\n",
        "        printf(\"Multiprocessor Count: %d\\n\", prop.multiProcessorCount);\n",
        "        printf(\"Max Threads per Multiprocessor: %d\\n\", prop.maxThreadsPerMultiProcessor);\n",
        "        printf(\"Memory Clock Rate: %.2f MHz\\n\", prop.memoryClockRate / 1000.0);\n",
        "        printf(\"Memory Bus Width: %d bits\\n\", prop.memoryBusWidth);\n",
        "        printf(\"L2 Cache Size: %d bytes\\n\", prop.l2CacheSize);\n",
        "        printf(\"Texture Alignment: %zu\\n\", prop.textureAlignment);\n",
        "        printf(\"Concurrent Kernels: %s\\n\", prop.concurrentKernels ? \"Yes\" : \"No\");\n",
        "        printf(\"ECC Enabled: %s\\n\", prop.ECCEnabled ? \"Yes\" : \"No\");\n",
        "        printf(\"Unified Addressing: %s\\n\", prop.unifiedAddressing ? \"Yes\" : \"No\");\n",
        "        printf(\"\\n\");\n",
        "    }\n",
        "    return 0;\n",
        "}"
      ],
      "metadata": {
        "colab": {
          "base_uri": "https://localhost:8080/"
        },
        "id": "1kMgW1-LncPc",
        "outputId": "522a189c-fba6-4448-e4e4-c08c1e0b2603"
      },
      "execution_count": 69,
      "outputs": [
        {
          "output_type": "stream",
          "name": "stdout",
          "text": [
            "Writing arch_query.cu\n"
          ]
        }
      ]
    },
    {
      "cell_type": "code",
      "source": [
        "!nvcc -arch=sm_75 arch_query.cu -o arch_query"
      ],
      "metadata": {
        "id": "X70NCKLAnnTj"
      },
      "execution_count": 70,
      "outputs": []
    },
    {
      "cell_type": "code",
      "source": [
        "!./arch_query"
      ],
      "metadata": {
        "colab": {
          "base_uri": "https://localhost:8080/"
        },
        "id": "uSCKBoKInsm1",
        "outputId": "26422a07-c609-4c1e-e518-a415c24dee70"
      },
      "execution_count": 71,
      "outputs": [
        {
          "output_type": "stream",
          "name": "stdout",
          "text": [
            "=== Device 0: Tesla T4 ===\n",
            "Compute Capability: 7.5\n",
            "Total Global Memory: 14.74 GB\n",
            "Shared Memory per Block: 49152 bytes\n",
            "Registers per Block: 65536\n",
            "Warp Size: 32\n",
            "Max Threads per Block: 1024\n",
            "Max Threads Dim: (1024, 1024, 64)\n",
            "Max Grid Size: (2147483647, 65535, 65535)\n",
            "Multiprocessor Count: 40\n",
            "Max Threads per Multiprocessor: 1024\n",
            "Memory Clock Rate: 5001.00 MHz\n",
            "Memory Bus Width: 256 bits\n",
            "L2 Cache Size: 4194304 bytes\n",
            "Texture Alignment: 512\n",
            "Concurrent Kernels: Yes\n",
            "ECC Enabled: Yes\n",
            "Unified Addressing: Yes\n",
            "\n"
          ]
        }
      ]
    },
    {
      "cell_type": "markdown",
      "source": [
        "**Memory Architecture Analysis**"
      ],
      "metadata": {
        "id": "U8_pqIfDn6Nz"
      }
    },
    {
      "cell_type": "code",
      "source": [
        "%%writefile memory_bandwidth.cu\n",
        "#include <cuda_runtime.h>\n",
        "#include <stdio.h>\n",
        "#include <chrono>\n",
        "\n",
        "__global__ void memory_copy_kernel(float *dst, float *src, int n) {\n",
        "    int idx = blockIdx.x * blockDim.x + threadIdx.x;\n",
        "    if (idx < n) {\n",
        "        dst[idx] = src[idx];\n",
        "    }\n",
        "}\n",
        "\n",
        "int main() {\n",
        "    const int N = 1024 * 1024 * 64; // 64M elements = 256MB of float data\n",
        "    const int bytes = N * sizeof(float);\n",
        "\n",
        "    float *h_src, *h_dst;\n",
        "    float *d_src, *d_dst;\n",
        "\n",
        "    printf(\"Memory Bandwidth Test (Small Version)\\n\");\n",
        "    printf(\"Data Size: %.2f MB\\n\", bytes / (1024.0*1024.0));\n",
        "\n",
        "    // Allocate host memory\n",
        "    h_src = (float*)malloc(bytes);\n",
        "    h_dst = (float*)malloc(bytes);\n",
        "\n",
        "    // Initialize data\n",
        "    for (int i = 0; i < N; i++) {\n",
        "        h_src[i] = (float)i;\n",
        "    }\n",
        "\n",
        "    // Allocate device memory\n",
        "    cudaMalloc(&d_src, bytes);\n",
        "    cudaMalloc(&d_dst, bytes);\n",
        "\n",
        "    // Multiple runs for better accuracy\n",
        "    const int num_runs = 5;\n",
        "    double h2d_total = 0, d2h_total = 0, d2d_total = 0;\n",
        "\n",
        "    for (int run = 0; run < num_runs; run++) {\n",
        "        // H2D test\n",
        "        auto start = std::chrono::high_resolution_clock::now();\n",
        "        cudaMemcpy(d_src, h_src, bytes, cudaMemcpyHostToDevice);\n",
        "        cudaDeviceSynchronize();\n",
        "        auto end = std::chrono::high_resolution_clock::now();\n",
        "        h2d_total += std::chrono::duration<double>(end - start).count();\n",
        "\n",
        "        // D2H test\n",
        "        start = std::chrono::high_resolution_clock::now();\n",
        "        cudaMemcpy(h_dst, d_src, bytes, cudaMemcpyDeviceToHost);\n",
        "        cudaDeviceSynchronize();\n",
        "        end = std::chrono::high_resolution_clock::now();\n",
        "        d2h_total += std::chrono::duration<double>(end - start).count();\n",
        "\n",
        "        // D2D test\n",
        "        int blockSize = 256;\n",
        "        int gridSize = (N + blockSize - 1) / blockSize;\n",
        "        start = std::chrono::high_resolution_clock::now();\n",
        "        memory_copy_kernel<<<gridSize, blockSize>>>(d_dst, d_src, N);\n",
        "        cudaDeviceSynchronize();\n",
        "        end = std::chrono::high_resolution_clock::now();\n",
        "        d2d_total += std::chrono::duration<double>(end - start).count();\n",
        "    }\n",
        "\n",
        "    // Calculate averages\n",
        "    double h2d_avg = h2d_total / num_runs;\n",
        "    double d2h_avg = d2h_total / num_runs;\n",
        "    double d2d_avg = d2d_total / num_runs;\n",
        "\n",
        "    double h2d_bandwidth = (bytes / (1024.0*1024.0*1024.0)) / h2d_avg;\n",
        "    double d2h_bandwidth = (bytes / (1024.0*1024.0*1024.0)) / d2h_avg;\n",
        "    double d2d_bandwidth = (2 * bytes / (1024.0*1024.0*1024.0)) / d2d_avg;\n",
        "\n",
        "    printf(\"\\n=== RESULTS (Average of %d runs) ===\\n\", num_runs);\n",
        "    printf(\"Host to Device:   %.2f GB/s\\n\", h2d_bandwidth);\n",
        "    printf(\"Device to Host:   %.2f GB/s\\n\", d2h_bandwidth);\n",
        "    printf(\"Device to Device: %.2f GB/s\\n\", d2d_bandwidth);\n",
        "\n",
        "    // Cleanup\n",
        "    free(h_src);\n",
        "    free(h_dst);\n",
        "    cudaFree(d_src);\n",
        "    cudaFree(d_dst);\n",
        "\n",
        "    return 0;\n",
        "}"
      ],
      "metadata": {
        "colab": {
          "base_uri": "https://localhost:8080/"
        },
        "id": "m70djp5TnuEQ",
        "outputId": "0609451c-6a48-48f4-fcc8-d9890d0d9545"
      },
      "execution_count": 77,
      "outputs": [
        {
          "output_type": "stream",
          "name": "stdout",
          "text": [
            "Overwriting memory_bandwidth.cu\n"
          ]
        }
      ]
    },
    {
      "cell_type": "code",
      "source": [
        "!nvcc -arch=sm_75 memory_bandwidth.cu -o memory_bandwidth"
      ],
      "metadata": {
        "id": "LhT1ZA3an_lM"
      },
      "execution_count": 78,
      "outputs": []
    },
    {
      "cell_type": "code",
      "source": [
        "!./memory_bandwidth"
      ],
      "metadata": {
        "colab": {
          "base_uri": "https://localhost:8080/"
        },
        "id": "vvV9p4q-oMwx",
        "outputId": "9b8517e6-cb29-4761-92b0-60671c30f784"
      },
      "execution_count": 79,
      "outputs": [
        {
          "output_type": "stream",
          "name": "stdout",
          "text": [
            "Memory Bandwidth Test (Small Version)\n",
            "Data Size: 256.00 MB\n",
            "\n",
            "=== RESULTS (Average of 5 runs) ===\n",
            "Host to Device:   4.06 GB/s\n",
            "Device to Host:   2.95 GB/s\n",
            "Device to Device: 218.15 GB/s\n"
          ]
        }
      ]
    },
    {
      "cell_type": "code",
      "source": [],
      "metadata": {
        "id": "umE29YP0pVNV"
      },
      "execution_count": null,
      "outputs": []
    }
  ]
}