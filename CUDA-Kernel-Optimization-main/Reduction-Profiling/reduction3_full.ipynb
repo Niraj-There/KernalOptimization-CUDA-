{
  "nbformat": 4,
  "nbformat_minor": 0,
  "metadata": {
    "colab": {
      "provenance": [],
      "gpuType": "T4"
    },
    "kernelspec": {
      "name": "python3",
      "display_name": "Python 3"
    },
    "language_info": {
      "name": "python"
    },
    "accelerator": "GPU"
  },
  "cells": [
    {
      "cell_type": "code",
      "execution_count": 20,
      "metadata": {
        "colab": {
          "base_uri": "https://localhost:8080/"
        },
        "id": "FqRTeYeY59vp",
        "outputId": "d7a192d6-14f3-47e7-d2a2-8bca3a6b9ea1"
      },
      "outputs": [
        {
          "output_type": "stream",
          "name": "stdout",
          "text": [
            "Writing five.cu\n"
          ]
        }
      ],
      "source": [
        "%%writefile five.cu\n",
        "#include <iostream>\n",
        "#include \"cuda_runtime.h\"\n",
        "#include <chrono>\n",
        "#include <numeric>\n",
        "\n",
        "// REDUCTION 3 – First Add During Load\n",
        "__global__ void reduce3(int *g_in_data, int *g_out_data){\n",
        "    extern __shared__ int sdata[];  // stored in the shared memory\n",
        "\n",
        "    // Each thread loading one element from global onto shared memory\n",
        "    unsigned int tid = threadIdx.x;\n",
        "    unsigned int i = blockIdx.x*(blockDim.x*2) + threadIdx.x;\n",
        "    sdata[tid] = g_in_data[i] + g_in_data[i+blockDim.x];\n",
        "    __syncthreads();\n",
        "\n",
        "    // Reduction method -- occurs in shared memory\n",
        "    for(unsigned int s = blockDim.x/2; s > 0; s >>= 1){\n",
        "        // check out the reverse loop above\n",
        "        if (tid < s){   // then, we check tid to do our computation\n",
        "            sdata[tid] += sdata[tid + s];\n",
        "        }\n",
        "        __syncthreads();\n",
        "    }\n",
        "    if (tid == 0){\n",
        "        g_out_data[blockIdx.x] = sdata[0];\n",
        "    }\n",
        "}\n",
        "\n",
        "// I hope to use this main file for all of the reduction files\n",
        "int main(){\n",
        "    int n = 1<<22; // Increase to about 4M elements\n",
        "    size_t bytes = n * sizeof(int);\n",
        "\n",
        "    // Host/CPU arrays\n",
        "    int *host_input_data = new int[n];\n",
        "    int *host_output_data = new int[(n + 255) / 256]; // to have sufficient size for output array\n",
        "\n",
        "    // Device/GPU arrays\n",
        "    int *dev_input_data, *dev_output_data;\n",
        "\n",
        "    // Init data\n",
        "    srand(42); // Fixed seed\n",
        "    for (int i = 0; i < n; i++){\n",
        "        host_input_data[i] = rand() % 100;\n",
        "    }\n",
        "\n",
        "    // Allocating memory on GPU for device arrays\n",
        "    cudaMalloc(&dev_input_data, bytes);\n",
        "    cudaMalloc(&dev_output_data, (n + 255) / 256 * sizeof(int));\n",
        "\n",
        "    // Copying our data onto the device (GPU)\n",
        "    cudaMemcpy(dev_input_data, host_input_data, bytes, cudaMemcpyHostToDevice);\n",
        "\n",
        "    int blockSize = 256; // number of threads per block\n",
        "\n",
        "    auto start = std::chrono::high_resolution_clock::now(); // start timer\n",
        "\n",
        "    // Launch Kernel and Synchronize threads\n",
        "    int num_blocks = (n + (2 * blockSize) - 1) / (2 * blockSize);   // Modifying this to account for the fact that 1 thread accesses 2 elements\n",
        "    cudaError_t err;\n",
        "    reduce3<<<num_blocks, blockSize, blockSize * sizeof(int)>>>(dev_input_data, dev_output_data);\n",
        "    err = cudaGetLastError();\n",
        "    if (err != cudaSuccess) {\n",
        "        std::cerr << \"CUDA error: \" << cudaGetErrorString(err) << std::endl;\n",
        "    }\n",
        "    cudaDeviceSynchronize();\n",
        "\n",
        "    auto stop = std::chrono::high_resolution_clock::now();\n",
        "    auto duration = std::chrono::duration_cast<std::chrono::microseconds>(stop - start).count() / 1000.0; // duration in milliseconds with three decimal points\n",
        "\n",
        "    // Copying data back to the host (CPU)\n",
        "    cudaMemcpy(host_output_data, dev_output_data, (n + 255) / 256 * sizeof(int), cudaMemcpyDeviceToHost);\n",
        "\n",
        "    // Final reduction on the host\n",
        "    int finalResult = host_output_data[0];\n",
        "    for (int i = 1; i < (n + 255) / 256; ++i) {\n",
        "        finalResult += host_output_data[i];\n",
        "    }\n",
        "\n",
        "    // CPU Summation for verification\n",
        "    int cpuResult = std::accumulate(host_input_data, host_input_data + n, 0);\n",
        "    if (cpuResult == finalResult) {\n",
        "        std::cout << \"\\033[32m\"; // Set text color to green\n",
        "        std::cout << \"Verification successful: GPU result matches CPU result.\\n\";\n",
        "        std::cout << \"GPU Result: \" << finalResult << \", CPU Result: \" << cpuResult << std::endl;\n",
        "    } else {\n",
        "        std::cout << \"\\033[31m\"; // Set text color to red\n",
        "        std::cout << \"Verification failed: GPU result (\" << finalResult << \") does not match CPU result (\" << cpuResult << \").\\n\";\n",
        "        std::cout << \"GPU Result: \" << finalResult << \", CPU Result: \" << cpuResult << std::endl;\n",
        "    }\n",
        "    std::cout << \"\\033[0m\"; // Reset text color to default\n",
        "\n",
        "    double bandwidth = (duration > 0) ? (bytes / duration / 1e6) : 0; // computed in GB/s, handling zero duration\n",
        "    std::cout << \"Reduced result: \" << finalResult << std::endl;\n",
        "    std::cout << \"Time elapsed: \" << duration << \" ms\" << std::endl;\n",
        "    std::cout << \"Effective bandwidth: \" << bandwidth << \" GB/s\" << std::endl;\n",
        "\n",
        "    // Freeing memory\n",
        "    cudaFree(dev_input_data);\n",
        "    cudaFree(dev_output_data);\n",
        "    delete[] host_input_data;\n",
        "    delete[] host_output_data;\n",
        "}"
      ]
    },
    {
      "cell_type": "code",
      "source": [
        "!nvcc -arch=sm_75 two.cu -o two"
      ],
      "metadata": {
        "id": "EuUmqReY6dMZ"
      },
      "execution_count": 7,
      "outputs": []
    },
    {
      "cell_type": "code",
      "source": [
        "!./two"
      ],
      "metadata": {
        "colab": {
          "base_uri": "https://localhost:8080/"
        },
        "id": "_V4tvPw-63la",
        "outputId": "4d2896b5-1a4e-4657-b681-e2c1a9660f94"
      },
      "execution_count": 8,
      "outputs": [
        {
          "output_type": "stream",
          "name": "stdout",
          "text": [
            "\u001b[32mVerification successful: GPU result matches CPU result.\n",
            "GPU Result: 207451054, CPU Result: 207451054\n",
            "\u001b[0mReduced result: 207451054\n",
            "Time elapsed: 0.355 ms\n",
            "Effective bandwidth: 47.2598 GB/s\n"
          ]
        }
      ]
    },
    {
      "cell_type": "code",
      "source": [
        "!nvcc -arch=sm_75 three.cu -o three -O1 -lineinfo"
      ],
      "metadata": {
        "id": "6z_qS7BN7FPn"
      },
      "execution_count": 11,
      "outputs": []
    },
    {
      "cell_type": "code",
      "source": [
        "!./three"
      ],
      "metadata": {
        "colab": {
          "base_uri": "https://localhost:8080/"
        },
        "id": "6Jk5oet58PxV",
        "outputId": "c48f4059-3dfb-41f8-c7b7-5670bafae4af"
      },
      "execution_count": 13,
      "outputs": [
        {
          "output_type": "stream",
          "name": "stdout",
          "text": [
            "\u001b[32mVerification successful: GPU result matches CPU result.\n",
            "GPU Result: 207451054, CPU Result: 207451054\n",
            "\u001b[0mReduced result: 207451054\n",
            "Time elapsed: 0.332 ms\n",
            "Effective bandwidth: 50.5338 GB/s\n"
          ]
        }
      ]
    },
    {
      "cell_type": "code",
      "source": [
        "!nvcc -arch=sm_75 four.cu -o four -O2 -lineinfo"
      ],
      "metadata": {
        "id": "rVqq6k9V8Rw3"
      },
      "execution_count": 17,
      "outputs": []
    },
    {
      "cell_type": "code",
      "source": [
        "!./four"
      ],
      "metadata": {
        "colab": {
          "base_uri": "https://localhost:8080/"
        },
        "id": "YxQaog7m8f6t",
        "outputId": "a1eb4e7f-aa0c-423b-bc13-af3f38f078bf"
      },
      "execution_count": 18,
      "outputs": [
        {
          "output_type": "stream",
          "name": "stdout",
          "text": [
            "\u001b[32mVerification successful: GPU result matches CPU result.\n",
            "GPU Result: 207451054, CPU Result: 207451054\n",
            "\u001b[0mReduced result: 207451054\n",
            "Time elapsed: 0.329 ms\n",
            "Effective bandwidth: 50.9946 GB/s\n"
          ]
        }
      ]
    },
    {
      "cell_type": "code",
      "source": [
        "!nvcc -arch=sm_75 five.cu -o five -O3 -lineinfo"
      ],
      "metadata": {
        "id": "5g8Qf5mv8h0g"
      },
      "execution_count": 21,
      "outputs": []
    },
    {
      "cell_type": "code",
      "source": [
        "!./five"
      ],
      "metadata": {
        "colab": {
          "base_uri": "https://localhost:8080/"
        },
        "id": "Bo-PeMnU8uZA",
        "outputId": "3797179a-edd9-4f4e-8c69-5242ea5a02c7"
      },
      "execution_count": 22,
      "outputs": [
        {
          "output_type": "stream",
          "name": "stdout",
          "text": [
            "\u001b[32mVerification successful: GPU result matches CPU result.\n",
            "GPU Result: 207451054, CPU Result: 207451054\n",
            "\u001b[0mReduced result: 207451054\n",
            "Time elapsed: 0.324 ms\n",
            "Effective bandwidth: 51.7815 GB/s\n"
          ]
        }
      ]
    },
    {
      "cell_type": "code",
      "source": [
        "! set -x \\\n",
        "&& cd $(mktemp -d) \\\n",
        "&& wget https://developer.download.nvidia.com/compute/cuda/12.1.0/local_installers/cuda_12.1.0_530.30.02_linux.run \\\n",
        "&& sudo sh cuda_12.1.0_530.30.02_linux.run --silent --toolkit \\\n",
        "&& rm cuda_12.1.0_530.30.02_linux.run"
      ],
      "metadata": {
        "colab": {
          "base_uri": "https://localhost:8080/"
        },
        "id": "YVmdU1QX80Vl",
        "outputId": "99e4fa77-a1cd-4430-b0b2-311082cf92dd"
      },
      "execution_count": 23,
      "outputs": [
        {
          "output_type": "stream",
          "name": "stdout",
          "text": [
            "++ mktemp -d\n",
            "+ cd /tmp/tmp.ZfhfY2weaK\n",
            "+ wget https://developer.download.nvidia.com/compute/cuda/12.1.0/local_installers/cuda_12.1.0_530.30.02_linux.run\n",
            "--2025-06-12 07:04:16--  https://developer.download.nvidia.com/compute/cuda/12.1.0/local_installers/cuda_12.1.0_530.30.02_linux.run\n",
            "Resolving developer.download.nvidia.com (developer.download.nvidia.com)... 23.59.88.207, 23.59.88.195\n",
            "Connecting to developer.download.nvidia.com (developer.download.nvidia.com)|23.59.88.207|:443... connected.\n",
            "HTTP request sent, awaiting response... 200 OK\n",
            "Length: 4245586997 (4.0G) [application/octet-stream]\n",
            "Saving to: ‘cuda_12.1.0_530.30.02_linux.run’\n",
            "\n",
            "cuda_12.1.0_530.30. 100%[===================>]   3.95G   176MB/s    in 25s     \n",
            "\n",
            "2025-06-12 07:04:40 (165 MB/s) - ‘cuda_12.1.0_530.30.02_linux.run’ saved [4245586997/4245586997]\n",
            "\n",
            "+ sudo sh cuda_12.1.0_530.30.02_linux.run --silent --toolkit\n",
            "+ rm cuda_12.1.0_530.30.02_linux.run\n"
          ]
        }
      ]
    },
    {
      "cell_type": "code",
      "source": [
        "import os\n",
        "os.environ['PATH'] = os.environ['PATH'] + ':/usr/local/cuda/bin/'"
      ],
      "metadata": {
        "id": "nvVp_1ZS9BwY"
      },
      "execution_count": 24,
      "outputs": []
    },
    {
      "cell_type": "code",
      "source": [
        "!ncu -o reduction_report_no ./two"
      ],
      "metadata": {
        "colab": {
          "base_uri": "https://localhost:8080/"
        },
        "id": "BE5ASexb-BZ1",
        "outputId": "7b9046ea-de04-4ed2-8a33-1c449da82362"
      },
      "execution_count": 25,
      "outputs": [
        {
          "output_type": "stream",
          "name": "stdout",
          "text": [
            "==PROF== Connected to process 11127 (/content/two)\n",
            "==PROF== Profiling \"reduce3(int *, int *)\" - 0: 0%....50%....100% - 9 passes\n",
            "\u001b[32mVerification successful: GPU result matches CPU result.\n",
            "GPU Result: 207451054, CPU Result: 207451054\n",
            "\u001b[0mReduced result: 207451054\n",
            "Time elapsed: 480.13 ms\n",
            "Effective bandwidth: 0.0349431 GB/s\n",
            "==PROF== Disconnected from process 11127\n",
            "==PROF== Report: /content/reduction_report_no.ncu-rep\n"
          ]
        }
      ]
    },
    {
      "cell_type": "code",
      "source": [
        "!ncu -o reduction_report_o1 ./three"
      ],
      "metadata": {
        "colab": {
          "base_uri": "https://localhost:8080/"
        },
        "id": "cBSKqNbx-Ge7",
        "outputId": "d3a8a20a-7f03-4a7a-e074-aa1f897a97e5"
      },
      "execution_count": 43,
      "outputs": [
        {
          "output_type": "stream",
          "name": "stdout",
          "text": [
            "==PROF== Connected to process 12678 (/content/three)\n",
            "==PROF== Profiling \"reduce3(int *, int *)\" - 0: 0%....50%....100% - 9 passes\n",
            "\u001b[32mVerification successful: GPU result matches CPU result.\n",
            "GPU Result: 207451054, CPU Result: 207451054\n",
            "\u001b[0mReduced result: 207451054\n",
            "Time elapsed: 317.704 ms\n",
            "Effective bandwidth: 0.0528077 GB/s\n",
            "==PROF== Disconnected from process 12678\n",
            "==PROF== Report: /content/reduction_report_o1.ncu-rep\n"
          ]
        }
      ]
    },
    {
      "cell_type": "code",
      "source": [
        "!ncu -o reduction_report_o2 ./four"
      ],
      "metadata": {
        "colab": {
          "base_uri": "https://localhost:8080/"
        },
        "id": "oJplZBrI-JxR",
        "outputId": "e542012a-3ae3-4072-c7d5-264d2373e87d"
      },
      "execution_count": 41,
      "outputs": [
        {
          "output_type": "stream",
          "name": "stdout",
          "text": [
            "==PROF== Connected to process 12547 (/content/four)\n",
            "==PROF== Profiling \"reduce3(int *, int *)\" - 0: 0%....50%....100% - 9 passes\n",
            "\u001b[32mVerification successful: GPU result matches CPU result.\n",
            "GPU Result: 207451054, CPU Result: 207451054\n",
            "\u001b[0mReduced result: 207451054\n",
            "Time elapsed: 385.163 ms\n",
            "Effective bandwidth: 0.0435587 GB/s\n",
            "==PROF== Disconnected from process 12547\n",
            "==PROF== Report: /content/reduction_report_o2.ncu-rep\n"
          ]
        }
      ]
    },
    {
      "cell_type": "code",
      "source": [
        "!ncu -o reduction_report_o3 ./five"
      ],
      "metadata": {
        "colab": {
          "base_uri": "https://localhost:8080/"
        },
        "id": "3J-1pxwY-Yrt",
        "outputId": "3707920c-0277-4df0-a720-41db3fab53ff"
      },
      "execution_count": 44,
      "outputs": [
        {
          "output_type": "stream",
          "name": "stdout",
          "text": [
            "==PROF== Connected to process 12890 (/content/five)\n",
            "==PROF== Profiling \"reduce3(int *, int *)\" - 0: 0%....50%....100% - 9 passes\n",
            "\u001b[32mVerification successful: GPU result matches CPU result.\n",
            "GPU Result: 207451054, CPU Result: 207451054\n",
            "\u001b[0mReduced result: 207451054\n",
            "Time elapsed: 289.578 ms\n",
            "Effective bandwidth: 0.0579368 GB/s\n",
            "==PROF== Disconnected from process 12890\n",
            "==PROF== Report: /content/reduction_report_o3.ncu-rep\n"
          ]
        }
      ]
    },
    {
      "cell_type": "code",
      "source": [
        "!nsys profile ./two"
      ],
      "metadata": {
        "colab": {
          "base_uri": "https://localhost:8080/"
        },
        "id": "xtB58Zfu-7-6",
        "outputId": "8cdf676d-5919-4519-a967-9d99ee3b0506"
      },
      "execution_count": 46,
      "outputs": [
        {
          "output_type": "stream",
          "name": "stdout",
          "text": [
            "\u001b[32mVerification successful: GPU result matches CPU result.\n",
            "GPU Result: 207451054, CPU Result: 207451054\n",
            "\u001b[0mReduced result: 207451054\n",
            "Time elapsed: 1.308 ms\n",
            "Effective bandwidth: 12.8266 GB/s\n",
            "Generating '/tmp/nsys-report-10e6.qdstrm'\n",
            "[1/1] [========================100%] report1.nsys-rep\n",
            "Generated:\n",
            "    /content/report1.nsys-rep\n"
          ]
        }
      ]
    },
    {
      "cell_type": "code",
      "source": [
        "!nsys stats report1.nsys-rep"
      ],
      "metadata": {
        "colab": {
          "base_uri": "https://localhost:8080/"
        },
        "id": "RejFF247_b4h",
        "outputId": "b4ef4d89-46fa-4960-8cab-d13496525d65"
      },
      "execution_count": 47,
      "outputs": [
        {
          "output_type": "stream",
          "name": "stdout",
          "text": [
            "Generating SQLite file report1.sqlite from report1.nsys-rep\n",
            "\rExporting 1993 events: [1%                                                     ]\rExporting 1993 events: [2%                                                     ]\rExporting 1993 events: [3%                                                     ]\rExporting 1993 events: [4%                                                     ]\rExporting 1993 events: [5%                                                     ]\rExporting 1993 events: [=6%                                                    ]\rExporting 1993 events: [=7%                                                    ]\rExporting 1993 events: [==8%                                                   ]\rExporting 1993 events: [==9%                                                   ]\rExporting 1993 events: [==10%                                                  ]\rExporting 1993 events: [===11%                                                 ]\rExporting 1993 events: [===12%                                                 ]\rExporting 1993 events: [====13%                                                ]\rExporting 1993 events: [====14%                                                ]\rExporting 1993 events: [=====15%                                               ]\rExporting 1993 events: [=====16%                                               ]\rExporting 1993 events: [======17%                                              ]\rExporting 1993 events: [======18%                                              ]\rExporting 1993 events: [=======19%                                             ]\rExporting 1993 events: [========20%                                            ]\rExporting 1993 events: [========21%                                            ]\rExporting 1993 events: [=========22%                                           ]\rExporting 1993 events: [=========23%                                           ]\rExporting 1993 events: [==========24%                                          ]\rExporting 1993 events: [==========25%                                          ]\rExporting 1993 events: [===========26%                                         ]\rExporting 1993 events: [===========27%                                         ]\rExporting 1993 events: [============28%                                        ]\rExporting 1993 events: [============29%                                        ]\rExporting 1993 events: [=============30%                                       ]\rExporting 1993 events: [==============31%                                      ]\rExporting 1993 events: [==============32%                                      ]\rExporting 1993 events: [===============33%                                     ]\rExporting 1993 events: [===============34%                                     ]\rExporting 1993 events: [================35%                                    ]\rExporting 1993 events: [================36%                                    ]\rExporting 1993 events: [=================37%                                   ]\rExporting 1993 events: [=================38%                                   ]\rExporting 1993 events: [==================39%                                  ]\rExporting 1993 events: [===================40%                                 ]\rExporting 1993 events: [===================41%                                 ]\rExporting 1993 events: [====================42%                                ]\rExporting 1993 events: [====================43%                                ]\rExporting 1993 events: [=====================44%                               ]\rExporting 1993 events: [=====================45%                               ]\rExporting 1993 events: [======================46%                              ]\rExporting 1993 events: [======================47%                              ]\rExporting 1993 events: [=======================48%                             ]\rExporting 1993 events: [=======================49%                             ]\rExporting 1993 events: [========================50%                            ]\rExporting 1993 events: [=========================51%                           ]\rExporting 1993 events: [=========================52%                           ]\rExporting 1993 events: [==========================53%                          ]\rExporting 1993 events: [==========================54%                          ]\rExporting 1993 events: [===========================55%                         ]\rExporting 1993 events: [===========================56%                         ]\rExporting 1993 events: [============================57%                        ]\rExporting 1993 events: [============================58%                        ]\rExporting 1993 events: [=============================59%                       ]\rExporting 1993 events: [==============================60%                      ]\rExporting 1993 events: [==============================61%                      ]\rExporting 1993 events: [===============================62%                     ]\rExporting 1993 events: [===============================63%                     ]\rExporting 1993 events: [================================64%                    ]\rExporting 1993 events: [================================65%                    ]\rExporting 1993 events: [=================================66%                   ]\rExporting 1993 events: [=================================67%                   ]\rExporting 1993 events: [==================================68%                  ]\rExporting 1993 events: [==================================69%                  ]\rExporting 1993 events: [===================================70%                 ]\rExporting 1993 events: [====================================71%                ]\rExporting 1993 events: [====================================72%                ]\rExporting 1993 events: [=====================================73%               ]\rExporting 1993 events: [=====================================74%               ]\rExporting 1993 events: [======================================75%              ]\rExporting 1993 events: [======================================76%              ]\rExporting 1993 events: [=======================================77%             ]\rExporting 1993 events: [=======================================78%             ]\rExporting 1993 events: [========================================79%            ]\rExporting 1993 events: [=========================================80%           ]\rExporting 1993 events: [=========================================81%           ]\rExporting 1993 events: [==========================================82%          ]\rExporting 1993 events: [==========================================83%          ]\rExporting 1993 events: [===========================================84%         ]\rExporting 1993 events: [===========================================85%         ]\rExporting 1993 events: [============================================86%        ]\rExporting 1993 events: [============================================87%        ]\rExporting 1993 events: [=============================================88%       ]\rExporting 1993 events: [=============================================89%       ]\rExporting 1993 events: [==============================================90%      ]\rExporting 1993 events: [===============================================91%     ]\rExporting 1993 events: [===============================================92%     ]\rExporting 1993 events: [================================================93%    ]\rExporting 1993 events: [================================================94%    ]\rExporting 1993 events: [=================================================95%   ]\rExporting 1993 events: [=================================================96%   ]\rExporting 1993 events: [==================================================97%  ]\rExporting 1993 events: [==================================================98%  ]\rExporting 1993 events: [===================================================99% ]\rExporting 1993 events: [===================================================100%]\n",
            "Processing [report1.sqlite] with [/usr/local/cuda-12.1/nsight-systems-2023.1.2/host-linux-x64/reports/nvtx_sum.py]... \n",
            "SKIPPED: report1.sqlite does not contain NV Tools Extension (NVTX) data.\n",
            "\n",
            "Processing [report1.sqlite] with [/usr/local/cuda-12.1/nsight-systems-2023.1.2/host-linux-x64/reports/osrt_sum.py]... \n",
            "\n",
            " ** OS Runtime Summary (osrt_sum):\n",
            "\n",
            " Time (%)  Total Time (ns)  Num Calls    Avg (ns)       Med (ns)     Min (ns)    Max (ns)     StdDev (ns)            Name         \n",
            " --------  ---------------  ---------  -------------  -------------  ---------  -----------  -------------  ----------------------\n",
            "     44.2      651,742,677         14   46,553,048.4    3,252,315.0     44,681  440,150,267  117,207,672.4  poll                  \n",
            "     44.0      647,415,878          2  323,707,939.0  323,707,939.0  2,056,475  645,359,403  454,883,862.7  sem_wait              \n",
            "     11.4      168,542,628        536      314,445.2       16,180.5        407  109,739,120    4,791,782.7  ioctl                 \n",
            "      0.2        2,627,511         31       84,758.4       17,074.0     14,115    1,753,997      310,454.2  mmap64                \n",
            "      0.0          453,430          1      453,430.0      453,430.0    453,430      453,430            0.0  pthread_cond_wait     \n",
            "      0.0          426,168         49        8,697.3        7,829.0      3,259       23,375        3,062.2  open64                \n",
            "      0.0          332,099         47        7,065.9        4,873.0      1,639       29,427        6,559.5  fopen                 \n",
            "      0.0          234,993          4       58,748.3       57,119.5     54,283       66,471        5,472.4  sem_timedwait         \n",
            "      0.0          225,381         16       14,086.3        9,414.0      3,125       75,070       17,569.9  mmap                  \n",
            "      0.0          202,283         12       16,856.9       12,128.0      4,517       48,852       14,271.7  write                 \n",
            "      0.0          189,946          4       47,486.5       48,241.5     40,337       53,126        5,302.5  pthread_create        \n",
            "      0.0          145,301         50        2,906.0           90.0         69       87,150       12,748.2  fgets                 \n",
            "      0.0           95,517         39        2,449.2        2,147.0      1,429        6,106        1,029.9  fclose                \n",
            "      0.0           61,977          7        8,853.9        9,149.0      5,240       10,805        2,092.2  munmap                \n",
            "      0.0           45,107          6        7,517.8        7,883.0      3,116       10,038        2,730.7  open                  \n",
            "      0.0           41,057         64          641.5          649.5        205        1,272          192.0  fcntl                 \n",
            "      0.0           25,874         17        1,522.0           92.0         66       10,847        3,112.4  fwrite                \n",
            "      0.0           25,268         16        1,579.3        1,334.5        466        3,395          889.6  read                  \n",
            "      0.0           18,793          2        9,396.5        9,396.5      7,857       10,936        2,177.2  socket                \n",
            "      0.0           13,681          3        4,560.3        4,539.0      2,963        6,179        1,608.1  pipe2                 \n",
            "      0.0            9,617          1        9,617.0        9,617.0      9,617        9,617            0.0  connect               \n",
            "      0.0            7,472          2        3,736.0        3,736.0      1,630        5,842        2,978.3  pthread_cond_broadcast\n",
            "      0.0            7,411          1        7,411.0        7,411.0      7,411        7,411            0.0  fopen64               \n",
            "      0.0            3,894          4          973.5          771.5        627        1,724          507.7  putc                  \n",
            "      0.0            3,313          8          414.1          416.0        328          501           68.7  dup                   \n",
            "      0.0            2,294          1        2,294.0        2,294.0      2,294        2,294            0.0  bind                  \n",
            "      0.0            1,558         20           77.9           38.0         35          498          112.0  fflush                \n",
            "      0.0            1,142          1        1,142.0        1,142.0      1,142        1,142            0.0  listen                \n",
            "\n",
            "Processing [report1.sqlite] with [/usr/local/cuda-12.1/nsight-systems-2023.1.2/host-linux-x64/reports/cuda_api_sum.py]... \n",
            "\n",
            " ** CUDA API Summary (cuda_api_sum):\n",
            "\n",
            " Time (%)  Total Time (ns)  Num Calls    Avg (ns)       Med (ns)     Min (ns)    Max (ns)     StdDev (ns)            Name         \n",
            " --------  ---------------  ---------  -------------  -------------  ---------  -----------  -------------  ----------------------\n",
            "     97.2      205,988,853          2  102,994,426.5  102,994,426.5    110,280  205,878,573  145,500,155.3  cudaMalloc            \n",
            "      1.7        3,689,427          2    1,844,713.5    1,844,713.5     76,816    3,612,611    2,500,184.6  cudaMemcpy            \n",
            "      0.5        1,080,390          1    1,080,390.0    1,080,390.0  1,080,390    1,080,390            0.0  cudaLaunchKernel      \n",
            "      0.4          882,258          2      441,129.0      441,129.0    143,653      738,605      420,694.6  cudaFree              \n",
            "      0.1          220,248          1      220,248.0      220,248.0    220,248      220,248            0.0  cudaDeviceSynchronize \n",
            "      0.0            1,677          1        1,677.0        1,677.0      1,677        1,677            0.0  cuModuleGetLoadingMode\n",
            "\n",
            "Processing [report1.sqlite] with [/usr/local/cuda-12.1/nsight-systems-2023.1.2/host-linux-x64/reports/cuda_gpu_kern_sum.py]... \n",
            "\n",
            " ** CUDA GPU Kernel Summary (cuda_gpu_kern_sum):\n",
            "\n",
            " Time (%)  Total Time (ns)  Instances  Avg (ns)   Med (ns)   Min (ns)  Max (ns)  StdDev (ns)          Name         \n",
            " --------  ---------------  ---------  ---------  ---------  --------  --------  -----------  ---------------------\n",
            "    100.0          219,163          1  219,163.0  219,163.0   219,163   219,163          0.0  reduce3(int *, int *)\n",
            "\n",
            "Processing [report1.sqlite] with [/usr/local/cuda-12.1/nsight-systems-2023.1.2/host-linux-x64/reports/cuda_gpu_mem_time_sum.py]... \n",
            "\n",
            " ** CUDA GPU MemOps Summary (by Time) (cuda_gpu_mem_time_sum):\n",
            "\n",
            " Time (%)  Total Time (ns)  Count   Avg (ns)     Med (ns)    Min (ns)   Max (ns)   StdDev (ns)      Operation     \n",
            " --------  ---------------  -----  -----------  -----------  ---------  ---------  -----------  ------------------\n",
            "     99.8        3,448,147      1  3,448,147.0  3,448,147.0  3,448,147  3,448,147          0.0  [CUDA memcpy HtoD]\n",
            "      0.2            7,391      1      7,391.0      7,391.0      7,391      7,391          0.0  [CUDA memcpy DtoH]\n",
            "\n",
            "Processing [report1.sqlite] with [/usr/local/cuda-12.1/nsight-systems-2023.1.2/host-linux-x64/reports/cuda_gpu_mem_size_sum.py]... \n",
            "\n",
            " ** CUDA GPU MemOps Summary (by Size) (cuda_gpu_mem_size_sum):\n",
            "\n",
            " Total (MB)  Count  Avg (MB)  Med (MB)  Min (MB)  Max (MB)  StdDev (MB)      Operation     \n",
            " ----------  -----  --------  --------  --------  --------  -----------  ------------------\n",
            "     16.777      1    16.777    16.777    16.777    16.777        0.000  [CUDA memcpy HtoD]\n",
            "      0.066      1     0.066     0.066     0.066     0.066        0.000  [CUDA memcpy DtoH]\n",
            "\n",
            "Processing [report1.sqlite] with [/usr/local/cuda-12.1/nsight-systems-2023.1.2/host-linux-x64/reports/openmp_sum.py]... \n",
            "SKIPPED: report1.sqlite does not contain OpenMP event data.\n",
            "\n",
            "Processing [report1.sqlite] with [/usr/local/cuda-12.1/nsight-systems-2023.1.2/host-linux-x64/reports/opengl_khr_range_sum.py]... \n",
            "SKIPPED: report1.sqlite does not contain KHR Extension (KHR_DEBUG) data.\n",
            "\n",
            "Processing [report1.sqlite] with [/usr/local/cuda-12.1/nsight-systems-2023.1.2/host-linux-x64/reports/opengl_khr_gpu_range_sum.py]... \n",
            "SKIPPED: report1.sqlite does not contain GPU KHR Extension (KHR_DEBUG) data.\n",
            "\n",
            "Processing [report1.sqlite] with [/usr/local/cuda-12.1/nsight-systems-2023.1.2/host-linux-x64/reports/vulkan_marker_sum.py]... \n",
            "SKIPPED: report1.sqlite does not contain Vulkan Debug Extension (Vulkan Debug Util) data.\n",
            "\n",
            "Processing [report1.sqlite] with [/usr/local/cuda-12.1/nsight-systems-2023.1.2/host-linux-x64/reports/vulkan_gpu_marker_sum.py]... \n",
            "SKIPPED: report1.sqlite does not contain GPU Vulkan Debug Extension (GPU Vulkan Debug markers) data.\n",
            "\n",
            "Processing [report1.sqlite] with [/usr/local/cuda-12.1/nsight-systems-2023.1.2/host-linux-x64/reports/dx11_pix_sum.py]... \n",
            "SKIPPED: report1.sqlite does not contain DX11 CPU debug markers.\n",
            "\n",
            "Processing [report1.sqlite] with [/usr/local/cuda-12.1/nsight-systems-2023.1.2/host-linux-x64/reports/dx12_gpu_marker_sum.py]... \n",
            "SKIPPED: report1.sqlite does not contain DX12 GPU debug markers.\n",
            "\n",
            "Processing [report1.sqlite] with [/usr/local/cuda-12.1/nsight-systems-2023.1.2/host-linux-x64/reports/dx12_pix_sum.py]... \n",
            "SKIPPED: report1.sqlite does not contain DX12 CPU debug markers.\n",
            "\n",
            "Processing [report1.sqlite] with [/usr/local/cuda-12.1/nsight-systems-2023.1.2/host-linux-x64/reports/wddm_queue_sum.py]... \n",
            "SKIPPED: report1.sqlite does not contain WDDM context data.\n",
            "\n",
            "Processing [report1.sqlite] with [/usr/local/cuda-12.1/nsight-systems-2023.1.2/host-linux-x64/reports/um_sum.py]... \n",
            "SKIPPED: report1.sqlite does not contain CUDA Unified Memory CPU page faults data.\n",
            "\n",
            "Processing [report1.sqlite] with [/usr/local/cuda-12.1/nsight-systems-2023.1.2/host-linux-x64/reports/um_total_sum.py]... \n",
            "SKIPPED: report1.sqlite does not contain CUDA Unified Memory CPU page faults data.\n",
            "\n",
            "Processing [report1.sqlite] with [/usr/local/cuda-12.1/nsight-systems-2023.1.2/host-linux-x64/reports/um_cpu_page_faults_sum.py]... \n",
            "SKIPPED: report1.sqlite does not contain CUDA Unified Memory CPU page faults data.\n",
            "\n",
            "Processing [report1.sqlite] with [/usr/local/cuda-12.1/nsight-systems-2023.1.2/host-linux-x64/reports/openacc_sum.py]... \n",
            "SKIPPED: report1.sqlite does not contain OpenACC event data.\n",
            "\n"
          ]
        }
      ]
    },
    {
      "cell_type": "code",
      "source": [
        "!nvprof ./two"
      ],
      "metadata": {
        "colab": {
          "base_uri": "https://localhost:8080/"
        },
        "id": "-ZFX1Xtd_h9a",
        "outputId": "9e9aa0e3-2d1f-485c-d83a-186d29182a62"
      },
      "execution_count": 48,
      "outputs": [
        {
          "output_type": "stream",
          "name": "stdout",
          "text": [
            "==21679== NVPROF is profiling process 21679, command: ./two\n",
            "\u001b[32mVerification successful: GPU result matches CPU result.\n",
            "GPU Result: 207451054, CPU Result: 207451054\n",
            "\u001b[0mReduced result: 207451054\n",
            "Time elapsed: 0.383 ms\n",
            "Effective bandwidth: 43.8047 GB/s\n",
            "==21679== Profiling application: ./two\n",
            "==21679== Profiling result:\n",
            "            Type  Time(%)      Time     Calls       Avg       Min       Max  Name\n",
            " GPU activities:   93.94%  3.5143ms         1  3.5143ms  3.5143ms  3.5143ms  [CUDA memcpy HtoD]\n",
            "                    5.86%  219.36us         1  219.36us  219.36us  219.36us  reduce3(int*, int*)\n",
            "                    0.20%  7.3600us         1  7.3600us  7.3600us  7.3600us  [CUDA memcpy DtoH]\n",
            "      API calls:   97.31%  187.97ms         2  93.983ms  76.222us  187.89ms  cudaMalloc\n",
            "                    1.95%  3.7651ms         2  1.8826ms  85.406us  3.6797ms  cudaMemcpy\n",
            "                    0.45%  876.66us         2  438.33us  157.72us  718.95us  cudaFree\n",
            "                    0.11%  218.76us         1  218.76us  218.76us  218.76us  cudaDeviceSynchronize\n",
            "                    0.08%  156.81us         1  156.81us  156.81us  156.81us  cudaLaunchKernel\n",
            "                    0.08%  144.87us       114  1.2700us     131ns  50.206us  cuDeviceGetAttribute\n",
            "                    0.01%  11.577us         1  11.577us  11.577us  11.577us  cuDeviceGetName\n",
            "                    0.00%  6.5690us         1  6.5690us  6.5690us  6.5690us  cuDeviceGetPCIBusId\n",
            "                    0.00%  2.6170us         2  1.3080us     189ns  2.4280us  cuDeviceGet\n",
            "                    0.00%  1.7370us         3     579ns     185ns  1.2700us  cuDeviceGetCount\n",
            "                    0.00%     869ns         1     869ns     869ns     869ns  cudaGetLastError\n",
            "                    0.00%     617ns         1     617ns     617ns     617ns  cuModuleGetLoadingMode\n",
            "                    0.00%     517ns         1     517ns     517ns     517ns  cuDeviceTotalMem\n",
            "                    0.00%     213ns         1     213ns     213ns     213ns  cuDeviceGetUuid\n"
          ]
        }
      ]
    },
    {
      "cell_type": "code",
      "source": [
        "!nvprof ./three"
      ],
      "metadata": {
        "colab": {
          "base_uri": "https://localhost:8080/"
        },
        "id": "e4eHvVLcEYcb",
        "outputId": "9e3ba679-80d0-4db9-ce01-16d583cebcee"
      },
      "execution_count": 49,
      "outputs": [
        {
          "output_type": "stream",
          "name": "stdout",
          "text": [
            "==26837== NVPROF is profiling process 26837, command: ./three\n",
            "\u001b[32mVerification successful: GPU result matches CPU result.\n",
            "GPU Result: 207451054, CPU Result: 207451054\n",
            "\u001b[0mReduced result: 207451054\n",
            "Time elapsed: 0.355 ms\n",
            "Effective bandwidth: 47.2598 GB/s\n",
            "==26837== Profiling application: ./three\n",
            "==26837== Profiling result:\n",
            "            Type  Time(%)      Time     Calls       Avg       Min       Max  Name\n",
            " GPU activities:   93.89%  3.4846ms         1  3.4846ms  3.4846ms  3.4846ms  [CUDA memcpy HtoD]\n",
            "                    5.91%  219.32us         1  219.32us  219.32us  219.32us  reduce3(int*, int*)\n",
            "                    0.20%  7.4240us         1  7.4240us  7.4240us  7.4240us  [CUDA memcpy DtoH]\n",
            "      API calls:   97.30%  184.01ms         2  92.003ms  75.700us  183.93ms  cudaMalloc\n",
            "                    1.98%  3.7442ms         2  1.8721ms  79.860us  3.6644ms  cudaMemcpy\n",
            "                    0.45%  859.07us         2  429.54us  147.20us  711.87us  cudaFree\n",
            "                    0.11%  211.49us         1  211.49us  211.49us  211.49us  cudaDeviceSynchronize\n",
            "                    0.07%  129.25us       114  1.1330us     140ns  50.613us  cuDeviceGetAttribute\n",
            "                    0.07%  128.60us         1  128.60us  128.60us  128.60us  cudaLaunchKernel\n",
            "                    0.01%  12.802us         1  12.802us  12.802us  12.802us  cuDeviceGetName\n",
            "                    0.00%  8.8840us         1  8.8840us  8.8840us  8.8840us  cudaGetLastError\n",
            "                    0.00%  5.7640us         1  5.7640us  5.7640us  5.7640us  cuDeviceGetPCIBusId\n",
            "                    0.00%  1.8210us         3     607ns     209ns  1.2920us  cuDeviceGetCount\n",
            "                    0.00%  1.0770us         2     538ns     202ns     875ns  cuDeviceGet\n",
            "                    0.00%     562ns         1     562ns     562ns     562ns  cuModuleGetLoadingMode\n",
            "                    0.00%     534ns         1     534ns     534ns     534ns  cuDeviceTotalMem\n",
            "                    0.00%     214ns         1     214ns     214ns     214ns  cuDeviceGetUuid\n"
          ]
        }
      ]
    },
    {
      "cell_type": "code",
      "source": [
        "!nvprof ./four"
      ],
      "metadata": {
        "colab": {
          "base_uri": "https://localhost:8080/"
        },
        "id": "2Chevl3NHmNe",
        "outputId": "9cb2c486-f7fd-45da-945d-28f636f511d7"
      },
      "execution_count": 50,
      "outputs": [
        {
          "output_type": "stream",
          "name": "stdout",
          "text": [
            "==26913== NVPROF is profiling process 26913, command: ./four\n",
            "\u001b[32mVerification successful: GPU result matches CPU result.\n",
            "GPU Result: 207451054, CPU Result: 207451054\n",
            "\u001b[0mReduced result: 207451054\n",
            "Time elapsed: 0.356 ms\n",
            "Effective bandwidth: 47.127 GB/s\n",
            "==26913== Profiling application: ./four\n",
            "==26913== Profiling result:\n",
            "            Type  Time(%)      Time     Calls       Avg       Min       Max  Name\n",
            " GPU activities:   93.87%  3.4689ms         1  3.4689ms  3.4689ms  3.4689ms  [CUDA memcpy HtoD]\n",
            "                    5.93%  219.32us         1  219.32us  219.32us  219.32us  reduce3(int*, int*)\n",
            "                    0.20%  7.3920us         1  7.3920us  7.3920us  7.3920us  [CUDA memcpy DtoH]\n",
            "      API calls:   97.37%  187.49ms         2  93.747ms  79.636us  187.42ms  cudaMalloc\n",
            "                    1.93%  3.7201ms         2  1.8601ms  72.473us  3.6477ms  cudaMemcpy\n",
            "                    0.44%  839.01us         2  419.50us  126.05us  712.95us  cudaFree\n",
            "                    0.11%  219.61us         1  219.61us  219.61us  219.61us  cudaDeviceSynchronize\n",
            "                    0.07%  135.52us       114  1.1880us     134ns  51.921us  cuDeviceGetAttribute\n",
            "                    0.07%  129.92us         1  129.92us  129.92us  129.92us  cudaLaunchKernel\n",
            "                    0.01%  11.636us         1  11.636us  11.636us  11.636us  cuDeviceGetName\n",
            "                    0.00%  4.7460us         1  4.7460us  4.7460us  4.7460us  cuDeviceGetPCIBusId\n",
            "                    0.00%  2.5150us         2  1.2570us     166ns  2.3490us  cuDeviceGet\n",
            "                    0.00%  1.3900us         3     463ns     205ns     956ns  cuDeviceGetCount\n",
            "                    0.00%     555ns         1     555ns     555ns     555ns  cuModuleGetLoadingMode\n",
            "                    0.00%     537ns         1     537ns     537ns     537ns  cudaGetLastError\n",
            "                    0.00%     387ns         1     387ns     387ns     387ns  cuDeviceTotalMem\n",
            "                    0.00%     199ns         1     199ns     199ns     199ns  cuDeviceGetUuid\n"
          ]
        }
      ]
    },
    {
      "cell_type": "code",
      "source": [
        "!nvprof ./five"
      ],
      "metadata": {
        "colab": {
          "base_uri": "https://localhost:8080/"
        },
        "id": "O2irvGorHouL",
        "outputId": "c1830abe-37ae-46f6-ea02-afa1771038ad"
      },
      "execution_count": 51,
      "outputs": [
        {
          "output_type": "stream",
          "name": "stdout",
          "text": [
            "==27054== NVPROF is profiling process 27054, command: ./five\n",
            "\u001b[32mVerification successful: GPU result matches CPU result.\n",
            "GPU Result: 207451054, CPU Result: 207451054\n",
            "\u001b[0mReduced result: 207451054\n",
            "Time elapsed: 0.345 ms\n",
            "Effective bandwidth: 48.6296 GB/s\n",
            "==27054== Profiling application: ./five\n",
            "==27054== Profiling result:\n",
            "            Type  Time(%)      Time     Calls       Avg       Min       Max  Name\n",
            " GPU activities:   93.84%  3.4551ms         1  3.4551ms  3.4551ms  3.4551ms  [CUDA memcpy HtoD]\n",
            "                    5.96%  219.29us         1  219.29us  219.29us  219.29us  reduce3(int*, int*)\n",
            "                    0.20%  7.3910us         1  7.3910us  7.3910us  7.3910us  [CUDA memcpy DtoH]\n",
            "      API calls:   97.33%  185.49ms         2  92.746ms  74.936us  185.42ms  cudaMalloc\n",
            "                    1.95%  3.7146ms         2  1.8573ms  76.147us  3.6385ms  cudaMemcpy\n",
            "                    0.44%  835.59us         2  417.80us  122.84us  712.76us  cudaFree\n",
            "                    0.12%  220.42us         1  220.42us  220.42us  220.42us  cudaDeviceSynchronize\n",
            "                    0.09%  171.02us       114  1.5000us     133ns  56.147us  cuDeviceGetAttribute\n",
            "                    0.06%  116.53us         1  116.53us  116.53us  116.53us  cudaLaunchKernel\n",
            "                    0.01%  10.876us         1  10.876us  10.876us  10.876us  cuDeviceGetName\n",
            "                    0.00%  7.5640us         1  7.5640us  7.5640us  7.5640us  cuDeviceGetPCIBusId\n",
            "                    0.00%  2.0520us         3     684ns     230ns  1.5730us  cuDeviceGetCount\n",
            "                    0.00%     949ns         2     474ns     175ns     774ns  cuDeviceGet\n",
            "                    0.00%     635ns         1     635ns     635ns     635ns  cuModuleGetLoadingMode\n",
            "                    0.00%     564ns         1     564ns     564ns     564ns  cuDeviceTotalMem\n",
            "                    0.00%     422ns         1     422ns     422ns     422ns  cudaGetLastError\n",
            "                    0.00%     226ns         1     226ns     226ns     226ns  cuDeviceGetUuid\n"
          ]
        }
      ]
    },
    {
      "cell_type": "code",
      "source": [],
      "metadata": {
        "id": "NbXkAmR1Ht6I"
      },
      "execution_count": null,
      "outputs": []
    }
  ]
}