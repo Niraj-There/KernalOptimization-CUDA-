{
  "nbformat": 4,
  "nbformat_minor": 0,
  "metadata": {
    "colab": {
      "provenance": [],
      "gpuType": "T4"
    },
    "kernelspec": {
      "name": "python3",
      "display_name": "Python 3"
    },
    "language_info": {
      "name": "python"
    },
    "accelerator": "GPU"
  },
  "cells": [
    {
      "cell_type": "code",
      "source": [
        "%%writefile four.cu\n",
        "\n",
        "#include <iostream>\n",
        "#include \"cuda_runtime.h\"\n",
        "#include <chrono>\n",
        "#include <numeric>\n",
        "\n",
        "// Adding this function to help with unrolling and adding the Template\n",
        "template <unsigned int blockSize>\n",
        "__device__ void warpReduce(volatile int* sdata, int tid){\n",
        "    if(blockSize >= 64) sdata[tid] += sdata[tid + 32];\n",
        "    if(blockSize >= 32) sdata[tid] += sdata[tid + 16];\n",
        "    if(blockSize >= 16) sdata[tid] += sdata[tid + 8];\n",
        "    if(blockSize >= 8) sdata[tid] += sdata[tid + 4];\n",
        "    if(blockSize >= 4) sdata[tid] += sdata[tid + 2];\n",
        "    if(blockSize >= 2) sdata[tid] += sdata[tid + 1];\n",
        "}\n",
        "\n",
        "// REDUCTION 5 – Completely Unroll\n",
        "template <unsigned int blockSize>\n",
        "__global__ void reduce5(int *g_in_data, int *g_out_data){\n",
        "    extern __shared__ int sdata[];  // stored in the shared memory\n",
        "\n",
        "    // Each thread loading one element from global onto shared memory\n",
        "    unsigned int tid = threadIdx.x;\n",
        "    unsigned int i = blockIdx.x*(blockDim.x*2) + threadIdx.x;\n",
        "    sdata[tid] = g_in_data[i] + g_in_data[i+blockDim.x];\n",
        "    __syncthreads();\n",
        "\n",
        "    // Perform reductions in steps, reducing thread synchronization\n",
        "    if (blockSize >= 512) {\n",
        "        if (tid < 256) { sdata[tid] += sdata[tid + 256]; } __syncthreads();\n",
        "    }\n",
        "    if (blockSize >= 256) {\n",
        "        if (tid < 128) { sdata[tid] += sdata[tid + 128]; } __syncthreads();\n",
        "    }\n",
        "    if (blockSize >= 128) {\n",
        "        if (tid < 64) { sdata[tid] += sdata[tid + 64]; } __syncthreads();\n",
        "    }\n",
        "\n",
        "    if (tid < 32) warpReduce<blockSize>(sdata, tid);\n",
        "\n",
        "    if (tid == 0){\n",
        "        g_out_data[blockIdx.x] = sdata[0];\n",
        "    }\n",
        "}\n",
        "\n",
        "// I hope to use this main file for all of the reduction files\n",
        "int main(){\n",
        "    int n = 1<<22; // Increase to about 4M elements\n",
        "    size_t bytes = n * sizeof(int);\n",
        "\n",
        "    // Host/CPU arrays\n",
        "    int *host_input_data = new int[n];\n",
        "    int *host_output_data = new int[(n + 255) / 256]; // to have sufficient size for output array\n",
        "\n",
        "    // Device/GPU arrays\n",
        "    int *dev_input_data, *dev_output_data;\n",
        "\n",
        "    // Init data\n",
        "    srand(42); // Fixed seed\n",
        "    for (int i = 0; i < n; i++){\n",
        "        host_input_data[i] = rand() % 100;\n",
        "    }\n",
        "\n",
        "    // Allocating memory on GPU for device arrays\n",
        "    cudaMalloc(&dev_input_data, bytes);\n",
        "    cudaMalloc(&dev_output_data, (n + 255) / 256 * sizeof(int));\n",
        "\n",
        "    // Copying our data onto the device (GPU)\n",
        "    cudaMemcpy(dev_input_data, host_input_data, bytes, cudaMemcpyHostToDevice);\n",
        "\n",
        "    int blockSize = 256; // number of threads per block\n",
        "    int num_blocks = (n + (2 * blockSize) - 1) / (2 * blockSize);   // Modifying this to account for the fact that 1 thread accesses 2 elements\n",
        "\n",
        "    auto start = std::chrono::high_resolution_clock::now(); // start timer\n",
        "\n",
        "    // Needed for Complete unrolling\n",
        "    // Launch Kernel and Synchronize threads\n",
        "    switch (blockSize) {\n",
        "        case 512:\n",
        "            reduce5<512><<<num_blocks, 512, 512 * sizeof(int)>>>(dev_input_data, dev_output_data);\n",
        "            break;\n",
        "        case 256:\n",
        "            reduce5<256><<<num_blocks, 256, 256 * sizeof(int)>>>(dev_input_data, dev_output_data);\n",
        "            break;\n",
        "        case 128:\n",
        "            reduce5<128><<<num_blocks, 128, 128 * sizeof(int)>>>(dev_input_data, dev_output_data);\n",
        "            break;\n",
        "    }\n",
        "\n",
        "    cudaDeviceSynchronize();\n",
        "\n",
        "    auto stop = std::chrono::high_resolution_clock::now();\n",
        "    auto duration = std::chrono::duration_cast<std::chrono::microseconds>(stop - start).count() / 1000.0; // duration in milliseconds with three decimal points\n",
        "\n",
        "    // Copying data back to the host (CPU)\n",
        "    cudaMemcpy(host_output_data, dev_output_data, (n + 255) / 256 * sizeof(int), cudaMemcpyDeviceToHost);\n",
        "\n",
        "    // Final reduction on the host\n",
        "    int finalResult = host_output_data[0];\n",
        "    for (int i = 1; i < (n + 255) / 256; ++i) {\n",
        "        finalResult += host_output_data[i];\n",
        "    }\n",
        "\n",
        "    // CPU Summation for verification\n",
        "    int cpuResult = std::accumulate(host_input_data, host_input_data + n, 0);\n",
        "    if (cpuResult == finalResult) {\n",
        "        std::cout << \"\\033[32m\"; // Set text color to green\n",
        "        std::cout << \"Verification successful: GPU result matches CPU result.\\n\";\n",
        "        std::cout << \"GPU Result: \" << finalResult << \", CPU Result: \" << cpuResult << std::endl;\n",
        "    } else {\n",
        "        std::cout << \"\\033[31m\"; // Set text color to red\n",
        "        std::cout << \"Verification failed: GPU result (\" << finalResult << \") does not match CPU result (\" << cpuResult << \").\\n\";\n",
        "        std::cout << \"GPU Result: \" << finalResult << \", CPU Result: \" << cpuResult << std::endl;\n",
        "    }\n",
        "    std::cout << \"\\033[0m\"; // Reset text color to default\n",
        "\n",
        "    double bandwidth = (duration > 0) ? (bytes / duration / 1e6) : 0; // computed in GB/s, handling zero duration\n",
        "    std::cout << \"Reduced result: \" << finalResult << std::endl;\n",
        "    std::cout << \"Time elapsed: \" << duration << \" ms\" << std::endl;\n",
        "    std::cout << \"Effective bandwidth: \" << bandwidth << \" GB/s\" << std::endl;\n",
        "\n",
        "    // Freeing memory\n",
        "    cudaFree(dev_input_data);\n",
        "    cudaFree(dev_output_data);\n",
        "    delete[] host_input_data;\n",
        "    delete[] host_output_data;\n",
        "}"
      ],
      "metadata": {
        "colab": {
          "base_uri": "https://localhost:8080/"
        },
        "id": "8Zz_hpcTiLoi",
        "outputId": "b3b1bbe0-61d8-4504-e232-e44b7e6332cf"
      },
      "execution_count": 13,
      "outputs": [
        {
          "output_type": "stream",
          "name": "stdout",
          "text": [
            "Writing four.cu\n"
          ]
        }
      ]
    },
    {
      "cell_type": "code",
      "source": [
        "!nvcc -arch=sm_75 one.cu -o one"
      ],
      "metadata": {
        "id": "9Bmc2VGnjAJQ"
      },
      "execution_count": 3,
      "outputs": []
    },
    {
      "cell_type": "code",
      "source": [
        "!./one"
      ],
      "metadata": {
        "colab": {
          "base_uri": "https://localhost:8080/"
        },
        "id": "zy6L9uS5jEvw",
        "outputId": "eed6221b-41c7-4356-a754-d6a98dc93fba"
      },
      "execution_count": 4,
      "outputs": [
        {
          "output_type": "stream",
          "name": "stdout",
          "text": [
            "\u001b[32mVerification successful: GPU result matches CPU result.\n",
            "GPU Result: 207451054, CPU Result: 207451054\n",
            "\u001b[0mReduced result: 207451054\n",
            "Time elapsed: 0.293 ms\n",
            "Effective bandwidth: 57.2601 GB/s\n"
          ]
        }
      ]
    },
    {
      "cell_type": "code",
      "source": [
        "!nvcc -arch=sm_75 two.cu -o two -O1 -lineinfo"
      ],
      "metadata": {
        "id": "eHBx7KTsjICb"
      },
      "execution_count": 14,
      "outputs": []
    },
    {
      "cell_type": "code",
      "source": [
        "!./two"
      ],
      "metadata": {
        "colab": {
          "base_uri": "https://localhost:8080/"
        },
        "id": "_oGJKJBSjQ74",
        "outputId": "d4ce233d-54e0-4bf6-d07f-8e7c28d78327"
      },
      "execution_count": 15,
      "outputs": [
        {
          "output_type": "stream",
          "name": "stdout",
          "text": [
            "\u001b[32mVerification successful: GPU result matches CPU result.\n",
            "GPU Result: 207451054, CPU Result: 207451054\n",
            "\u001b[0mReduced result: 207451054\n",
            "Time elapsed: 0.268 ms\n",
            "Effective bandwidth: 62.6016 GB/s\n"
          ]
        }
      ]
    },
    {
      "cell_type": "code",
      "source": [
        "!nvcc -arch=sm_75 three.cu -o three -O2 -lineinfo"
      ],
      "metadata": {
        "id": "OiXSl106jSje"
      },
      "execution_count": 16,
      "outputs": []
    },
    {
      "cell_type": "code",
      "source": [
        "!./three"
      ],
      "metadata": {
        "colab": {
          "base_uri": "https://localhost:8080/"
        },
        "id": "ABRVNy2bjdns",
        "outputId": "76d92cf3-9e27-4ab2-a802-69f03602444d"
      },
      "execution_count": 19,
      "outputs": [
        {
          "output_type": "stream",
          "name": "stdout",
          "text": [
            "\u001b[32mVerification successful: GPU result matches CPU result.\n",
            "GPU Result: 207451054, CPU Result: 207451054\n",
            "\u001b[0mReduced result: 207451054\n",
            "Time elapsed: 0.303 ms\n",
            "Effective bandwidth: 55.3703 GB/s\n"
          ]
        }
      ]
    },
    {
      "cell_type": "code",
      "source": [
        "!nvcc -arch=sm_75 four.cu -o four -O3 -lineinfo"
      ],
      "metadata": {
        "id": "mLobECNPjfVW"
      },
      "execution_count": 20,
      "outputs": []
    },
    {
      "cell_type": "code",
      "source": [
        "!./four"
      ],
      "metadata": {
        "colab": {
          "base_uri": "https://localhost:8080/"
        },
        "id": "lNDgNlmAj5EM",
        "outputId": "ccdf1404-fbf3-4e0b-8e87-dfc49caf8b0c"
      },
      "execution_count": 21,
      "outputs": [
        {
          "output_type": "stream",
          "name": "stdout",
          "text": [
            "\u001b[32mVerification successful: GPU result matches CPU result.\n",
            "GPU Result: 207451054, CPU Result: 207451054\n",
            "\u001b[0mReduced result: 207451054\n",
            "Time elapsed: 0.305 ms\n",
            "Effective bandwidth: 55.0073 GB/s\n"
          ]
        }
      ]
    },
    {
      "cell_type": "code",
      "source": [
        "! set -x \\\n",
        "&& cd $(mktemp -d) \\\n",
        "&& wget https://developer.download.nvidia.com/compute/cuda/12.1.0/local_installers/cuda_12.1.0_530.30.02_linux.run \\\n",
        "&& sudo sh cuda_12.1.0_530.30.02_linux.run --silent --toolkit \\\n",
        "&& rm cuda_12.1.0_530.30.02_linux.run"
      ],
      "metadata": {
        "colab": {
          "base_uri": "https://localhost:8080/"
        },
        "id": "g6Y59lgyj8xH",
        "outputId": "799c393b-2052-44cb-a69d-94955efc9c49"
      },
      "execution_count": 22,
      "outputs": [
        {
          "output_type": "stream",
          "name": "stdout",
          "text": [
            "++ mktemp -d\n",
            "+ cd /tmp/tmp.3n6ud455iM\n",
            "+ wget https://developer.download.nvidia.com/compute/cuda/12.1.0/local_installers/cuda_12.1.0_530.30.02_linux.run\n",
            "--2025-06-12 14:40:42--  https://developer.download.nvidia.com/compute/cuda/12.1.0/local_installers/cuda_12.1.0_530.30.02_linux.run\n",
            "Resolving developer.download.nvidia.com (developer.download.nvidia.com)... 23.43.51.15, 23.43.51.10\n",
            "Connecting to developer.download.nvidia.com (developer.download.nvidia.com)|23.43.51.15|:443... connected.\n",
            "HTTP request sent, awaiting response... 200 OK\n",
            "Length: 4245586997 (4.0G) [application/octet-stream]\n",
            "Saving to: ‘cuda_12.1.0_530.30.02_linux.run’\n",
            "\n",
            "cuda_12.1.0_530.30. 100%[===================>]   3.95G   153MB/s    in 35s     \n",
            "\n",
            "2025-06-12 14:41:17 (116 MB/s) - ‘cuda_12.1.0_530.30.02_linux.run’ saved [4245586997/4245586997]\n",
            "\n",
            "+ sudo sh cuda_12.1.0_530.30.02_linux.run --silent --toolkit\n",
            "+ rm cuda_12.1.0_530.30.02_linux.run\n"
          ]
        }
      ]
    },
    {
      "cell_type": "code",
      "source": [
        "import os\n",
        "os.environ['PATH'] = os.environ['PATH'] + ':/usr/local/cuda/bin/'"
      ],
      "metadata": {
        "id": "fy3my8DNlgF5"
      },
      "execution_count": 23,
      "outputs": []
    },
    {
      "cell_type": "code",
      "source": [
        "!ncu -o reduction_report_no ./one"
      ],
      "metadata": {
        "colab": {
          "base_uri": "https://localhost:8080/"
        },
        "id": "0CVHWpSRn0uA",
        "outputId": "0badea90-06d6-4090-c25b-d18772fb1f76"
      },
      "execution_count": 24,
      "outputs": [
        {
          "output_type": "stream",
          "name": "stdout",
          "text": [
            "==PROF== Connected to process 6893 (/content/one)\n",
            "==PROF== Profiling \"reduce5\" - 0: 0%....50%....100% - 9 passes\n",
            "\u001b[32mVerification successful: GPU result matches CPU result.\n",
            "GPU Result: 207451054, CPU Result: 207451054\n",
            "\u001b[0mReduced result: 207451054\n",
            "Time elapsed: 508.746 ms\n",
            "Effective bandwidth: 0.0329776 GB/s\n",
            "==PROF== Disconnected from process 6893\n",
            "==PROF== Report: /content/reduction_report_no.ncu-rep\n"
          ]
        }
      ]
    },
    {
      "cell_type": "code",
      "source": [
        "!ncu -o reduction_report_o1 ./two"
      ],
      "metadata": {
        "colab": {
          "base_uri": "https://localhost:8080/"
        },
        "id": "X_dCl-PAn2H0",
        "outputId": "560e5b1e-871f-47f7-a75f-ff63dfe308e1"
      },
      "execution_count": 25,
      "outputs": [
        {
          "output_type": "stream",
          "name": "stdout",
          "text": [
            "==PROF== Connected to process 6991 (/content/two)\n",
            "==PROF== Profiling \"reduce5\" - 0: 0%....50%....100% - 9 passes\n",
            "\u001b[32mVerification successful: GPU result matches CPU result.\n",
            "GPU Result: 207451054, CPU Result: 207451054\n",
            "\u001b[0mReduced result: 207451054\n",
            "Time elapsed: 296.269 ms\n",
            "Effective bandwidth: 0.0566283 GB/s\n",
            "==PROF== Disconnected from process 6991\n",
            "==PROF== Report: /content/reduction_report_o1.ncu-rep\n"
          ]
        }
      ]
    },
    {
      "cell_type": "code",
      "source": [
        "!ncu -o reduction_report_o2 ./three"
      ],
      "metadata": {
        "colab": {
          "base_uri": "https://localhost:8080/"
        },
        "id": "lnMoslJCn5FY",
        "outputId": "1cdf4bd5-cfb4-4708-e45e-435e8df407ed"
      },
      "execution_count": 26,
      "outputs": [
        {
          "output_type": "stream",
          "name": "stdout",
          "text": [
            "==PROF== Connected to process 7091 (/content/three)\n",
            "==PROF== Profiling \"reduce5\" - 0: 0%....50%....100% - 9 passes\n",
            "\u001b[32mVerification successful: GPU result matches CPU result.\n",
            "GPU Result: 207451054, CPU Result: 207451054\n",
            "\u001b[0mReduced result: 207451054\n",
            "Time elapsed: 320.864 ms\n",
            "Effective bandwidth: 0.0522876 GB/s\n",
            "==PROF== Disconnected from process 7091\n",
            "==PROF== Report: /content/reduction_report_o2.ncu-rep\n"
          ]
        }
      ]
    },
    {
      "cell_type": "code",
      "source": [
        "!ncu -o reduction_report_o3 ./four"
      ],
      "metadata": {
        "colab": {
          "base_uri": "https://localhost:8080/"
        },
        "id": "eF3A0b8Zn8Ac",
        "outputId": "fc612f56-0918-449a-93d2-93fa57fe7d3f"
      },
      "execution_count": 27,
      "outputs": [
        {
          "output_type": "stream",
          "name": "stdout",
          "text": [
            "==PROF== Connected to process 7215 (/content/four)\n",
            "==PROF== Profiling \"reduce5\" - 0: 0%....50%....100% - 9 passes\n",
            "\u001b[32mVerification successful: GPU result matches CPU result.\n",
            "GPU Result: 207451054, CPU Result: 207451054\n",
            "\u001b[0mReduced result: 207451054\n",
            "Time elapsed: 304.368 ms\n",
            "Effective bandwidth: 0.0551215 GB/s\n",
            "==PROF== Disconnected from process 7215\n",
            "==PROF== Report: /content/reduction_report_o3.ncu-rep\n"
          ]
        }
      ]
    },
    {
      "cell_type": "code",
      "source": [
        "!nsys profile ./one"
      ],
      "metadata": {
        "colab": {
          "base_uri": "https://localhost:8080/"
        },
        "id": "Hd6FWcnOoAc-",
        "outputId": "e358da67-7a8d-406c-d7eb-dc962c0f3b92"
      },
      "execution_count": 28,
      "outputs": [
        {
          "output_type": "stream",
          "name": "stdout",
          "text": [
            "\u001b[32mVerification successful: GPU result matches CPU result.\n",
            "GPU Result: 207451054, CPU Result: 207451054\n",
            "\u001b[0mReduced result: 207451054\n",
            "Time elapsed: 1.214 ms\n",
            "Effective bandwidth: 13.8198 GB/s\n",
            "Generating '/tmp/nsys-report-5885.qdstrm'\n",
            "[1/1] [========================100%] report1.nsys-rep\n",
            "Generated:\n",
            "    /content/report1.nsys-rep\n"
          ]
        }
      ]
    },
    {
      "cell_type": "code",
      "source": [
        "!nsys stats report1.nsys-rep"
      ],
      "metadata": {
        "colab": {
          "base_uri": "https://localhost:8080/"
        },
        "id": "O6rVt_HwoEaE",
        "outputId": "db9431bf-0a46-44d3-dad2-937044e205e7"
      },
      "execution_count": 29,
      "outputs": [
        {
          "output_type": "stream",
          "name": "stdout",
          "text": [
            "Generating SQLite file report1.sqlite from report1.nsys-rep\n",
            "\rExporting 1627 events: [1%                                                     ]\rExporting 1627 events: [2%                                                     ]\rExporting 1627 events: [3%                                                     ]\rExporting 1627 events: [4%                                                     ]\rExporting 1627 events: [5%                                                     ]\rExporting 1627 events: [=6%                                                    ]\rExporting 1627 events: [=7%                                                    ]\rExporting 1627 events: [==8%                                                   ]\rExporting 1627 events: [==9%                                                   ]\rExporting 1627 events: [==10%                                                  ]\rExporting 1627 events: [===11%                                                 ]\rExporting 1627 events: [===12%                                                 ]\rExporting 1627 events: [====13%                                                ]\rExporting 1627 events: [====14%                                                ]\rExporting 1627 events: [=====15%                                               ]\rExporting 1627 events: [=====16%                                               ]\rExporting 1627 events: [======17%                                              ]\rExporting 1627 events: [======18%                                              ]\rExporting 1627 events: [=======19%                                             ]\rExporting 1627 events: [========20%                                            ]\rExporting 1627 events: [========21%                                            ]\rExporting 1627 events: [=========22%                                           ]\rExporting 1627 events: [=========23%                                           ]\rExporting 1627 events: [==========24%                                          ]\rExporting 1627 events: [==========25%                                          ]\rExporting 1627 events: [===========26%                                         ]\rExporting 1627 events: [===========27%                                         ]\rExporting 1627 events: [============28%                                        ]\rExporting 1627 events: [============29%                                        ]\rExporting 1627 events: [=============30%                                       ]\rExporting 1627 events: [==============31%                                      ]\rExporting 1627 events: [==============32%                                      ]\rExporting 1627 events: [===============33%                                     ]\rExporting 1627 events: [===============34%                                     ]\rExporting 1627 events: [================35%                                    ]\rExporting 1627 events: [================36%                                    ]\rExporting 1627 events: [=================37%                                   ]\rExporting 1627 events: [=================38%                                   ]\rExporting 1627 events: [==================39%                                  ]\rExporting 1627 events: [===================40%                                 ]\rExporting 1627 events: [===================41%                                 ]\rExporting 1627 events: [====================42%                                ]\rExporting 1627 events: [====================43%                                ]\rExporting 1627 events: [=====================44%                               ]\rExporting 1627 events: [=====================45%                               ]\rExporting 1627 events: [======================46%                              ]\rExporting 1627 events: [======================47%                              ]\rExporting 1627 events: [=======================48%                             ]\rExporting 1627 events: [=======================49%                             ]\rExporting 1627 events: [========================50%                            ]\rExporting 1627 events: [=========================51%                           ]\rExporting 1627 events: [=========================52%                           ]\rExporting 1627 events: [==========================53%                          ]\rExporting 1627 events: [==========================54%                          ]\rExporting 1627 events: [===========================55%                         ]\rExporting 1627 events: [===========================56%                         ]\rExporting 1627 events: [============================57%                        ]\rExporting 1627 events: [============================58%                        ]\rExporting 1627 events: [=============================59%                       ]\rExporting 1627 events: [==============================60%                      ]\rExporting 1627 events: [==============================61%                      ]\rExporting 1627 events: [===============================62%                     ]\rExporting 1627 events: [===============================63%                     ]\rExporting 1627 events: [================================64%                    ]\rExporting 1627 events: [================================65%                    ]\rExporting 1627 events: [=================================66%                   ]\rExporting 1627 events: [=================================67%                   ]\rExporting 1627 events: [==================================68%                  ]\rExporting 1627 events: [==================================69%                  ]\rExporting 1627 events: [===================================70%                 ]\rExporting 1627 events: [====================================71%                ]\rExporting 1627 events: [====================================72%                ]\rExporting 1627 events: [=====================================73%               ]\rExporting 1627 events: [=====================================74%               ]\rExporting 1627 events: [======================================75%              ]\rExporting 1627 events: [======================================76%              ]\rExporting 1627 events: [=======================================77%             ]\rExporting 1627 events: [=======================================78%             ]\rExporting 1627 events: [========================================79%            ]\rExporting 1627 events: [=========================================80%           ]\rExporting 1627 events: [=========================================81%           ]\rExporting 1627 events: [==========================================82%          ]\rExporting 1627 events: [==========================================83%          ]\rExporting 1627 events: [===========================================84%         ]\rExporting 1627 events: [===========================================85%         ]\rExporting 1627 events: [============================================86%        ]\rExporting 1627 events: [============================================87%        ]\rExporting 1627 events: [=============================================88%       ]\rExporting 1627 events: [=============================================89%       ]\rExporting 1627 events: [==============================================90%      ]\rExporting 1627 events: [===============================================91%     ]\rExporting 1627 events: [===============================================92%     ]\rExporting 1627 events: [================================================93%    ]\rExporting 1627 events: [================================================94%    ]\rExporting 1627 events: [=================================================95%   ]\rExporting 1627 events: [=================================================96%   ]\rExporting 1627 events: [==================================================97%  ]\rExporting 1627 events: [==================================================98%  ]\rExporting 1627 events: [===================================================99% ]\rExporting 1627 events: [===================================================100%]\n",
            "Processing [report1.sqlite] with [/usr/local/cuda-12.1/nsight-systems-2023.1.2/host-linux-x64/reports/nvtx_sum.py]... \n",
            "SKIPPED: report1.sqlite does not contain NV Tools Extension (NVTX) data.\n",
            "\n",
            "Processing [report1.sqlite] with [/usr/local/cuda-12.1/nsight-systems-2023.1.2/host-linux-x64/reports/osrt_sum.py]... \n",
            "\n",
            " ** OS Runtime Summary (osrt_sum):\n",
            "\n",
            " Time (%)  Total Time (ns)  Num Calls    Avg (ns)       Med (ns)     Min (ns)    Max (ns)     StdDev (ns)            Name         \n",
            " --------  ---------------  ---------  -------------  -------------  ---------  -----------  -------------  ----------------------\n",
            "     46.9      438,493,397          2  219,246,698.5  219,246,698.5  2,157,075  436,336,322  307,011,089.8  sem_wait              \n",
            "     44.8      419,286,382         13   32,252,798.6    2,700,198.0      2,134  318,486,813   87,013,059.2  poll                  \n",
            "      7.1       66,459,069        536      123,990.8       15,570.5        439   17,977,920      988,714.6  ioctl                 \n",
            "      0.7        6,192,985          2    3,096,492.5    3,096,492.5      2,235    6,190,750    4,375,940.9  pthread_cond_broadcast\n",
            "      0.2        1,855,036         31       59,839.9       14,240.0     10,464    1,079,191      190,163.4  mmap64                \n",
            "      0.1        1,092,780         10      109,278.0       71,502.5     30,113      315,281       92,618.5  sem_timedwait         \n",
            "      0.0          431,072         49        8,797.4        7,800.0      2,125       25,530        4,134.0  open64                \n",
            "      0.0          298,655         47        6,354.4        4,036.0      1,744       34,038        6,492.8  fopen                 \n",
            "      0.0          290,789          4       72,697.3       75,906.5     54,373       84,603       14,023.7  pthread_create        \n",
            "      0.0          185,890         16       11,618.1        7,574.0      2,358       54,114       12,601.8  mmap                  \n",
            "      0.0          120,877          1      120,877.0      120,877.0    120,877      120,877            0.0  pthread_cond_wait     \n",
            "      0.0           79,960         42        1,903.8           73.0         44       37,106        6,680.2  fgets                 \n",
            "      0.0           76,199         39        1,953.8        1,786.0        833        6,256        1,181.6  fclose                \n",
            "      0.0           72,602          7       10,371.7        9,751.0      5,565       20,370        4,700.9  munmap                \n",
            "      0.0           64,507         12        5,375.6        5,760.0      1,049        9,417        1,992.4  write                 \n",
            "      0.0           35,433         64          553.6          583.5        195        1,121          185.5  fcntl                 \n",
            "      0.0           32,769          6        5,461.5        5,040.0      1,965        8,744        2,750.9  open                  \n",
            "      0.0           25,757         16        1,609.8        1,444.5        878        2,951          641.6  read                  \n",
            "      0.0           25,713         17        1,512.5           88.0         53       10,347        3,036.2  fwrite                \n",
            "      0.0           22,037          3        7,345.7        8,241.0      4,867        8,929        2,174.0  pipe2                 \n",
            "      0.0           20,138          2       10,069.0       10,069.0      7,508       12,630        3,621.8  socket                \n",
            "      0.0           12,146          1       12,146.0       12,146.0     12,146       12,146            0.0  connect               \n",
            "      0.0            6,435          1        6,435.0        6,435.0      6,435        6,435            0.0  fopen64               \n",
            "      0.0            3,583          4          895.8          799.5        594        1,390          346.4  putc                  \n",
            "      0.0            2,702          8          337.8          329.0        263          471           63.9  dup                   \n",
            "      0.0            1,720         20           86.0           43.0         39          563          125.2  fflush                \n",
            "      0.0            1,684          1        1,684.0        1,684.0      1,684        1,684            0.0  bind                  \n",
            "      0.0            1,034          1        1,034.0        1,034.0      1,034        1,034            0.0  listen                \n",
            "\n",
            "Processing [report1.sqlite] with [/usr/local/cuda-12.1/nsight-systems-2023.1.2/host-linux-x64/reports/cuda_api_sum.py]... \n",
            "\n",
            " ** CUDA API Summary (cuda_api_sum):\n",
            "\n",
            " Time (%)  Total Time (ns)  Num Calls    Avg (ns)      Med (ns)    Min (ns)    Max (ns)    StdDev (ns)            Name         \n",
            " --------  ---------------  ---------  ------------  ------------  ---------  -----------  ------------  ----------------------\n",
            "     94.7      104,440,375          2  52,220,187.5  52,220,187.5    110,060  104,330,315  73,694,849.0  cudaMalloc            \n",
            "      3.4        3,750,075          2   1,875,037.5   1,875,037.5     73,856    3,676,219   2,547,255.3  cudaMemcpy            \n",
            "      1.0        1,066,496          1   1,066,496.0   1,066,496.0  1,066,496    1,066,496           0.0  cudaLaunchKernel      \n",
            "      0.8          881,292          2     440,646.0     440,646.0    143,587      737,705     420,104.9  cudaFree              \n",
            "      0.1          142,312          1     142,312.0     142,312.0    142,312      142,312           0.0  cudaDeviceSynchronize \n",
            "      0.0            1,989          1       1,989.0       1,989.0      1,989        1,989           0.0  cuModuleGetLoadingMode\n",
            "\n",
            "Processing [report1.sqlite] with [/usr/local/cuda-12.1/nsight-systems-2023.1.2/host-linux-x64/reports/cuda_gpu_kern_sum.py]... \n",
            "\n",
            " ** CUDA GPU Kernel Summary (cuda_gpu_kern_sum):\n",
            "\n",
            " Time (%)  Total Time (ns)  Instances  Avg (ns)   Med (ns)   Min (ns)  Max (ns)  StdDev (ns)                      Name                     \n",
            " --------  ---------------  ---------  ---------  ---------  --------  --------  -----------  ---------------------------------------------\n",
            "    100.0          141,308          1  141,308.0  141,308.0   141,308   141,308          0.0  void reduce5<(unsigned int)256>(int *, int *)\n",
            "\n",
            "Processing [report1.sqlite] with [/usr/local/cuda-12.1/nsight-systems-2023.1.2/host-linux-x64/reports/cuda_gpu_mem_time_sum.py]... \n",
            "\n",
            " ** CUDA GPU MemOps Summary (by Time) (cuda_gpu_mem_time_sum):\n",
            "\n",
            " Time (%)  Total Time (ns)  Count   Avg (ns)     Med (ns)    Min (ns)   Max (ns)   StdDev (ns)      Operation     \n",
            " --------  ---------------  -----  -----------  -----------  ---------  ---------  -----------  ------------------\n",
            "     99.8        3,492,599      1  3,492,599.0  3,492,599.0  3,492,599  3,492,599          0.0  [CUDA memcpy HtoD]\n",
            "      0.2            7,488      1      7,488.0      7,488.0      7,488      7,488          0.0  [CUDA memcpy DtoH]\n",
            "\n",
            "Processing [report1.sqlite] with [/usr/local/cuda-12.1/nsight-systems-2023.1.2/host-linux-x64/reports/cuda_gpu_mem_size_sum.py]... \n",
            "\n",
            " ** CUDA GPU MemOps Summary (by Size) (cuda_gpu_mem_size_sum):\n",
            "\n",
            " Total (MB)  Count  Avg (MB)  Med (MB)  Min (MB)  Max (MB)  StdDev (MB)      Operation     \n",
            " ----------  -----  --------  --------  --------  --------  -----------  ------------------\n",
            "     16.777      1    16.777    16.777    16.777    16.777        0.000  [CUDA memcpy HtoD]\n",
            "      0.066      1     0.066     0.066     0.066     0.066        0.000  [CUDA memcpy DtoH]\n",
            "\n",
            "Processing [report1.sqlite] with [/usr/local/cuda-12.1/nsight-systems-2023.1.2/host-linux-x64/reports/openmp_sum.py]... \n",
            "SKIPPED: report1.sqlite does not contain OpenMP event data.\n",
            "\n",
            "Processing [report1.sqlite] with [/usr/local/cuda-12.1/nsight-systems-2023.1.2/host-linux-x64/reports/opengl_khr_range_sum.py]... \n",
            "SKIPPED: report1.sqlite does not contain KHR Extension (KHR_DEBUG) data.\n",
            "\n",
            "Processing [report1.sqlite] with [/usr/local/cuda-12.1/nsight-systems-2023.1.2/host-linux-x64/reports/opengl_khr_gpu_range_sum.py]... \n",
            "SKIPPED: report1.sqlite does not contain GPU KHR Extension (KHR_DEBUG) data.\n",
            "\n",
            "Processing [report1.sqlite] with [/usr/local/cuda-12.1/nsight-systems-2023.1.2/host-linux-x64/reports/vulkan_marker_sum.py]... \n",
            "SKIPPED: report1.sqlite does not contain Vulkan Debug Extension (Vulkan Debug Util) data.\n",
            "\n",
            "Processing [report1.sqlite] with [/usr/local/cuda-12.1/nsight-systems-2023.1.2/host-linux-x64/reports/vulkan_gpu_marker_sum.py]... \n",
            "SKIPPED: report1.sqlite does not contain GPU Vulkan Debug Extension (GPU Vulkan Debug markers) data.\n",
            "\n",
            "Processing [report1.sqlite] with [/usr/local/cuda-12.1/nsight-systems-2023.1.2/host-linux-x64/reports/dx11_pix_sum.py]... \n",
            "SKIPPED: report1.sqlite does not contain DX11 CPU debug markers.\n",
            "\n",
            "Processing [report1.sqlite] with [/usr/local/cuda-12.1/nsight-systems-2023.1.2/host-linux-x64/reports/dx12_gpu_marker_sum.py]... \n",
            "SKIPPED: report1.sqlite does not contain DX12 GPU debug markers.\n",
            "\n",
            "Processing [report1.sqlite] with [/usr/local/cuda-12.1/nsight-systems-2023.1.2/host-linux-x64/reports/dx12_pix_sum.py]... \n",
            "SKIPPED: report1.sqlite does not contain DX12 CPU debug markers.\n",
            "\n",
            "Processing [report1.sqlite] with [/usr/local/cuda-12.1/nsight-systems-2023.1.2/host-linux-x64/reports/wddm_queue_sum.py]... \n",
            "SKIPPED: report1.sqlite does not contain WDDM context data.\n",
            "\n",
            "Processing [report1.sqlite] with [/usr/local/cuda-12.1/nsight-systems-2023.1.2/host-linux-x64/reports/um_sum.py]... \n",
            "SKIPPED: report1.sqlite does not contain CUDA Unified Memory CPU page faults data.\n",
            "\n",
            "Processing [report1.sqlite] with [/usr/local/cuda-12.1/nsight-systems-2023.1.2/host-linux-x64/reports/um_total_sum.py]... \n",
            "SKIPPED: report1.sqlite does not contain CUDA Unified Memory CPU page faults data.\n",
            "\n",
            "Processing [report1.sqlite] with [/usr/local/cuda-12.1/nsight-systems-2023.1.2/host-linux-x64/reports/um_cpu_page_faults_sum.py]... \n",
            "SKIPPED: report1.sqlite does not contain CUDA Unified Memory CPU page faults data.\n",
            "\n",
            "Processing [report1.sqlite] with [/usr/local/cuda-12.1/nsight-systems-2023.1.2/host-linux-x64/reports/openacc_sum.py]... \n",
            "SKIPPED: report1.sqlite does not contain OpenACC event data.\n",
            "\n"
          ]
        }
      ]
    },
    {
      "cell_type": "code",
      "source": [
        "!nvprof ./one"
      ],
      "metadata": {
        "colab": {
          "base_uri": "https://localhost:8080/"
        },
        "id": "hUWtpqRHoJ39",
        "outputId": "6767348e-d0c8-4e98-9395-619ec02999cd"
      },
      "execution_count": 30,
      "outputs": [
        {
          "output_type": "stream",
          "name": "stdout",
          "text": [
            "==7537== NVPROF is profiling process 7537, command: ./one\n",
            "\u001b[32mVerification successful: GPU result matches CPU result.\n",
            "GPU Result: 207451054, CPU Result: 207451054\n",
            "\u001b[0mReduced result: 207451054\n",
            "Time elapsed: 0.359 ms\n",
            "Effective bandwidth: 46.7332 GB/s\n",
            "==7537== Profiling application: ./one\n",
            "==7537== Profiling result:\n",
            "            Type  Time(%)      Time     Calls       Avg       Min       Max  Name\n",
            " GPU activities:   96.13%  3.7138ms         1  3.7138ms  3.7138ms  3.7138ms  [CUDA memcpy HtoD]\n",
            "                    3.68%  142.05us         1  142.05us  142.05us  142.05us  void reduce5<unsigned int=256>(int*, int*)\n",
            "                    0.20%  7.5520us         1  7.5520us  7.5520us  7.5520us  [CUDA memcpy DtoH]\n",
            "      API calls:   95.08%  103.88ms         2  51.939ms  89.781us  103.79ms  cudaMalloc\n",
            "                    3.66%  3.9996ms         2  1.9998ms  84.030us  3.9156ms  cudaMemcpy\n",
            "                    0.79%  867.21us         2  433.61us  140.67us  726.54us  cudaFree\n",
            "                    0.19%  210.65us         1  210.65us  210.65us  210.65us  cudaLaunchKernel\n",
            "                    0.13%  142.41us         1  142.41us  142.41us  142.41us  cudaDeviceSynchronize\n",
            "                    0.13%  137.54us       114  1.2060us     134ns  53.282us  cuDeviceGetAttribute\n",
            "                    0.01%  11.944us         1  11.944us  11.944us  11.944us  cuDeviceGetName\n",
            "                    0.01%  6.9100us         1  6.9100us  6.9100us  6.9100us  cuDeviceGetPCIBusId\n",
            "                    0.00%  2.0870us         3     695ns     254ns  1.5490us  cuDeviceGetCount\n",
            "                    0.00%     952ns         2     476ns     191ns     761ns  cuDeviceGet\n",
            "                    0.00%     655ns         1     655ns     655ns     655ns  cuModuleGetLoadingMode\n",
            "                    0.00%     412ns         1     412ns     412ns     412ns  cuDeviceTotalMem\n",
            "                    0.00%     208ns         1     208ns     208ns     208ns  cuDeviceGetUuid\n"
          ]
        }
      ]
    },
    {
      "cell_type": "code",
      "source": [
        "!nvprof ./two"
      ],
      "metadata": {
        "colab": {
          "base_uri": "https://localhost:8080/"
        },
        "id": "Kv7_bvR4oOjL",
        "outputId": "24703a9c-27c3-4560-c03e-deac1ffe78da"
      },
      "execution_count": 31,
      "outputs": [
        {
          "output_type": "stream",
          "name": "stdout",
          "text": [
            "==7574== NVPROF is profiling process 7574, command: ./two\n",
            "\u001b[32mVerification successful: GPU result matches CPU result.\n",
            "GPU Result: 207451054, CPU Result: 207451054\n",
            "\u001b[0mReduced result: 207451054\n",
            "Time elapsed: 0.313 ms\n",
            "Effective bandwidth: 53.6013 GB/s\n",
            "==7574== Profiling application: ./two\n",
            "==7574== Profiling result:\n",
            "            Type  Time(%)      Time     Calls       Avg       Min       Max  Name\n",
            " GPU activities:   95.90%  3.4802ms         1  3.4802ms  3.4802ms  3.4802ms  [CUDA memcpy HtoD]\n",
            "                    3.90%  141.50us         1  141.50us  141.50us  141.50us  void reduce5<unsigned int=256>(int*, int*)\n",
            "                    0.21%  7.4550us         1  7.4550us  7.4550us  7.4550us  [CUDA memcpy DtoH]\n",
            "      API calls:   95.29%  103.91ms         2  51.953ms  78.228us  103.83ms  cudaMalloc\n",
            "                    3.42%  3.7326ms         2  1.8663ms  76.306us  3.6563ms  cudaMemcpy\n",
            "                    0.82%  898.14us         2  449.07us  151.19us  746.95us  cudaFree\n",
            "                    0.16%  171.19us       114  1.5010us     133ns  74.138us  cuDeviceGetAttribute\n",
            "                    0.15%  164.55us         1  164.55us  164.55us  164.55us  cudaLaunchKernel\n",
            "                    0.13%  143.38us         1  143.38us  143.38us  143.38us  cudaDeviceSynchronize\n",
            "                    0.01%  12.885us         1  12.885us  12.885us  12.885us  cuDeviceGetName\n",
            "                    0.01%  7.9370us         1  7.9370us  7.9370us  7.9370us  cuDeviceGetPCIBusId\n",
            "                    0.00%  2.1510us         2  1.0750us     272ns  1.8790us  cuDeviceGet\n",
            "                    0.00%  1.9930us         3     664ns     226ns  1.3950us  cuDeviceGetCount\n",
            "                    0.00%     550ns         1     550ns     550ns     550ns  cuDeviceTotalMem\n",
            "                    0.00%     498ns         1     498ns     498ns     498ns  cuModuleGetLoadingMode\n",
            "                    0.00%     268ns         1     268ns     268ns     268ns  cuDeviceGetUuid\n"
          ]
        }
      ]
    },
    {
      "cell_type": "code",
      "source": [
        "!nvprof ./three"
      ],
      "metadata": {
        "colab": {
          "base_uri": "https://localhost:8080/"
        },
        "id": "SV36lkRKoQMp",
        "outputId": "950c406c-5a79-42f2-e6de-68ef3943f6cd"
      },
      "execution_count": 32,
      "outputs": [
        {
          "output_type": "stream",
          "name": "stdout",
          "text": [
            "==7645== NVPROF is profiling process 7645, command: ./three\n",
            "\u001b[32mVerification successful: GPU result matches CPU result.\n",
            "GPU Result: 207451054, CPU Result: 207451054\n",
            "\u001b[0mReduced result: 207451054\n",
            "Time elapsed: 0.302 ms\n",
            "Effective bandwidth: 55.5537 GB/s\n",
            "==7645== Profiling application: ./three\n",
            "==7645== Profiling result:\n",
            "            Type  Time(%)      Time     Calls       Avg       Min       Max  Name\n",
            " GPU activities:   95.95%  3.5349ms         1  3.5349ms  3.5349ms  3.5349ms  [CUDA memcpy HtoD]\n",
            "                    3.85%  141.89us         1  141.89us  141.89us  141.89us  void reduce5<unsigned int=256>(int*, int*)\n",
            "                    0.20%  7.4560us         1  7.4560us  7.4560us  7.4560us  [CUDA memcpy DtoH]\n",
            "      API calls:   95.18%  101.21ms         2  50.604ms  82.568us  101.13ms  cudaMalloc\n",
            "                    3.55%  3.7762ms         2  1.8881ms  74.602us  3.7016ms  cudaMemcpy\n",
            "                    0.81%  860.07us         2  430.03us  134.33us  725.74us  cudaFree\n",
            "                    0.16%  168.31us       114  1.4760us     135ns  62.988us  cuDeviceGetAttribute\n",
            "                    0.14%  153.44us         1  153.44us  153.44us  153.44us  cudaLaunchKernel\n",
            "                    0.14%  144.21us         1  144.21us  144.21us  144.21us  cudaDeviceSynchronize\n",
            "                    0.01%  11.475us         1  11.475us  11.475us  11.475us  cuDeviceGetName\n",
            "                    0.01%  5.8300us         1  5.8300us  5.8300us  5.8300us  cuDeviceGetPCIBusId\n",
            "                    0.00%  1.4070us         3     469ns     197ns     981ns  cuDeviceGetCount\n",
            "                    0.00%  1.0220us         2     511ns     177ns     845ns  cuDeviceGet\n",
            "                    0.00%     610ns         1     610ns     610ns     610ns  cuModuleGetLoadingMode\n",
            "                    0.00%     492ns         1     492ns     492ns     492ns  cuDeviceTotalMem\n",
            "                    0.00%     226ns         1     226ns     226ns     226ns  cuDeviceGetUuid\n"
          ]
        }
      ]
    },
    {
      "cell_type": "code",
      "source": [
        "!nvprof ./four"
      ],
      "metadata": {
        "colab": {
          "base_uri": "https://localhost:8080/"
        },
        "id": "u-KszRdaoTua",
        "outputId": "56942c74-cc87-40c1-bfc9-d475fd54e7b3"
      },
      "execution_count": 33,
      "outputs": [
        {
          "output_type": "stream",
          "name": "stdout",
          "text": [
            "==7698== NVPROF is profiling process 7698, command: ./four\n",
            "\u001b[32mVerification successful: GPU result matches CPU result.\n",
            "GPU Result: 207451054, CPU Result: 207451054\n",
            "\u001b[0mReduced result: 207451054\n",
            "Time elapsed: 0.349 ms\n",
            "Effective bandwidth: 48.0723 GB/s\n",
            "==7698== Profiling application: ./four\n",
            "==7698== Profiling result:\n",
            "            Type  Time(%)      Time     Calls       Avg       Min       Max  Name\n",
            " GPU activities:   97.83%  6.7447ms         1  6.7447ms  6.7447ms  6.7447ms  [CUDA memcpy HtoD]\n",
            "                    2.06%  141.89us         1  141.89us  141.89us  141.89us  void reduce5<unsigned int=256>(int*, int*)\n",
            "                    0.11%  7.4880us         1  7.4880us  7.4880us  7.4880us  [CUDA memcpy DtoH]\n",
            "      API calls:   94.78%  154.42ms         2  77.212ms  102.93us  154.32ms  cudaMalloc\n",
            "                    4.32%  7.0356ms         2  3.5178ms  92.043us  6.9436ms  cudaMemcpy\n",
            "                    0.56%  907.78us         2  453.89us  159.50us  748.27us  cudaFree\n",
            "                    0.12%  198.62us         1  198.62us  198.62us  198.62us  cudaLaunchKernel\n",
            "                    0.12%  189.63us       114  1.6630us     182ns  74.473us  cuDeviceGetAttribute\n",
            "                    0.09%  143.63us         1  143.63us  143.63us  143.63us  cudaDeviceSynchronize\n",
            "                    0.01%  13.861us         1  13.861us  13.861us  13.861us  cuDeviceGetName\n",
            "                    0.00%  7.6280us         1  7.6280us  7.6280us  7.6280us  cuDeviceGetPCIBusId\n",
            "                    0.00%  2.4760us         3     825ns     271ns  1.9020us  cuDeviceGetCount\n",
            "                    0.00%  1.6060us         2     803ns     292ns  1.3140us  cuDeviceGet\n",
            "                    0.00%     674ns         1     674ns     674ns     674ns  cuModuleGetLoadingMode\n",
            "                    0.00%     648ns         1     648ns     648ns     648ns  cuDeviceTotalMem\n",
            "                    0.00%     357ns         1     357ns     357ns     357ns  cuDeviceGetUuid\n"
          ]
        }
      ]
    }
  ]
}